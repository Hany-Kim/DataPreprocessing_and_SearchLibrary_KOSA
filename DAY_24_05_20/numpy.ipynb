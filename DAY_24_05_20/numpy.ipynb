{
  "nbformat": 4,
  "nbformat_minor": 0,
  "metadata": {
    "colab": {
      "provenance": [],
      "toc_visible": true,
      "authorship_tag": "ABX9TyO03iw8CcFwEZk9/ch18z+b",
      "include_colab_link": true
    },
    "kernelspec": {
      "name": "python3",
      "display_name": "Python 3"
    },
    "language_info": {
      "name": "python"
    }
  },
  "cells": [
    {
      "cell_type": "markdown",
      "metadata": {
        "id": "view-in-github",
        "colab_type": "text"
      },
      "source": [
        "<a href=\"https://colab.research.google.com/github/Hany-Kim/DataPreprocessing_and_SearchLibrary_KOSA/blob/main/DAY_24_05_20/numpy.ipynb\" target=\"_parent\"><img src=\"https://colab.research.google.com/assets/colab-badge.svg\" alt=\"Open In Colab\"/></a>"
      ]
    },
    {
      "cell_type": "markdown",
      "source": [
        "# 1. 넘파이를 이용한 다차원 배열 다루기"
      ],
      "metadata": {
        "id": "C0m9iIYUgFlp"
      }
    },
    {
      "cell_type": "code",
      "execution_count": 2,
      "metadata": {
        "id": "2m_oyL1sfmcy"
      },
      "outputs": [],
      "source": [
        "import numpy as np"
      ]
    },
    {
      "cell_type": "markdown",
      "source": [
        "## 1.0. 버전 확인"
      ],
      "metadata": {
        "id": "zi_jAVRbgu1m"
      }
    },
    {
      "cell_type": "code",
      "source": [
        "np.__version__"
      ],
      "metadata": {
        "colab": {
          "base_uri": "https://localhost:8080/",
          "height": 35
        },
        "id": "KuqioEEigtkA",
        "outputId": "2dd8e8d6-35d5-43ca-97e7-4ed1c19bffbf"
      },
      "execution_count": 3,
      "outputs": [
        {
          "output_type": "execute_result",
          "data": {
            "text/plain": [
              "'1.25.2'"
            ],
            "application/vnd.google.colaboratory.intrinsic+json": {
              "type": "string"
            }
          },
          "metadata": {},
          "execution_count": 3
        }
      ]
    },
    {
      "cell_type": "markdown",
      "source": [
        "## 1.1. 자주 쓰는 함수"
      ],
      "metadata": {
        "id": "a1gh4u81o5RI"
      }
    },
    {
      "cell_type": "markdown",
      "source": [
        "### arange() : range()와 유사, 배열을 만들때 사용"
      ],
      "metadata": {
        "id": "jJHIxlAvpQ13"
      }
    },
    {
      "cell_type": "code",
      "source": [
        "A = np.arange(15)\n",
        "print(A)"
      ],
      "metadata": {
        "colab": {
          "base_uri": "https://localhost:8080/"
        },
        "id": "fRf2djmag0U4",
        "outputId": "1a089b3b-33d2-460d-f230-48971c839415"
      },
      "execution_count": 4,
      "outputs": [
        {
          "output_type": "stream",
          "name": "stdout",
          "text": [
            "[ 0  1  2  3  4  5  6  7  8  9 10 11 12 13 14]\n"
          ]
        }
      ]
    },
    {
      "cell_type": "markdown",
      "source": [
        "### reshape() : 객체 모양 변환\n",
        "\n",
        "1차원 배열 형태이던 A객체를 (3,5) 배열형태로 변환"
      ],
      "metadata": {
        "id": "q7yuFPP6pIws"
      }
    },
    {
      "cell_type": "code",
      "source": [
        "A = np.arange(15).reshape(3,5)\n",
        "print(A)"
      ],
      "metadata": {
        "colab": {
          "base_uri": "https://localhost:8080/"
        },
        "id": "UaL-FLKtobE8",
        "outputId": "8dd0a7bf-54d7-4a77-8584-7394405f82ec"
      },
      "execution_count": 5,
      "outputs": [
        {
          "output_type": "stream",
          "name": "stdout",
          "text": [
            "[[ 0  1  2  3  4]\n",
            " [ 5  6  7  8  9]\n",
            " [10 11 12 13 14]]\n"
          ]
        }
      ]
    },
    {
      "cell_type": "markdown",
      "source": [
        "### ndim : 현재 객체의 차원\n",
        "\n",
        "n - dimession : A객체의 차원수를 출력"
      ],
      "metadata": {
        "id": "zsz0VgTBovca"
      }
    },
    {
      "cell_type": "code",
      "source": [
        "A.ndim"
      ],
      "metadata": {
        "colab": {
          "base_uri": "https://localhost:8080/"
        },
        "id": "MoGsX4Zyofco",
        "outputId": "bbc520ac-4b2f-495a-a3ea-9b3f57e0f1ea"
      },
      "execution_count": 6,
      "outputs": [
        {
          "output_type": "execute_result",
          "data": {
            "text/plain": [
              "2"
            ]
          },
          "metadata": {},
          "execution_count": 6
        }
      ]
    },
    {
      "cell_type": "markdown",
      "source": [
        "### shape() : 현재 객체의 모양\n",
        "\n",
        "객체의 배열 형태를 튜플로 출력"
      ],
      "metadata": {
        "id": "OC2phyF-o1Ld"
      }
    },
    {
      "cell_type": "code",
      "source": [
        "A.shape"
      ],
      "metadata": {
        "colab": {
          "base_uri": "https://localhost:8080/"
        },
        "id": "JtI0KnHHooZA",
        "outputId": "862226be-771b-4e3c-97ac-08aaf003da95"
      },
      "execution_count": 7,
      "outputs": [
        {
          "output_type": "execute_result",
          "data": {
            "text/plain": [
              "(3, 5)"
            ]
          },
          "metadata": {},
          "execution_count": 7
        }
      ]
    },
    {
      "cell_type": "code",
      "source": [
        "B = np.arange(24).reshape(2,3,4)\n",
        "print(B)"
      ],
      "metadata": {
        "colab": {
          "base_uri": "https://localhost:8080/"
        },
        "id": "fGg7AyUKosS7",
        "outputId": "68048cd5-464e-4cf0-9115-26e66f7911bc"
      },
      "execution_count": 8,
      "outputs": [
        {
          "output_type": "stream",
          "name": "stdout",
          "text": [
            "[[[ 0  1  2  3]\n",
            "  [ 4  5  6  7]\n",
            "  [ 8  9 10 11]]\n",
            "\n",
            " [[12 13 14 15]\n",
            "  [16 17 18 19]\n",
            "  [20 21 22 23]]]\n"
          ]
        }
      ]
    },
    {
      "cell_type": "code",
      "source": [
        "B.shape"
      ],
      "metadata": {
        "colab": {
          "base_uri": "https://localhost:8080/"
        },
        "id": "2-kzhxwKpj8g",
        "outputId": "3f52f126-86b6-4696-f548-30fe9a769758"
      },
      "execution_count": 11,
      "outputs": [
        {
          "output_type": "execute_result",
          "data": {
            "text/plain": [
              "(2, 3, 4)"
            ]
          },
          "metadata": {},
          "execution_count": 11
        }
      ]
    },
    {
      "cell_type": "markdown",
      "source": [
        "### size : 배열의 원소수 출력"
      ],
      "metadata": {
        "id": "znfcX2iH2E_H"
      }
    },
    {
      "cell_type": "code",
      "source": [
        "print(A.size, B.size)"
      ],
      "metadata": {
        "colab": {
          "base_uri": "https://localhost:8080/"
        },
        "id": "3UmV1EztpDib",
        "outputId": "6ba6c1f2-228a-42ed-f693-73e646c16106"
      },
      "execution_count": 9,
      "outputs": [
        {
          "output_type": "stream",
          "name": "stdout",
          "text": [
            "15 24\n"
          ]
        }
      ]
    },
    {
      "cell_type": "markdown",
      "source": [
        "### dtype : A객체의 원소 타입을 출력"
      ],
      "metadata": {
        "id": "CQpBZIGU2Mxi"
      }
    },
    {
      "cell_type": "code",
      "source": [
        "print(A.dtype)"
      ],
      "metadata": {
        "colab": {
          "base_uri": "https://localhost:8080/"
        },
        "id": "VmvuN_zzpcfg",
        "outputId": "0b608f3a-2b78-4bed-9c7b-6d7965ed7518"
      },
      "execution_count": 10,
      "outputs": [
        {
          "output_type": "stream",
          "name": "stdout",
          "text": [
            "int64\n"
          ]
        }
      ]
    },
    {
      "cell_type": "markdown",
      "source": [
        "#### itemsize : int64 => 8byte"
      ],
      "metadata": {
        "id": "uYDKKeIrpq5n"
      }
    },
    {
      "cell_type": "code",
      "source": [
        "print(A.itemsize)"
      ],
      "metadata": {
        "colab": {
          "base_uri": "https://localhost:8080/"
        },
        "id": "CgM7nZakpen1",
        "outputId": "b4875175-a1ef-4baa-8026-3cc6e2c66429"
      },
      "execution_count": 12,
      "outputs": [
        {
          "output_type": "stream",
          "name": "stdout",
          "text": [
            "8\n"
          ]
        }
      ]
    },
    {
      "cell_type": "markdown",
      "source": [
        "#### dtype 변환\n",
        "type을 바꿀때는 =으로 하는 것이 아니라 astype함수를 사용해야한다.\n",
        "\n",
        "타입이 바뀌면서 값이 전혀 예상치 못한 값으로 바뀜"
      ],
      "metadata": {
        "id": "3WnpdrVAqHKO"
      }
    },
    {
      "cell_type": "code",
      "source": [
        "A.dtype = np.int32\n",
        "print(A)"
      ],
      "metadata": {
        "colab": {
          "base_uri": "https://localhost:8080/"
        },
        "id": "3YfHK13GppI5",
        "outputId": "60b52f9e-8538-4af9-c4ca-cfd65e468eee"
      },
      "execution_count": 14,
      "outputs": [
        {
          "output_type": "stream",
          "name": "stdout",
          "text": [
            "[[ 0  0  1  0  2  0  3  0  4  0]\n",
            " [ 5  0  6  0  7  0  8  0  9  0]\n",
            " [10  0 11  0 12  0 13  0 14  0]]\n"
          ]
        }
      ]
    },
    {
      "cell_type": "markdown",
      "source": [
        "#### 리스트 생성하기"
      ],
      "metadata": {
        "id": "AQv0WRdWq6MA"
      }
    },
    {
      "cell_type": "code",
      "source": [
        "A = np.array([2,3,4])\n",
        "print(A)"
      ],
      "metadata": {
        "colab": {
          "base_uri": "https://localhost:8080/"
        },
        "id": "7Um1KpsDp5dz",
        "outputId": "e4eb9fc4-738e-431f-aa94-1a802aea43ab"
      },
      "execution_count": 15,
      "outputs": [
        {
          "output_type": "stream",
          "name": "stdout",
          "text": [
            "[2 3 4]\n"
          ]
        }
      ]
    },
    {
      "cell_type": "markdown",
      "source": [
        "#### 실수를 원소로 넣으면 알아서 float타입으로 생성됨"
      ],
      "metadata": {
        "id": "gj1gvOvSq9At"
      }
    },
    {
      "cell_type": "code",
      "source": [
        "B = np.array([1.2, 3.5, 5.1])\n",
        "print(B)\n",
        "print(B.dtype)"
      ],
      "metadata": {
        "colab": {
          "base_uri": "https://localhost:8080/"
        },
        "id": "OJ95Nr3oqsm6",
        "outputId": "7f022f34-63ff-41cc-ab49-f5ce7d2a8b09"
      },
      "execution_count": 16,
      "outputs": [
        {
          "output_type": "stream",
          "name": "stdout",
          "text": [
            "[1.2 3.5 5.1]\n",
            "float64\n"
          ]
        }
      ]
    },
    {
      "cell_type": "markdown",
      "source": [
        "#### dtype=complex : 복소수"
      ],
      "metadata": {
        "id": "2qxFfOvirxBM"
      }
    },
    {
      "cell_type": "code",
      "source": [
        "C = np.array([[1,2], [3,4]])\n",
        "type(C.dtype)"
      ],
      "metadata": {
        "colab": {
          "base_uri": "https://localhost:8080/"
        },
        "id": "mRn-xH9Rq1gl",
        "outputId": "ee8d7354-cf45-46d4-9bf5-5bb4310b6be6"
      },
      "execution_count": 17,
      "outputs": [
        {
          "output_type": "execute_result",
          "data": {
            "text/plain": [
              "numpy.dtypes.Int64DType"
            ]
          },
          "metadata": {},
          "execution_count": 17
        }
      ]
    },
    {
      "cell_type": "code",
      "source": [
        "C = np.array([[1,2], [3,4]], dtype=complex)\n",
        "type(C.dtype)\n",
        "print(C)"
      ],
      "metadata": {
        "colab": {
          "base_uri": "https://localhost:8080/"
        },
        "id": "SFIEeS4lrLhE",
        "outputId": "2b952956-b2bf-4b77-9854-01c3b305b2bc"
      },
      "execution_count": 59,
      "outputs": [
        {
          "output_type": "stream",
          "name": "stdout",
          "text": [
            "[[1.+0.j 2.+0.j]\n",
            " [3.+0.j 4.+0.j]]\n"
          ]
        }
      ]
    },
    {
      "cell_type": "markdown",
      "source": [
        "#### C를 복사"
      ],
      "metadata": {
        "id": "X4IcADuKr0Ic"
      }
    },
    {
      "cell_type": "code",
      "source": [
        "D = np.array(C)\n",
        "print(D)"
      ],
      "metadata": {
        "colab": {
          "base_uri": "https://localhost:8080/"
        },
        "id": "708XFZiQrRxM",
        "outputId": "160cff01-bd8b-4897-bf33-af89e9c8430e"
      },
      "execution_count": 20,
      "outputs": [
        {
          "output_type": "stream",
          "name": "stdout",
          "text": [
            "[[1.+0.j 2.+0.j]\n",
            " [3.+0.j 4.+0.j]]\n"
          ]
        }
      ]
    },
    {
      "cell_type": "markdown",
      "source": [
        "D에 C를 그대로 담으면 D는 C를 바라보지만, 메모리가 다른 메모리에 저장되어 있음"
      ],
      "metadata": {
        "id": "DKoQbA_I3U5Q"
      }
    },
    {
      "cell_type": "code",
      "source": [
        "print(id(C), id(D))"
      ],
      "metadata": {
        "colab": {
          "base_uri": "https://localhost:8080/"
        },
        "id": "o6D8M19jrbis",
        "outputId": "68505806-4890-4dc6-f47d-e426b324f4ac"
      },
      "execution_count": 21,
      "outputs": [
        {
          "output_type": "stream",
          "name": "stdout",
          "text": [
            "133672332800144 133672332779152\n"
          ]
        }
      ]
    },
    {
      "cell_type": "markdown",
      "source": [
        "copy=True를 해야 같은 메모리를 사용함"
      ],
      "metadata": {
        "id": "vXXtVDbF39SF"
      }
    },
    {
      "cell_type": "code",
      "source": [
        "DD = np.array(C, copy=True)"
      ],
      "metadata": {
        "id": "G3e1V6y8reHE"
      },
      "execution_count": 23,
      "outputs": []
    },
    {
      "cell_type": "code",
      "source": [
        "print(id(C), id(DD))"
      ],
      "metadata": {
        "colab": {
          "base_uri": "https://localhost:8080/"
        },
        "id": "1OjamVA6rlFN",
        "outputId": "e3a7d723-22ec-4058-b47d-99dfcf1edaa2"
      },
      "execution_count": 24,
      "outputs": [
        {
          "output_type": "stream",
          "name": "stdout",
          "text": [
            "133672332800144 133672332731344\n"
          ]
        }
      ]
    },
    {
      "cell_type": "markdown",
      "source": [
        "### 특정 수로 배열 생성"
      ],
      "metadata": {
        "id": "GLx3oXsLsFGs"
      }
    },
    {
      "cell_type": "code",
      "source": [
        "print(np.zeros((3,4)))"
      ],
      "metadata": {
        "colab": {
          "base_uri": "https://localhost:8080/"
        },
        "id": "p8Ft8ZzZrpqm",
        "outputId": "eda9df9e-3d0c-481a-fdb0-38423bcc886c"
      },
      "execution_count": 25,
      "outputs": [
        {
          "output_type": "stream",
          "name": "stdout",
          "text": [
            "[[0. 0. 0. 0.]\n",
            " [0. 0. 0. 0.]\n",
            " [0. 0. 0. 0.]]\n"
          ]
        }
      ]
    },
    {
      "cell_type": "code",
      "source": [
        "print(np.ones((3,4)))"
      ],
      "metadata": {
        "colab": {
          "base_uri": "https://localhost:8080/"
        },
        "id": "dlltH8WPr9Gp",
        "outputId": "ee8fb162-d39e-48bc-e4bc-3d6d58341bfc"
      },
      "execution_count": 26,
      "outputs": [
        {
          "output_type": "stream",
          "name": "stdout",
          "text": [
            "[[1. 1. 1. 1.]\n",
            " [1. 1. 1. 1.]\n",
            " [1. 1. 1. 1.]]\n"
          ]
        }
      ]
    },
    {
      "cell_type": "markdown",
      "source": [
        "#### 마지막에 .ones를 실행시켜서 메모리에 값이 저장되어 1이 출력되지만, 실제로는 무엇이 저장되어 있을지 모름"
      ],
      "metadata": {
        "id": "alJYITsgsJDH"
      }
    },
    {
      "cell_type": "code",
      "source": [
        "print(np.empty((3,4)))"
      ],
      "metadata": {
        "colab": {
          "base_uri": "https://localhost:8080/"
        },
        "id": "Af1j_tiGsB80",
        "outputId": "a767fcaa-2a7c-441e-f98d-ffae8b31e51b"
      },
      "execution_count": 27,
      "outputs": [
        {
          "output_type": "stream",
          "name": "stdout",
          "text": [
            "[[1. 1. 1. 1.]\n",
            " [1. 1. 1. 1.]\n",
            " [1. 1. 1. 1.]]\n"
          ]
        }
      ]
    },
    {
      "cell_type": "code",
      "source": [
        "print(np.ones(3))"
      ],
      "metadata": {
        "colab": {
          "base_uri": "https://localhost:8080/"
        },
        "id": "o32YfaexsaID",
        "outputId": "7297ac1c-cd70-4ea8-c338-ea5e026d8096"
      },
      "execution_count": 32,
      "outputs": [
        {
          "output_type": "stream",
          "name": "stdout",
          "text": [
            "[1. 1. 1.]\n"
          ]
        }
      ]
    },
    {
      "cell_type": "code",
      "source": [
        "print(np.ones((3, )))"
      ],
      "metadata": {
        "colab": {
          "base_uri": "https://localhost:8080/"
        },
        "id": "tXv_kFEbse3M",
        "outputId": "a4c180b9-0ee9-495c-fe42-356c70451861"
      },
      "execution_count": 31,
      "outputs": [
        {
          "output_type": "stream",
          "name": "stdout",
          "text": [
            "[1. 1. 1.]\n"
          ]
        }
      ]
    },
    {
      "cell_type": "markdown",
      "source": [
        "### arange()\n",
        "시작만 포함, 지정한 간격만큼 마지막 원소보다 작은 수까지 출력됨."
      ],
      "metadata": {
        "id": "mCtx8KBftGi5"
      }
    },
    {
      "cell_type": "code",
      "source": [
        "np.arange(10, 30, 5)"
      ],
      "metadata": {
        "colab": {
          "base_uri": "https://localhost:8080/"
        },
        "id": "W7oq5Fkasg76",
        "outputId": "2074bb48-3aee-481a-f77d-2231a011eec3"
      },
      "execution_count": 33,
      "outputs": [
        {
          "output_type": "execute_result",
          "data": {
            "text/plain": [
              "array([10, 15, 20, 25])"
            ]
          },
          "metadata": {},
          "execution_count": 33
        }
      ]
    },
    {
      "cell_type": "code",
      "source": [
        "np.arange(0,2,0.3)"
      ],
      "metadata": {
        "colab": {
          "base_uri": "https://localhost:8080/"
        },
        "id": "0180_3dCstYC",
        "outputId": "315758d4-5939-461c-9ad2-2ec354ef9be9"
      },
      "execution_count": 36,
      "outputs": [
        {
          "output_type": "execute_result",
          "data": {
            "text/plain": [
              "array([0. , 0.3, 0.6, 0.9, 1.2, 1.5, 1.8])"
            ]
          },
          "metadata": {},
          "execution_count": 36
        }
      ]
    },
    {
      "cell_type": "markdown",
      "source": [
        "### linspace()\n",
        "시작과 끝을 포함해, 지정한 갯수만큼 균등하게 간격을 나눔"
      ],
      "metadata": {
        "id": "tnIo7KFZs-Ny"
      }
    },
    {
      "cell_type": "code",
      "source": [
        "np.linspace(0, 2, 9)"
      ],
      "metadata": {
        "colab": {
          "base_uri": "https://localhost:8080/"
        },
        "id": "Al-dyHVTsyrU",
        "outputId": "d86eac5a-970e-4253-d3da-0d9844104a99"
      },
      "execution_count": 37,
      "outputs": [
        {
          "output_type": "execute_result",
          "data": {
            "text/plain": [
              "array([0.  , 0.25, 0.5 , 0.75, 1.  , 1.25, 1.5 , 1.75, 2.  ])"
            ]
          },
          "metadata": {},
          "execution_count": 37
        }
      ]
    },
    {
      "cell_type": "markdown",
      "source": [
        "### 배열 변환"
      ],
      "metadata": {
        "id": "AkHFT7GjuVn-"
      }
    },
    {
      "cell_type": "code",
      "source": [
        "A = np.arange(12).reshape(3,4)"
      ],
      "metadata": {
        "id": "hfMZLq9hs6_e"
      },
      "execution_count": 38,
      "outputs": []
    },
    {
      "cell_type": "code",
      "source": [
        "print(A)"
      ],
      "metadata": {
        "colab": {
          "base_uri": "https://localhost:8080/"
        },
        "id": "QUCZUBLJuC4H",
        "outputId": "6b81a171-9f98-4771-92dd-52c35b76db70"
      },
      "execution_count": 39,
      "outputs": [
        {
          "output_type": "stream",
          "name": "stdout",
          "text": [
            "[[ 0  1  2  3]\n",
            " [ 4  5  6  7]\n",
            " [ 8  9 10 11]]\n"
          ]
        }
      ]
    },
    {
      "cell_type": "code",
      "source": [
        "A.reshape(2, 6)"
      ],
      "metadata": {
        "colab": {
          "base_uri": "https://localhost:8080/"
        },
        "id": "EcvG9Le_uEM3",
        "outputId": "6b8f32d3-e0c6-4ad9-ce1b-21f269e88fd3"
      },
      "execution_count": 40,
      "outputs": [
        {
          "output_type": "execute_result",
          "data": {
            "text/plain": [
              "array([[ 0,  1,  2,  3,  4,  5],\n",
              "       [ 6,  7,  8,  9, 10, 11]])"
            ]
          },
          "metadata": {},
          "execution_count": 40
        }
      ]
    },
    {
      "cell_type": "code",
      "source": [
        "print(A)"
      ],
      "metadata": {
        "colab": {
          "base_uri": "https://localhost:8080/"
        },
        "id": "te2DmAvKuHdi",
        "outputId": "95d1f820-7e0d-4c20-fa59-7290b0ea9a03"
      },
      "execution_count": 41,
      "outputs": [
        {
          "output_type": "stream",
          "name": "stdout",
          "text": [
            "[[ 0  1  2  3]\n",
            " [ 4  5  6  7]\n",
            " [ 8  9 10 11]]\n"
          ]
        }
      ]
    },
    {
      "cell_type": "code",
      "source": [
        "A = A.reshape(2,6)\n",
        "print(A)"
      ],
      "metadata": {
        "colab": {
          "base_uri": "https://localhost:8080/"
        },
        "id": "rmzby0PZuNtL",
        "outputId": "3dfeda79-dbb0-4e2e-a015-f349d1a6f798"
      },
      "execution_count": 42,
      "outputs": [
        {
          "output_type": "stream",
          "name": "stdout",
          "text": [
            "[[ 0  1  2  3  4  5]\n",
            " [ 6  7  8  9 10 11]]\n"
          ]
        }
      ]
    },
    {
      "cell_type": "markdown",
      "source": [
        "### -1은 나머지는 알아서 해달라는 의미"
      ],
      "metadata": {
        "id": "MnhOopYqumyO"
      }
    },
    {
      "cell_type": "code",
      "source": [
        "A.reshape(-1, 4)"
      ],
      "metadata": {
        "colab": {
          "base_uri": "https://localhost:8080/"
        },
        "id": "EhPiD7yQuTWq",
        "outputId": "3075aca8-7da2-4b83-abfc-e6c6c9eff035"
      },
      "execution_count": 43,
      "outputs": [
        {
          "output_type": "execute_result",
          "data": {
            "text/plain": [
              "array([[ 0,  1,  2,  3],\n",
              "       [ 4,  5,  6,  7],\n",
              "       [ 8,  9, 10, 11]])"
            ]
          },
          "metadata": {},
          "execution_count": 43
        }
      ]
    },
    {
      "cell_type": "code",
      "source": [
        "A.shape"
      ],
      "metadata": {
        "colab": {
          "base_uri": "https://localhost:8080/"
        },
        "id": "Hr1KDkNAujui",
        "outputId": "2fdaaad6-78e7-42cd-f45b-bbdfc3adeb82"
      },
      "execution_count": 44,
      "outputs": [
        {
          "output_type": "execute_result",
          "data": {
            "text/plain": [
              "(2, 6)"
            ]
          },
          "metadata": {},
          "execution_count": 44
        }
      ]
    },
    {
      "cell_type": "markdown",
      "source": [
        "### 반환된는 값의 유무\n",
        "\n",
        "코드 실행 후 print가 아닌 출력값이 있다면,\n",
        "현재 객체는 그대로지만, 표시되는 값(또는 형태 등등)이 현재 객체와 다른 것이고\n",
        "\n",
        "코드 실행 후 출력되는 값이 없다면,\n",
        "현재 객체의 값(또는 형태)에 변화가 있다는 의미다."
      ],
      "metadata": {
        "id": "Ms-jcz2Z5yld"
      }
    },
    {
      "cell_type": "code",
      "source": [
        "A.resize(3,4) # 반환되는 값이 없다면, 현재 객체가 바뀐것\n",
        "print(A)"
      ],
      "metadata": {
        "colab": {
          "base_uri": "https://localhost:8080/"
        },
        "id": "avTV52tpuvKw",
        "outputId": "120bec3c-d7bd-44c4-d37d-fdff22dd48a8"
      },
      "execution_count": 47,
      "outputs": [
        {
          "output_type": "stream",
          "name": "stdout",
          "text": [
            "[[ 0  1  2  3]\n",
            " [ 4  5  6  7]\n",
            " [ 8  9 10 11]]\n"
          ]
        }
      ]
    },
    {
      "cell_type": "code",
      "source": [
        "A.T # 반환되는 값이 출력되는 것으로 보아, 현재 객체는 바뀌지 않음"
      ],
      "metadata": {
        "colab": {
          "base_uri": "https://localhost:8080/"
        },
        "id": "LuPCGXhZu0Uh",
        "outputId": "bdf265dd-50ff-4df8-999c-8480f4cc11dc"
      },
      "execution_count": 48,
      "outputs": [
        {
          "output_type": "execute_result",
          "data": {
            "text/plain": [
              "array([[ 0,  4,  8],\n",
              "       [ 1,  5,  9],\n",
              "       [ 2,  6, 10],\n",
              "       [ 3,  7, 11]])"
            ]
          },
          "metadata": {},
          "execution_count": 48
        }
      ]
    },
    {
      "cell_type": "code",
      "source": [],
      "metadata": {
        "id": "jCgT90D3vCxt"
      },
      "execution_count": null,
      "outputs": []
    }
  ]
}