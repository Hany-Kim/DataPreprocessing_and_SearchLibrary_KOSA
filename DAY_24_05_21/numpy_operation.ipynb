{
  "nbformat": 4,
  "nbformat_minor": 0,
  "metadata": {
    "colab": {
      "provenance": [],
      "toc_visible": true,
      "authorship_tag": "ABX9TyNxWrjNXv+Gl1lFRYqL74y8",
      "include_colab_link": true
    },
    "kernelspec": {
      "name": "python3",
      "display_name": "Python 3"
    },
    "language_info": {
      "name": "python"
    }
  },
  "cells": [
    {
      "cell_type": "markdown",
      "metadata": {
        "id": "view-in-github",
        "colab_type": "text"
      },
      "source": [
        "<a href=\"https://colab.research.google.com/github/Hany-Kim/DataPreprocessing_and_SearchLibrary_KOSA/blob/main/DAY_24_05_21/numpy_operation.ipynb\" target=\"_parent\"><img src=\"https://colab.research.google.com/assets/colab-badge.svg\" alt=\"Open In Colab\"/></a>"
      ]
    },
    {
      "cell_type": "markdown",
      "source": [
        "# 기본 조작"
      ],
      "metadata": {
        "id": "t6q6Zu2hkvIC"
      }
    },
    {
      "cell_type": "markdown",
      "source": [
        "## 배열의 요소별 연산"
      ],
      "metadata": {
        "id": "y87NbIZWkx84"
      }
    },
    {
      "cell_type": "code",
      "execution_count": 26,
      "metadata": {
        "id": "bWeQiCU1fF12"
      },
      "outputs": [],
      "source": [
        "A = np.array([20,30,40,50])"
      ]
    },
    {
      "cell_type": "code",
      "source": [
        "import numpy as np\n",
        "B = np.arange(4)"
      ],
      "metadata": {
        "id": "OVszhNjJfn-J"
      },
      "execution_count": 25,
      "outputs": []
    },
    {
      "cell_type": "code",
      "source": [
        "A - B"
      ],
      "metadata": {
        "colab": {
          "base_uri": "https://localhost:8080/"
        },
        "id": "eMaywWmDfyP7",
        "outputId": "3011a309-16e1-4162-90be-1bd2aa1cf19f"
      },
      "execution_count": 27,
      "outputs": [
        {
          "output_type": "execute_result",
          "data": {
            "text/plain": [
              "array([20, 29, 38, 47])"
            ]
          },
          "metadata": {},
          "execution_count": 27
        }
      ]
    },
    {
      "cell_type": "code",
      "source": [
        "print(A*B)"
      ],
      "metadata": {
        "colab": {
          "base_uri": "https://localhost:8080/"
        },
        "id": "fAyGKgmaf5Qi",
        "outputId": "1a69b00c-476d-4938-c301-a33941eee554"
      },
      "execution_count": 28,
      "outputs": [
        {
          "output_type": "stream",
          "name": "stdout",
          "text": [
            "[  0  30  80 150]\n"
          ]
        }
      ]
    },
    {
      "cell_type": "code",
      "source": [
        "B**2"
      ],
      "metadata": {
        "colab": {
          "base_uri": "https://localhost:8080/"
        },
        "id": "Jl5ZaUBykXsd",
        "outputId": "a4e2a26b-bb80-4b78-9866-d6310834bb19"
      },
      "execution_count": 29,
      "outputs": [
        {
          "output_type": "execute_result",
          "data": {
            "text/plain": [
              "array([0, 1, 4, 9])"
            ]
          },
          "metadata": {},
          "execution_count": 29
        }
      ]
    },
    {
      "cell_type": "code",
      "source": [
        "10*np.sin(A)"
      ],
      "metadata": {
        "colab": {
          "base_uri": "https://localhost:8080/"
        },
        "id": "t4b_jlFnkdfg",
        "outputId": "6e27f841-b40f-4bcd-88b1-7f986bcb01ae"
      },
      "execution_count": 30,
      "outputs": [
        {
          "output_type": "execute_result",
          "data": {
            "text/plain": [
              "array([ 9.12945251, -9.88031624,  7.4511316 , -2.62374854])"
            ]
          },
          "metadata": {},
          "execution_count": 30
        }
      ]
    },
    {
      "cell_type": "code",
      "source": [
        "A<35"
      ],
      "metadata": {
        "colab": {
          "base_uri": "https://localhost:8080/"
        },
        "id": "CBCDHzFBkh_i",
        "outputId": "7a0ea56d-ded1-4616-8b30-bfd5c6bc0ed4"
      },
      "execution_count": 31,
      "outputs": [
        {
          "output_type": "execute_result",
          "data": {
            "text/plain": [
              "array([ True,  True, False, False])"
            ]
          },
          "metadata": {},
          "execution_count": 31
        }
      ]
    },
    {
      "cell_type": "markdown",
      "source": [
        "## 행렬의 곱"
      ],
      "metadata": {
        "id": "086lIsZIk1pJ"
      }
    },
    {
      "cell_type": "code",
      "source": [
        "A = np.array([[1,1],\n",
        "              [0,1]])\n",
        "B = np.array([[2,0],\n",
        "              [3,4]])"
      ],
      "metadata": {
        "id": "OcQef_qOk3fJ"
      },
      "execution_count": 38,
      "outputs": []
    },
    {
      "cell_type": "markdown",
      "source": [
        "### 요소별 곱"
      ],
      "metadata": {
        "id": "kb0gQMp7lPIj"
      }
    },
    {
      "cell_type": "code",
      "source": [
        "A * B"
      ],
      "metadata": {
        "colab": {
          "base_uri": "https://localhost:8080/"
        },
        "id": "ZBG2vDQGlCmD",
        "outputId": "0287435c-222f-4939-d909-c7401b95101c"
      },
      "execution_count": 40,
      "outputs": [
        {
          "output_type": "execute_result",
          "data": {
            "text/plain": [
              "array([[2, 0],\n",
              "       [0, 4]])"
            ]
          },
          "metadata": {},
          "execution_count": 40
        }
      ]
    },
    {
      "cell_type": "markdown",
      "source": [
        "### 행렬의 곱"
      ],
      "metadata": {
        "id": "04je4IwDlRRN"
      }
    },
    {
      "cell_type": "code",
      "source": [
        "A.dot(B)"
      ],
      "metadata": {
        "colab": {
          "base_uri": "https://localhost:8080/"
        },
        "id": "752ytNSPlI2H",
        "outputId": "ecf610a7-3def-4018-be06-03029c085414"
      },
      "execution_count": 41,
      "outputs": [
        {
          "output_type": "execute_result",
          "data": {
            "text/plain": [
              "array([[5, 4],\n",
              "       [3, 4]])"
            ]
          },
          "metadata": {},
          "execution_count": 41
        }
      ]
    },
    {
      "cell_type": "code",
      "source": [
        "A @ B #행렬의 곱 (3.5버전부터)"
      ],
      "metadata": {
        "colab": {
          "base_uri": "https://localhost:8080/"
        },
        "id": "8jb8JHXMlWTg",
        "outputId": "91774b77-e0d4-42ef-8772-6a0d45d5ac3a"
      },
      "execution_count": 42,
      "outputs": [
        {
          "output_type": "execute_result",
          "data": {
            "text/plain": [
              "array([[5, 4],\n",
              "       [3, 4]])"
            ]
          },
          "metadata": {},
          "execution_count": 42
        }
      ]
    },
    {
      "cell_type": "markdown",
      "source": [
        "## 복합대입연산자"
      ],
      "metadata": {
        "id": "cmxxsqEplj21"
      }
    },
    {
      "cell_type": "code",
      "source": [
        "A = np.ones((2,3), dtype=int)\n",
        "B = np.random.random((2,3))\n",
        "print(A, B)"
      ],
      "metadata": {
        "colab": {
          "base_uri": "https://localhost:8080/"
        },
        "id": "KEwnTWJBghCN",
        "outputId": "89789f6b-e5b8-4a5f-f33c-0cd4c5b9b485"
      },
      "execution_count": 48,
      "outputs": [
        {
          "output_type": "stream",
          "name": "stdout",
          "text": [
            "[[1 1 1]\n",
            " [1 1 1]] [[0.69515813 0.11934699 0.14464572]\n",
            " [0.36907257 0.58333169 0.36111015]]\n"
          ]
        }
      ]
    },
    {
      "cell_type": "code",
      "source": [
        "A *= 3\n",
        "print(A)"
      ],
      "metadata": {
        "colab": {
          "base_uri": "https://localhost:8080/"
        },
        "id": "Mr0YwCHslt3K",
        "outputId": "183c65c1-e768-4f60-922c-fbd339085133"
      },
      "execution_count": 49,
      "outputs": [
        {
          "output_type": "stream",
          "name": "stdout",
          "text": [
            "[[3 3 3]\n",
            " [3 3 3]]\n"
          ]
        }
      ]
    },
    {
      "cell_type": "code",
      "source": [
        "A += B"
      ],
      "metadata": {
        "colab": {
          "base_uri": "https://localhost:8080/",
          "height": 147
        },
        "id": "Qr3qYyPkgl3n",
        "outputId": "d29884fd-596c-49b2-cccf-4078c4077ef3"
      },
      "execution_count": 44,
      "outputs": [
        {
          "output_type": "error",
          "ename": "UFuncTypeError",
          "evalue": "Cannot cast ufunc 'add' output from dtype('float64') to dtype('int64') with casting rule 'same_kind'",
          "traceback": [
            "\u001b[0;31m---------------------------------------------------------------------------\u001b[0m",
            "\u001b[0;31mUFuncTypeError\u001b[0m                            Traceback (most recent call last)",
            "\u001b[0;32m<ipython-input-44-004333d39f34>\u001b[0m in \u001b[0;36m<cell line: 1>\u001b[0;34m()\u001b[0m\n\u001b[0;32m----> 1\u001b[0;31m \u001b[0mA\u001b[0m \u001b[0;34m+=\u001b[0m \u001b[0mB\u001b[0m\u001b[0;34m\u001b[0m\u001b[0;34m\u001b[0m\u001b[0m\n\u001b[0m",
            "\u001b[0;31mUFuncTypeError\u001b[0m: Cannot cast ufunc 'add' output from dtype('float64') to dtype('int64') with casting rule 'same_kind'"
          ]
        }
      ]
    },
    {
      "cell_type": "code",
      "source": [
        "A.dtype"
      ],
      "metadata": {
        "colab": {
          "base_uri": "https://localhost:8080/"
        },
        "id": "N-7vYNQpgpvj",
        "outputId": "80c55f8d-09a3-45e5-b493-451ac10116dc"
      },
      "execution_count": 45,
      "outputs": [
        {
          "output_type": "execute_result",
          "data": {
            "text/plain": [
              "dtype('int64')"
            ]
          },
          "metadata": {},
          "execution_count": 45
        }
      ]
    },
    {
      "cell_type": "code",
      "source": [
        "B += A"
      ],
      "metadata": {
        "id": "imE1xeQpl34q"
      },
      "execution_count": 50,
      "outputs": []
    },
    {
      "cell_type": "code",
      "source": [
        "print(B)"
      ],
      "metadata": {
        "colab": {
          "base_uri": "https://localhost:8080/"
        },
        "id": "R2ekYztDl7Q-",
        "outputId": "cc9e4903-8142-4251-c11f-fbfe464e075c"
      },
      "execution_count": 51,
      "outputs": [
        {
          "output_type": "stream",
          "name": "stdout",
          "text": [
            "[[3.69515813 3.11934699 3.14464572]\n",
            " [3.36907257 3.58333169 3.36111015]]\n"
          ]
        }
      ]
    },
    {
      "cell_type": "code",
      "source": [
        "B.dtype"
      ],
      "metadata": {
        "colab": {
          "base_uri": "https://localhost:8080/"
        },
        "id": "oeNwixzCmBxD",
        "outputId": "7cd8eb03-e35f-48b8-f4df-039f8a2b482e"
      },
      "execution_count": 52,
      "outputs": [
        {
          "output_type": "execute_result",
          "data": {
            "text/plain": [
              "dtype('float64')"
            ]
          },
          "metadata": {},
          "execution_count": 52
        }
      ]
    },
    {
      "cell_type": "code",
      "source": [
        "C = A + B"
      ],
      "metadata": {
        "id": "F-hDOJY7mHJy"
      },
      "execution_count": 53,
      "outputs": []
    },
    {
      "cell_type": "code",
      "source": [
        "C.dtype.name"
      ],
      "metadata": {
        "colab": {
          "base_uri": "https://localhost:8080/",
          "height": 35
        },
        "id": "1IXSZOCQmKqo",
        "outputId": "ca1a1120-4a3f-4ac0-e63a-ba7edd1e9af3"
      },
      "execution_count": 54,
      "outputs": [
        {
          "output_type": "execute_result",
          "data": {
            "text/plain": [
              "'float64'"
            ],
            "application/vnd.google.colaboratory.intrinsic+json": {
              "type": "string"
            }
          },
          "metadata": {},
          "execution_count": 54
        }
      ]
    },
    {
      "cell_type": "code",
      "source": [
        "D = A + B*1j"
      ],
      "metadata": {
        "id": "1luOJYBBmPTT"
      },
      "execution_count": 55,
      "outputs": []
    },
    {
      "cell_type": "code",
      "source": [
        "D.dtype.name"
      ],
      "metadata": {
        "colab": {
          "base_uri": "https://localhost:8080/",
          "height": 35
        },
        "id": "tJCHsHz5mUtZ",
        "outputId": "22bad445-9d74-47ac-8b79-3f9184e779ee"
      },
      "execution_count": 56,
      "outputs": [
        {
          "output_type": "execute_result",
          "data": {
            "text/plain": [
              "'complex128'"
            ],
            "application/vnd.google.colaboratory.intrinsic+json": {
              "type": "string"
            }
          },
          "metadata": {},
          "execution_count": 56
        }
      ]
    },
    {
      "cell_type": "markdown",
      "source": [
        "## 배열의 요소 집계"
      ],
      "metadata": {
        "id": "HIbAHXjrmeeW"
      }
    },
    {
      "cell_type": "markdown",
      "source": [
        "### sum() : 배열 요소의 집계\n",
        "객체.sum()과 np.sum(객체)는 같다.\n",
        "취향껏"
      ],
      "metadata": {
        "id": "45WU2h3IhY9N"
      }
    },
    {
      "cell_type": "code",
      "source": [
        "A = np.random.random((2,3))\n",
        "print(A)"
      ],
      "metadata": {
        "colab": {
          "base_uri": "https://localhost:8080/"
        },
        "id": "0Y11RqTEgtVx",
        "outputId": "1caf4973-8cfc-40e3-d517-3b32528b6eeb"
      },
      "execution_count": 36,
      "outputs": [
        {
          "output_type": "stream",
          "name": "stdout",
          "text": [
            "[[0.50010812 0.42763293 0.33954082]\n",
            " [0.17511473 0.03461867 0.54707103]]\n"
          ]
        }
      ]
    },
    {
      "cell_type": "code",
      "source": [
        "print(A.sum())\n",
        "print(np.sum(A))"
      ],
      "metadata": {
        "colab": {
          "base_uri": "https://localhost:8080/"
        },
        "id": "kCQdv8xfhTkL",
        "outputId": "21f50c6d-b5dd-4bba-906b-fc9ae3d2ad9a"
      },
      "execution_count": 37,
      "outputs": [
        {
          "output_type": "stream",
          "name": "stdout",
          "text": [
            "2.024086298576034\n",
            "2.024086298576034\n"
          ]
        }
      ]
    },
    {
      "cell_type": "markdown",
      "source": [
        "### 축을 지정한 집계\n",
        "각 행, 각 열의 합"
      ],
      "metadata": {
        "id": "s11Yyc8ehuFY"
      }
    },
    {
      "cell_type": "code",
      "source": [
        "A = np.arange(12).reshape(3,4)\n",
        "print(A)"
      ],
      "metadata": {
        "colab": {
          "base_uri": "https://localhost:8080/"
        },
        "id": "FB0EiZmahWYl",
        "outputId": "f07bc35f-0287-4f4f-f548-9f8ab6c1dac7"
      },
      "execution_count": 13,
      "outputs": [
        {
          "output_type": "stream",
          "name": "stdout",
          "text": [
            "[[ 0  1  2  3]\n",
            " [ 4  5  6  7]\n",
            " [ 8  9 10 11]]\n"
          ]
        }
      ]
    },
    {
      "cell_type": "markdown",
      "source": [
        "모든 원소의 합"
      ],
      "metadata": {
        "id": "It0kkKdcifhq"
      }
    },
    {
      "cell_type": "code",
      "source": [
        "# 모든 원소의 합\n",
        "print(A.sum(), np.sum(A))"
      ],
      "metadata": {
        "colab": {
          "base_uri": "https://localhost:8080/"
        },
        "id": "D0fLERI1hnEQ",
        "outputId": "e855a637-cbfb-4f26-a53a-3a3e252479f5"
      },
      "execution_count": 15,
      "outputs": [
        {
          "output_type": "stream",
          "name": "stdout",
          "text": [
            "66 66\n"
          ]
        }
      ]
    },
    {
      "cell_type": "code",
      "source": [
        "A.shape"
      ],
      "metadata": {
        "colab": {
          "base_uri": "https://localhost:8080/"
        },
        "id": "EL1W6gsfhpAm",
        "outputId": "14e28bd4-78f9-4904-f492-3d58ac21ec73"
      },
      "execution_count": 16,
      "outputs": [
        {
          "output_type": "execute_result",
          "data": {
            "text/plain": [
              "(3, 4)"
            ]
          },
          "metadata": {},
          "execution_count": 16
        }
      ]
    },
    {
      "cell_type": "markdown",
      "source": [
        "\"2차원\" 행렬에서 axis는 축 의미, 0은 행을 집계, 1은 열을 집계"
      ],
      "metadata": {
        "id": "yOhbdQeuiih-"
      }
    },
    {
      "cell_type": "code",
      "source": [
        "# \"2차원\" 행렬에서 0은 행, 1은 열, axis는 축을 의미\n",
        "print(A.sum(axis=1), np.sum(A, axis=1))"
      ],
      "metadata": {
        "colab": {
          "base_uri": "https://localhost:8080/"
        },
        "id": "bnubQmDPh1ys",
        "outputId": "3a6e6399-0b0c-4db0-e7ea-9c3e2cb968fb"
      },
      "execution_count": 19,
      "outputs": [
        {
          "output_type": "stream",
          "name": "stdout",
          "text": [
            "[ 6 22 38] [ 6 22 38]\n"
          ]
        }
      ]
    },
    {
      "cell_type": "code",
      "source": [
        "print(A.sum(axis=0), np.sum(A, axis=0))"
      ],
      "metadata": {
        "colab": {
          "base_uri": "https://localhost:8080/"
        },
        "id": "raE7fxPqiUWY",
        "outputId": "131a014c-a4b8-4797-8fc7-6e262700b361"
      },
      "execution_count": 20,
      "outputs": [
        {
          "output_type": "stream",
          "name": "stdout",
          "text": [
            "[12 15 18 21] [12 15 18 21]\n"
          ]
        }
      ]
    },
    {
      "cell_type": "markdown",
      "source": [
        "### 3차원\n",
        "깊이(높이), 행, 열\n",
        "\n",
        "행과 열이 깊이 갯수만큼 있다."
      ],
      "metadata": {
        "id": "piDFM8mNjVYm"
      }
    },
    {
      "cell_type": "code",
      "source": [
        "B = np.arange(24).reshape(2,3,4)\n",
        "print(B)\n",
        "print(B.shape)"
      ],
      "metadata": {
        "colab": {
          "base_uri": "https://localhost:8080/"
        },
        "id": "PTJY8Dq5i80N",
        "outputId": "ca3f476b-91bc-499f-d3d8-a8ca520e9604"
      },
      "execution_count": 21,
      "outputs": [
        {
          "output_type": "stream",
          "name": "stdout",
          "text": [
            "[[[ 0  1  2  3]\n",
            "  [ 4  5  6  7]\n",
            "  [ 8  9 10 11]]\n",
            "\n",
            " [[12 13 14 15]\n",
            "  [16 17 18 19]\n",
            "  [20 21 22 23]]]\n",
            "(2, 3, 4)\n"
          ]
        }
      ]
    },
    {
      "cell_type": "code",
      "source": [
        "print(B.sum())\n",
        "print(B.sum(axis=0))"
      ],
      "metadata": {
        "colab": {
          "base_uri": "https://localhost:8080/"
        },
        "id": "YIWD3w_yjMnl",
        "outputId": "4f32f8cd-5663-4c07-cc2e-d1c84881ad9a"
      },
      "execution_count": 22,
      "outputs": [
        {
          "output_type": "stream",
          "name": "stdout",
          "text": [
            "276\n",
            "[[12 14 16 18]\n",
            " [20 22 24 26]\n",
            " [28 30 32 34]]\n"
          ]
        }
      ]
    },
    {
      "cell_type": "code",
      "source": [
        "print(B.sum(axis=1))\n",
        "print(B.sum(axis=2))"
      ],
      "metadata": {
        "colab": {
          "base_uri": "https://localhost:8080/"
        },
        "id": "jNwcYoiUjkcb",
        "outputId": "d13c157d-1cad-4c22-9890-f088c871735e"
      },
      "execution_count": 23,
      "outputs": [
        {
          "output_type": "stream",
          "name": "stdout",
          "text": [
            "[[12 15 18 21]\n",
            " [48 51 54 57]]\n",
            "[[ 6 22 38]\n",
            " [54 70 86]]\n"
          ]
        }
      ]
    },
    {
      "cell_type": "markdown",
      "source": [
        "# 범용함수"
      ],
      "metadata": {
        "id": "zDgSWduos29q"
      }
    },
    {
      "cell_type": "code",
      "source": [
        "A = np.array([2,3,4,5])\n",
        "B = np.array([5,6,7,8])\n",
        "np.add(A, B, A)"
      ],
      "metadata": {
        "colab": {
          "base_uri": "https://localhost:8080/"
        },
        "id": "Pw8CaWbbjw0Q",
        "outputId": "b58cca34-b394-480d-f277-e194f8cbe9b2"
      },
      "execution_count": 59,
      "outputs": [
        {
          "output_type": "execute_result",
          "data": {
            "text/plain": [
              "array([ 7,  9, 11, 13])"
            ]
          },
          "metadata": {},
          "execution_count": 59
        }
      ]
    },
    {
      "cell_type": "code",
      "source": [
        "A"
      ],
      "metadata": {
        "colab": {
          "base_uri": "https://localhost:8080/"
        },
        "id": "G8OeQfH9tAN7",
        "outputId": "fda74bcd-a124-4f39-848e-16d4d23616ef"
      },
      "execution_count": 60,
      "outputs": [
        {
          "output_type": "execute_result",
          "data": {
            "text/plain": [
              "array([ 7,  9, 11, 13])"
            ]
          },
          "metadata": {},
          "execution_count": 60
        }
      ]
    },
    {
      "cell_type": "markdown",
      "source": [
        "# 브로드캐스팅\n",
        "사이즈가 다른 두 행열을 한쪽을 늘려서 사이즈를 맞춰 연산"
      ],
      "metadata": {
        "id": "iqFQ2th5tmuJ"
      }
    },
    {
      "cell_type": "markdown",
      "source": [
        "## 배열과 스칼라 연산"
      ],
      "metadata": {
        "id": "u2ezH0no7VVb"
      }
    },
    {
      "cell_type": "code",
      "source": [
        "A = np.array([1,2,3])\n",
        "B = np.array([2,2,2])"
      ],
      "metadata": {
        "id": "CWKrt0SByNDk"
      },
      "execution_count": 77,
      "outputs": []
    },
    {
      "cell_type": "code",
      "source": [
        "C = 2"
      ],
      "metadata": {
        "id": "9a_COHCeyXcA"
      },
      "execution_count": 80,
      "outputs": []
    },
    {
      "cell_type": "code",
      "source": [
        "A * B"
      ],
      "metadata": {
        "colab": {
          "base_uri": "https://localhost:8080/"
        },
        "id": "gVtGpjgyyTAU",
        "outputId": "9345d0a7-3678-43ba-b0fa-67f32cb6bb59"
      },
      "execution_count": 78,
      "outputs": [
        {
          "output_type": "execute_result",
          "data": {
            "text/plain": [
              "array([2, 4, 6])"
            ]
          },
          "metadata": {},
          "execution_count": 78
        }
      ]
    },
    {
      "cell_type": "code",
      "source": [
        "A * C"
      ],
      "metadata": {
        "colab": {
          "base_uri": "https://localhost:8080/"
        },
        "id": "3BeT_grDyZmg",
        "outputId": "21d2f837-3882-4e58-f0f4-842239838455"
      },
      "execution_count": 81,
      "outputs": [
        {
          "output_type": "execute_result",
          "data": {
            "text/plain": [
              "array([2, 4, 6])"
            ]
          },
          "metadata": {},
          "execution_count": 81
        }
      ]
    },
    {
      "cell_type": "code",
      "source": [
        "np.multiply(A, B)"
      ],
      "metadata": {
        "colab": {
          "base_uri": "https://localhost:8080/"
        },
        "id": "-QrJAjlNyUk1",
        "outputId": "596d5d5d-366f-491f-b763-ec4263985706"
      },
      "execution_count": 79,
      "outputs": [
        {
          "output_type": "execute_result",
          "data": {
            "text/plain": [
              "array([2, 4, 6])"
            ]
          },
          "metadata": {},
          "execution_count": 79
        }
      ]
    },
    {
      "cell_type": "code",
      "source": [
        "np.multiply(A,C)"
      ],
      "metadata": {
        "colab": {
          "base_uri": "https://localhost:8080/"
        },
        "id": "4uAHsISnyb5B",
        "outputId": "c0df88b1-7b13-4bd1-f857-dc2777e8452f"
      },
      "execution_count": 82,
      "outputs": [
        {
          "output_type": "execute_result",
          "data": {
            "text/plain": [
              "array([2, 4, 6])"
            ]
          },
          "metadata": {},
          "execution_count": 82
        }
      ]
    },
    {
      "cell_type": "markdown",
      "source": [
        "## 브로드캐스팅 규칙"
      ],
      "metadata": {
        "id": "tZXyLpgU7ZqW"
      }
    },
    {
      "cell_type": "code",
      "source": [
        "A = np.array([[0, 0, 0],\n",
        "              [10, 10, 10],\n",
        "              [20, 20, 20],\n",
        "              [30, 30, 30]])\n",
        "B = np.array([1, 2, 3])"
      ],
      "metadata": {
        "id": "zaSdq7857cbB"
      },
      "execution_count": 85,
      "outputs": []
    },
    {
      "cell_type": "code",
      "source": [
        "print(A+B)"
      ],
      "metadata": {
        "colab": {
          "base_uri": "https://localhost:8080/"
        },
        "id": "sRCFgtU27oyH",
        "outputId": "2f14e528-3485-4fe8-d146-50ceba4909e6"
      },
      "execution_count": 86,
      "outputs": [
        {
          "output_type": "stream",
          "name": "stdout",
          "text": [
            "[[ 1  2  3]\n",
            " [11 12 13]\n",
            " [21 22 23]\n",
            " [31 32 33]]\n"
          ]
        }
      ]
    },
    {
      "cell_type": "code",
      "source": [
        "A = np.array([0,10,20,30])\n",
        "B = np.array([1,2,3])"
      ],
      "metadata": {
        "id": "0jDT5JYAtfya"
      },
      "execution_count": 65,
      "outputs": []
    },
    {
      "cell_type": "code",
      "source": [
        "print(A+B)"
      ],
      "metadata": {
        "colab": {
          "base_uri": "https://localhost:8080/",
          "height": 147
        },
        "id": "tPF5Zq8IvA5s",
        "outputId": "0e41f051-8420-417e-bab7-e5f09ca68cc7"
      },
      "execution_count": 66,
      "outputs": [
        {
          "output_type": "error",
          "ename": "ValueError",
          "evalue": "operands could not be broadcast together with shapes (4,) (3,) ",
          "traceback": [
            "\u001b[0;31m---------------------------------------------------------------------------\u001b[0m",
            "\u001b[0;31mValueError\u001b[0m                                Traceback (most recent call last)",
            "\u001b[0;32m<ipython-input-66-d4231d815df3>\u001b[0m in \u001b[0;36m<cell line: 1>\u001b[0;34m()\u001b[0m\n\u001b[0;32m----> 1\u001b[0;31m \u001b[0mprint\u001b[0m\u001b[0;34m(\u001b[0m\u001b[0mA\u001b[0m\u001b[0;34m+\u001b[0m\u001b[0mB\u001b[0m\u001b[0;34m)\u001b[0m\u001b[0;34m\u001b[0m\u001b[0;34m\u001b[0m\u001b[0m\n\u001b[0m",
            "\u001b[0;31mValueError\u001b[0m: operands could not be broadcast together with shapes (4,) (3,) "
          ]
        }
      ]
    },
    {
      "cell_type": "markdown",
      "source": [
        "[:, np.newaxis]\\\n",
        ": => 슬라이싱(전체원소 지정)\\\n",
        "np.newaxis => 새로운 축 추가 (차원을 늘려줌)"
      ],
      "metadata": {
        "id": "tS6tE-QFvEW1"
      }
    },
    {
      "cell_type": "code",
      "source": [
        "print(A[:, np.newaxis] + B)"
      ],
      "metadata": {
        "colab": {
          "base_uri": "https://localhost:8080/"
        },
        "id": "q4Kz9DqCuyI9",
        "outputId": "2f270884-9772-4e2d-ab15-916f993fb046"
      },
      "execution_count": 63,
      "outputs": [
        {
          "output_type": "stream",
          "name": "stdout",
          "text": [
            "[[ 1.  2.  3.]\n",
            " [11. 12. 13.]\n",
            " [21. 22. 23.]\n",
            " [31. 32. 33.]]\n"
          ]
        }
      ]
    },
    {
      "cell_type": "markdown",
      "source": [
        "맨 마지막 축 추가"
      ],
      "metadata": {
        "id": "b5Ll8h-Ixbo9"
      }
    },
    {
      "cell_type": "code",
      "source": [
        "print(A[:,np.newaxis])"
      ],
      "metadata": {
        "colab": {
          "base_uri": "https://localhost:8080/"
        },
        "id": "1twK2H0quz6_",
        "outputId": "1c8d5805-2177-47f3-d9b9-0b359c77a749"
      },
      "execution_count": 64,
      "outputs": [
        {
          "output_type": "stream",
          "name": "stdout",
          "text": [
            "[[ 0.]\n",
            " [10.]\n",
            " [20.]\n",
            " [30.]]\n"
          ]
        }
      ]
    },
    {
      "cell_type": "code",
      "source": [
        "print(A[1:3,np.newaxis])"
      ],
      "metadata": {
        "colab": {
          "base_uri": "https://localhost:8080/"
        },
        "id": "Nd7Wsgznu50r",
        "outputId": "4ef955a9-91eb-42f4-9090-b9a98a4c1d3a"
      },
      "execution_count": 68,
      "outputs": [
        {
          "output_type": "stream",
          "name": "stdout",
          "text": [
            "[[10]\n",
            " [20]]\n"
          ]
        }
      ]
    },
    {
      "cell_type": "markdown",
      "source": [
        "맨 처음 축 추가"
      ],
      "metadata": {
        "id": "19ZJKN4mxfXG"
      }
    },
    {
      "cell_type": "code",
      "source": [
        "print(A[np.newaxis, : ])"
      ],
      "metadata": {
        "colab": {
          "base_uri": "https://localhost:8080/"
        },
        "id": "8JN1fBvfwqvS",
        "outputId": "33577dc8-55b9-4a8f-eb67-975d526b1979"
      },
      "execution_count": 70,
      "outputs": [
        {
          "output_type": "stream",
          "name": "stdout",
          "text": [
            "[[ 0 10 20 30]]\n"
          ]
        }
      ]
    },
    {
      "cell_type": "markdown",
      "source": [
        "앞 뒤로 축 추가"
      ],
      "metadata": {
        "id": "70lF_bfsxnAX"
      }
    },
    {
      "cell_type": "code",
      "source": [
        "print(A[np.newaxis, : , np.newaxis])"
      ],
      "metadata": {
        "colab": {
          "base_uri": "https://localhost:8080/"
        },
        "id": "4PMEv0NuxVWc",
        "outputId": "2525ab0e-7675-45f9-ac9a-2816c00bf434"
      },
      "execution_count": 71,
      "outputs": [
        {
          "output_type": "stream",
          "name": "stdout",
          "text": [
            "[[[ 0]\n",
            "  [10]\n",
            "  [20]\n",
            "  [30]]]\n"
          ]
        }
      ]
    },
    {
      "cell_type": "markdown",
      "source": [
        "# 배열 합치기 나누기"
      ],
      "metadata": {
        "id": "LKKhWC6d7u9h"
      }
    },
    {
      "cell_type": "markdown",
      "source": [
        "## 인덱싱과 슬라이싱"
      ],
      "metadata": {
        "id": "5_hMXGWa7x1I"
      }
    },
    {
      "cell_type": "code",
      "source": [
        "A = np.arange(10)**3\n",
        "A"
      ],
      "metadata": {
        "colab": {
          "base_uri": "https://localhost:8080/"
        },
        "id": "AZZ8gA5Gxtjj",
        "outputId": "d10025e4-11a5-4a97-a2e5-587bbf4ad0bc"
      },
      "execution_count": 88,
      "outputs": [
        {
          "output_type": "execute_result",
          "data": {
            "text/plain": [
              "array([  0,   1,   8,  27,  64, 125, 216, 343, 512, 729])"
            ]
          },
          "metadata": {},
          "execution_count": 88
        }
      ]
    },
    {
      "cell_type": "markdown",
      "source": [
        "### 인덱싱"
      ],
      "metadata": {
        "id": "XkegVNDq77C-"
      }
    },
    {
      "cell_type": "code",
      "source": [
        "A[2]"
      ],
      "metadata": {
        "colab": {
          "base_uri": "https://localhost:8080/"
        },
        "id": "I0m5jozY72N-",
        "outputId": "01eace9b-a77e-4c3b-a8b8-9e33b4615b3e"
      },
      "execution_count": 89,
      "outputs": [
        {
          "output_type": "execute_result",
          "data": {
            "text/plain": [
              "8"
            ]
          },
          "metadata": {},
          "execution_count": 89
        }
      ]
    },
    {
      "cell_type": "code",
      "source": [
        "A[-2]"
      ],
      "metadata": {
        "colab": {
          "base_uri": "https://localhost:8080/"
        },
        "id": "AEITpmv_7-rb",
        "outputId": "19779302-12d1-4f87-bb7a-909da8309e4a"
      },
      "execution_count": 90,
      "outputs": [
        {
          "output_type": "execute_result",
          "data": {
            "text/plain": [
              "512"
            ]
          },
          "metadata": {},
          "execution_count": 90
        }
      ]
    },
    {
      "cell_type": "code",
      "source": [
        "A[10]"
      ],
      "metadata": {
        "colab": {
          "base_uri": "https://localhost:8080/",
          "height": 147
        },
        "id": "ogCNT_Gn8Apt",
        "outputId": "cad12889-4a80-40dd-a2cd-0b1f1d7ad49f"
      },
      "execution_count": 91,
      "outputs": [
        {
          "output_type": "error",
          "ename": "IndexError",
          "evalue": "index 10 is out of bounds for axis 0 with size 10",
          "traceback": [
            "\u001b[0;31m---------------------------------------------------------------------------\u001b[0m",
            "\u001b[0;31mIndexError\u001b[0m                                Traceback (most recent call last)",
            "\u001b[0;32m<ipython-input-91-1d70858cd699>\u001b[0m in \u001b[0;36m<cell line: 1>\u001b[0;34m()\u001b[0m\n\u001b[0;32m----> 1\u001b[0;31m \u001b[0mA\u001b[0m\u001b[0;34m[\u001b[0m\u001b[0;36m10\u001b[0m\u001b[0;34m]\u001b[0m\u001b[0;34m\u001b[0m\u001b[0;34m\u001b[0m\u001b[0m\n\u001b[0m",
            "\u001b[0;31mIndexError\u001b[0m: index 10 is out of bounds for axis 0 with size 10"
          ]
        }
      ]
    },
    {
      "cell_type": "markdown",
      "source": [
        "### 슬라이싱"
      ],
      "metadata": {
        "id": "M6j2zkSc8DvM"
      }
    },
    {
      "cell_type": "code",
      "source": [
        "A[2:5]"
      ],
      "metadata": {
        "colab": {
          "base_uri": "https://localhost:8080/"
        },
        "id": "zE2UHjTn8C0C",
        "outputId": "c0b248cd-cee2-4abd-b0d5-5964541a0408"
      },
      "execution_count": 92,
      "outputs": [
        {
          "output_type": "execute_result",
          "data": {
            "text/plain": [
              "array([ 8, 27, 64])"
            ]
          },
          "metadata": {},
          "execution_count": 92
        }
      ]
    },
    {
      "cell_type": "code",
      "source": [
        "A[0:7:2]"
      ],
      "metadata": {
        "colab": {
          "base_uri": "https://localhost:8080/"
        },
        "id": "H3So7lOf8G5x",
        "outputId": "1efdbaff-715a-4cba-e5e2-2b53ba8bf53e"
      },
      "execution_count": 93,
      "outputs": [
        {
          "output_type": "execute_result",
          "data": {
            "text/plain": [
              "array([  0,   8,  64, 216])"
            ]
          },
          "metadata": {},
          "execution_count": 93
        }
      ]
    },
    {
      "cell_type": "code",
      "source": [
        "A[::2]"
      ],
      "metadata": {
        "colab": {
          "base_uri": "https://localhost:8080/"
        },
        "id": "0xO_ToRM8Jcc",
        "outputId": "137a3cca-9858-4a39-feb8-efe411df4c2f"
      },
      "execution_count": 95,
      "outputs": [
        {
          "output_type": "execute_result",
          "data": {
            "text/plain": [
              "array([  0,   8,  64, 216, 512])"
            ]
          },
          "metadata": {},
          "execution_count": 95
        }
      ]
    },
    {
      "cell_type": "code",
      "source": [
        "A[::-1]"
      ],
      "metadata": {
        "colab": {
          "base_uri": "https://localhost:8080/"
        },
        "id": "4bReKhdJ8Lsd",
        "outputId": "b773c321-5c26-49ca-86eb-39797477b5af"
      },
      "execution_count": 96,
      "outputs": [
        {
          "output_type": "execute_result",
          "data": {
            "text/plain": [
              "array([729, 512, 343, 216, 125,  64,  27,   8,   1,   0])"
            ]
          },
          "metadata": {},
          "execution_count": 96
        }
      ]
    },
    {
      "cell_type": "code",
      "source": [
        "A[:6:2]"
      ],
      "metadata": {
        "colab": {
          "base_uri": "https://localhost:8080/"
        },
        "id": "PLEc_uLQ8RKw",
        "outputId": "4e5d7563-2ade-4068-f83e-e83f7744a2d7"
      },
      "execution_count": 97,
      "outputs": [
        {
          "output_type": "execute_result",
          "data": {
            "text/plain": [
              "array([ 0,  8, 64])"
            ]
          },
          "metadata": {},
          "execution_count": 97
        }
      ]
    },
    {
      "cell_type": "markdown",
      "source": [
        "### 다차원 배열 인덱싱"
      ],
      "metadata": {
        "id": "iJrnw9WR8UhO"
      }
    },
    {
      "cell_type": "code",
      "source": [
        "B = np.arange(20).reshape(5,4)\n",
        "B"
      ],
      "metadata": {
        "colab": {
          "base_uri": "https://localhost:8080/"
        },
        "id": "rnHkYyRj8TLu",
        "outputId": "eaba05cd-d44f-406a-cecb-4325157b2c6b"
      },
      "execution_count": 98,
      "outputs": [
        {
          "output_type": "execute_result",
          "data": {
            "text/plain": [
              "array([[ 0,  1,  2,  3],\n",
              "       [ 4,  5,  6,  7],\n",
              "       [ 8,  9, 10, 11],\n",
              "       [12, 13, 14, 15],\n",
              "       [16, 17, 18, 19]])"
            ]
          },
          "metadata": {},
          "execution_count": 98
        }
      ]
    },
    {
      "cell_type": "code",
      "source": [
        "B[2,3]"
      ],
      "metadata": {
        "colab": {
          "base_uri": "https://localhost:8080/"
        },
        "id": "BKrJbwmK8alF",
        "outputId": "fcfededc-dac2-4910-8261-7b25679c9908"
      },
      "execution_count": 99,
      "outputs": [
        {
          "output_type": "execute_result",
          "data": {
            "text/plain": [
              "11"
            ]
          },
          "metadata": {},
          "execution_count": 99
        }
      ]
    },
    {
      "cell_type": "code",
      "source": [
        "B[-3,-1]"
      ],
      "metadata": {
        "colab": {
          "base_uri": "https://localhost:8080/"
        },
        "id": "t7Ltbpri8b-x",
        "outputId": "57a0f3a8-0758-4f3e-da54-3072542e0b5b"
      },
      "execution_count": 100,
      "outputs": [
        {
          "output_type": "execute_result",
          "data": {
            "text/plain": [
              "11"
            ]
          },
          "metadata": {},
          "execution_count": 100
        }
      ]
    },
    {
      "cell_type": "code",
      "source": [
        "C = np.arange(24).reshape(2,3,4)\n",
        "C"
      ],
      "metadata": {
        "colab": {
          "base_uri": "https://localhost:8080/"
        },
        "id": "Lb6wjx8A8eKO",
        "outputId": "c083fcd3-03f6-489b-8dc1-91c636f53599"
      },
      "execution_count": 101,
      "outputs": [
        {
          "output_type": "execute_result",
          "data": {
            "text/plain": [
              "array([[[ 0,  1,  2,  3],\n",
              "        [ 4,  5,  6,  7],\n",
              "        [ 8,  9, 10, 11]],\n",
              "\n",
              "       [[12, 13, 14, 15],\n",
              "        [16, 17, 18, 19],\n",
              "        [20, 21, 22, 23]]])"
            ]
          },
          "metadata": {},
          "execution_count": 101
        }
      ]
    },
    {
      "cell_type": "code",
      "source": [
        "C[0,1,2]"
      ],
      "metadata": {
        "colab": {
          "base_uri": "https://localhost:8080/"
        },
        "id": "LEABC2578jeE",
        "outputId": "bf533729-92d7-4f07-965c-982474fe9375"
      },
      "execution_count": 102,
      "outputs": [
        {
          "output_type": "execute_result",
          "data": {
            "text/plain": [
              "6"
            ]
          },
          "metadata": {},
          "execution_count": 102
        }
      ]
    },
    {
      "cell_type": "code",
      "source": [
        "C[1,2,3]"
      ],
      "metadata": {
        "colab": {
          "base_uri": "https://localhost:8080/"
        },
        "id": "p36JXfvC8l9G",
        "outputId": "5d38cf6d-35b4-4980-e8d0-1da525d9b505"
      },
      "execution_count": 103,
      "outputs": [
        {
          "output_type": "execute_result",
          "data": {
            "text/plain": [
              "23"
            ]
          },
          "metadata": {},
          "execution_count": 103
        }
      ]
    },
    {
      "cell_type": "markdown",
      "source": [
        "### 다차원 배열 슬라이싱"
      ],
      "metadata": {
        "id": "sXjL9xit8onw"
      }
    },
    {
      "cell_type": "code",
      "source": [
        "B[0:5,1]"
      ],
      "metadata": {
        "colab": {
          "base_uri": "https://localhost:8080/"
        },
        "id": "JnnO-EwO8nJr",
        "outputId": "6c2eca56-d11f-4270-e542-56c576934663"
      },
      "execution_count": 104,
      "outputs": [
        {
          "output_type": "execute_result",
          "data": {
            "text/plain": [
              "array([ 1,  5,  9, 13, 17])"
            ]
          },
          "metadata": {},
          "execution_count": 104
        }
      ]
    },
    {
      "cell_type": "code",
      "source": [
        "B[:,1]"
      ],
      "metadata": {
        "colab": {
          "base_uri": "https://localhost:8080/"
        },
        "id": "b3unjtVX8s0l",
        "outputId": "00f960c9-3388-400f-cb88-0bd2c992cf61"
      },
      "execution_count": 105,
      "outputs": [
        {
          "output_type": "execute_result",
          "data": {
            "text/plain": [
              "array([ 1,  5,  9, 13, 17])"
            ]
          },
          "metadata": {},
          "execution_count": 105
        }
      ]
    },
    {
      "cell_type": "code",
      "source": [
        "B[1:3,:]"
      ],
      "metadata": {
        "colab": {
          "base_uri": "https://localhost:8080/"
        },
        "id": "tEPKIQvS8uy3",
        "outputId": "ab12e681-1987-4c37-a54f-59723ae962a6"
      },
      "execution_count": 106,
      "outputs": [
        {
          "output_type": "execute_result",
          "data": {
            "text/plain": [
              "array([[ 4,  5,  6,  7],\n",
              "       [ 8,  9, 10, 11]])"
            ]
          },
          "metadata": {},
          "execution_count": 106
        }
      ]
    },
    {
      "cell_type": "code",
      "source": [
        "B[,:]"
      ],
      "metadata": {
        "colab": {
          "base_uri": "https://localhost:8080/",
          "height": 110
        },
        "id": "lonYIGeO8w1m",
        "outputId": "a6aac340-0954-425c-fa42-fd6791d72dd4"
      },
      "execution_count": 107,
      "outputs": [
        {
          "output_type": "error",
          "ename": "SyntaxError",
          "evalue": "invalid syntax (<ipython-input-107-3457006e6332>, line 1)",
          "traceback": [
            "\u001b[0;36m  File \u001b[0;32m\"<ipython-input-107-3457006e6332>\"\u001b[0;36m, line \u001b[0;32m1\u001b[0m\n\u001b[0;31m    B[,:]\u001b[0m\n\u001b[0m      ^\u001b[0m\n\u001b[0;31mSyntaxError\u001b[0m\u001b[0;31m:\u001b[0m invalid syntax\n"
          ]
        }
      ]
    },
    {
      "cell_type": "markdown",
      "source": [
        "### 축 인덱스의 생략"
      ],
      "metadata": {
        "id": "avmIO1SI84Oh"
      }
    },
    {
      "cell_type": "code",
      "source": [
        "B[-1]"
      ],
      "metadata": {
        "colab": {
          "base_uri": "https://localhost:8080/"
        },
        "id": "wVZEqe7r8ylz",
        "outputId": "5d840748-1f7c-46f8-ded4-831eae2bd15c"
      },
      "execution_count": 108,
      "outputs": [
        {
          "output_type": "execute_result",
          "data": {
            "text/plain": [
              "array([16, 17, 18, 19])"
            ]
          },
          "metadata": {},
          "execution_count": 108
        }
      ]
    },
    {
      "cell_type": "code",
      "source": [
        "C[0]"
      ],
      "metadata": {
        "colab": {
          "base_uri": "https://localhost:8080/"
        },
        "id": "IzKVylSS9DCf",
        "outputId": "c26abb86-c94f-4e26-d88e-481884711d45"
      },
      "execution_count": 109,
      "outputs": [
        {
          "output_type": "execute_result",
          "data": {
            "text/plain": [
              "array([[ 0,  1,  2,  3],\n",
              "       [ 4,  5,  6,  7],\n",
              "       [ 8,  9, 10, 11]])"
            ]
          },
          "metadata": {},
          "execution_count": 109
        }
      ]
    },
    {
      "cell_type": "code",
      "source": [
        "C[0,0]"
      ],
      "metadata": {
        "colab": {
          "base_uri": "https://localhost:8080/"
        },
        "id": "dZXP8ZgT9Dqx",
        "outputId": "131de99c-6f3f-449b-a525-d6f3aa52f8eb"
      },
      "execution_count": 110,
      "outputs": [
        {
          "output_type": "execute_result",
          "data": {
            "text/plain": [
              "array([0, 1, 2, 3])"
            ]
          },
          "metadata": {},
          "execution_count": 110
        }
      ]
    },
    {
      "cell_type": "code",
      "source": [
        "C[:, :, 0]"
      ],
      "metadata": {
        "colab": {
          "base_uri": "https://localhost:8080/"
        },
        "id": "nLll8P0S9Ekz",
        "outputId": "dd5744de-f5c0-4a5f-d455-504159ebeabc"
      },
      "execution_count": 111,
      "outputs": [
        {
          "output_type": "execute_result",
          "data": {
            "text/plain": [
              "array([[ 0,  4,  8],\n",
              "       [12, 16, 20]])"
            ]
          },
          "metadata": {},
          "execution_count": 111
        }
      ]
    },
    {
      "cell_type": "code",
      "source": [
        "C[...,0]"
      ],
      "metadata": {
        "colab": {
          "base_uri": "https://localhost:8080/"
        },
        "id": "E_S9GzZO9Gu0",
        "outputId": "0b6b7304-5c43-44af-e2d9-96fdf19a4160"
      },
      "execution_count": 112,
      "outputs": [
        {
          "output_type": "execute_result",
          "data": {
            "text/plain": [
              "array([[ 0,  4,  8],\n",
              "       [12, 16, 20]])"
            ]
          },
          "metadata": {},
          "execution_count": 112
        }
      ]
    },
    {
      "cell_type": "code",
      "source": [
        "A[..., np.newaxis]"
      ],
      "metadata": {
        "colab": {
          "base_uri": "https://localhost:8080/"
        },
        "id": "-jkXxCKE9Ipf",
        "outputId": "32af0545-5065-45d5-9dd7-c353a1e470e2"
      },
      "execution_count": 113,
      "outputs": [
        {
          "output_type": "execute_result",
          "data": {
            "text/plain": [
              "array([[  0],\n",
              "       [  1],\n",
              "       [  8],\n",
              "       [ 27],\n",
              "       [ 64],\n",
              "       [125],\n",
              "       [216],\n",
              "       [343],\n",
              "       [512],\n",
              "       [729]])"
            ]
          },
          "metadata": {},
          "execution_count": 113
        }
      ]
    },
    {
      "cell_type": "markdown",
      "source": [
        "### 다차원 배열 반복"
      ],
      "metadata": {
        "id": "faw0kGJ39NeY"
      }
    },
    {
      "cell_type": "code",
      "source": [
        "for row in B:\n",
        "    print(row)"
      ],
      "metadata": {
        "colab": {
          "base_uri": "https://localhost:8080/"
        },
        "id": "5pHBuatd9LPh",
        "outputId": "a6a3026b-018b-44de-bbc2-b9dbf0db2dc9"
      },
      "execution_count": 114,
      "outputs": [
        {
          "output_type": "stream",
          "name": "stdout",
          "text": [
            "[0 1 2 3]\n",
            "[4 5 6 7]\n",
            "[ 8  9 10 11]\n",
            "[12 13 14 15]\n",
            "[16 17 18 19]\n"
          ]
        }
      ]
    },
    {
      "cell_type": "code",
      "source": [
        "for i, data in enumerate(C) :\n",
        "    for j, row in enumerate(data) :\n",
        "        for k, cell in enumerate(row) :\n",
        "            print(\"[{},{},{}]-{}\".format(i,j,k,cell),end=', ')"
      ],
      "metadata": {
        "colab": {
          "base_uri": "https://localhost:8080/"
        },
        "id": "a7YP4A1N9Rng",
        "outputId": "bbb5a9a7-e217-43d5-833c-173ef4266f06"
      },
      "execution_count": 115,
      "outputs": [
        {
          "output_type": "stream",
          "name": "stdout",
          "text": [
            "[0,0,0]-0, [0,0,1]-1, [0,0,2]-2, [0,0,3]-3, [0,1,0]-4, [0,1,1]-5, [0,1,2]-6, [0,1,3]-7, [0,2,0]-8, [0,2,1]-9, [0,2,2]-10, [0,2,3]-11, [1,0,0]-12, [1,0,1]-13, [1,0,2]-14, [1,0,3]-15, [1,1,0]-16, [1,1,1]-17, [1,1,2]-18, [1,1,3]-19, [1,2,0]-20, [1,2,1]-21, [1,2,2]-22, [1,2,3]-23, "
          ]
        }
      ]
    },
    {
      "cell_type": "code",
      "source": [
        "for element in B.flat:\n",
        "    print(element, end=' ')"
      ],
      "metadata": {
        "colab": {
          "base_uri": "https://localhost:8080/"
        },
        "id": "-Rg-mVvK9jx6",
        "outputId": "09170859-3f86-4c66-95e9-4ba86308b8b5"
      },
      "execution_count": 116,
      "outputs": [
        {
          "output_type": "stream",
          "name": "stdout",
          "text": [
            "0 1 2 3 4 5 6 7 8 9 10 11 12 13 14 15 16 17 18 19 "
          ]
        }
      ]
    },
    {
      "cell_type": "markdown",
      "source": [
        "# 복사와 뷰"
      ],
      "metadata": {
        "id": "0XhdL_KAzyi-"
      }
    },
    {
      "cell_type": "code",
      "source": [
        "import numpy as np"
      ],
      "metadata": {
        "id": "DITjMpJx9qru"
      },
      "execution_count": 1,
      "outputs": []
    },
    {
      "cell_type": "markdown",
      "source": [
        "## 모두 복사 안 함"
      ],
      "metadata": {
        "id": "lBlq-1HRHP4s"
      }
    },
    {
      "cell_type": "code",
      "source": [
        "A = np.arange(12)\n",
        "B = A\n",
        "B is A"
      ],
      "metadata": {
        "colab": {
          "base_uri": "https://localhost:8080/"
        },
        "id": "1OzTn6Q2_0eM",
        "outputId": "865aed3d-0937-4510-b5f0-4d8ca4b9b989"
      },
      "execution_count": 62,
      "outputs": [
        {
          "output_type": "execute_result",
          "data": {
            "text/plain": [
              "True"
            ]
          },
          "metadata": {},
          "execution_count": 62
        }
      ]
    },
    {
      "cell_type": "markdown",
      "source": [
        "A객체를 B에 할당하면, B의 객체를 수정하면 A에도 반영이된다."
      ],
      "metadata": {
        "id": "XqMohwOWHSXl"
      }
    },
    {
      "cell_type": "code",
      "source": [
        "B.shape = 3,4\n",
        "A.shape"
      ],
      "metadata": {
        "colab": {
          "base_uri": "https://localhost:8080/"
        },
        "id": "koSNxa_N_4y1",
        "outputId": "3cd8ad76-7b8d-4129-8be4-719ebead0a64"
      },
      "execution_count": 63,
      "outputs": [
        {
          "output_type": "execute_result",
          "data": {
            "text/plain": [
              "(3, 4)"
            ]
          },
          "metadata": {},
          "execution_count": 63
        }
      ]
    },
    {
      "cell_type": "markdown",
      "source": [
        "A객체를 B에 할당하면, B의 객체의 Data를 수정하면 A에도 반영이 된다."
      ],
      "metadata": {
        "id": "RGC1k-hfHfrA"
      }
    },
    {
      "cell_type": "code",
      "source": [
        "B[::2] = 0\n",
        "B"
      ],
      "metadata": {
        "colab": {
          "base_uri": "https://localhost:8080/"
        },
        "id": "Lxv_wFg2_91l",
        "outputId": "49b09b49-2689-4da3-f7e3-0509c94f1606"
      },
      "execution_count": 65,
      "outputs": [
        {
          "output_type": "execute_result",
          "data": {
            "text/plain": [
              "array([[0, 0, 0, 0],\n",
              "       [4, 5, 6, 7],\n",
              "       [0, 0, 0, 0]])"
            ]
          },
          "metadata": {},
          "execution_count": 65
        }
      ]
    },
    {
      "cell_type": "code",
      "source": [
        "A"
      ],
      "metadata": {
        "colab": {
          "base_uri": "https://localhost:8080/"
        },
        "id": "GLLMlazC__cl",
        "outputId": "93358d86-48e4-4914-fb8b-f039d076557b"
      },
      "execution_count": 66,
      "outputs": [
        {
          "output_type": "execute_result",
          "data": {
            "text/plain": [
              "array([[0, 0, 0, 0],\n",
              "       [4, 5, 6, 7],\n",
              "       [0, 0, 0, 0]])"
            ]
          },
          "metadata": {},
          "execution_count": 66
        }
      ]
    },
    {
      "cell_type": "markdown",
      "source": [
        "파이썬은 변경 가능한 객체를 참조로 전달하므로 함수 호출은 복사본을 만들지 않는다."
      ],
      "metadata": {
        "id": "6_fggcrFH0Rx"
      }
    },
    {
      "cell_type": "code",
      "source": [
        "def f(x):\n",
        "    print(id(x))"
      ],
      "metadata": {
        "id": "v3XwJpRZH6AW"
      },
      "execution_count": 67,
      "outputs": []
    },
    {
      "cell_type": "code",
      "source": [
        "id(A)"
      ],
      "metadata": {
        "colab": {
          "base_uri": "https://localhost:8080/"
        },
        "id": "bDf1fXL9H9vE",
        "outputId": "720cd1db-a900-4d86-dabd-b685f2e4ccc0"
      },
      "execution_count": 68,
      "outputs": [
        {
          "output_type": "execute_result",
          "data": {
            "text/plain": [
              "132728286492208"
            ]
          },
          "metadata": {},
          "execution_count": 68
        }
      ]
    },
    {
      "cell_type": "code",
      "source": [
        "f(A)"
      ],
      "metadata": {
        "colab": {
          "base_uri": "https://localhost:8080/"
        },
        "id": "dSfI6WZDH-qW",
        "outputId": "8d3aaacc-0af9-473a-a052-864ffc522394"
      },
      "execution_count": 69,
      "outputs": [
        {
          "output_type": "stream",
          "name": "stdout",
          "text": [
            "132728286492208\n"
          ]
        }
      ]
    },
    {
      "cell_type": "code",
      "source": [
        "L = [1,2,3]"
      ],
      "metadata": {
        "id": "SgUGGKFIIAm3"
      },
      "execution_count": 71,
      "outputs": []
    },
    {
      "cell_type": "code",
      "source": [
        "def func(data=None):\n",
        "    data.append(4)"
      ],
      "metadata": {
        "id": "90zqDWhTIKO8"
      },
      "execution_count": 73,
      "outputs": []
    },
    {
      "cell_type": "code",
      "source": [
        "func(data=L)\n",
        "L"
      ],
      "metadata": {
        "colab": {
          "base_uri": "https://localhost:8080/"
        },
        "id": "Ha7d7f7SIQNR",
        "outputId": "53d1bd50-58ae-465d-acf9-078c36532af8"
      },
      "execution_count": 74,
      "outputs": [
        {
          "output_type": "execute_result",
          "data": {
            "text/plain": [
              "[1, 2, 3, 4]"
            ]
          },
          "metadata": {},
          "execution_count": 74
        }
      ]
    },
    {
      "cell_type": "markdown",
      "source": [
        "## 얕은 복사 뷰(view)"
      ],
      "metadata": {
        "id": "dSOrPm6jIizI"
      }
    },
    {
      "cell_type": "code",
      "source": [
        "C = A.view()\n",
        "C is A"
      ],
      "metadata": {
        "colab": {
          "base_uri": "https://localhost:8080/"
        },
        "id": "RurXT0s5IS30",
        "outputId": "792613f4-ab99-49ea-867f-586b940ea3aa"
      },
      "execution_count": 77,
      "outputs": [
        {
          "output_type": "execute_result",
          "data": {
            "text/plain": [
              "False"
            ]
          },
          "metadata": {},
          "execution_count": 77
        }
      ]
    },
    {
      "cell_type": "code",
      "source": [
        "C.flags.owndata"
      ],
      "metadata": {
        "colab": {
          "base_uri": "https://localhost:8080/"
        },
        "id": "PtWiGqgTIrC4",
        "outputId": "b88fec47-84eb-41e0-c928-7b69ae05918b"
      },
      "execution_count": 78,
      "outputs": [
        {
          "output_type": "execute_result",
          "data": {
            "text/plain": [
              "False"
            ]
          },
          "metadata": {},
          "execution_count": 78
        }
      ]
    },
    {
      "cell_type": "code",
      "source": [
        "C.base is A"
      ],
      "metadata": {
        "colab": {
          "base_uri": "https://localhost:8080/"
        },
        "id": "oEr-Vkv4IpJH",
        "outputId": "acd51764-00c6-4a27-b68d-b07d29e4d6db"
      },
      "execution_count": 79,
      "outputs": [
        {
          "output_type": "execute_result",
          "data": {
            "text/plain": [
              "True"
            ]
          },
          "metadata": {},
          "execution_count": 79
        }
      ]
    },
    {
      "cell_type": "markdown",
      "source": [
        "C에 A를 얕은 복사하면, 객체의 모양을 바꿀때\\\n",
        "C의 모양은 바뀌지만, A의 모양은 바뀌지 않음"
      ],
      "metadata": {
        "id": "nCjXxqGJJAgU"
      }
    },
    {
      "cell_type": "code",
      "source": [
        "C.shape = (2,6) # C의 모양은 바뀌지만, A의 모양은 변하지 않음\n",
        "A.shape, C.shape"
      ],
      "metadata": {
        "colab": {
          "base_uri": "https://localhost:8080/"
        },
        "id": "muESXXCbIv-D",
        "outputId": "ba275727-07e9-4adf-ba2e-664f7ebba606"
      },
      "execution_count": 81,
      "outputs": [
        {
          "output_type": "execute_result",
          "data": {
            "text/plain": [
              "((3, 4), (2, 6))"
            ]
          },
          "metadata": {},
          "execution_count": 81
        }
      ]
    },
    {
      "cell_type": "markdown",
      "source": [
        "C에 A를 얕은 복사하면, 객체의 Data를 수정할 때\\\n",
        "A의 값이 수정되면, 뷰에 의한 복사이므로 C도 바뀜"
      ],
      "metadata": {
        "id": "tCdXLTLkJWt_"
      }
    },
    {
      "cell_type": "code",
      "source": [
        "A[0, :] = [1,2,3,4]\n",
        "A"
      ],
      "metadata": {
        "colab": {
          "base_uri": "https://localhost:8080/"
        },
        "id": "-vlvnaWVI8jl",
        "outputId": "69dafb48-44b1-49d6-a84a-dc82e75f6661"
      },
      "execution_count": 82,
      "outputs": [
        {
          "output_type": "execute_result",
          "data": {
            "text/plain": [
              "array([[1, 2, 3, 4],\n",
              "       [4, 5, 6, 7],\n",
              "       [0, 0, 0, 0]])"
            ]
          },
          "metadata": {},
          "execution_count": 82
        }
      ]
    },
    {
      "cell_type": "code",
      "source": [
        "C"
      ],
      "metadata": {
        "colab": {
          "base_uri": "https://localhost:8080/"
        },
        "id": "kiDok_bUJS2h",
        "outputId": "be0799d5-26a9-4926-8f3b-6e995cfa20d0"
      },
      "execution_count": 83,
      "outputs": [
        {
          "output_type": "execute_result",
          "data": {
            "text/plain": [
              "array([[1, 2, 3, 4, 4, 5],\n",
              "       [6, 7, 0, 0, 0, 0]])"
            ]
          },
          "metadata": {},
          "execution_count": 83
        }
      ]
    },
    {
      "cell_type": "markdown",
      "source": [
        "C에 A를 얕은 복사하면, 객체의 Data를 수정할 때\\\n",
        "C의 값이 수정되면, 뷰에 의한 복사이므로 A도 바뀜"
      ],
      "metadata": {
        "id": "OIlYs_0jJ4-L"
      }
    },
    {
      "cell_type": "code",
      "source": [
        "C[1, 2:] = [6,7,8,9]\n",
        "C"
      ],
      "metadata": {
        "colab": {
          "base_uri": "https://localhost:8080/"
        },
        "id": "gsDkjTuhIyFJ",
        "outputId": "994d2192-1784-4727-ccaf-05c1cc4fedc8"
      },
      "execution_count": 84,
      "outputs": [
        {
          "output_type": "execute_result",
          "data": {
            "text/plain": [
              "array([[1, 2, 3, 4, 4, 5],\n",
              "       [6, 7, 6, 7, 8, 9]])"
            ]
          },
          "metadata": {},
          "execution_count": 84
        }
      ]
    },
    {
      "cell_type": "code",
      "source": [
        "A"
      ],
      "metadata": {
        "colab": {
          "base_uri": "https://localhost:8080/"
        },
        "id": "0YrHgOUHJ0FT",
        "outputId": "6a170dfb-d3c5-4760-e5e9-841197c0be4d"
      },
      "execution_count": 85,
      "outputs": [
        {
          "output_type": "execute_result",
          "data": {
            "text/plain": [
              "array([[1, 2, 3, 4],\n",
              "       [4, 5, 6, 7],\n",
              "       [6, 7, 8, 9]])"
            ]
          },
          "metadata": {},
          "execution_count": 85
        }
      ]
    },
    {
      "cell_type": "markdown",
      "source": [
        "슬라이싱[::]으로 배열을 자르면 view가 return된다."
      ],
      "metadata": {
        "id": "qlgU01YDKzcl"
      }
    },
    {
      "cell_type": "code",
      "source": [
        "A = np.arange(12).reshape(3,4)\n",
        "A"
      ],
      "metadata": {
        "colab": {
          "base_uri": "https://localhost:8080/"
        },
        "id": "gpMyNgLiKxr9",
        "outputId": "59e1b8d3-c298-461a-b066-7328169361b1"
      },
      "execution_count": 86,
      "outputs": [
        {
          "output_type": "execute_result",
          "data": {
            "text/plain": [
              "array([[ 0,  1,  2,  3],\n",
              "       [ 4,  5,  6,  7],\n",
              "       [ 8,  9, 10, 11]])"
            ]
          },
          "metadata": {},
          "execution_count": 86
        }
      ]
    },
    {
      "cell_type": "markdown",
      "source": [
        "A의 (행 전체, 열은 1번 인덱스부터 2번 인덱스까지 잘라서)\\\n",
        "S에 할당한다"
      ],
      "metadata": {
        "id": "FfpgTfx8MYcr"
      }
    },
    {
      "cell_type": "code",
      "source": [
        "S = A[:, 1:3]\n",
        "S"
      ],
      "metadata": {
        "colab": {
          "base_uri": "https://localhost:8080/"
        },
        "id": "eUoNigpzLAdS",
        "outputId": "bb8bb373-7ca6-4a80-de7b-7c8d9e0a5d8a"
      },
      "execution_count": 87,
      "outputs": [
        {
          "output_type": "execute_result",
          "data": {
            "text/plain": [
              "array([[ 1,  2],\n",
              "       [ 5,  6],\n",
              "       [ 9, 10]])"
            ]
          },
          "metadata": {},
          "execution_count": 87
        }
      ]
    },
    {
      "cell_type": "markdown",
      "source": [
        "S의 (행 전체, 열 1번인덱스)의 값을 10으로 수정한다."
      ],
      "metadata": {
        "id": "MmuKMrVPMky_"
      }
    },
    {
      "cell_type": "code",
      "source": [
        "S[:, 1] = 10\n",
        "S"
      ],
      "metadata": {
        "colab": {
          "base_uri": "https://localhost:8080/"
        },
        "id": "76G1nGm4LE2R",
        "outputId": "0d6e6f42-c89d-425d-bd19-87391ede4696"
      },
      "execution_count": 88,
      "outputs": [
        {
          "output_type": "execute_result",
          "data": {
            "text/plain": [
              "array([[ 1, 10],\n",
              "       [ 5, 10],\n",
              "       [ 9, 10]])"
            ]
          },
          "metadata": {},
          "execution_count": 88
        }
      ]
    },
    {
      "cell_type": "code",
      "source": [
        "A"
      ],
      "metadata": {
        "colab": {
          "base_uri": "https://localhost:8080/"
        },
        "id": "WmN6YSVILIFZ",
        "outputId": "ef813212-918c-496e-9a60-695e123f7b73"
      },
      "execution_count": 90,
      "outputs": [
        {
          "output_type": "execute_result",
          "data": {
            "text/plain": [
              "array([[ 0,  1, 10,  3],\n",
              "       [ 4,  5, 10,  7],\n",
              "       [ 8,  9, 10, 11]])"
            ]
          },
          "metadata": {},
          "execution_count": 90
        }
      ]
    },
    {
      "cell_type": "markdown",
      "source": [
        "## 깊은 복사 카피(copy)"
      ],
      "metadata": {
        "id": "xHbP2TacM5SL"
      }
    },
    {
      "cell_type": "markdown",
      "source": [
        "copy()는 배열 및 해당 Data의 전체 복사본을 만듬"
      ],
      "metadata": {
        "id": "cqb4EGhGNK60"
      }
    },
    {
      "cell_type": "code",
      "source": [
        "A = np.arange(12).reshape(3,4)\n",
        "A"
      ],
      "metadata": {
        "colab": {
          "base_uri": "https://localhost:8080/"
        },
        "id": "bmSzp3-FM8vY",
        "outputId": "65fbb428-284f-4677-af82-a2ed947aeba2"
      },
      "execution_count": 91,
      "outputs": [
        {
          "output_type": "execute_result",
          "data": {
            "text/plain": [
              "array([[ 0,  1,  2,  3],\n",
              "       [ 4,  5,  6,  7],\n",
              "       [ 8,  9, 10, 11]])"
            ]
          },
          "metadata": {},
          "execution_count": 91
        }
      ]
    },
    {
      "cell_type": "markdown",
      "source": [
        "copy()에 의한 return값을 받는 객체는 새로운 배열 객체의 주소를 받음"
      ],
      "metadata": {
        "id": "fr0BOKYUO0Hg"
      }
    },
    {
      "cell_type": "code",
      "source": [
        "D = A.copy()\n",
        "D is A"
      ],
      "metadata": {
        "colab": {
          "base_uri": "https://localhost:8080/"
        },
        "id": "vihYZ3lZM3mV",
        "outputId": "0c230b8b-2b4d-4b83-f6da-900d35863440"
      },
      "execution_count": 92,
      "outputs": [
        {
          "output_type": "execute_result",
          "data": {
            "text/plain": [
              "False"
            ]
          },
          "metadata": {},
          "execution_count": 92
        }
      ]
    },
    {
      "cell_type": "markdown",
      "source": [
        "D와 A는 어느것도 공유하지 않음"
      ],
      "metadata": {
        "id": "SN2akLPAO_EM"
      }
    },
    {
      "cell_type": "code",
      "source": [
        "D.base is A"
      ],
      "metadata": {
        "colab": {
          "base_uri": "https://localhost:8080/"
        },
        "id": "DSdWNoaKNF8t",
        "outputId": "0343d482-1447-4687-db35-53bc9b6a1bcf"
      },
      "execution_count": 93,
      "outputs": [
        {
          "output_type": "execute_result",
          "data": {
            "text/plain": [
              "False"
            ]
          },
          "metadata": {},
          "execution_count": 93
        }
      ]
    },
    {
      "cell_type": "markdown",
      "source": [
        "copy()로 return 받은 객체는 변경해도 원본 객체에 영향을 주지 않음"
      ],
      "metadata": {
        "id": "P_D0w0r2PFfV"
      }
    },
    {
      "cell_type": "code",
      "source": [
        "D[0, :] = [10, 20, 30, 40]\n",
        "D"
      ],
      "metadata": {
        "colab": {
          "base_uri": "https://localhost:8080/"
        },
        "id": "FJLP3TTYPMAI",
        "outputId": "19af2854-6fb6-4689-b485-0723611aaf1f"
      },
      "execution_count": 94,
      "outputs": [
        {
          "output_type": "execute_result",
          "data": {
            "text/plain": [
              "array([[10, 20, 30, 40],\n",
              "       [ 4,  5,  6,  7],\n",
              "       [ 8,  9, 10, 11]])"
            ]
          },
          "metadata": {},
          "execution_count": 94
        }
      ]
    },
    {
      "cell_type": "code",
      "source": [
        "A"
      ],
      "metadata": {
        "colab": {
          "base_uri": "https://localhost:8080/"
        },
        "id": "WTjvONGyPPJ0",
        "outputId": "ed66b4aa-0bbe-4d02-c01c-1a82547853a9"
      },
      "execution_count": 95,
      "outputs": [
        {
          "output_type": "execute_result",
          "data": {
            "text/plain": [
              "array([[ 0,  1,  2,  3],\n",
              "       [ 4,  5,  6,  7],\n",
              "       [ 8,  9, 10, 11]])"
            ]
          },
          "metadata": {},
          "execution_count": 95
        }
      ]
    },
    {
      "cell_type": "markdown",
      "source": [
        "# 고급 인덱싱"
      ],
      "metadata": {
        "id": "3nqvYbM67I2A"
      }
    },
    {
      "cell_type": "markdown",
      "source": [
        "## 인덱스 배열로 인덱싱"
      ],
      "metadata": {
        "id": "eS737DxQTbtQ"
      }
    },
    {
      "cell_type": "code",
      "source": [
        "A = np.arange(12)**2\n",
        "A"
      ],
      "metadata": {
        "colab": {
          "base_uri": "https://localhost:8080/"
        },
        "id": "1rxgcUA0Te3a",
        "outputId": "c4d26aad-8d0d-48ac-e608-436922f2480b"
      },
      "execution_count": 107,
      "outputs": [
        {
          "output_type": "execute_result",
          "data": {
            "text/plain": [
              "array([  0,   1,   4,   9,  16,  25,  36,  49,  64,  81, 100, 121])"
            ]
          },
          "metadata": {},
          "execution_count": 107
        }
      ]
    },
    {
      "cell_type": "code",
      "source": [
        "i = np.array([1,1,3,8,5])\n",
        "A[i]"
      ],
      "metadata": {
        "colab": {
          "base_uri": "https://localhost:8080/"
        },
        "id": "EsE3keVuTiHe",
        "outputId": "2d993f4a-aa7c-4167-f8de-02c999b5e1a2"
      },
      "execution_count": 106,
      "outputs": [
        {
          "output_type": "execute_result",
          "data": {
            "text/plain": [
              "array([ 1,  1,  9, 64, 25])"
            ]
          },
          "metadata": {},
          "execution_count": 106
        }
      ]
    },
    {
      "cell_type": "code",
      "source": [
        "j = np.array([[3,4],[9,7]])\n",
        "A[j]"
      ],
      "metadata": {
        "colab": {
          "base_uri": "https://localhost:8080/"
        },
        "id": "k9Uuxv5PTvLr",
        "outputId": "3949f4bc-a386-4e80-9276-27f4c0e80dba"
      },
      "execution_count": 109,
      "outputs": [
        {
          "output_type": "execute_result",
          "data": {
            "text/plain": [
              "array([[ 9, 16],\n",
              "       [81, 49]])"
            ]
          },
          "metadata": {},
          "execution_count": 109
        }
      ]
    },
    {
      "cell_type": "code",
      "source": [
        "palette = np.array([[0,0,0], # black\n",
        "                    [255,0,0], # red\n",
        "                    [0,255,0], # green\n",
        "                    [0,0,255], # blue\n",
        "                    [255,255,255]], # white\n",
        "                   dtype=np.uint8) # Unsigned int 형으로 타입을 지정함"
      ],
      "metadata": {
        "id": "xNIJASn0UEA9"
      },
      "execution_count": 110,
      "outputs": []
    },
    {
      "cell_type": "code",
      "source": [
        "image_index = np.array([[4,4,4,0,0,0,0,4,4,4],\n",
        "                        [4,0,0,4,4,4,4,0,0,4],\n",
        "                        [0,0,4,4,4,4,4,4,0,0],\n",
        "                        [0,4,4,1,4,4,3,4,4,0],\n",
        "                        [0,4,4,1,4,4,3,4,4,0],\n",
        "                        [0,4,4,4,4,4,4,4,4,0],\n",
        "                        [0,4,4,2,4,4,2,4,4,0],\n",
        "                        [4,0,4,4,2,2,4,4,0,4],\n",
        "                        [4,4,0,4,4,4,4,0,4,4],\n",
        "                        [4,4,4,0,0,0,0,4,4,4]])"
      ],
      "metadata": {
        "id": "0tRWVeInUe22"
      },
      "execution_count": 112,
      "outputs": []
    },
    {
      "cell_type": "markdown",
      "source": [
        "image_index에 palette에서 사용할 색상값에 대한 idx를 저장함"
      ],
      "metadata": {
        "id": "LznZjaSPVbXg"
      }
    },
    {
      "cell_type": "code",
      "source": [
        "image_data = palette[image_index]"
      ],
      "metadata": {
        "id": "wF-nM0ojVL4B"
      },
      "execution_count": 113,
      "outputs": []
    },
    {
      "cell_type": "code",
      "source": [
        "import matplotlib.pyplot as plt\n",
        "plt.imshow(image_data, interpolation='nearest')\n",
        "plt.show()"
      ],
      "metadata": {
        "colab": {
          "base_uri": "https://localhost:8080/",
          "height": 430
        },
        "id": "dkr6wWG6VPXy",
        "outputId": "adbcc887-e9db-452b-dc82-667ced50cf32"
      },
      "execution_count": 114,
      "outputs": [
        {
          "output_type": "display_data",
          "data": {
            "text/plain": [
              "<Figure size 640x480 with 1 Axes>"
            ],
            "image/png": "[encoded data removed]"
          },
          "metadata": {}
        }
      ]
    },
    {
      "cell_type": "markdown",
      "source": [
        "## 다차원 인덱싱"
      ],
      "metadata": {
        "id": "0VTveqiVV2NU"
      }
    },
    {
      "cell_type": "code",
      "source": [
        "A = np.arange(12)**2"
      ],
      "metadata": {
        "id": "ZxE8ts76z2Kb"
      },
      "execution_count": 96,
      "outputs": []
    },
    {
      "cell_type": "code",
      "source": [
        "print(A)"
      ],
      "metadata": {
        "colab": {
          "base_uri": "https://localhost:8080/"
        },
        "id": "_27KKSdpz5sw",
        "outputId": "512a380c-9b27-4bf6-e433-bc9ee2c0c646"
      },
      "execution_count": 97,
      "outputs": [
        {
          "output_type": "stream",
          "name": "stdout",
          "text": [
            "[  0   1   4   9  16  25  36  49  64  81 100 121]\n"
          ]
        }
      ]
    },
    {
      "cell_type": "markdown",
      "source": [
        "1차원 배열엔 두개의 인덱스 참조가 되지 않는다."
      ],
      "metadata": {
        "id": "mdrV9jJmPh56"
      }
    },
    {
      "cell_type": "code",
      "source": [
        "A[2,3] # 1차원 배열엔 두개의 인덱스 참조가 되지 않는다."
      ],
      "metadata": {
        "colab": {
          "base_uri": "https://localhost:8080/",
          "height": 147
        },
        "id": "xdyHw2INz7P8",
        "outputId": "efc515e3-7163-4162-b062-ab243f30e458"
      },
      "execution_count": 98,
      "outputs": [
        {
          "output_type": "error",
          "ename": "IndexError",
          "evalue": "too many indices for array: array is 1-dimensional, but 2 were indexed",
          "traceback": [
            "\u001b[0;31m---------------------------------------------------------------------------\u001b[0m",
            "\u001b[0;31mIndexError\u001b[0m                                Traceback (most recent call last)",
            "\u001b[0;32m<ipython-input-98-357853c6d836>\u001b[0m in \u001b[0;36m<cell line: 1>\u001b[0;34m()\u001b[0m\n\u001b[0;32m----> 1\u001b[0;31m \u001b[0mA\u001b[0m\u001b[0;34m[\u001b[0m\u001b[0;36m2\u001b[0m\u001b[0;34m,\u001b[0m\u001b[0;36m3\u001b[0m\u001b[0;34m]\u001b[0m \u001b[0;31m# 1차원 배열엔 두개의 인덱스 참조가 되지 않는다.\u001b[0m\u001b[0;34m\u001b[0m\u001b[0;34m\u001b[0m\u001b[0m\n\u001b[0m",
            "\u001b[0;31mIndexError\u001b[0m: too many indices for array: array is 1-dimensional, but 2 were indexed"
          ]
        }
      ]
    },
    {
      "cell_type": "markdown",
      "source": [
        "튜플 형태로 하나의 인자로 만들어도 안됨."
      ],
      "metadata": {
        "id": "0Asn6cM3PkoB"
      }
    },
    {
      "cell_type": "code",
      "source": [
        "A[(2,3)] # 튜플 형태로 하나의 인자로 만들어도 안됨."
      ],
      "metadata": {
        "colab": {
          "base_uri": "https://localhost:8080/",
          "height": 147
        },
        "id": "XZb95fAn0GBy",
        "outputId": "17fc676b-0794-4ec0-cd9a-3b2c140917d8"
      },
      "execution_count": 99,
      "outputs": [
        {
          "output_type": "error",
          "ename": "IndexError",
          "evalue": "too many indices for array: array is 1-dimensional, but 2 were indexed",
          "traceback": [
            "\u001b[0;31m---------------------------------------------------------------------------\u001b[0m",
            "\u001b[0;31mIndexError\u001b[0m                                Traceback (most recent call last)",
            "\u001b[0;32m<ipython-input-99-c4906ce27467>\u001b[0m in \u001b[0;36m<cell line: 1>\u001b[0;34m()\u001b[0m\n\u001b[0;32m----> 1\u001b[0;31m \u001b[0mA\u001b[0m\u001b[0;34m[\u001b[0m\u001b[0;34m(\u001b[0m\u001b[0;36m2\u001b[0m\u001b[0;34m,\u001b[0m\u001b[0;36m3\u001b[0m\u001b[0;34m)\u001b[0m\u001b[0;34m]\u001b[0m \u001b[0;31m# 튜플 형태로 하나의 인자로 만들어도 안됨.\u001b[0m\u001b[0;34m\u001b[0m\u001b[0;34m\u001b[0m\u001b[0m\n\u001b[0m",
            "\u001b[0;31mIndexError\u001b[0m: too many indices for array: array is 1-dimensional, but 2 were indexed"
          ]
        }
      ]
    },
    {
      "cell_type": "markdown",
      "source": [
        "배열의 형태로 만들어서 인덱싱할 수 있다."
      ],
      "metadata": {
        "id": "VLr0XzV5PnUk"
      }
    },
    {
      "cell_type": "code",
      "source": [
        "idx = np.array([1,3,2])"
      ],
      "metadata": {
        "id": "tDe48A2l0K07"
      },
      "execution_count": 100,
      "outputs": []
    },
    {
      "cell_type": "markdown",
      "source": [
        "배열의 인덱스를 배열로 참조함"
      ],
      "metadata": {
        "id": "foVJ5SlTP1qS"
      }
    },
    {
      "cell_type": "code",
      "source": [
        "A[idx] # 배열의 인덱스를 배열로 참조함"
      ],
      "metadata": {
        "colab": {
          "base_uri": "https://localhost:8080/"
        },
        "id": "mrSLhPXC0UOU",
        "outputId": "4a11771f-8b08-4756-af84-af12fb8387db"
      },
      "execution_count": 102,
      "outputs": [
        {
          "output_type": "execute_result",
          "data": {
            "text/plain": [
              "array([1, 9, 4])"
            ]
          },
          "metadata": {},
          "execution_count": 102
        }
      ]
    },
    {
      "cell_type": "code",
      "source": [
        "A[[0,6,4]]"
      ],
      "metadata": {
        "colab": {
          "base_uri": "https://localhost:8080/"
        },
        "id": "5n9iH7xYP24-",
        "outputId": "fefd6188-cbe6-4f61-8cd0-2951755075d2"
      },
      "execution_count": 103,
      "outputs": [
        {
          "output_type": "execute_result",
          "data": {
            "text/plain": [
              "array([ 0, 36, 16])"
            ]
          },
          "metadata": {},
          "execution_count": 103
        }
      ]
    },
    {
      "cell_type": "markdown",
      "source": [
        "2차원 배열의 형태로 참조하면,\\\n",
        "결과도 2차원 배열 형태로 나옴."
      ],
      "metadata": {
        "id": "K0iH0KfaP9Qv"
      }
    },
    {
      "cell_type": "code",
      "source": [
        "idx_2d = np.array([[1,3,2],[4,6,2]])"
      ],
      "metadata": {
        "id": "f0e0cp1M0Yve"
      },
      "execution_count": 11,
      "outputs": []
    },
    {
      "cell_type": "code",
      "source": [
        "A[idx_2d] # 2차원 배열로 인덱스 참조하면, 결과도 2차원 배열 형태로 나옴"
      ],
      "metadata": {
        "colab": {
          "base_uri": "https://localhost:8080/"
        },
        "id": "9x9rnqbO0wCn",
        "outputId": "03c265e4-06fa-4304-bc6a-1aff46d069c3"
      },
      "execution_count": 12,
      "outputs": [
        {
          "output_type": "execute_result",
          "data": {
            "text/plain": [
              "array([[ 1,  9,  4],\n",
              "       [16, 36,  4]])"
            ]
          },
          "metadata": {},
          "execution_count": 12
        }
      ]
    },
    {
      "cell_type": "code",
      "source": [
        "A = np.arange(12).reshape(3,4)\n",
        "print(A)"
      ],
      "metadata": {
        "colab": {
          "base_uri": "https://localhost:8080/"
        },
        "id": "c1VmhGFN04rb",
        "outputId": "5f08cab8-ba8f-4709-c0a5-a00bc6b0990a"
      },
      "execution_count": 13,
      "outputs": [
        {
          "output_type": "stream",
          "name": "stdout",
          "text": [
            "[[ 0  1  2  3]\n",
            " [ 4  5  6  7]\n",
            " [ 8  9 10 11]]\n"
          ]
        }
      ]
    },
    {
      "cell_type": "markdown",
      "source": [
        "A의 [[0행과 1행], [1행과 2행]] 을 가져옴"
      ],
      "metadata": {
        "id": "y20El-0bRuLf"
      }
    },
    {
      "cell_type": "code",
      "source": [
        "A[[[0,1],[1,2]]]"
      ],
      "metadata": {
        "colab": {
          "base_uri": "https://localhost:8080/"
        },
        "id": "T_84zaVE2-JR",
        "outputId": "dcb3ca87-36d8-4efc-8193-30435669c048"
      },
      "execution_count": 14,
      "outputs": [
        {
          "output_type": "execute_result",
          "data": {
            "text/plain": [
              "array([[[ 0,  1,  2,  3],\n",
              "        [ 4,  5,  6,  7]],\n",
              "\n",
              "       [[ 4,  5,  6,  7],\n",
              "        [ 8,  9, 10, 11]]])"
            ]
          },
          "metadata": {},
          "execution_count": 14
        }
      ]
    },
    {
      "cell_type": "markdown",
      "source": [
        "A의 [[[0행과 1행], [1행과 2행]],[[2열과 1열], [3열과 3열]]] 을 가져옴\\\n",
        "[(0,2), (1,1)\\\n",
        " (1,3), (2,3)]"
      ],
      "metadata": {
        "id": "GliuLxAER7U6"
      }
    },
    {
      "cell_type": "code",
      "source": [
        "A[[[0,1],[1,2]],[[2,1],[3,3]]]"
      ],
      "metadata": {
        "colab": {
          "base_uri": "https://localhost:8080/"
        },
        "id": "NSB_4Jsw3Eg3",
        "outputId": "5410cc63-d1fd-4faa-9647-608191bf423f"
      },
      "execution_count": 16,
      "outputs": [
        {
          "output_type": "execute_result",
          "data": {
            "text/plain": [
              "array([[ 2,  5],\n",
              "       [ 7, 11]])"
            ]
          },
          "metadata": {},
          "execution_count": 16
        }
      ]
    },
    {
      "cell_type": "code",
      "source": [
        "A = np.array([2,3,4])\n",
        "B = np.array([5,6])"
      ],
      "metadata": {
        "id": "bI2NYX-c3-Ur"
      },
      "execution_count": 20,
      "outputs": []
    },
    {
      "cell_type": "code",
      "source": [
        "np.ix_(A,B)"
      ],
      "metadata": {
        "colab": {
          "base_uri": "https://localhost:8080/"
        },
        "id": "DhMvuTZX5oJt",
        "outputId": "9fe80de2-e7da-429f-a8c7-d8e13a264f34"
      },
      "execution_count": 21,
      "outputs": [
        {
          "output_type": "execute_result",
          "data": {
            "text/plain": [
              "(array([[2],\n",
              "        [3],\n",
              "        [4]]),\n",
              " array([[5, 6]]))"
            ]
          },
          "metadata": {},
          "execution_count": 21
        }
      ]
    },
    {
      "cell_type": "code",
      "source": [
        "A1, B1 = np.ix_(A,B)"
      ],
      "metadata": {
        "id": "kY1iDH8h5pd8"
      },
      "execution_count": 22,
      "outputs": []
    },
    {
      "cell_type": "code",
      "source": [
        "print(A1)\n",
        "print(B1)"
      ],
      "metadata": {
        "colab": {
          "base_uri": "https://localhost:8080/"
        },
        "id": "eVVlw8I85wi5",
        "outputId": "8a3c9e3d-9717-4da1-cfa4-203a10c72295"
      },
      "execution_count": 23,
      "outputs": [
        {
          "output_type": "stream",
          "name": "stdout",
          "text": [
            "[[2]\n",
            " [3]\n",
            " [4]]\n",
            "[[5 6]]\n"
          ]
        }
      ]
    },
    {
      "cell_type": "code",
      "source": [
        "A + B"
      ],
      "metadata": {
        "colab": {
          "base_uri": "https://localhost:8080/",
          "height": 147
        },
        "id": "JkYNKAcJ5yoT",
        "outputId": "0e2b6d33-0221-427c-fa90-a77068f38da1"
      },
      "execution_count": 24,
      "outputs": [
        {
          "output_type": "error",
          "ename": "ValueError",
          "evalue": "operands could not be broadcast together with shapes (3,) (2,) ",
          "traceback": [
            "\u001b[0;31m---------------------------------------------------------------------------\u001b[0m",
            "\u001b[0;31mValueError\u001b[0m                                Traceback (most recent call last)",
            "\u001b[0;32m<ipython-input-24-151064de832d>\u001b[0m in \u001b[0;36m<cell line: 1>\u001b[0;34m()\u001b[0m\n\u001b[0;32m----> 1\u001b[0;31m \u001b[0mA\u001b[0m \u001b[0;34m+\u001b[0m \u001b[0mB\u001b[0m\u001b[0;34m\u001b[0m\u001b[0;34m\u001b[0m\u001b[0m\n\u001b[0m",
            "\u001b[0;31mValueError\u001b[0m: operands could not be broadcast together with shapes (3,) (2,) "
          ]
        }
      ]
    },
    {
      "cell_type": "code",
      "source": [
        "A1 + B1"
      ],
      "metadata": {
        "colab": {
          "base_uri": "https://localhost:8080/"
        },
        "id": "5Acro7QJ50Mg",
        "outputId": "7cbf44be-94a2-4128-ae39-260c9bf0a2f9"
      },
      "execution_count": 25,
      "outputs": [
        {
          "output_type": "execute_result",
          "data": {
            "text/plain": [
              "array([[ 7,  8],\n",
              "       [ 8,  9],\n",
              "       [ 9, 10]])"
            ]
          },
          "metadata": {},
          "execution_count": 25
        }
      ]
    },
    {
      "cell_type": "code",
      "source": [
        "A2 = A[:, np.newaxis] #np.ix_(A)와 같다.\n",
        "print(A2)"
      ],
      "metadata": {
        "colab": {
          "base_uri": "https://localhost:8080/"
        },
        "id": "0-g6eOtq52-E",
        "outputId": "f416eb3e-cc37-4ae3-8936-8c381894c66c"
      },
      "execution_count": 27,
      "outputs": [
        {
          "output_type": "stream",
          "name": "stdout",
          "text": [
            "[[2]\n",
            " [3]\n",
            " [4]]\n"
          ]
        }
      ]
    },
    {
      "cell_type": "code",
      "source": [
        "B2 = B[np.newaxis,:] #np.ix_(B)와 같다.\n",
        "print(B2)"
      ],
      "metadata": {
        "colab": {
          "base_uri": "https://localhost:8080/"
        },
        "id": "gfg5MU946D1X",
        "outputId": "03054687-7dd2-449b-9e61-786018abe9cc"
      },
      "execution_count": 30,
      "outputs": [
        {
          "output_type": "stream",
          "name": "stdout",
          "text": [
            "[[5 6]]\n"
          ]
        }
      ]
    },
    {
      "cell_type": "code",
      "source": [
        "A2 + B2"
      ],
      "metadata": {
        "colab": {
          "base_uri": "https://localhost:8080/"
        },
        "id": "uFg6DT4l6RBY",
        "outputId": "f8f6b3ca-d44f-459f-879f-a15d0a5fed7a"
      },
      "execution_count": 32,
      "outputs": [
        {
          "output_type": "execute_result",
          "data": {
            "text/plain": [
              "array([[ 7,  8],\n",
              "       [ 8,  9],\n",
              "       [ 9, 10]])"
            ]
          },
          "metadata": {},
          "execution_count": 32
        }
      ]
    },
    {
      "cell_type": "code",
      "source": [
        "A = np.array([2,3,4,5])\n",
        "B = np.array([8,5,4])\n",
        "C = np.array([5,4,6,8,3])"
      ],
      "metadata": {
        "id": "iPgnoGyWAeUy"
      },
      "execution_count": 36,
      "outputs": []
    },
    {
      "cell_type": "code",
      "source": [
        "AX, BX, CX = np.ix_(A,B,C)\n",
        "ax = A[:, np.newaxis, np.newaxis]\n",
        "bx = B[np.newaxis, :, np.newaxis]\n",
        "cx = C[np.newaxis, np.newaxis, :]"
      ],
      "metadata": {
        "id": "SkAj21XG6YEs"
      },
      "execution_count": 37,
      "outputs": []
    },
    {
      "cell_type": "markdown",
      "source": [
        "# 선형대수학"
      ],
      "metadata": {
        "id": "i8JraBMJD1qs"
      }
    },
    {
      "cell_type": "code",
      "source": [
        "X = [32, 64, 96, 118, 126, 144, 152, 158]\n",
        "Y = [17, 24, 62, 49, 52, 105, 130, 125]"
      ],
      "metadata": {
        "id": "ycGdelWyAmUV"
      },
      "execution_count": 52,
      "outputs": []
    },
    {
      "cell_type": "code",
      "source": [
        "import matplotlib.pyplot as plt\n",
        "plt.scatter(X, Y)"
      ],
      "metadata": {
        "colab": {
          "base_uri": "https://localhost:8080/",
          "height": 448
        },
        "id": "DpPPYpbsAon1",
        "outputId": "cf501ee4-f04f-4bbb-9b98-92b060e02729"
      },
      "execution_count": 53,
      "outputs": [
        {
          "output_type": "execute_result",
          "data": {
            "text/plain": [
              "<matplotlib.collections.PathCollection at 0x78b736891330>"
            ]
          },
          "metadata": {},
          "execution_count": 53
        },
        {
          "output_type": "display_data",
          "data": {
            "text/plain": [
              "<Figure size 640x480 with 1 Axes>"
            ],
            "image/png": "[encoded data removed]"
          },
          "metadata": {}
        }
      ]
    },
    {
      "cell_type": "code",
      "source": [
        "A = np.c_[X, np.ones(len(X))]\n",
        "print(A)"
      ],
      "metadata": {
        "colab": {
          "base_uri": "https://localhost:8080/"
        },
        "id": "DRxCCflpEIcG",
        "outputId": "05c34f7f-c8cd-47d9-b5be-0f835e938c23"
      },
      "execution_count": 54,
      "outputs": [
        {
          "output_type": "stream",
          "name": "stdout",
          "text": [
            "[[ 32.   1.]\n",
            " [ 64.   1.]\n",
            " [ 96.   1.]\n",
            " [118.   1.]\n",
            " [126.   1.]\n",
            " [144.   1.]\n",
            " [152.   1.]\n",
            " [158.   1.]]\n"
          ]
        }
      ]
    },
    {
      "cell_type": "code",
      "source": [
        "B = np.array(Y)\n",
        "print(B)"
      ],
      "metadata": {
        "colab": {
          "base_uri": "https://localhost:8080/"
        },
        "id": "voEfUPusEYF5",
        "outputId": "2abb4fb0-070c-489b-bcdf-9b1988c3a29a"
      },
      "execution_count": 55,
      "outputs": [
        {
          "output_type": "stream",
          "name": "stdout",
          "text": [
            "[ 17  24  62  49  52 105 130 125]\n"
          ]
        }
      ]
    },
    {
      "cell_type": "code",
      "source": [
        "# A @ X = B\n",
        "# X = A^-1 @ B\n",
        "# X = ((A.T @ A)^-1 @ A.T) @ B\n",
        "int_A = np.linalg.inv(A.T@A)@A.T\n",
        "w, b = int_A @ B\n",
        "print(w, b) # weight, bias"
      ],
      "metadata": {
        "colab": {
          "base_uri": "https://localhost:8080/"
        },
        "id": "H4XsJAqHEiBn",
        "outputId": "305dfea4-99f3-46d6-bd63-d15c0c113380"
      },
      "execution_count": 56,
      "outputs": [
        {
          "output_type": "stream",
          "name": "stdout",
          "text": [
            "0.8796266379465079 -27.358463471549012\n"
          ]
        }
      ]
    },
    {
      "cell_type": "code",
      "source": [
        "plt.scatter(X, Y)\n",
        "plt.plot(X, np.multiply(X, w) + b)\n",
        "plt.show()"
      ],
      "metadata": {
        "colab": {
          "base_uri": "https://localhost:8080/",
          "height": 430
        },
        "id": "v8MayFdUFLoB",
        "outputId": "802f7fac-5186-484f-e690-6d902ad99551"
      },
      "execution_count": 58,
      "outputs": [
        {
          "output_type": "display_data",
          "data": {
            "text/plain": [
              "<Figure size 640x480 with 1 Axes>"
            ],
            "image/png": "[encoded data removed]"
          },
          "metadata": {}
        }
      ]
    },
    {
      "cell_type": "code",
      "source": [],
      "metadata": {
        "id": "oFiFsRLFFmRh"
      },
      "execution_count": null,
      "outputs": []
    }
  ]
}