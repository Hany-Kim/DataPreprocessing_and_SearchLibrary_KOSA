{
 "cells": [
  {
   "cell_type": "code",
   "execution_count": 1,
   "id": "946274f6-e836-40cc-8265-b353cedd52ea",
   "metadata": {},
   "outputs": [
    {
     "name": "stdout",
     "output_type": "stream",
     "text": [
      "Collecting selenium\n",
      "  Downloading selenium-4.21.0-py3-none-any.whl.metadata (6.9 kB)\n",
      "Requirement already satisfied: urllib3<3,>=1.26 in c:\\users\\kosa\\anaconda3\\lib\\site-packages (from urllib3[socks]<3,>=1.26->selenium) (2.0.7)\n",
      "Collecting trio~=0.17 (from selenium)\n",
      "  Downloading trio-0.25.1-py3-none-any.whl.metadata (8.7 kB)\n",
      "Collecting trio-websocket~=0.9 (from selenium)\n",
      "  Downloading trio_websocket-0.11.1-py3-none-any.whl.metadata (4.7 kB)\n",
      "Requirement already satisfied: certifi>=2021.10.8 in c:\\users\\kosa\\anaconda3\\lib\\site-packages (from selenium) (2024.2.2)\n",
      "Requirement already satisfied: typing_extensions>=4.9.0 in c:\\users\\kosa\\anaconda3\\lib\\site-packages (from selenium) (4.9.0)\n",
      "Collecting attrs>=23.2.0 (from trio~=0.17->selenium)\n",
      "  Downloading attrs-23.2.0-py3-none-any.whl.metadata (9.5 kB)\n",
      "Requirement already satisfied: sortedcontainers in c:\\users\\kosa\\anaconda3\\lib\\site-packages (from trio~=0.17->selenium) (2.4.0)\n",
      "Requirement already satisfied: idna in c:\\users\\kosa\\anaconda3\\lib\\site-packages (from trio~=0.17->selenium) (3.4)\n",
      "Collecting outcome (from trio~=0.17->selenium)\n",
      "  Downloading outcome-1.3.0.post0-py2.py3-none-any.whl.metadata (2.6 kB)\n",
      "Requirement already satisfied: sniffio>=1.3.0 in c:\\users\\kosa\\anaconda3\\lib\\site-packages (from trio~=0.17->selenium) (1.3.0)\n",
      "Requirement already satisfied: cffi>=1.14 in c:\\users\\kosa\\anaconda3\\lib\\site-packages (from trio~=0.17->selenium) (1.16.0)\n",
      "Collecting wsproto>=0.14 (from trio-websocket~=0.9->selenium)\n",
      "  Downloading wsproto-1.2.0-py3-none-any.whl.metadata (5.6 kB)\n",
      "Requirement already satisfied: pysocks!=1.5.7,<2.0,>=1.5.6 in c:\\users\\kosa\\anaconda3\\lib\\site-packages (from urllib3[socks]<3,>=1.26->selenium) (1.7.1)\n",
      "Requirement already satisfied: pycparser in c:\\users\\kosa\\anaconda3\\lib\\site-packages (from cffi>=1.14->trio~=0.17->selenium) (2.21)\n",
      "Collecting h11<1,>=0.9.0 (from wsproto>=0.14->trio-websocket~=0.9->selenium)\n",
      "  Downloading h11-0.14.0-py3-none-any.whl.metadata (8.2 kB)\n",
      "Downloading selenium-4.21.0-py3-none-any.whl (9.5 MB)\n",
      "   ---------------------------------------- 0.0/9.5 MB ? eta -:--:--\n",
      "   --- ------------------------------------ 0.8/9.5 MB 15.9 MB/s eta 0:00:01\n",
      "   --------- ------------------------------ 2.3/9.5 MB 24.1 MB/s eta 0:00:01\n",
      "   ------------------- -------------------- 4.6/9.5 MB 32.5 MB/s eta 0:00:01\n",
      "   ------------------------------------ --- 8.5/9.5 MB 45.4 MB/s eta 0:00:01\n",
      "   ---------------------------------------- 9.5/9.5 MB 43.1 MB/s eta 0:00:00\n",
      "Downloading trio-0.25.1-py3-none-any.whl (467 kB)\n",
      "   ---------------------------------------- 0.0/467.7 kB ? eta -:--:--\n",
      "   --------------------------------------- 467.7/467.7 kB 30.5 MB/s eta 0:00:00\n",
      "Downloading trio_websocket-0.11.1-py3-none-any.whl (17 kB)\n",
      "Downloading attrs-23.2.0-py3-none-any.whl (60 kB)\n",
      "   ---------------------------------------- 0.0/60.8 kB ? eta -:--:--\n",
      "   ---------------------------------------- 60.8/60.8 kB ? eta 0:00:00\n",
      "Downloading wsproto-1.2.0-py3-none-any.whl (24 kB)\n",
      "Downloading outcome-1.3.0.post0-py2.py3-none-any.whl (10 kB)\n",
      "Downloading h11-0.14.0-py3-none-any.whl (58 kB)\n",
      "   ---------------------------------------- 0.0/58.3 kB ? eta -:--:--\n",
      "   ---------------------------------------- 58.3/58.3 kB ? eta 0:00:00\n",
      "Installing collected packages: h11, attrs, wsproto, outcome, trio, trio-websocket, selenium\n",
      "  Attempting uninstall: attrs\n",
      "    Found existing installation: attrs 23.1.0\n",
      "    Uninstalling attrs-23.1.0:\n",
      "      Successfully uninstalled attrs-23.1.0\n",
      "Successfully installed attrs-23.2.0 h11-0.14.0 outcome-1.3.0.post0 selenium-4.21.0 trio-0.25.1 trio-websocket-0.11.1 wsproto-1.2.0\n"
     ]
    }
   ],
   "source": [
    "!pip install selenium"
   ]
  },
  {
   "cell_type": "code",
   "execution_count": 2,
   "id": "a5654067-7eb5-41fc-a838-c4f7c5d6428a",
   "metadata": {},
   "outputs": [
    {
     "name": "stdout",
     "output_type": "stream",
     "text": [
      "4.21.0\n"
     ]
    }
   ],
   "source": [
    "import selenium\n",
    "print(selenium.__version__)"
   ]
  },
  {
   "cell_type": "code",
   "execution_count": 3,
   "id": "9b8ba7ae-d157-4282-aa2b-ecae3e258cf0",
   "metadata": {},
   "outputs": [],
   "source": [
    "from selenium import webdriver"
   ]
  },
  {
   "cell_type": "markdown",
   "id": "fa88d61d-2bf5-4547-bad9-2e9d1319f1c0",
   "metadata": {},
   "source": [
    "브라우저 실행"
   ]
  },
  {
   "cell_type": "code",
   "execution_count": 19,
   "id": "10dde1d9-a6b0-4d21-9bd2-890012daca59",
   "metadata": {},
   "outputs": [
    {
     "name": "stdout",
     "output_type": "stream",
     "text": [
      "PEP 3105 -- Make print a function\n",
      "Virtual Learning\n",
      "Release – Python 3.9.0rc1\n",
      "PEP 502 -- String Interpolation - Extended Discussion\n",
      "PEP 675 -- Arbitrary Literal String Type\n",
      "Release – Python 3.8.2rc2\n",
      "Release – Python 3.9.0b1\n",
      "Release – Python 3.8.0a1\n",
      "PEP 3138 -- String representation in Python 3000\n",
      "PEP 3112 -- Bytes literals in Python 3000\n",
      "Python Success Stories\n",
      "Release – Python 3.9.10\n",
      "Release – Python 3.8.1\n",
      "Release – Python 3.8.4\n",
      "Release – Python 3.8.6\n",
      "PEP 289 -- Generator Expressions\n",
      "PEP 525 -- Asynchronous Generators\n",
      "PEP 604 -- Allow writing union types as X | Y\n",
      "EDU-SIG: Python in Education\n",
      "PEP 555 -- Context-local variables (contextvars)\n"
     ]
    }
   ],
   "source": [
    "driver = webdriver.Chrome() # 크롬 열기\n",
    "driver.get('https://www.python.org') # url이동\n",
    "el = driver.find_element(by=\"id\", value=\"id-search-field\") # dom tag 찾기\n",
    "\n",
    "from selenium.webdriver.common.keys import Keys\n",
    "el.clear()\n",
    "el.send_keys('hello') # input tag에 hello 입력\n",
    "el.send_keys(Keys.RETURN) # input tag에 hello 입력 후 제출\n",
    "\n",
    "result_list = driver.find_elements(by='css selector', value='form ul li h3')\n",
    "len(result_list)\n",
    "for result in result_list:\n",
    "    print(result.text)\n",
    "\n",
    "driver.close() # 크롬 닫기"
   ]
  },
  {
   "cell_type": "code",
   "execution_count": null,
   "id": "9f279ad1-0969-4c34-a503-e2714dac0ecc",
   "metadata": {},
   "outputs": [],
   "source": []
  },
  {
   "cell_type": "markdown",
   "id": "4e2c773f-4475-4a82-9a86-dc5c367a8768",
   "metadata": {},
   "source": [
    "브라우저 닫기"
   ]
  },
  {
   "cell_type": "code",
   "execution_count": 17,
   "id": "6eb14861-2167-4eae-aeb8-838a5055327b",
   "metadata": {},
   "outputs": [
    {
     "ename": "WebDriverException",
     "evalue": "Message: disconnected: not connected to DevTools\n  (failed to check if window was closed: disconnected: not connected to DevTools)\n  (Session info: chrome=125.0.6422.78)\nStacktrace:\n\tGetHandleVerifier [0x00007FF7EAAA1F22+60322]\n\t(No symbol) [0x00007FF7EAA1CE99]\n\t(No symbol) [0x00007FF7EA8D7EBA]\n\t(No symbol) [0x00007FF7EA8BE03F]\n\t(No symbol) [0x00007FF7EA8BEBAF]\n\t(No symbol) [0x00007FF7EA8D84E3]\n\t(No symbol) [0x00007FF7EA8AD08C]\n\t(No symbol) [0x00007FF7EA95B697]\n\t(No symbol) [0x00007FF7EA95B099]\n\t(No symbol) [0x00007FF7EA94C1E0]\n\t(No symbol) [0x00007FF7EA919617]\n\t(No symbol) [0x00007FF7EA91A211]\n\tGetHandleVerifier [0x00007FF7EADB946D+3301613]\n\tGetHandleVerifier [0x00007FF7EAE03693+3605267]\n\tGetHandleVerifier [0x00007FF7EADF9410+3563664]\n\tGetHandleVerifier [0x00007FF7EAB542F6+790390]\n\t(No symbol) [0x00007FF7EAA274DF]\n\t(No symbol) [0x00007FF7EAA233D4]\n\t(No symbol) [0x00007FF7EAA23562]\n\t(No symbol) [0x00007FF7EAA12F6F]\n\tBaseThreadInitThunk [0x00007FFA1D9F257D+29]\n\tRtlUserThreadStart [0x00007FFA1F62AA48+40]\n",
     "output_type": "error",
     "traceback": [
      "\u001b[1;31m---------------------------------------------------------------------------\u001b[0m",
      "\u001b[1;31mWebDriverException\u001b[0m                        Traceback (most recent call last)",
      "Cell \u001b[1;32mIn[17], line 1\u001b[0m\n\u001b[1;32m----> 1\u001b[0m driver\u001b[38;5;241m.\u001b[39mclose()\n",
      "File \u001b[1;32m~\\anaconda3\\Lib\\site-packages\\selenium\\webdriver\\remote\\webdriver.py:458\u001b[0m, in \u001b[0;36mWebDriver.close\u001b[1;34m(self)\u001b[0m\n\u001b[0;32m    450\u001b[0m \u001b[38;5;28;01mdef\u001b[39;00m \u001b[38;5;21mclose\u001b[39m(\u001b[38;5;28mself\u001b[39m) \u001b[38;5;241m-\u001b[39m\u001b[38;5;241m>\u001b[39m \u001b[38;5;28;01mNone\u001b[39;00m:\n\u001b[0;32m    451\u001b[0m \u001b[38;5;250m    \u001b[39m\u001b[38;5;124;03m\"\"\"Closes the current window.\u001b[39;00m\n\u001b[0;32m    452\u001b[0m \n\u001b[0;32m    453\u001b[0m \u001b[38;5;124;03m    :Usage:\u001b[39;00m\n\u001b[1;32m   (...)\u001b[0m\n\u001b[0;32m    456\u001b[0m \u001b[38;5;124;03m            driver.close()\u001b[39;00m\n\u001b[0;32m    457\u001b[0m \u001b[38;5;124;03m    \"\"\"\u001b[39;00m\n\u001b[1;32m--> 458\u001b[0m     \u001b[38;5;28mself\u001b[39m\u001b[38;5;241m.\u001b[39mexecute(Command\u001b[38;5;241m.\u001b[39mCLOSE)\n",
      "File \u001b[1;32m~\\anaconda3\\Lib\\site-packages\\selenium\\webdriver\\remote\\webdriver.py:347\u001b[0m, in \u001b[0;36mWebDriver.execute\u001b[1;34m(self, driver_command, params)\u001b[0m\n\u001b[0;32m    345\u001b[0m response \u001b[38;5;241m=\u001b[39m \u001b[38;5;28mself\u001b[39m\u001b[38;5;241m.\u001b[39mcommand_executor\u001b[38;5;241m.\u001b[39mexecute(driver_command, params)\n\u001b[0;32m    346\u001b[0m \u001b[38;5;28;01mif\u001b[39;00m response:\n\u001b[1;32m--> 347\u001b[0m     \u001b[38;5;28mself\u001b[39m\u001b[38;5;241m.\u001b[39merror_handler\u001b[38;5;241m.\u001b[39mcheck_response(response)\n\u001b[0;32m    348\u001b[0m     response[\u001b[38;5;124m\"\u001b[39m\u001b[38;5;124mvalue\u001b[39m\u001b[38;5;124m\"\u001b[39m] \u001b[38;5;241m=\u001b[39m \u001b[38;5;28mself\u001b[39m\u001b[38;5;241m.\u001b[39m_unwrap_value(response\u001b[38;5;241m.\u001b[39mget(\u001b[38;5;124m\"\u001b[39m\u001b[38;5;124mvalue\u001b[39m\u001b[38;5;124m\"\u001b[39m, \u001b[38;5;28;01mNone\u001b[39;00m))\n\u001b[0;32m    349\u001b[0m     \u001b[38;5;28;01mreturn\u001b[39;00m response\n",
      "File \u001b[1;32m~\\anaconda3\\Lib\\site-packages\\selenium\\webdriver\\remote\\errorhandler.py:229\u001b[0m, in \u001b[0;36mErrorHandler.check_response\u001b[1;34m(self, response)\u001b[0m\n\u001b[0;32m    227\u001b[0m         alert_text \u001b[38;5;241m=\u001b[39m value[\u001b[38;5;124m\"\u001b[39m\u001b[38;5;124malert\u001b[39m\u001b[38;5;124m\"\u001b[39m]\u001b[38;5;241m.\u001b[39mget(\u001b[38;5;124m\"\u001b[39m\u001b[38;5;124mtext\u001b[39m\u001b[38;5;124m\"\u001b[39m)\n\u001b[0;32m    228\u001b[0m     \u001b[38;5;28;01mraise\u001b[39;00m exception_class(message, screen, stacktrace, alert_text)  \u001b[38;5;66;03m# type: ignore[call-arg]  # mypy is not smart enough here\u001b[39;00m\n\u001b[1;32m--> 229\u001b[0m \u001b[38;5;28;01mraise\u001b[39;00m exception_class(message, screen, stacktrace)\n",
      "\u001b[1;31mWebDriverException\u001b[0m: Message: disconnected: not connected to DevTools\n  (failed to check if window was closed: disconnected: not connected to DevTools)\n  (Session info: chrome=125.0.6422.78)\nStacktrace:\n\tGetHandleVerifier [0x00007FF7EAAA1F22+60322]\n\t(No symbol) [0x00007FF7EAA1CE99]\n\t(No symbol) [0x00007FF7EA8D7EBA]\n\t(No symbol) [0x00007FF7EA8BE03F]\n\t(No symbol) [0x00007FF7EA8BEBAF]\n\t(No symbol) [0x00007FF7EA8D84E3]\n\t(No symbol) [0x00007FF7EA8AD08C]\n\t(No symbol) [0x00007FF7EA95B697]\n\t(No symbol) [0x00007FF7EA95B099]\n\t(No symbol) [0x00007FF7EA94C1E0]\n\t(No symbol) [0x00007FF7EA919617]\n\t(No symbol) [0x00007FF7EA91A211]\n\tGetHandleVerifier [0x00007FF7EADB946D+3301613]\n\tGetHandleVerifier [0x00007FF7EAE03693+3605267]\n\tGetHandleVerifier [0x00007FF7EADF9410+3563664]\n\tGetHandleVerifier [0x00007FF7EAB542F6+790390]\n\t(No symbol) [0x00007FF7EAA274DF]\n\t(No symbol) [0x00007FF7EAA233D4]\n\t(No symbol) [0x00007FF7EAA23562]\n\t(No symbol) [0x00007FF7EAA12F6F]\n\tBaseThreadInitThunk [0x00007FFA1D9F257D+29]\n\tRtlUserThreadStart [0x00007FFA1F62AA48+40]\n"
     ]
    }
   ],
   "source": [
    "driver.close()"
   ]
  },
  {
   "cell_type": "code",
   "execution_count": 20,
   "id": "a18de614-c73c-42e0-8441-5f6fc70366a4",
   "metadata": {},
   "outputs": [
    {
     "ename": "InvalidSessionIdException",
     "evalue": "Message: invalid session id\nStacktrace:\n\tGetHandleVerifier [0x00007FF7EAAA1F22+60322]\n\t(No symbol) [0x00007FF7EAA1CE99]\n\t(No symbol) [0x00007FF7EA8D7CE9]\n\t(No symbol) [0x00007FF7EA918987]\n\t(No symbol) [0x00007FF7EA94C0C9]\n\t(No symbol) [0x00007FF7EA9460C8]\n\t(No symbol) [0x00007FF7EA945AD1]\n\t(No symbol) [0x00007FF7EA8A2B75]\n\tGetHandleVerifier [0x00007FF7EADB946D+3301613]\n\tGetHandleVerifier [0x00007FF7EAE03693+3605267]\n\tGetHandleVerifier [0x00007FF7EADF9410+3563664]\n\tGetHandleVerifier [0x00007FF7EAB542F6+790390]\n\t(No symbol) [0x00007FF7EAA274DF]\n\t(No symbol) [0x00007FF7EA8A1B97]\n\tGetHandleVerifier [0x00007FF7EAE5E4C8+3977544]\n\tBaseThreadInitThunk [0x00007FFA1D9F257D+29]\n\tRtlUserThreadStart [0x00007FFA1F62AA48+40]\n",
     "output_type": "error",
     "traceback": [
      "\u001b[1;31m---------------------------------------------------------------------------\u001b[0m",
      "\u001b[1;31mInvalidSessionIdException\u001b[0m                 Traceback (most recent call last)",
      "Cell \u001b[1;32mIn[20], line 1\u001b[0m\n\u001b[1;32m----> 1\u001b[0m login_form \u001b[38;5;241m=\u001b[39m driver\u001b[38;5;241m.\u001b[39mfind_element(by\u001b[38;5;241m=\u001b[39m\u001b[38;5;124m'\u001b[39m\u001b[38;5;124mid\u001b[39m\u001b[38;5;124m'\u001b[39m, value\u001b[38;5;241m=\u001b[39m\u001b[38;5;124m'\u001b[39m\u001b[38;5;124mloginForm\u001b[39m\u001b[38;5;124m'\u001b[39m)\n",
      "File \u001b[1;32m~\\anaconda3\\Lib\\site-packages\\selenium\\webdriver\\remote\\webdriver.py:741\u001b[0m, in \u001b[0;36mWebDriver.find_element\u001b[1;34m(self, by, value)\u001b[0m\n\u001b[0;32m    738\u001b[0m     by \u001b[38;5;241m=\u001b[39m By\u001b[38;5;241m.\u001b[39mCSS_SELECTOR\n\u001b[0;32m    739\u001b[0m     value \u001b[38;5;241m=\u001b[39m \u001b[38;5;124mf\u001b[39m\u001b[38;5;124m'\u001b[39m\u001b[38;5;124m[name=\u001b[39m\u001b[38;5;124m\"\u001b[39m\u001b[38;5;132;01m{\u001b[39;00mvalue\u001b[38;5;132;01m}\u001b[39;00m\u001b[38;5;124m\"\u001b[39m\u001b[38;5;124m]\u001b[39m\u001b[38;5;124m'\u001b[39m\n\u001b[1;32m--> 741\u001b[0m \u001b[38;5;28;01mreturn\u001b[39;00m \u001b[38;5;28mself\u001b[39m\u001b[38;5;241m.\u001b[39mexecute(Command\u001b[38;5;241m.\u001b[39mFIND_ELEMENT, {\u001b[38;5;124m\"\u001b[39m\u001b[38;5;124musing\u001b[39m\u001b[38;5;124m\"\u001b[39m: by, \u001b[38;5;124m\"\u001b[39m\u001b[38;5;124mvalue\u001b[39m\u001b[38;5;124m\"\u001b[39m: value})[\u001b[38;5;124m\"\u001b[39m\u001b[38;5;124mvalue\u001b[39m\u001b[38;5;124m\"\u001b[39m]\n",
      "File \u001b[1;32m~\\anaconda3\\Lib\\site-packages\\selenium\\webdriver\\remote\\webdriver.py:347\u001b[0m, in \u001b[0;36mWebDriver.execute\u001b[1;34m(self, driver_command, params)\u001b[0m\n\u001b[0;32m    345\u001b[0m response \u001b[38;5;241m=\u001b[39m \u001b[38;5;28mself\u001b[39m\u001b[38;5;241m.\u001b[39mcommand_executor\u001b[38;5;241m.\u001b[39mexecute(driver_command, params)\n\u001b[0;32m    346\u001b[0m \u001b[38;5;28;01mif\u001b[39;00m response:\n\u001b[1;32m--> 347\u001b[0m     \u001b[38;5;28mself\u001b[39m\u001b[38;5;241m.\u001b[39merror_handler\u001b[38;5;241m.\u001b[39mcheck_response(response)\n\u001b[0;32m    348\u001b[0m     response[\u001b[38;5;124m\"\u001b[39m\u001b[38;5;124mvalue\u001b[39m\u001b[38;5;124m\"\u001b[39m] \u001b[38;5;241m=\u001b[39m \u001b[38;5;28mself\u001b[39m\u001b[38;5;241m.\u001b[39m_unwrap_value(response\u001b[38;5;241m.\u001b[39mget(\u001b[38;5;124m\"\u001b[39m\u001b[38;5;124mvalue\u001b[39m\u001b[38;5;124m\"\u001b[39m, \u001b[38;5;28;01mNone\u001b[39;00m))\n\u001b[0;32m    349\u001b[0m     \u001b[38;5;28;01mreturn\u001b[39;00m response\n",
      "File \u001b[1;32m~\\anaconda3\\Lib\\site-packages\\selenium\\webdriver\\remote\\errorhandler.py:229\u001b[0m, in \u001b[0;36mErrorHandler.check_response\u001b[1;34m(self, response)\u001b[0m\n\u001b[0;32m    227\u001b[0m         alert_text \u001b[38;5;241m=\u001b[39m value[\u001b[38;5;124m\"\u001b[39m\u001b[38;5;124malert\u001b[39m\u001b[38;5;124m\"\u001b[39m]\u001b[38;5;241m.\u001b[39mget(\u001b[38;5;124m\"\u001b[39m\u001b[38;5;124mtext\u001b[39m\u001b[38;5;124m\"\u001b[39m)\n\u001b[0;32m    228\u001b[0m     \u001b[38;5;28;01mraise\u001b[39;00m exception_class(message, screen, stacktrace, alert_text)  \u001b[38;5;66;03m# type: ignore[call-arg]  # mypy is not smart enough here\u001b[39;00m\n\u001b[1;32m--> 229\u001b[0m \u001b[38;5;28;01mraise\u001b[39;00m exception_class(message, screen, stacktrace)\n",
      "\u001b[1;31mInvalidSessionIdException\u001b[0m: Message: invalid session id\nStacktrace:\n\tGetHandleVerifier [0x00007FF7EAAA1F22+60322]\n\t(No symbol) [0x00007FF7EAA1CE99]\n\t(No symbol) [0x00007FF7EA8D7CE9]\n\t(No symbol) [0x00007FF7EA918987]\n\t(No symbol) [0x00007FF7EA94C0C9]\n\t(No symbol) [0x00007FF7EA9460C8]\n\t(No symbol) [0x00007FF7EA945AD1]\n\t(No symbol) [0x00007FF7EA8A2B75]\n\tGetHandleVerifier [0x00007FF7EADB946D+3301613]\n\tGetHandleVerifier [0x00007FF7EAE03693+3605267]\n\tGetHandleVerifier [0x00007FF7EADF9410+3563664]\n\tGetHandleVerifier [0x00007FF7EAB542F6+790390]\n\t(No symbol) [0x00007FF7EAA274DF]\n\t(No symbol) [0x00007FF7EA8A1B97]\n\tGetHandleVerifier [0x00007FF7EAE5E4C8+3977544]\n\tBaseThreadInitThunk [0x00007FFA1D9F257D+29]\n\tRtlUserThreadStart [0x00007FFA1F62AA48+40]\n"
     ]
    }
   ],
   "source": [
    "login_form = driver.find_element(by='id', value='loginForm')"
   ]
  },
  {
   "cell_type": "code",
   "execution_count": 21,
   "id": "03d4c4b7-8510-403e-a341-85ba95293c98",
   "metadata": {},
   "outputs": [
    {
     "ename": "InvalidSessionIdException",
     "evalue": "Message: invalid session id\nStacktrace:\n\tGetHandleVerifier [0x00007FF7EAAA1F22+60322]\n\t(No symbol) [0x00007FF7EAA1CE99]\n\t(No symbol) [0x00007FF7EA8D7CE9]\n\t(No symbol) [0x00007FF7EA918987]\n\t(No symbol) [0x00007FF7EA94C0C9]\n\t(No symbol) [0x00007FF7EA9460C8]\n\t(No symbol) [0x00007FF7EA945AD1]\n\t(No symbol) [0x00007FF7EA8A2B75]\n\tGetHandleVerifier [0x00007FF7EADB946D+3301613]\n\tGetHandleVerifier [0x00007FF7EAE03693+3605267]\n\tGetHandleVerifier [0x00007FF7EADF9410+3563664]\n\tGetHandleVerifier [0x00007FF7EAB542F6+790390]\n\t(No symbol) [0x00007FF7EAA274DF]\n\t(No symbol) [0x00007FF7EA8A1B97]\n\tGetHandleVerifier [0x00007FF7EAE5E4C8+3977544]\n\tBaseThreadInitThunk [0x00007FFA1D9F257D+29]\n\tRtlUserThreadStart [0x00007FFA1F62AA48+40]\n",
     "output_type": "error",
     "traceback": [
      "\u001b[1;31m---------------------------------------------------------------------------\u001b[0m",
      "\u001b[1;31mInvalidSessionIdException\u001b[0m                 Traceback (most recent call last)",
      "Cell \u001b[1;32mIn[21], line 2\u001b[0m\n\u001b[0;32m      1\u001b[0m \u001b[38;5;28;01mfrom\u001b[39;00m \u001b[38;5;21;01mselenium\u001b[39;00m\u001b[38;5;21;01m.\u001b[39;00m\u001b[38;5;21;01mwebdriver\u001b[39;00m\u001b[38;5;21;01m.\u001b[39;00m\u001b[38;5;21;01mcommon\u001b[39;00m\u001b[38;5;21;01m.\u001b[39;00m\u001b[38;5;21;01mby\u001b[39;00m \u001b[38;5;28;01mimport\u001b[39;00m By\n\u001b[1;32m----> 2\u001b[0m login_form \u001b[38;5;241m=\u001b[39m driver\u001b[38;5;241m.\u001b[39mfind_element(by\u001b[38;5;241m=\u001b[39m\u001b[38;5;124m'\u001b[39m\u001b[38;5;124mid\u001b[39m\u001b[38;5;124m'\u001b[39m, value\u001b[38;5;241m=\u001b[39m\u001b[38;5;124m'\u001b[39m\u001b[38;5;124mloginForm\u001b[39m\u001b[38;5;124m'\u001b[39m)\n",
      "File \u001b[1;32m~\\anaconda3\\Lib\\site-packages\\selenium\\webdriver\\remote\\webdriver.py:741\u001b[0m, in \u001b[0;36mWebDriver.find_element\u001b[1;34m(self, by, value)\u001b[0m\n\u001b[0;32m    738\u001b[0m     by \u001b[38;5;241m=\u001b[39m By\u001b[38;5;241m.\u001b[39mCSS_SELECTOR\n\u001b[0;32m    739\u001b[0m     value \u001b[38;5;241m=\u001b[39m \u001b[38;5;124mf\u001b[39m\u001b[38;5;124m'\u001b[39m\u001b[38;5;124m[name=\u001b[39m\u001b[38;5;124m\"\u001b[39m\u001b[38;5;132;01m{\u001b[39;00mvalue\u001b[38;5;132;01m}\u001b[39;00m\u001b[38;5;124m\"\u001b[39m\u001b[38;5;124m]\u001b[39m\u001b[38;5;124m'\u001b[39m\n\u001b[1;32m--> 741\u001b[0m \u001b[38;5;28;01mreturn\u001b[39;00m \u001b[38;5;28mself\u001b[39m\u001b[38;5;241m.\u001b[39mexecute(Command\u001b[38;5;241m.\u001b[39mFIND_ELEMENT, {\u001b[38;5;124m\"\u001b[39m\u001b[38;5;124musing\u001b[39m\u001b[38;5;124m\"\u001b[39m: by, \u001b[38;5;124m\"\u001b[39m\u001b[38;5;124mvalue\u001b[39m\u001b[38;5;124m\"\u001b[39m: value})[\u001b[38;5;124m\"\u001b[39m\u001b[38;5;124mvalue\u001b[39m\u001b[38;5;124m\"\u001b[39m]\n",
      "File \u001b[1;32m~\\anaconda3\\Lib\\site-packages\\selenium\\webdriver\\remote\\webdriver.py:347\u001b[0m, in \u001b[0;36mWebDriver.execute\u001b[1;34m(self, driver_command, params)\u001b[0m\n\u001b[0;32m    345\u001b[0m response \u001b[38;5;241m=\u001b[39m \u001b[38;5;28mself\u001b[39m\u001b[38;5;241m.\u001b[39mcommand_executor\u001b[38;5;241m.\u001b[39mexecute(driver_command, params)\n\u001b[0;32m    346\u001b[0m \u001b[38;5;28;01mif\u001b[39;00m response:\n\u001b[1;32m--> 347\u001b[0m     \u001b[38;5;28mself\u001b[39m\u001b[38;5;241m.\u001b[39merror_handler\u001b[38;5;241m.\u001b[39mcheck_response(response)\n\u001b[0;32m    348\u001b[0m     response[\u001b[38;5;124m\"\u001b[39m\u001b[38;5;124mvalue\u001b[39m\u001b[38;5;124m\"\u001b[39m] \u001b[38;5;241m=\u001b[39m \u001b[38;5;28mself\u001b[39m\u001b[38;5;241m.\u001b[39m_unwrap_value(response\u001b[38;5;241m.\u001b[39mget(\u001b[38;5;124m\"\u001b[39m\u001b[38;5;124mvalue\u001b[39m\u001b[38;5;124m\"\u001b[39m, \u001b[38;5;28;01mNone\u001b[39;00m))\n\u001b[0;32m    349\u001b[0m     \u001b[38;5;28;01mreturn\u001b[39;00m response\n",
      "File \u001b[1;32m~\\anaconda3\\Lib\\site-packages\\selenium\\webdriver\\remote\\errorhandler.py:229\u001b[0m, in \u001b[0;36mErrorHandler.check_response\u001b[1;34m(self, response)\u001b[0m\n\u001b[0;32m    227\u001b[0m         alert_text \u001b[38;5;241m=\u001b[39m value[\u001b[38;5;124m\"\u001b[39m\u001b[38;5;124malert\u001b[39m\u001b[38;5;124m\"\u001b[39m]\u001b[38;5;241m.\u001b[39mget(\u001b[38;5;124m\"\u001b[39m\u001b[38;5;124mtext\u001b[39m\u001b[38;5;124m\"\u001b[39m)\n\u001b[0;32m    228\u001b[0m     \u001b[38;5;28;01mraise\u001b[39;00m exception_class(message, screen, stacktrace, alert_text)  \u001b[38;5;66;03m# type: ignore[call-arg]  # mypy is not smart enough here\u001b[39;00m\n\u001b[1;32m--> 229\u001b[0m \u001b[38;5;28;01mraise\u001b[39;00m exception_class(message, screen, stacktrace)\n",
      "\u001b[1;31mInvalidSessionIdException\u001b[0m: Message: invalid session id\nStacktrace:\n\tGetHandleVerifier [0x00007FF7EAAA1F22+60322]\n\t(No symbol) [0x00007FF7EAA1CE99]\n\t(No symbol) [0x00007FF7EA8D7CE9]\n\t(No symbol) [0x00007FF7EA918987]\n\t(No symbol) [0x00007FF7EA94C0C9]\n\t(No symbol) [0x00007FF7EA9460C8]\n\t(No symbol) [0x00007FF7EA945AD1]\n\t(No symbol) [0x00007FF7EA8A2B75]\n\tGetHandleVerifier [0x00007FF7EADB946D+3301613]\n\tGetHandleVerifier [0x00007FF7EAE03693+3605267]\n\tGetHandleVerifier [0x00007FF7EADF9410+3563664]\n\tGetHandleVerifier [0x00007FF7EAB542F6+790390]\n\t(No symbol) [0x00007FF7EAA274DF]\n\t(No symbol) [0x00007FF7EA8A1B97]\n\tGetHandleVerifier [0x00007FF7EAE5E4C8+3977544]\n\tBaseThreadInitThunk [0x00007FFA1D9F257D+29]\n\tRtlUserThreadStart [0x00007FFA1F62AA48+40]\n"
     ]
    }
   ],
   "source": [
    "from selenium.webdriver.common.by import By\n",
    "login_form = driver.find_element(by='id', value='loginForm')"
   ]
  },
  {
   "cell_type": "code",
   "execution_count": 43,
   "id": "8cce5d77-2df9-4f5b-aa34-480a03074285",
   "metadata": {},
   "outputs": [
    {
     "name": "stdout",
     "output_type": "stream",
     "text": [
      "Overwriting test.html\n"
     ]
    }
   ],
   "source": [
    "%%writefile \"test.html\"\n",
    "<!doctype html>\n",
    "<body>\n",
    " <h1>Welcome</h1>\n",
    " <form id=\"loginForm\">\n",
    "     <input name=\"username\" type=\"text\">\n",
    "     <input name=\"password\" type=\"password\">\n",
    "     <input type=\"submit\" value=\"Login\">\n",
    "     <input type=\"button\" value=\"Clear\">\n",
    " </form>\n",
    "     <p>Are you sure you want to do this?</p>\n",
    "     <a href=\"http://javaspecialist.co.kr\">자바전문가그룹</a>\n",
    "     <p class=\"content\">Site content goes here.</p>\n",
    "</body>\n",
    "<html>"
   ]
  },
  {
   "cell_type": "code",
   "execution_count": 44,
   "id": "91d314e9-e0f5-4050-93db-5fb2c0c80223",
   "metadata": {},
   "outputs": [],
   "source": [
    "import os\n",
    "html_file = os.getcwd() + \"/test.html\"\n",
    "\n",
    "from selenium import webdriver\n",
    "driver = webdriver.Chrome()\n",
    "driver.get(\"file:///\" + html_file)"
   ]
  },
  {
   "cell_type": "code",
   "execution_count": 45,
   "id": "5a642a29-0349-4d25-9809-57849385e22f",
   "metadata": {},
   "outputs": [
    {
     "name": "stdout",
     "output_type": "stream",
     "text": [
      "<selenium.webdriver.remote.webelement.WebElement (session=\"892f3a983a26b5f59a0bb69d5e6a064c\", element=\"f.96E18104C10D596B468C2A40BC866458.d.3174B7C30E5542109881A918C2FBB914.e.23\")>\n"
     ]
    }
   ],
   "source": [
    "login_form = driver.find_element(by=\"id\", value=\"loginForm\")\n",
    "print(login_form)"
   ]
  },
  {
   "cell_type": "code",
   "execution_count": 46,
   "id": "99c828ef-8683-44b1-96f7-8ba564f98695",
   "metadata": {},
   "outputs": [],
   "source": [
    "username = driver.find_element(by='name', value='username')\n",
    "username.send_keys(\"Hello\")"
   ]
  },
  {
   "cell_type": "code",
   "execution_count": 57,
   "id": "1f466ef8-e5b4-4f36-8e8c-7c1445755653",
   "metadata": {},
   "outputs": [],
   "source": [
    "password = driver.find_element(by='name', value='password')\n",
    "password.send_keys(\"1234567890\")"
   ]
  },
  {
   "cell_type": "code",
   "execution_count": 48,
   "id": "a590e732-091b-4011-93f6-06aa93a65204",
   "metadata": {},
   "outputs": [],
   "source": [
    "login_form = driver.find_element(by='xpath', value='/html/body/form[1]')"
   ]
  },
  {
   "cell_type": "code",
   "execution_count": 49,
   "id": "176d23da-d620-43d9-9ab1-5943e0eab22b",
   "metadata": {},
   "outputs": [],
   "source": [
    "login_form = driver.find_element(by='xpath', value='//form[1]')"
   ]
  },
  {
   "cell_type": "code",
   "execution_count": 51,
   "id": "65b30953-4bb4-40dc-b4ca-0ccc1622061f",
   "metadata": {},
   "outputs": [],
   "source": [
    "login_form = driver.find_element(by='xpath', value=\"//form[@id='loginForm']\")"
   ]
  },
  {
   "cell_type": "code",
   "execution_count": 52,
   "id": "3c8b62b6-b5e8-4ed2-b91e-61fd35141231",
   "metadata": {},
   "outputs": [],
   "source": [
    "username = driver.find_element(by='xpath', value=\"//form[input/@name='username']\")"
   ]
  },
  {
   "cell_type": "code",
   "execution_count": 53,
   "id": "63ff6d98-4dfc-4281-81d6-84d4c50b2e2f",
   "metadata": {},
   "outputs": [],
   "source": [
    "username = driver.find_element(by='xpath', value=\"//form[@id='loginForm']/input[1]\")"
   ]
  },
  {
   "cell_type": "code",
   "execution_count": 54,
   "id": "03f2aeb4-3240-46e3-9a74-cd48f9182801",
   "metadata": {},
   "outputs": [],
   "source": [
    "username = driver.find_element(by='xpath', value=\"//input[@name='username']\")"
   ]
  },
  {
   "cell_type": "code",
   "execution_count": 55,
   "id": "2e561fb2-f640-4911-a6ca-fd6209d80f55",
   "metadata": {},
   "outputs": [],
   "source": [
    "link = driver.find_element(by='link text', value='자바전문가그룹')\n",
    "link.click()"
   ]
  },
  {
   "cell_type": "code",
   "execution_count": 58,
   "id": "a4ae4288-a837-48e7-b8e5-9f87a7152175",
   "metadata": {},
   "outputs": [],
   "source": [
    "link = driver.find_element(by='partial link text', value='자바')\n",
    "link.click()"
   ]
  },
  {
   "cell_type": "code",
   "execution_count": 59,
   "id": "50d04f06-2eea-415f-8dcf-0afc53c7f3a2",
   "metadata": {},
   "outputs": [],
   "source": [
    "driver.back()"
   ]
  },
  {
   "cell_type": "code",
   "execution_count": 60,
   "id": "e3bc013a-319c-4522-b8f7-1b4217560bed",
   "metadata": {},
   "outputs": [
    {
     "name": "stdout",
     "output_type": "stream",
     "text": [
      "Welcome\n"
     ]
    }
   ],
   "source": [
    "heading1 = driver.find_element(by='tag name', value='h1')\n",
    "print(heading1.text)"
   ]
  },
  {
   "cell_type": "code",
   "execution_count": 61,
   "id": "199ac487-b6ae-48da-be74-3037b78f78ed",
   "metadata": {},
   "outputs": [
    {
     "name": "stdout",
     "output_type": "stream",
     "text": [
      "Site content goes here.\n"
     ]
    }
   ],
   "source": [
    "content = driver.find_element(by='class name', value='content')\n",
    "print(content.text)"
   ]
  },
  {
   "cell_type": "code",
   "execution_count": 62,
   "id": "ccc63570-22f7-4f9b-b0f9-2180c299ff70",
   "metadata": {},
   "outputs": [
    {
     "name": "stdout",
     "output_type": "stream",
     "text": [
      "Site content goes here.\n"
     ]
    }
   ],
   "source": [
    "content = driver.find_element(by='css selector', value='p.content')\n",
    "print(content.text)"
   ]
  },
  {
   "cell_type": "code",
   "execution_count": 63,
   "id": "0d4d3a2d-bac8-436d-ae2d-03af92efe38a",
   "metadata": {},
   "outputs": [],
   "source": [
    "driver.close()"
   ]
  },
  {
   "cell_type": "code",
   "execution_count": 64,
   "id": "35b0ed6e-2099-40a3-8144-b7a4f15e828c",
   "metadata": {},
   "outputs": [
    {
     "ename": "NameError",
     "evalue": "name 'element' is not defined",
     "output_type": "error",
     "traceback": [
      "\u001b[1;31m---------------------------------------------------------------------------\u001b[0m",
      "\u001b[1;31mNameError\u001b[0m                                 Traceback (most recent call last)",
      "Cell \u001b[1;32mIn[64], line 1\u001b[0m\n\u001b[1;32m----> 1\u001b[0m element\u001b[38;5;241m.\u001b[39msend_keys(\u001b[38;5;124m\"\u001b[39m\u001b[38;5;124msome text\u001b[39m\u001b[38;5;124m\"\u001b[39m)\n",
      "\u001b[1;31mNameError\u001b[0m: name 'element' is not defined"
     ]
    }
   ],
   "source": [
    "element.send_keys(\"some text\")"
   ]
  },
  {
   "cell_type": "code",
   "execution_count": 108,
   "id": "987dda55-1454-463e-a513-0e0fdcb6adeb",
   "metadata": {},
   "outputs": [],
   "source": [
    "from selenium import webdriver"
   ]
  },
  {
   "cell_type": "code",
   "execution_count": 109,
   "id": "2b017576-9c78-4bfa-b78e-44b0f5227ec4",
   "metadata": {},
   "outputs": [],
   "source": [
    "from selenium.webdriver import ChromeOptions\n",
    "options = ChromeOptions()\n",
    "options.add_argument(\"--start-maximized\")\n",
    "driver = webdriver.Chrome(options=options)"
   ]
  },
  {
   "cell_type": "code",
   "execution_count": 110,
   "id": "37d8a672-4742-4be3-b126-0d8bfac1fc8a",
   "metadata": {},
   "outputs": [],
   "source": [
    "import time\n",
    "url = \"https://www.youtube.com/watch?v=9n2ZMo2590c\"\n",
    "driver.get(url)\n",
    "time.sleep(3)"
   ]
  },
  {
   "cell_type": "code",
   "execution_count": 111,
   "id": "84133b23-6584-419d-af7f-cf3b7b5b8b07",
   "metadata": {},
   "outputs": [],
   "source": [
    "last_page_height = driver.execute_script(\n",
    "    \"return document.documentElement.scrollHeight\")"
   ]
  },
  {
   "cell_type": "code",
   "execution_count": 112,
   "id": "b838c8f3-6337-4bd1-9eaa-53b7a8131429",
   "metadata": {},
   "outputs": [],
   "source": [
    "driver.execute_script(\"window.scrollTo(0,500);\")\n",
    "time.sleep(1)"
   ]
  },
  {
   "cell_type": "code",
   "execution_count": 113,
   "id": "e1f79a2a-ef2b-4198-accb-fc231944529a",
   "metadata": {},
   "outputs": [],
   "source": [
    "driver.find_element(By.CSS_SELECTOR, \"div#icon-label\").click()\n",
    "time.sleep(1)\n",
    "driver.find_element(By.CSS_SELECTOR, \"a[tabindex='-1'] div.item\").click()"
   ]
  },
  {
   "cell_type": "code",
   "execution_count": 114,
   "id": "233c1707-2d0d-49b5-9fb2-1326eb6ea012",
   "metadata": {},
   "outputs": [],
   "source": [
    "page_count = 0\n",
    "\n",
    "while True:\n",
    "    scroll_script = \"window.scrollTo(0, document.documentElement.scrollHeight);\"\n",
    "    driver.execute_script(scroll_script)\n",
    "    time.sleep(3)\n",
    "    scroll_height = \"return document.documentElement.scrollHeight\"\n",
    "    new_page_height = driver.execute_script(scroll_height)\n",
    "\n",
    "    if new_page_height==last_page_height:\n",
    "        break\n",
    "    last_page_height = new_page_height\n",
    "\n",
    "    if page_count > 10:\n",
    "        break\n",
    "    else:\n",
    "        page_count += 1"
   ]
  },
  {
   "cell_type": "code",
   "execution_count": 117,
   "id": "83596aee-2b8f-4464-88bb-5bc2daf04490",
   "metadata": {},
   "outputs": [],
   "source": [
    "html_source = driver.page_source\n",
    "driver.close()"
   ]
  },
  {
   "cell_type": "code",
   "execution_count": 118,
   "id": "070d2d68-d055-4cab-ab90-9e2aeacaa80f",
   "metadata": {},
   "outputs": [],
   "source": [
    "from bs4 import BeautifulSoup\n",
    "soup = BeautifulSoup(html_source, 'html.parser')"
   ]
  },
  {
   "cell_type": "code",
   "execution_count": 124,
   "id": "eb1fe4f4-773a-4bde-b630-3c2fbafb13c0",
   "metadata": {},
   "outputs": [],
   "source": [
    "#comments = soup.select(\"yt-formatted-string#content-text\")\n",
    "#comments = soup.select(\"ytd-comment-view-model#content-text\")\n",
    "comments = soup.select(\"yt-attributed-string#content-text\")\n",
    "users = soup.select(\"a#author-text > span\")"
   ]
  },
  {
   "cell_type": "code",
   "execution_count": 126,
   "id": "f4035145-1cf6-43b8-bbe2-9e173050b56f",
   "metadata": {},
   "outputs": [],
   "source": [
    "comment_list = [ comment.text.strip() for comment in comments]\n",
    "user_list = [ user.text.strip() for user in users]"
   ]
  },
  {
   "cell_type": "code",
   "execution_count": 127,
   "id": "0619a2bc-78e0-4872-a734-47bf7c3acbd2",
   "metadata": {},
   "outputs": [],
   "source": [
    "import pandas as pd\n",
    "import numpy as np"
   ]
  },
  {
   "cell_type": "code",
   "execution_count": 128,
   "id": "1295e6eb-fc30-4b2f-a169-0845ffa6d32b",
   "metadata": {},
   "outputs": [],
   "source": [
    "comment_df = pd.DataFrame(np.c_[user_list, comment_list],\n",
    "                          columns=[\"user\", \"comment\"])\n",
    "comment_df.to_csv(\"comment.csv\", encoding=\"utf-8-sig\", index=False)"
   ]
  },
  {
   "cell_type": "code",
   "execution_count": null,
   "id": "31ab6444-d0db-4a91-a9ba-66bfaf95a723",
   "metadata": {},
   "outputs": [],
   "source": []
  },
  {
   "cell_type": "code",
   "execution_count": 125,
   "id": "d14735b5-395f-4919-8e38-a01de2676108",
   "metadata": {},
   "outputs": [
    {
     "name": "stdout",
     "output_type": "stream",
     "text": [
      "[<yt-attributed-string class=\"style-scope ytd-comment-view-model\" id=\"content-text\" slot=\"content\" user-input=\"\"><span class=\"yt-core-attributed-string yt-core-attributed-string--white-space-pre-wrap\" dir=\"auto\"><span class=\"yt-core-attributed-string--inline-flex-mod\" style=\"margin-left: 2px; margin-right: 2px;\"><img alt=\"\" class=\"yt-core-image yt-core-attributed-string__image-element yt-core-attributed-string__image-element--image-alignment-vertical-center yt-core-image--content-mode-scale-to-fill yt-core-image--loaded\" src=\"https://www.youtube.com/s/gaming/emoji/7ff574f2/emoji_u1f4cc.png\" style=\"height: 16px; width: 16px;\"/></span>단 10일간만 진행되는 파파존스x지구오락실 단독 프로모션 진행<span class=\"yt-core-attributed-string--inline-flex-mod\" style=\"margin-left: 2px; margin-right: 2px;\"><img alt=\"\" class=\"yt-core-image yt-core-attributed-string__image-element yt-core-attributed-string__image-element--image-alignment-vertical-center yt-core-image--content-mode-scale-to-fill yt-core-image--loaded\" src=\"https://www.youtube.com/s/gaming/emoji/7ff574f2/emoji_u1f355.png\" style=\"height: 16px; width: 16px;\"/></span><span class=\"yt-core-attributed-string--inline-flex-mod\" style=\"margin-left: 2px; margin-right: 2px;\"><img alt=\"\" class=\"yt-core-image yt-core-attributed-string__image-element yt-core-attributed-string__image-element--image-alignment-vertical-center yt-core-image--content-mode-scale-to-fill yt-core-image--loaded\" src=\"https://www.youtube.com/s/gaming/emoji/7ff574f2/emoji_u1f30d.png\" style=\"height: 16px; width: 16px;\"/></span><span class=\"yt-core-attributed-string--inline-flex-mod\" style=\"margin-left: 2px; margin-right: 2px;\"><img alt=\"\" class=\"yt-core-image yt-core-attributed-string__image-element yt-core-attributed-string__image-element--image-alignment-vertical-center yt-core-image--content-mode-scale-to-fill yt-core-image--loaded\" src=\"https://www.youtube.com/s/gaming/emoji/7ff574f2/emoji_u1f697.png\" style=\"height: 16px; width: 16px;\"/></span>\n",
      "<span class=\"\" dir=\"auto\" style=\"font-weight: 400;\"><a class=\"yt-core-attributed-string__link yt-core-attributed-string__link--display-type yt-core-attributed-string__link--call-to-action-color\" dir=\"auto\" force-new-state=\"true\" href=\"https://www.youtube.com/redirect?event=comments&amp;redir_token=QUFFLUhqazVzblZQSHlXUXBobUtuZHl1RmVzUnFqWkUyd3xBQ3Jtc0traHQ5Q1JYVUlXT2phLVljWDVLeHZTMENvbE50VWQ1b1RydEFhWmxxSEhNS3llOENJVF9EQjFYUFIwTE1vYS1wdkQtX3lDV2RxLV9PNlNKbGVGNHozUEtMRUY0N18yMzEzejcxTHBIYURoaTZfZ2Y0QQ&amp;q=https%3A%2F%2Fpji.co.kr%2Fevent%2Fw_ongoingDetail%3FeventId%3D9277\" rel=\"nofollow\" tabindex=\"0\" target=\"_blank\">https://pji.co.kr/event/w_ongoingDetail?eventId=9277</a></span></span></yt-attributed-string>, <yt-attributed-string class=\"style-scope ytd-comment-view-model\" id=\"content-text\" slot=\"content\" user-input=\"\"><span class=\"yt-core-attributed-string yt-core-attributed-string--white-space-pre-wrap\" dir=\"auto\" role=\"text\">Going through a drive through in the middle of Seoul in a big SUV after just getting your licence is brave. Nice work Yujin. Also weird that the proximity sensor was going off so much on the highway.</span></yt-attributed-string>, <yt-attributed-string class=\"style-scope ytd-comment-view-model\" id=\"content-text\" slot=\"content\" user-input=\"\"><span class=\"yt-core-attributed-string yt-core-attributed-string--white-space-pre-wrap\" dir=\"auto\" role=\"text\">통행권 받은 댕댕씨 너무 큐티섹시야<span class=\"yt-core-attributed-string--inline-flex-mod\" style=\"margin-left: 2px; margin-right: 2px;\"><img alt=\"\" class=\"yt-core-image yt-core-attributed-string__image-element yt-core-attributed-string__image-element--image-alignment-vertical-center yt-core-image--content-mode-scale-to-fill yt-core-image--loaded\" src=\"https://www.youtube.com/s/gaming/emoji/7ff574f2/emoji_u2764.png\" style=\"height: 16px; width: 16px;\"/></span><span class=\"yt-core-attributed-string--inline-flex-mod\" style=\"margin-left: 2px; margin-right: 2px;\"><img alt=\"\" class=\"yt-core-image yt-core-attributed-string__image-element yt-core-attributed-string__image-element--image-alignment-vertical-center yt-core-image--content-mode-scale-to-fill yt-core-image--loaded\" src=\"https://www.youtube.com/s/gaming/emoji/7ff574f2/emoji_u2764.png\" style=\"height: 16px; width: 16px;\"/></span></span></yt-attributed-string>, <yt-attributed-string class=\"style-scope ytd-comment-view-model\" id=\"content-text\" slot=\"content\" user-input=\"\"><span class=\"yt-core-attributed-string yt-core-attributed-string--white-space-pre-wrap\" dir=\"auto\" role=\"text\">영지가 운전하는 캠핑카를 타는 지락이들 꼭 보고 싶어요!</span></yt-attributed-string>, <yt-attributed-string class=\"style-scope ytd-comment-view-model\" id=\"content-text\" slot=\"content\" user-input=\"\"><span class=\"yt-core-attributed-string yt-core-attributed-string--white-space-pre-wrap\" dir=\"auto\" role=\"text\">처음 운전하던 때가 생각나서 더 몰입해서 봤네여 ㅋㅋㅋ 드라이브 스루가 이렇게 스릴일줄이야</span></yt-attributed-string>, <yt-attributed-string class=\"style-scope ytd-comment-view-model\" id=\"content-text\" slot=\"content\" user-input=\"\"><span class=\"yt-core-attributed-string yt-core-attributed-string--white-space-pre-wrap\" dir=\"auto\" role=\"text\">Seru bgt bjir<span class=\"yt-core-attributed-string--inline-flex-mod\" style=\"margin-left: 2px; margin-right: 2px;\"><img alt=\"\" class=\"yt-core-image yt-core-attributed-string__image-element yt-core-attributed-string__image-element--image-alignment-vertical-center yt-core-image--content-mode-scale-to-fill yt-core-image--loaded\" src=\"https://www.youtube.com/s/gaming/emoji/7ff574f2/emoji_u1f602.png\" style=\"height: 16px; width: 16px;\"/></span><span class=\"yt-core-attributed-string--inline-flex-mod\" style=\"margin-left: 2px; margin-right: 2px;\"><img alt=\"\" class=\"yt-core-image yt-core-attributed-string__image-element yt-core-attributed-string__image-element--image-alignment-vertical-center yt-core-image--content-mode-scale-to-fill yt-core-image--loaded\" src=\"https://www.youtube.com/s/gaming/emoji/7ff574f2/emoji_u1f602.png\" style=\"height: 16px; width: 16px;\"/></span></span></yt-attributed-string>, <yt-attributed-string class=\"style-scope ytd-comment-view-model\" id=\"content-text\" slot=\"content\" user-input=\"\"><span class=\"yt-core-attributed-string yt-core-attributed-string--white-space-pre-wrap\" dir=\"auto\" role=\"text\">진짜 나피디 의리로 봤다.</span></yt-attributed-string>, <yt-attributed-string class=\"style-scope ytd-comment-view-model\" id=\"content-text\" slot=\"content\" user-input=\"\"><span class=\"yt-core-attributed-string yt-core-attributed-string--white-space-pre-wrap\" dir=\"auto\" role=\"text\">엌ㅋㅋㅋ 다들 자막 꼭 틀어보세요. 이건 자막도 맛집이네</span></yt-attributed-string>, <yt-attributed-string class=\"style-scope ytd-comment-view-model\" id=\"content-text\" slot=\"content\" user-input=\"\"><span class=\"yt-core-attributed-string yt-core-attributed-string--white-space-pre-wrap\" dir=\"auto\" role=\"text\">love f girls</span></yt-attributed-string>, <yt-attributed-string class=\"style-scope ytd-comment-view-model\" id=\"content-text\" slot=\"content\" user-input=\"\"><span class=\"yt-core-attributed-string yt-core-attributed-string--white-space-pre-wrap\" dir=\"auto\" role=\"text\">영석이형 Crossover 도 해주세요</span></yt-attributed-string>, <yt-attributed-string class=\"style-scope ytd-comment-view-model\" id=\"content-text\" slot=\"content\" user-input=\"\"><span class=\"yt-core-attributed-string yt-core-attributed-string--white-space-pre-wrap\" dir=\"auto\" role=\"text\">저는 여자인데 직업 특성상 1종 대형을 운전해서 너무 재밌게 봤어요 ! 저도 처음 면허 땄을때가 떠오르고 재밌네요 유진님 넘 예의있고 귀여워요ㅠㅠ</span></yt-attributed-string>, <yt-attributed-string class=\"style-scope ytd-comment-view-model\" id=\"content-text\" slot=\"content\" user-input=\"\"><span class=\"yt-core-attributed-string yt-core-attributed-string--white-space-pre-wrap\" dir=\"auto\" role=\"text\">미미 너무매력터져</span></yt-attributed-string>, <yt-attributed-string class=\"style-scope ytd-comment-view-model\" id=\"content-text\" slot=\"content\" user-input=\"\"><span class=\"yt-core-attributed-string yt-core-attributed-string--white-space-pre-wrap\" dir=\"auto\" role=\"text\">Disappointed in earth arcade production crew for taking a sponsorship from a company which supprts gen*cide!</span></yt-attributed-string>, <yt-attributed-string class=\"style-scope ytd-comment-view-model\" id=\"content-text\" slot=\"content\" user-input=\"\"><span class=\"yt-core-attributed-string yt-core-attributed-string--white-space-pre-wrap\" dir=\"auto\" role=\"text\">미미 너무너무\n",
      "이뻐~~</span></yt-attributed-string>, <yt-attributed-string class=\"style-scope ytd-comment-view-model\" id=\"content-text\" slot=\"content\" user-input=\"\"><span class=\"yt-core-attributed-string yt-core-attributed-string--white-space-pre-wrap\" dir=\"auto\" role=\"text\">와우 풀버전 ㄳㄳ!!  10ㅗㅜㅑ~</span></yt-attributed-string>, <yt-attributed-string class=\"style-scope ytd-comment-view-model\" id=\"content-text\" slot=\"content\" user-input=\"\"><span class=\"yt-core-attributed-string yt-core-attributed-string--white-space-pre-wrap\" dir=\"auto\"><span class=\"\" dir=\"auto\" style=\"font-weight: 400;\"><a class=\"yt-core-attributed-string__link yt-core-attributed-string__link--display-type yt-core-attributed-string__link--call-to-action-color\" dir=\"auto\" force-new-state=\"true\" href=\"/watch?v=9n2ZMo2590c&amp;t=3057s\" rel=\"nofollow\" tabindex=\"0\" target=\"\">50:57</a></span> 브금 ㄹㅇ 브베노래같음</span></yt-attributed-string>, <yt-attributed-string class=\"style-scope ytd-comment-view-model\" id=\"content-text\" slot=\"content\" user-input=\"\"><span class=\"yt-core-attributed-string yt-core-attributed-string--white-space-pre-wrap\" dir=\"auto\" role=\"text\">으아...운전하는거 보는데 손떨린다...허</span></yt-attributed-string>, <yt-attributed-string class=\"style-scope ytd-comment-view-model\" id=\"content-text\" slot=\"content\" user-input=\"\"><span class=\"yt-core-attributed-string yt-core-attributed-string--white-space-pre-wrap\" dir=\"auto\"><span class=\"\" dir=\"auto\" style=\"font-weight: 400;\"><a class=\"yt-core-attributed-string__link yt-core-attributed-string__link--display-type yt-core-attributed-string__link--call-to-action-color\" dir=\"auto\" force-new-state=\"true\" href=\"/watch?v=9n2ZMo2590c&amp;t=2871s\" rel=\"nofollow\" tabindex=\"0\" target=\"\">47:51</a></span> ㅋㅋㅋㅋㅋㅋㅋㅋㅋㄱㅋㅋㅋㅋㅋㄱㅋㅋㄱㅋ영지 언닠ㅋㄱㅋㅋㅋㅋㅋㅋㅋㄱㅋㅋ진짜 개웃기네</span></yt-attributed-string>, <yt-attributed-string class=\"style-scope ytd-comment-view-model\" id=\"content-text\" slot=\"content\" user-input=\"\"><span class=\"yt-core-attributed-string yt-core-attributed-string--white-space-pre-wrap\" dir=\"auto\" role=\"text\">네말이</span></yt-attributed-string>, <yt-attributed-string class=\"style-scope ytd-comment-view-model\" id=\"content-text\" slot=\"content\" user-input=\"\"><span class=\"yt-core-attributed-string yt-core-attributed-string--white-space-pre-wrap\" dir=\"auto\" role=\"text\">영지야...미안한데 면허...필요할까....?</span></yt-attributed-string>, <yt-attributed-string class=\"style-scope ytd-comment-view-model\" id=\"content-text\" slot=\"content\" user-input=\"\"><span class=\"yt-core-attributed-string yt-core-attributed-string--white-space-pre-wrap\" dir=\"auto\" role=\"text\">와 안유진 진짜 대박이다\n",
      "바쁜시간쪼개서 딴것도 대단한데 가평까지 갔다왔다는것만 봐도 진짜 책임감까지 겸비한 완전 똑순이</span></yt-attributed-string>, <yt-attributed-string class=\"style-scope ytd-comment-view-model\" id=\"content-text\" slot=\"content\" user-input=\"\"><span class=\"yt-core-attributed-string yt-core-attributed-string--white-space-pre-wrap\" dir=\"auto\" role=\"text\">아이돌 스케줄 1위할 정도로 바쁜 애가 가평까지 시간내서 다녀온 거 진짜 몇 없는 휴일을 걍 프로그램을 위해 바친 거잖아ㅠㅠ 이렇게 프로를 위해 성의를 다 하는 애가 어디 있냐고 대단하다 진짜</span></yt-attributed-string>, <yt-attributed-string class=\"style-scope ytd-comment-view-model\" id=\"content-text\" slot=\"content\" user-input=\"\"><span class=\"yt-core-attributed-string yt-core-attributed-string--white-space-pre-wrap\" dir=\"auto\" role=\"text\">미미 푸들머리 하고 오니까 귀엽다고 계속하는 제작진분들ㅋㅋㅋㅋ  출연자와 제작진간의 사이가 좋으니까 좋은 프로가 나오는듯</span></yt-attributed-string>, <yt-attributed-string class=\"style-scope ytd-comment-view-model\" id=\"content-text\" slot=\"content\" user-input=\"\"><span class=\"yt-core-attributed-string yt-core-attributed-string--white-space-pre-wrap\" dir=\"auto\" role=\"text\">아니 근데 지락이들한테 카메라 넘기는게 어떻게 나오게 된 발상인지는 모르겠는데 진짜 좋은 것 같음..! 3인칭이 아니라 1인칭으로 찍어서 약간 친구들이랑 찍은 영상 돌려보는 것처럼 출연진들과 거리가 무척 가까워진 느낌?</span></yt-attributed-string>, <yt-attributed-string class=\"style-scope ytd-comment-view-model\" id=\"content-text\" slot=\"content\" user-input=\"\"><span class=\"yt-core-attributed-string yt-core-attributed-string--white-space-pre-wrap\" dir=\"auto\" role=\"text\">우리유진이 하고싶은거 다해라.이쁜척보다 프로근성으로 일하는 니가 진정 예술인이지.어려도 참 본받을거 많은친구인거같에</span></yt-attributed-string>, <yt-attributed-string class=\"style-scope ytd-comment-view-model\" id=\"content-text\" slot=\"content\" user-input=\"\"><span class=\"yt-core-attributed-string yt-core-attributed-string--white-space-pre-wrap\" dir=\"auto\" role=\"text\">안유진 완전 호감. 첫 운전에 다 같이 저렇게가면 완전 긴장되고할건데, 나름 여유있게 웃으면서 잘 헤쳐나가네요.\n",
      "왜 사람들이 안유진 좋아하는지 알것 같아요. 완전 매력적임.</span></yt-attributed-string>, <yt-attributed-string class=\"style-scope ytd-comment-view-model\" id=\"content-text\" slot=\"content\" user-input=\"\"><span class=\"yt-core-attributed-string yt-core-attributed-string--white-space-pre-wrap\" dir=\"auto\" role=\"text\">유진이 투어돌면서 컴백준비하는 와중에 짬내서 면허따고 언니들 불안해할까봐 가평 미리갔다온게 넘 기특한 막냉이ㅜㅜ</span></yt-attributed-string>, <yt-attributed-string class=\"style-scope ytd-comment-view-model\" id=\"content-text\" slot=\"content\" user-input=\"\"><span class=\"yt-core-attributed-string yt-core-attributed-string--white-space-pre-wrap\" dir=\"auto\" role=\"text\">볼수록 므므 코디가 찐임. 태국과 발리편보면 하와이안 셔츠와 반바지, 더 현대 씬 원피스, 우르르쾅쾅 블랙&amp;화이트, 이번편 처음 살짝 등장한 린넨 하늘색 셔츠와 빨간색 반스 볼트 그리고 미미의 시그니처 각종 금붙이 액세서리 등등 본인만의 컨셉이 진짜 명확하고 잘 어울림</span></yt-attributed-string>, <yt-attributed-string class=\"style-scope ytd-comment-view-model\" id=\"content-text\" slot=\"content\" user-input=\"\"><span class=\"yt-core-attributed-string yt-core-attributed-string--white-space-pre-wrap\" dir=\"auto\" role=\"text\">유진이 보면 예전 1박2일때 승기보는것 같음 옴청 피곤할텐데 힘든내색 한번 안하고 아주 정상적인 캐릭터인데 웃기고 말재주도 좋고 언니들 잘 따르고 ...\n",
      "암튼 참 사랑스런 캐릭임</span></yt-attributed-string>, <yt-attributed-string class=\"style-scope ytd-comment-view-model\" id=\"content-text\" slot=\"content\" user-input=\"\"><span class=\"yt-core-attributed-string yt-core-attributed-string--white-space-pre-wrap\" dir=\"auto\" role=\"text\">멈췄던 내 시간이 다시 흐르기 시작했다</span></yt-attributed-string>, <yt-attributed-string class=\"style-scope ytd-comment-view-model\" id=\"content-text\" slot=\"content\" user-input=\"\"><span class=\"yt-core-attributed-string yt-core-attributed-string--white-space-pre-wrap\" dir=\"auto\" role=\"text\">저게 진짜 대단한게 운전면허 딴지 얼마안됐을때는 누가 옆에서 말만걸어도 방해되는데 카메라달고 촬영하면서 오디오 채우면서 운전하는건 진짜 리스펙할만한거임..</span></yt-attributed-string>, <yt-attributed-string class=\"style-scope ytd-comment-view-model\" id=\"content-text\" slot=\"content\" user-input=\"\"><span class=\"yt-core-attributed-string yt-core-attributed-string--white-space-pre-wrap\" dir=\"auto\"><span class=\"\" dir=\"auto\" style=\"font-weight: 400;\"><a class=\"yt-core-attributed-string__link yt-core-attributed-string__link--display-type yt-core-attributed-string__link--call-to-action-color\" dir=\"auto\" force-new-state=\"true\" href=\"/watch?v=9n2ZMo2590c&amp;t=4841s\" rel=\"nofollow\" tabindex=\"0\" target=\"\">1:20:41</a></span>  여기 부분 진짜 뭉클하다… 어렸을 때 친구들이랑 오랜만에 만났는데 다들 성공해서 여행 떠나는 느낌이야.. 나까지 한 무리가 된 것같고… <span class=\"yt-core-attributed-string--inline-flex-mod\" style=\"margin-left: 2px; margin-right: 2px;\"><img alt=\"\" class=\"yt-core-image yt-core-attributed-string__image-element yt-core-attributed-string__image-element--image-alignment-vertical-center yt-core-image--content-mode-scale-to-fill\" style=\"height: 16px; width: 16px;\"/></span> 지락실 영원하자 !!!</span></yt-attributed-string>, <yt-attributed-string class=\"style-scope ytd-comment-view-model\" id=\"content-text\" slot=\"content\" user-input=\"\"><span class=\"yt-core-attributed-string yt-core-attributed-string--white-space-pre-wrap\" dir=\"auto\" role=\"text\">영지 1종 시험 팁 알려주는거 1타강사 수준 ㅋㅋㅋㅋㅋ 너무 웃김 진짜 본인이 겪어서 알아낸 찐 꿀팁들 쏟아짐 ㅋㅋㅋㅋㅋㅋㅋㅋㅋㅋㅋㅋㅋ</span></yt-attributed-string>, <yt-attributed-string class=\"style-scope ytd-comment-view-model\" id=\"content-text\" slot=\"content\" user-input=\"\"><span class=\"yt-core-attributed-string yt-core-attributed-string--white-space-pre-wrap\" dir=\"auto\" role=\"text\">와 진짜 은지가 따 온 게 개같이 감동임... 글케 따기 싫었을 텐데 딱 봐도 동생들을 위해....... 그리고 유진이에선 그냥 기절</span></yt-attributed-string>, <yt-attributed-string class=\"style-scope ytd-comment-view-model\" id=\"content-text\" slot=\"content\" user-input=\"\"><span class=\"yt-core-attributed-string yt-core-attributed-string--white-space-pre-wrap\" dir=\"auto\" role=\"text\">와 진짜 다들 엄청 바쁘실텐데.. 영지님 10수까지 계속 다니신것도 그렇고 은지님 서울에서 출퇴근 연습하신것도 그렇고 유진님 그 바쁜와중에 면허따시고 거기에 가평까지 한번 다녀오시고 진짜 말도 안되는 부지런함...</span></yt-attributed-string>, <yt-attributed-string class=\"style-scope ytd-comment-view-model\" id=\"content-text\" slot=\"content\" user-input=\"\"><span class=\"yt-core-attributed-string yt-core-attributed-string--white-space-pre-wrap\" dir=\"auto\" role=\"text\">진짜 스핀오프?지만 시즌1,2만큼 재밌네요 ㅠㅠㅠㅠ 지락실 멤버들 네명 조합이 완벽한것 같아요 서로 많이 친해져서 배려하고 아껴주는 모습이 넘 보기좋습니다 그리고 진짜 다 넘 웃김 ㅋㅋㅋㅋㅋㅋㅋ</span></yt-attributed-string>, <yt-attributed-string class=\"style-scope ytd-comment-view-model\" id=\"content-text\" slot=\"content\" user-input=\"\"><span class=\"yt-core-attributed-string yt-core-attributed-string--white-space-pre-wrap\" dir=\"auto\" role=\"text\">면허 이제 딴 사람인데 진짜 너무 공감되고ㅋㅋㅋㅋㅋㅋㅋㅋㅠㅠㅜ \n",
      "유진이 그 바쁜스케줄에 연습한거며 \n",
      "운전 하기싫음에도 동생들생각해서 면허딴 은지며 \n",
      "다같이 큰차탈때 대비해서 1종딴다고ㅋㅋㅋㅋㅋㅋㅋㅋ한달내내 시험보러다닌 영지며 \n",
      "재무담당이라고 계산기까지 가져온 미미ㅋㅋㅋㅋㅋㅋㅋㅋ 다 너무 무해하고\n",
      "그런 지락시들 계속 걱정하느랴 앞도 못보는 영석이형까지 진짜 완벽함ㅠ</span></yt-attributed-string>, <yt-attributed-string class=\"style-scope ytd-comment-view-model\" id=\"content-text\" slot=\"content\" user-input=\"\"><span class=\"yt-core-attributed-string yt-core-attributed-string--white-space-pre-wrap\" dir=\"auto\" role=\"text\">우리 유진이 16살에 데뷔해서 고등학교 입학하는것도 보고 민증 나왔다고 자랑하는것도 보고 성인되서 차쥐뿔에서 술 마시는것도 보고 이제 운전하는것도 보네ㅠㅠ\n",
      "유진이 진짜 잘 컸다🥹🥹</span></yt-attributed-string>, <yt-attributed-string class=\"style-scope ytd-comment-view-model\" id=\"content-text\" slot=\"content\" user-input=\"\"><span class=\"yt-core-attributed-string yt-core-attributed-string--white-space-pre-wrap\" dir=\"auto\" role=\"text\">유진이 여돌임에도 개의치않고 할거 다하는거 진짜 사랑함ㅋㅋㅋㅋ저 얼굴로 면허증 붙이고 있는거 너무 웃겨ㅋㅋㅋㅋㅋㅋㅋㅋㅋ</span></yt-attributed-string>, <yt-attributed-string class=\"style-scope ytd-comment-view-model\" id=\"content-text\" slot=\"content\" user-input=\"\"><span class=\"yt-core-attributed-string yt-core-attributed-string--white-space-pre-wrap\" dir=\"auto\" role=\"text\">미미 진짜 내스타일이다.\n",
      "친구들은 이해 못하던데ㅋㅋ\n",
      "미미 진짜 예쁘고 귀엽고 매력있어요.\n",
      "물론 보편적인 스타일은 아니지만~</span></yt-attributed-string>, <yt-attributed-string class=\"style-scope ytd-comment-view-model\" id=\"content-text\" slot=\"content\" user-input=\"\"><span class=\"yt-core-attributed-string yt-core-attributed-string--white-space-pre-wrap\" dir=\"auto\" role=\"text\">나피디는 화면에서는 보이지말아주세요.</span></yt-attributed-string>, <yt-attributed-string class=\"style-scope ytd-comment-view-model\" id=\"content-text\" slot=\"content\" user-input=\"\"><span class=\"yt-core-attributed-string yt-core-attributed-string--white-space-pre-wrap\" dir=\"auto\" role=\"text\">스릴감 넘치네</span></yt-attributed-string>, <yt-attributed-string class=\"style-scope ytd-comment-view-model\" id=\"content-text\" slot=\"content\" user-input=\"\"><span class=\"yt-core-attributed-string yt-core-attributed-string--white-space-pre-wrap\" dir=\"auto\" role=\"text\">안유진 이쁘기도 하지만 머리가 좋고 똑똑함</span></yt-attributed-string>, <yt-attributed-string class=\"style-scope ytd-comment-view-model\" id=\"content-text\" slot=\"content\" user-input=\"\"><span class=\"yt-core-attributed-string yt-core-attributed-string--white-space-pre-wrap\" dir=\"auto\" role=\"text\">지락이들 사랑해에에에엥<span class=\"yt-core-attributed-string--inline-flex-mod\" style=\"margin-left: 2px; margin-right: 2px;\"><img alt=\"\" class=\"yt-core-image yt-core-attributed-string__image-element yt-core-attributed-string__image-element--image-alignment-vertical-center yt-core-image--content-mode-scale-to-fill\" style=\"height: 16px; width: 16px;\"/></span><span class=\"yt-core-attributed-string--inline-flex-mod\" style=\"margin-left: 2px; margin-right: 2px;\"><img alt=\"\" class=\"yt-core-image yt-core-attributed-string__image-element yt-core-attributed-string__image-element--image-alignment-vertical-center yt-core-image--content-mode-scale-to-fill\" style=\"height: 16px; width: 16px;\"/></span><span class=\"yt-core-attributed-string--inline-flex-mod\" style=\"margin-left: 2px; margin-right: 2px;\"><img alt=\"\" class=\"yt-core-image yt-core-attributed-string__image-element yt-core-attributed-string__image-element--image-alignment-vertical-center yt-core-image--content-mode-scale-to-fill\" style=\"height: 16px; width: 16px;\"/></span><span class=\"yt-core-attributed-string--inline-flex-mod\" style=\"margin-left: 2px; margin-right: 2px;\"><img alt=\"\" class=\"yt-core-image yt-core-attributed-string__image-element yt-core-attributed-string__image-element--image-alignment-vertical-center yt-core-image--content-mode-scale-to-fill\" style=\"height: 16px; width: 16px;\"/></span></span></yt-attributed-string>, <yt-attributed-string class=\"style-scope ytd-comment-view-model\" id=\"content-text\" slot=\"content\" user-input=\"\"><span class=\"yt-core-attributed-string yt-core-attributed-string--white-space-pre-wrap\" dir=\"auto\" role=\"text\">지락실 이렇게 재밌는건지 몰랐어요 뛰뛰빵빵보고 시즌1,2도 다 봐야지<span class=\"yt-core-attributed-string--inline-flex-mod\" style=\"margin-left: 2px; margin-right: 2px;\"><img alt=\"\" class=\"yt-core-image yt-core-attributed-string__image-element yt-core-attributed-string__image-element--image-alignment-vertical-center yt-core-image--content-mode-scale-to-fill\" style=\"height: 16px; width: 16px;\"/></span>️\n",
      "한명한명 어캐 이렇게 사랑스럽지~<span class=\"yt-core-attributed-string--inline-flex-mod\" style=\"margin-left: 2px; margin-right: 2px;\"><img alt=\"\" class=\"yt-core-image yt-core-attributed-string__image-element yt-core-attributed-string__image-element--image-alignment-vertical-center yt-core-image--content-mode-scale-to-fill\" style=\"height: 16px; width: 16px;\"/></span></span></yt-attributed-string>, <yt-attributed-string class=\"style-scope ytd-comment-view-model\" id=\"content-text\" slot=\"content\" user-input=\"\"><span class=\"yt-core-attributed-string yt-core-attributed-string--white-space-pre-wrap\" dir=\"auto\" role=\"text\">운전면허 동기부여 미쳤다...</span></yt-attributed-string>, <yt-attributed-string class=\"style-scope ytd-comment-view-model\" id=\"content-text\" slot=\"content\" user-input=\"\"><span class=\"yt-core-attributed-string yt-core-attributed-string--white-space-pre-wrap\" dir=\"auto\" role=\"text\">好<span class=\"yt-core-attributed-string--inline-flex-mod\" style=\"margin-left: 2px; margin-right: 2px;\"><img alt=\"\" class=\"yt-core-image yt-core-attributed-string__image-element yt-core-attributed-string__image-element--image-alignment-vertical-center yt-core-image--content-mode-scale-to-fill\" style=\"height: 16px; width: 16px;\"/></span></span></yt-attributed-string>, <yt-attributed-string class=\"style-scope ytd-comment-view-model\" id=\"content-text\" slot=\"content\" user-input=\"\"><span class=\"yt-core-attributed-string yt-core-attributed-string--white-space-pre-wrap\" dir=\"auto\" role=\"text\">THANK U FOR THE ENGLISH SUBS!</span></yt-attributed-string>, <yt-attributed-string class=\"style-scope ytd-comment-view-model\" id=\"content-text\" slot=\"content\" user-input=\"\"><span class=\"yt-core-attributed-string yt-core-attributed-string--white-space-pre-wrap\" dir=\"auto\" role=\"text\">안유진 똑부러져</span></yt-attributed-string>, <yt-attributed-string class=\"style-scope ytd-comment-view-model\" id=\"content-text\" slot=\"content\" user-input=\"\"><span class=\"yt-core-attributed-string yt-core-attributed-string--white-space-pre-wrap\" dir=\"auto\" role=\"text\">와 유진이는 진짜….아이돌 스케줄1위인데 해투돌면서 면허도 따고 가평까지 사전답사를 갔다와버리네….시간은 만드는게 맞는듯…존경합니다<span class=\"yt-core-attributed-string--inline-flex-mod\" style=\"margin-left: 2px; margin-right: 2px;\"><img alt=\"\" class=\"yt-core-image yt-core-attributed-string__image-element yt-core-attributed-string__image-element--image-alignment-vertical-center yt-core-image--content-mode-scale-to-fill\" style=\"height: 16px; width: 16px;\"/></span></span></yt-attributed-string>, <yt-attributed-string class=\"style-scope ytd-comment-view-model\" id=\"content-text\" slot=\"content\" user-input=\"\"><span class=\"yt-core-attributed-string yt-core-attributed-string--white-space-pre-wrap\" dir=\"auto\" role=\"text\">안유진 진짜 대단한 사람이구나,, 초보운전으로서 존경한다,,,</span></yt-attributed-string>, <yt-attributed-string class=\"style-scope ytd-comment-view-model\" id=\"content-text\" slot=\"content\" user-input=\"\"><span class=\"yt-core-attributed-string yt-core-attributed-string--white-space-pre-wrap\" dir=\"auto\" role=\"text\">thank you for posting this on youtube &lt;3</span></yt-attributed-string>, <yt-attributed-string class=\"style-scope ytd-comment-view-model\" id=\"content-text\" slot=\"content\" user-input=\"\"><span class=\"yt-core-attributed-string yt-core-attributed-string--white-space-pre-wrap\" dir=\"auto\" role=\"text\">너무 재밌따!!!<span class=\"yt-core-attributed-string--inline-flex-mod\" style=\"margin-left: 2px; margin-right: 2px;\"><img alt=\"\" class=\"yt-core-image yt-core-attributed-string__image-element yt-core-attributed-string__image-element--image-alignment-vertical-center yt-core-image--content-mode-scale-to-fill yt-core-image--loaded\" src=\"https://www.youtube.com/s/gaming/emoji/7ff574f2/emoji_u1f602.png\" style=\"height: 16px; width: 16px;\"/></span></span></yt-attributed-string>, <yt-attributed-string class=\"style-scope ytd-comment-view-model\" id=\"content-text\" slot=\"content\" user-input=\"\"><span class=\"yt-core-attributed-string yt-core-attributed-string--white-space-pre-wrap\" dir=\"auto\" role=\"text\">Dex=Yang se chan=Na yeong seok<span class=\"yt-core-attributed-string--inline-flex-mod\" style=\"margin-left: 2px; margin-right: 2px;\"><img alt=\"\" class=\"yt-core-image yt-core-attributed-string__image-element yt-core-attributed-string__image-element--image-alignment-vertical-center yt-core-image--content-mode-scale-to-fill yt-core-image--loaded\" src=\"https://www.youtube.com/s/gaming/emoji/7ff574f2/emoji_u1f602.png\" style=\"height: 16px; width: 16px;\"/></span><span class=\"yt-core-attributed-string--inline-flex-mod\" style=\"margin-left: 2px; margin-right: 2px;\"><img alt=\"\" class=\"yt-core-image yt-core-attributed-string__image-element yt-core-attributed-string__image-element--image-alignment-vertical-center yt-core-image--content-mode-scale-to-fill yt-core-image--loaded\" src=\"https://www.youtube.com/s/gaming/emoji/7ff574f2/emoji_u1f923.png\" style=\"height: 16px; width: 16px;\"/></span></span></yt-attributed-string>, <yt-attributed-string class=\"style-scope ytd-comment-view-model\" id=\"content-text\" slot=\"content\" user-input=\"\"><span class=\"yt-core-attributed-string yt-core-attributed-string--white-space-pre-wrap\" dir=\"auto\" role=\"text\">그 일정에도 사전답사를 해볼 생각을 하는게 언니들을 생각하는 따뜻한 마음이 느껴져서 좋네요.\n",
      "본인 스스로도 걱정되긴 했겠지만 ㅋㅋㅋ</span></yt-attributed-string>, <yt-attributed-string class=\"style-scope ytd-comment-view-model\" id=\"content-text\" slot=\"content\" user-input=\"\"><span class=\"yt-core-attributed-string yt-core-attributed-string--white-space-pre-wrap\" dir=\"auto\" role=\"text\">너무부럽다 얼마나 재밋을까</span></yt-attributed-string>, <yt-attributed-string class=\"style-scope ytd-comment-view-model\" id=\"content-text\" slot=\"content\" user-input=\"\"><span class=\"yt-core-attributed-string yt-core-attributed-string--white-space-pre-wrap\" dir=\"auto\" role=\"text\">有繁體字幕的台灣觀眾是快樂小狗\n",
      "汪汪<span class=\"yt-core-attributed-string--inline-flex-mod\" style=\"margin-left: 2px; margin-right: 2px;\"><img alt=\"\" class=\"yt-core-image yt-core-attributed-string__image-element yt-core-attributed-string__image-element--image-alignment-vertical-center yt-core-image--content-mode-scale-to-fill yt-core-image--loaded\" src=\"https://www.youtube.com/s/gaming/emoji/7ff574f2/emoji_u2764.png\" style=\"height: 16px; width: 16px;\"/></span></span></yt-attributed-string>, <yt-attributed-string class=\"style-scope ytd-comment-view-model\" id=\"content-text\" slot=\"content\" user-input=\"\"><span class=\"yt-core-attributed-string yt-core-attributed-string--white-space-pre-wrap\" dir=\"auto\" role=\"text\">차에 붙인 스티커...문콕방지..어디서 살 수 있어요..?..</span></yt-attributed-string>, <yt-attributed-string class=\"style-scope ytd-comment-view-model\" id=\"content-text\" slot=\"content\" user-input=\"\"><span class=\"yt-core-attributed-string yt-core-attributed-string--white-space-pre-wrap\" dir=\"auto\" role=\"text\">진짜 5명 케미가 너무 좋다 ㅋㅋㅋ</span></yt-attributed-string>, <yt-attributed-string class=\"style-scope ytd-comment-view-model\" id=\"content-text\" slot=\"content\" user-input=\"\"><span class=\"yt-core-attributed-string yt-core-attributed-string--white-space-pre-wrap\" dir=\"auto\" role=\"text\">미미 예쁘다.</span></yt-attributed-string>, <yt-attributed-string class=\"style-scope ytd-comment-view-model\" id=\"content-text\" slot=\"content\" user-input=\"\"><span class=\"yt-core-attributed-string yt-core-attributed-string--white-space-pre-wrap\" dir=\"auto\" role=\"text\">운전초보 공감되서 너무 재밋음ㅋㅋㅋㅋ</span></yt-attributed-string>, <yt-attributed-string class=\"style-scope ytd-comment-view-model\" id=\"content-text\" slot=\"content\" user-input=\"\"><span class=\"yt-core-attributed-string yt-core-attributed-string--white-space-pre-wrap\" dir=\"auto\" role=\"text\">멤버들 구성이 좋음. 모난사람없고 팀웍이 좋아보여요.</span></yt-attributed-string>, <yt-attributed-string class=\"style-scope ytd-comment-view-model\" id=\"content-text\" slot=\"content\" user-input=\"\"><span class=\"yt-core-attributed-string yt-core-attributed-string--white-space-pre-wrap\" dir=\"auto\" role=\"text\">운전 면허 시험 볼때 반 클런치 하려다 엔진 꺼지는 경우가 다반사인데 \n",
      " 가장 쉬운 방법은 클런치 밟은 상태에서 발에 힘만 빼면 됨 ㅎㅎㅎ</span></yt-attributed-string>, <yt-attributed-string class=\"style-scope ytd-comment-view-model\" id=\"content-text\" slot=\"content\" user-input=\"\"><span class=\"yt-core-attributed-string yt-core-attributed-string--white-space-pre-wrap\" dir=\"auto\"><span class=\"\" dir=\"auto\" style=\"font-weight: 400;\"><a class=\"yt-core-attributed-string__link yt-core-attributed-string__link--display-type yt-core-attributed-string__link--call-to-action-color\" dir=\"auto\" force-new-state=\"true\" href=\"/watch?v=9n2ZMo2590c&amp;t=73s\" rel=\"nofollow\" tabindex=\"0\" target=\"\">1:13</a></span> 푸들 강아지 같아요</span></yt-attributed-string>, <yt-attributed-string class=\"style-scope ytd-comment-view-model\" id=\"content-text\" slot=\"content\" user-input=\"\"><span class=\"yt-core-attributed-string yt-core-attributed-string--white-space-pre-wrap\" dir=\"auto\" role=\"text\">피자타코치즈캣 영상 보여주세요!!! ㅠㅠ</span></yt-attributed-string>, <yt-attributed-string class=\"style-scope ytd-comment-view-model\" id=\"content-text\" slot=\"content\" user-input=\"\"><span class=\"yt-core-attributed-string yt-core-attributed-string--white-space-pre-wrap\" dir=\"auto\" role=\"text\">오프닝 부터 기빨린다</span></yt-attributed-string>, <yt-attributed-string class=\"style-scope ytd-comment-view-model\" id=\"content-text\" slot=\"content\" user-input=\"\"><span class=\"yt-core-attributed-string yt-core-attributed-string--white-space-pre-wrap\" dir=\"auto\"><span class=\"\" dir=\"auto\" style=\"font-weight: 400;\"><a class=\"yt-core-attributed-string__link yt-core-attributed-string__link--display-type yt-core-attributed-string__link--call-to-action-color\" dir=\"auto\" force-new-state=\"true\" href=\"/watch?v=9n2ZMo2590c&amp;t=547s\" rel=\"nofollow\" tabindex=\"0\" target=\"\">9:07</a></span> 솔로지옥이 아니라 나는 솔로ㅠ비주얼 ㅋㅋㅋㅋㅋㅋ</span></yt-attributed-string>, <yt-attributed-string class=\"style-scope ytd-comment-view-model\" id=\"content-text\" slot=\"content\" user-input=\"\"><span class=\"yt-core-attributed-string yt-core-attributed-string--white-space-pre-wrap\" dir=\"auto\" role=\"text\">안탑깝네. 영지님 Manual 내가 한방에 붙을 수있게 가르칠 수 있는데..화이팅<span class=\"yt-core-attributed-string--inline-flex-mod\" style=\"margin-left: 2px; margin-right: 2px;\"><img alt=\"\" class=\"yt-core-image yt-core-attributed-string__image-element yt-core-attributed-string__image-element--image-alignment-vertical-center yt-core-image--content-mode-scale-to-fill\" style=\"height: 16px; width: 16px;\"/></span></span></yt-attributed-string>, <yt-attributed-string class=\"style-scope ytd-comment-view-model\" id=\"content-text\" slot=\"content\" user-input=\"\"><span class=\"yt-core-attributed-string yt-core-attributed-string--white-space-pre-wrap\" dir=\"auto\" role=\"text\">지락이의 뛰뛰빵빵만 기다리구 있습니다 ㅎㅎ</span></yt-attributed-string>, <yt-attributed-string class=\"style-scope ytd-comment-view-model\" id=\"content-text\" slot=\"content\" user-input=\"\"><span class=\"yt-core-attributed-string yt-core-attributed-string--white-space-pre-wrap\" dir=\"auto\" role=\"text\">컨텐츠도 좋지만 이렇게 위험을 감수할 필요가 있을까요? 물론  안전대비하셨겠지만  도로위 상황은 어떻게 될지 아무도 모르니까요 엄마같은 마음으로 걱정스러워 드리는 말입니다 ㅠㅠ</span></yt-attributed-string>, <yt-attributed-string class=\"style-scope ytd-comment-view-model\" id=\"content-text\" slot=\"content\" user-input=\"\"><span class=\"yt-core-attributed-string yt-core-attributed-string--white-space-pre-wrap\" dir=\"auto\" role=\"text\">나도 1종보통 탔는데 도로주행시험 3번 낙방해서 돈을 얼마나 썼는지ㅋ;</span></yt-attributed-string>, <yt-attributed-string class=\"style-scope ytd-comment-view-model\" id=\"content-text\" slot=\"content\" user-input=\"\"><span class=\"yt-core-attributed-string yt-core-attributed-string--white-space-pre-wrap\" dir=\"auto\" role=\"text\">유진이 진짜 멋있다…. 지락실 모두 안전하고 행복만 하기를!!!!</span></yt-attributed-string>, <yt-attributed-string class=\"style-scope ytd-comment-view-model\" id=\"content-text\" slot=\"content\" user-input=\"\"><span class=\"yt-core-attributed-string yt-core-attributed-string--white-space-pre-wrap\" dir=\"auto\" role=\"text\">동네 운전 2개월 찬데 ㅋㅋㅋ 너무 공감되요 ㅋ</span></yt-attributed-string>, <yt-attributed-string class=\"style-scope ytd-comment-view-model\" id=\"content-text\" slot=\"content\" user-input=\"\"><span class=\"yt-core-attributed-string yt-core-attributed-string--white-space-pre-wrap\" dir=\"auto\" role=\"text\">얜 나영석읕 매번김태호 피디꺼 뺏기기나 하고 창의성이없어</span></yt-attributed-string>, <yt-attributed-string class=\"style-scope ytd-comment-view-model\" id=\"content-text\" slot=\"content\" user-input=\"\"><span class=\"yt-core-attributed-string yt-core-attributed-string--white-space-pre-wrap\" dir=\"auto\"><span class=\"\" dir=\"auto\" style=\"font-weight: 400;\"><a class=\"yt-core-attributed-string__link yt-core-attributed-string__link--display-type yt-core-attributed-string__link--call-to-action-color\" dir=\"auto\" force-new-state=\"true\" href=\"/watch?v=9n2ZMo2590c&amp;t=237s\" rel=\"nofollow\" tabindex=\"0\" target=\"\">3:57</a></span>   앗...  내 고막 ;;;</span></yt-attributed-string>, <yt-attributed-string class=\"style-scope ytd-comment-view-model\" id=\"content-text\" slot=\"content\" user-input=\"\"><span class=\"yt-core-attributed-string yt-core-attributed-string--white-space-pre-wrap\" dir=\"auto\" role=\"text\">오앙 너무 재밋어요<span class=\"yt-core-attributed-string--inline-flex-mod\" style=\"margin-left: 2px; margin-right: 2px;\"><img alt=\"\" class=\"yt-core-image yt-core-attributed-string__image-element yt-core-attributed-string__image-element--image-alignment-vertical-center yt-core-image--content-mode-scale-to-fill yt-core-image--loaded\" src=\"https://www.youtube.com/s/gaming/emoji/7ff574f2/emoji_u2764.png\" style=\"height: 16px; width: 16px;\"/></span><span class=\"yt-core-attributed-string--inline-flex-mod\" style=\"margin-left: 2px; margin-right: 2px;\"><img alt=\"\" class=\"yt-core-image yt-core-attributed-string__image-element yt-core-attributed-string__image-element--image-alignment-vertical-center yt-core-image--content-mode-scale-to-fill yt-core-image--loaded\" src=\"https://www.youtube.com/s/gaming/emoji/7ff574f2/emoji_u2764.png\" style=\"height: 16px; width: 16px;\"/></span><span class=\"yt-core-attributed-string--inline-flex-mod\" style=\"margin-left: 2px; margin-right: 2px;\"><img alt=\"\" class=\"yt-core-image yt-core-attributed-string__image-element yt-core-attributed-string__image-element--image-alignment-vertical-center yt-core-image--content-mode-scale-to-fill yt-core-image--loaded\" src=\"https://www.youtube.com/s/gaming/emoji/7ff574f2/emoji_u2764.png\" style=\"height: 16px; width: 16px;\"/></span> 다음화 너무 기대되영<span class=\"yt-core-attributed-string--inline-flex-mod\" style=\"margin-left: 2px; margin-right: 2px;\"><img alt=\"\" class=\"yt-core-image yt-core-attributed-string__image-element yt-core-attributed-string__image-element--image-alignment-vertical-center yt-core-image--content-mode-scale-to-fill yt-core-image--loaded\" src=\"https://www.youtube.com/s/gaming/emoji/7ff574f2/emoji_u2764.png\" style=\"height: 16px; width: 16px;\"/></span><span class=\"yt-core-attributed-string--inline-flex-mod\" style=\"margin-left: 2px; margin-right: 2px;\"><img alt=\"\" class=\"yt-core-image yt-core-attributed-string__image-element yt-core-attributed-string__image-element--image-alignment-vertical-center yt-core-image--content-mode-scale-to-fill yt-core-image--loaded\" src=\"https://www.youtube.com/s/gaming/emoji/7ff574f2/emoji_u2764.png\" style=\"height: 16px; width: 16px;\"/></span><span class=\"yt-core-attributed-string--inline-flex-mod\" style=\"margin-left: 2px; margin-right: 2px;\"><img alt=\"\" class=\"yt-core-image yt-core-attributed-string__image-element yt-core-attributed-string__image-element--image-alignment-vertical-center yt-core-image--content-mode-scale-to-fill yt-core-image--loaded\" src=\"https://www.youtube.com/s/gaming/emoji/7ff574f2/emoji_u2764.png\" style=\"height: 16px; width: 16px;\"/></span></span></yt-attributed-string>, <yt-attributed-string class=\"style-scope ytd-comment-view-model\" id=\"content-text\" slot=\"content\" user-input=\"\"><span class=\"yt-core-attributed-string yt-core-attributed-string--white-space-pre-wrap\" dir=\"auto\" role=\"text\">미미 머리 머선일 너무 귀여움 ㅋ</span></yt-attributed-string>, <yt-attributed-string class=\"style-scope ytd-comment-view-model\" id=\"content-text\" slot=\"content\" user-input=\"\"><span class=\"yt-core-attributed-string yt-core-attributed-string--white-space-pre-wrap\" dir=\"auto\" role=\"text\">우리 딸래미 3년뒤면 면허 딸텐데저렇게 말해주는 마인드를 배워야 겠다 옆에서 불안하게 하지 말고 도로에서도 초보운전 만나면 좀더 이해해줘야지 하는 생각을 예능에서 배울줄이야 ㅋ</span></yt-attributed-string>, <yt-attributed-string class=\"style-scope ytd-comment-view-model\" id=\"content-text\" slot=\"content\" user-input=\"\"><span class=\"yt-core-attributed-string yt-core-attributed-string--white-space-pre-wrap\" dir=\"auto\" role=\"text\">유진이멋있다\n",
      "면허도따고 답사까지\n",
      "이쁨받을짓만골라서하네</span></yt-attributed-string>, <yt-attributed-string class=\"style-scope ytd-comment-view-model\" id=\"content-text\" slot=\"content\" user-input=\"\"><span class=\"yt-core-attributed-string yt-core-attributed-string--white-space-pre-wrap\" dir=\"auto\" role=\"text\">나피디님 넘 웃겨요 ㅋㅋ</span></yt-attributed-string>, <yt-attributed-string class=\"style-scope ytd-comment-view-model\" id=\"content-text\" slot=\"content\" user-input=\"\"><span class=\"yt-core-attributed-string yt-core-attributed-string--white-space-pre-wrap\" dir=\"auto\" role=\"text\">미미는 운전면허가 있나요? 몰라서 물어봅니다</span></yt-attributed-string>, <yt-attributed-string class=\"style-scope ytd-comment-view-model\" id=\"content-text\" slot=\"content\" user-input=\"\"><span class=\"yt-core-attributed-string yt-core-attributed-string--white-space-pre-wrap\" dir=\"auto\" role=\"text\">솔이 선재도 얼른 업고 튀어주세요..<span class=\"yt-core-attributed-string--inline-flex-mod\" style=\"margin-left: 2px; margin-right: 2px;\"><img alt=\"\" class=\"yt-core-image yt-core-attributed-string__image-element yt-core-attributed-string__image-element--image-alignment-vertical-center yt-core-image--content-mode-scale-to-fill yt-core-image--loaded\" src=\"https://www.youtube.com/s/gaming/emoji/7ff574f2/emoji_u2764.png\" style=\"height: 16px; width: 16px;\"/></span></span></yt-attributed-string>, <yt-attributed-string class=\"style-scope ytd-comment-view-model\" id=\"content-text\" slot=\"content\" user-input=\"\"><span class=\"yt-core-attributed-string yt-core-attributed-string--white-space-pre-wrap\" dir=\"auto\"><span class=\"\" dir=\"auto\" style=\"font-weight: 400;\"><a class=\"yt-core-attributed-string__link yt-core-attributed-string__link--display-type yt-core-attributed-string__link--call-to-action-color\" dir=\"auto\" force-new-state=\"true\" href=\"/watch?v=9n2ZMo2590c&amp;t=1943s\" rel=\"nofollow\" tabindex=\"0\" target=\"\">32:23</a></span> 유진님 핸드폰케이스 궁금해요 ㅠㅠ!</span></yt-attributed-string>, <yt-attributed-string class=\"style-scope ytd-comment-view-model\" id=\"content-text\" slot=\"content\" user-input=\"\"><span class=\"yt-core-attributed-string yt-core-attributed-string--white-space-pre-wrap\" dir=\"auto\" role=\"text\">안댕댕 뭘해도 다 귀엽네</span></yt-attributed-string>, <yt-attributed-string class=\"style-scope ytd-comment-view-model\" id=\"content-text\" slot=\"content\" user-input=\"\"><span class=\"yt-core-attributed-string yt-core-attributed-string--white-space-pre-wrap\" dir=\"auto\" role=\"text\">드라이브쓰루 나올때 은지님의 오른 팔은  운전자에게는 슬쩍 감추는 자유를 갈망하는 짠한 마음의 표현.</span></yt-attributed-string>, <yt-attributed-string class=\"style-scope ytd-comment-view-model\" id=\"content-text\" slot=\"content\" user-input=\"\"><span class=\"yt-core-attributed-string yt-core-attributed-string--white-space-pre-wrap\" dir=\"auto\" role=\"text\">진~짜 재미있게 긴장감 가지고 봤어요~!! 다음편 기대됩니다~!!</span></yt-attributed-string>, <yt-attributed-string class=\"style-scope ytd-comment-view-model\" id=\"content-text\" slot=\"content\" user-input=\"\"><span class=\"yt-core-attributed-string yt-core-attributed-string--white-space-pre-wrap\" dir=\"auto\" role=\"text\">lmao the only time i ever crashed was at a mcdonalds drive thru cus i cut the corner and my side mirror hit the pole and broke LOL</span></yt-attributed-string>, <yt-attributed-string class=\"style-scope ytd-comment-view-model\" id=\"content-text\" slot=\"content\" user-input=\"\"><span class=\"yt-core-attributed-string yt-core-attributed-string--white-space-pre-wrap\" dir=\"auto\" role=\"text\">차 뒤에 초보운전스티커를 두개나 붙여놨네 ㅋㅋㅋ</span></yt-attributed-string>, <yt-attributed-string class=\"style-scope ytd-comment-view-model\" id=\"content-text\" slot=\"content\" user-input=\"\"><span class=\"yt-core-attributed-string yt-core-attributed-string--white-space-pre-wrap\" dir=\"auto\" role=\"text\">영지 화장하면 어색함..</span></yt-attributed-string>, <yt-attributed-string class=\"style-scope ytd-comment-view-model\" id=\"content-text\" slot=\"content\" user-input=\"\"><span class=\"yt-core-attributed-string yt-core-attributed-string--white-space-pre-wrap\" dir=\"auto\" role=\"text\">ㅋㅋㅋㅋㅋ 이 인재들을 어떻데 이렇게 모셔왔냐구용ㅋㅋㅋㅋㅋ 너무 귀엽고 재밌는 흥부자들~~ I이지만 이 기빨림은 싫지만은 않네요.....ㅋㅋㅋㅋ</span></yt-attributed-string>, <yt-attributed-string class=\"style-scope ytd-comment-view-model\" id=\"content-text\" slot=\"content\" user-input=\"\"><span class=\"yt-core-attributed-string yt-core-attributed-string--white-space-pre-wrap\" dir=\"auto\" role=\"text\">유진이 단발 진짜 이쁘다</span></yt-attributed-string>, <yt-attributed-string class=\"style-scope ytd-comment-view-model\" id=\"content-text\" slot=\"content\" user-input=\"\"><span class=\"yt-core-attributed-string yt-core-attributed-string--white-space-pre-wrap\" dir=\"auto\" role=\"text\">와 아무리 tvn에서 한다지만 유튜브 방송에서 벤츠랑 맥도날드 ppl ㄷㄷ</span></yt-attributed-string>, <yt-attributed-string class=\"style-scope ytd-comment-view-model\" id=\"content-text\" slot=\"content\" user-input=\"\"><span class=\"yt-core-attributed-string yt-core-attributed-string--white-space-pre-wrap\" dir=\"auto\" role=\"text\">유진이 운전할떄 다들 어디잡으시는거 왤캐웃기냐 ㅋㅋㅋㅋ</span></yt-attributed-string>, <yt-attributed-string class=\"style-scope ytd-comment-view-model\" id=\"content-text\" slot=\"content\" user-input=\"\"><span class=\"yt-core-attributed-string yt-core-attributed-string--white-space-pre-wrap\" dir=\"auto\" role=\"text\">요즘은 1종도 없어질거같던데 ㅋㅋ 특정 차량 아니면 필요가없어서 ㅋㅋㅋ</span></yt-attributed-string>, <yt-attributed-string class=\"style-scope ytd-comment-view-model\" id=\"content-text\" slot=\"content\" user-input=\"\"><span class=\"yt-core-attributed-string yt-core-attributed-string--white-space-pre-wrap\" dir=\"auto\" role=\"text\">bro theres no way, I start this ep eating papa john's and they get papa john's almost 10 mins into the ep</span></yt-attributed-string>, <yt-attributed-string class=\"style-scope ytd-comment-view-model\" id=\"content-text\" slot=\"content\" user-input=\"\"><span class=\"yt-core-attributed-string yt-core-attributed-string--white-space-pre-wrap\" dir=\"auto\" role=\"text\">맥날DT 나 스벅DT 나 좁긴 함</span></yt-attributed-string>, <yt-attributed-string class=\"style-scope ytd-comment-view-model\" id=\"content-text\" slot=\"content\" user-input=\"\"><span class=\"yt-core-attributed-string yt-core-attributed-string--white-space-pre-wrap\" dir=\"auto\" role=\"text\">아~<span class=\"yt-core-attributed-string--inline-flex-mod\" style=\"margin-left: 2px; margin-right: 2px;\"><img alt=\"\" class=\"yt-core-image yt-core-attributed-string__image-element yt-core-attributed-string__image-element--image-alignment-vertical-center yt-core-image--content-mode-scale-to-fill yt-core-image--loaded\" src=\"https://www.youtube.com/s/gaming/emoji/7ff574f2/emoji_u2764.png\" style=\"height: 16px; width: 16px;\"/></span> 진짜 이 조합 너무 좋아요<span class=\"yt-core-attributed-string--inline-flex-mod\" style=\"margin-left: 2px; margin-right: 2px;\"><img alt=\"\" class=\"yt-core-image yt-core-attributed-string__image-element yt-core-attributed-string__image-element--image-alignment-vertical-center yt-core-image--content-mode-scale-to-fill yt-core-image--loaded\" src=\"https://www.youtube.com/s/gaming/emoji/7ff574f2/emoji_u2764.png\" style=\"height: 16px; width: 16px;\"/></span><span class=\"yt-core-attributed-string--inline-flex-mod\" style=\"margin-left: 2px; margin-right: 2px;\"><img alt=\"\" class=\"yt-core-image yt-core-attributed-string__image-element yt-core-attributed-string__image-element--image-alignment-vertical-center yt-core-image--content-mode-scale-to-fill yt-core-image--loaded\" src=\"https://www.youtube.com/s/gaming/emoji/7ff574f2/emoji_u2764.png\" style=\"height: 16px; width: 16px;\"/></span><span class=\"yt-core-attributed-string--inline-flex-mod\" style=\"margin-left: 2px; margin-right: 2px;\"><img alt=\"\" class=\"yt-core-image yt-core-attributed-string__image-element yt-core-attributed-string__image-element--image-alignment-vertical-center yt-core-image--content-mode-scale-to-fill yt-core-image--loaded\" src=\"https://www.youtube.com/s/gaming/emoji/7ff574f2/emoji_u2764.png\" style=\"height: 16px; width: 16px;\"/></span></span></yt-attributed-string>, <yt-attributed-string class=\"style-scope ytd-comment-view-model\" id=\"content-text\" slot=\"content\" user-input=\"\"><span class=\"yt-core-attributed-string yt-core-attributed-string--white-space-pre-wrap\" dir=\"auto\" role=\"text\">미미 진짜 착하다 ㅠㅠㅠㅠㅠ 너무 이쁘다 진짜 ㅠㅠㅠ 지락실 멤버 넘나 조아 ㅠㅠㅠㅠ</span></yt-attributed-string>, <yt-attributed-string class=\"style-scope ytd-comment-view-model\" id=\"content-text\" slot=\"content\" user-input=\"\"><span class=\"yt-core-attributed-string yt-core-attributed-string--white-space-pre-wrap\" dir=\"auto\" role=\"text\">유진님 초보운전 팁 : \n",
      "앞으로 전진 시 할 수 있는 만큼 최대한 바깥쪽으로 크게 돌고요. (왜냐면 뒷바퀴가 안쪽으로 말려 들어오기 때문에..)\n",
      "뒤로 후진할 때는 백미러 잘 보면서 안쪽으로 붙여서 돌아보세요.\n",
      "\n",
      "안전운전 위해 멤버들 배려심 대단하네요. ㅎㅎ</span></yt-attributed-string>, <yt-attributed-string class=\"style-scope ytd-comment-view-model\" id=\"content-text\" slot=\"content\" user-input=\"\"><span class=\"yt-core-attributed-string yt-core-attributed-string--white-space-pre-wrap\" dir=\"auto\"><span class=\"\" dir=\"auto\" style=\"font-weight: 400;\"><a class=\"yt-core-attributed-string__link yt-core-attributed-string__link--display-type yt-core-attributed-string__link--call-to-action-color\" dir=\"auto\" force-new-state=\"true\" href=\"/watch?v=9n2ZMo2590c&amp;t=3637s\" rel=\"nofollow\" tabindex=\"0\" target=\"\">1:00:37</a></span>이때 미미도 차키 누른거 아님?ㅋㅋㅋㅋㅋㅋㅋㅋ 손보면 버튼 누른거같은데 ㅋㅋㅋㅋ</span></yt-attributed-string>, <yt-attributed-string class=\"style-scope ytd-comment-view-model\" id=\"content-text\" slot=\"content\" user-input=\"\"><span class=\"yt-core-attributed-string yt-core-attributed-string--white-space-pre-wrap\" dir=\"auto\" role=\"text\">굿굿</span></yt-attributed-string>, <yt-attributed-string class=\"style-scope ytd-comment-view-model\" id=\"content-text\" slot=\"content\" user-input=\"\"><span class=\"yt-core-attributed-string yt-core-attributed-string--white-space-pre-wrap\" dir=\"auto\" role=\"text\">NO 학원 NO 자본 NO 시간 \n",
      "그 모든 걸 극복한 유진이가 대단하네요 ㅎㅎ</span></yt-attributed-string>, <yt-attributed-string class=\"style-scope ytd-comment-view-model\" id=\"content-text\" slot=\"content\" user-input=\"\"><span class=\"yt-core-attributed-string yt-core-attributed-string--white-space-pre-wrap\" dir=\"auto\" role=\"text\">아니 조회수 미쳤냐고 ㅋㅋㅋㅋ</span></yt-attributed-string>, <yt-attributed-string class=\"style-scope ytd-comment-view-model\" id=\"content-text\" slot=\"content\" user-input=\"\"><span class=\"yt-core-attributed-string yt-core-attributed-string--white-space-pre-wrap\" dir=\"auto\" role=\"text\">기능이 저정도면 진짜 운전하면안됔 ㅋ ㅋ</span></yt-attributed-string>, <yt-attributed-string class=\"style-scope ytd-comment-view-model\" id=\"content-text\" slot=\"content\" user-input=\"\"><span class=\"yt-core-attributed-string yt-core-attributed-string--white-space-pre-wrap\" dir=\"auto\"><span class=\"\" dir=\"auto\" style=\"font-weight: 400;\"><a class=\"yt-core-attributed-string__link yt-core-attributed-string__link--display-type yt-core-attributed-string__link--call-to-action-color\" dir=\"auto\" force-new-state=\"true\" href=\"/watch?v=9n2ZMo2590c&amp;t=4980s\" rel=\"nofollow\" tabindex=\"0\" target=\"\">1:23:00</a></span>나도 첫차때 저랫음ㅋㅋ</span></yt-attributed-string>, <yt-attributed-string class=\"style-scope ytd-comment-view-model\" id=\"content-text\" slot=\"content\" user-input=\"\"><span class=\"yt-core-attributed-string yt-core-attributed-string--white-space-pre-wrap\" dir=\"auto\" role=\"text\">빨리 시골편 보고싶다</span></yt-attributed-string>, <yt-attributed-string class=\"style-scope ytd-comment-view-model\" id=\"content-text\" slot=\"content\" user-input=\"\"><span class=\"yt-core-attributed-string yt-core-attributed-string--white-space-pre-wrap\" dir=\"auto\" role=\"text\">Take a video about this , The world is now ruled by one community of people, the world Satanic elite, you can also call them the committee to meet the Antichrist and prevent the 2nd coming of Jesus, Trump called them the deep state, at the moment it consists of about 10,000 people, the main ones there are Rockefellers, Rothschilds, Windsors, Baruchs, they, their ancestors, descendants and other people who enter there have the mark of Lucifer, which, if they bring the antichrist and do not allow the 2nd coming, they will receive eternal life after the x hour, and the rest of humanity, for all the time that they have lived, they won't get anything, so all people should know about the existence of a world government  (Jesus who was a The Prophet of God, not God.God will send Jesus as a reward to humanity, if humanity deserves it, for this it is necessary to fight Lucifer and his elite)</span></yt-attributed-string>, <yt-attributed-string class=\"style-scope ytd-comment-view-model\" id=\"content-text\" slot=\"content\" user-input=\"\"><span class=\"yt-core-attributed-string yt-core-attributed-string--white-space-pre-wrap\" dir=\"auto\" role=\"text\">yujin is just SOO amazing <span class=\"yt-core-attributed-string--inline-flex-mod\" style=\"margin-left: 2px; margin-right: 2px;\"><img alt=\"\" class=\"yt-core-image yt-core-attributed-string__image-element yt-core-attributed-string__image-element--image-alignment-vertical-center yt-core-image--content-mode-scale-to-fill\" style=\"height: 16px; width: 16px;\"/></span><span class=\"yt-core-attributed-string--inline-flex-mod\" style=\"margin-left: 2px; margin-right: 2px;\"><img alt=\"\" class=\"yt-core-image yt-core-attributed-string__image-element yt-core-attributed-string__image-element--image-alignment-vertical-center yt-core-image--content-mode-scale-to-fill\" style=\"height: 16px; width: 16px;\"/></span><span class=\"yt-core-attributed-string--inline-flex-mod\" style=\"margin-left: 2px; margin-right: 2px;\"><img alt=\"\" class=\"yt-core-image yt-core-attributed-string__image-element yt-core-attributed-string__image-element--image-alignment-vertical-center yt-core-image--content-mode-scale-to-fill\" style=\"height: 16px; width: 16px;\"/></span> humble, talented and hardworking - she's just too good and perfect for this world <span class=\"yt-core-attributed-string--inline-flex-mod\" style=\"margin-left: 2px; margin-right: 2px;\"><img alt=\"\" class=\"yt-core-image yt-core-attributed-string__image-element yt-core-attributed-string__image-element--image-alignment-vertical-center yt-core-image--content-mode-scale-to-fill\" style=\"height: 16px; width: 16px;\"/></span>🫶<span class=\"yt-core-attributed-string--inline-flex-mod\" style=\"margin-left: 2px; margin-right: 2px;\"><img alt=\"\" class=\"yt-core-image yt-core-attributed-string__image-element yt-core-attributed-string__image-element--image-alignment-vertical-center yt-core-image--content-mode-scale-to-fill\" style=\"height: 16px; width: 16px;\"/></span>🫶<span class=\"yt-core-attributed-string--inline-flex-mod\" style=\"margin-left: 2px; margin-right: 2px;\"><img alt=\"\" class=\"yt-core-image yt-core-attributed-string__image-element yt-core-attributed-string__image-element--image-alignment-vertical-center yt-core-image--content-mode-scale-to-fill\" style=\"height: 16px; width: 16px;\"/></span>🫶<span class=\"yt-core-attributed-string--inline-flex-mod\" style=\"margin-left: 2px; margin-right: 2px;\"><img alt=\"\" class=\"yt-core-image yt-core-attributed-string__image-element yt-core-attributed-string__image-element--image-alignment-vertical-center yt-core-image--content-mode-scale-to-fill\" style=\"height: 16px; width: 16px;\"/></span></span></yt-attributed-string>, <yt-attributed-string class=\"style-scope ytd-comment-view-model\" id=\"content-text\" slot=\"content\" user-input=\"\"><span class=\"yt-core-attributed-string yt-core-attributed-string--white-space-pre-wrap\" dir=\"auto\" role=\"text\">ㅋㅋㅌㅋ 너무 재밋다 ㅠㅠ</span></yt-attributed-string>, <yt-attributed-string class=\"style-scope ytd-comment-view-model\" id=\"content-text\" slot=\"content\" user-input=\"\"><span class=\"yt-core-attributed-string yt-core-attributed-string--white-space-pre-wrap\" dir=\"auto\" role=\"text\"><span class=\"yt-core-attributed-string--inline-flex-mod\" style=\"margin-left: 2px; margin-right: 2px;\"><img alt=\"\" class=\"yt-core-image yt-core-attributed-string__image-element yt-core-attributed-string__image-element--image-alignment-vertical-center yt-core-image--content-mode-scale-to-fill\" style=\"height: 16px; width: 16px;\"/></span><span class=\"yt-core-attributed-string--inline-flex-mod\" style=\"margin-left: 2px; margin-right: 2px;\"><img alt=\"\" class=\"yt-core-image yt-core-attributed-string__image-element yt-core-attributed-string__image-element--image-alignment-vertical-center yt-core-image--content-mode-scale-to-fill\" style=\"height: 16px; width: 16px;\"/></span><span class=\"yt-core-attributed-string--inline-flex-mod\" style=\"margin-left: 2px; margin-right: 2px;\"><img alt=\"\" class=\"yt-core-image yt-core-attributed-string__image-element yt-core-attributed-string__image-element--image-alignment-vertical-center yt-core-image--content-mode-scale-to-fill\" style=\"height: 16px; width: 16px;\"/></span><span class=\"yt-core-attributed-string--inline-flex-mod\" style=\"margin-left: 2px; margin-right: 2px;\"><img alt=\"\" class=\"yt-core-image yt-core-attributed-string__image-element yt-core-attributed-string__image-element--image-alignment-vertical-center yt-core-image--content-mode-scale-to-fill\" style=\"height: 16px; width: 16px;\"/></span><span class=\"yt-core-attributed-string--inline-flex-mod\" style=\"margin-left: 2px; margin-right: 2px;\"><img alt=\"\" class=\"yt-core-image yt-core-attributed-string__image-element yt-core-attributed-string__image-element--image-alignment-vertical-center yt-core-image--content-mode-scale-to-fill\" style=\"height: 16px; width: 16px;\"/></span><span class=\"yt-core-attributed-string--inline-flex-mod\" style=\"margin-left: 2px; margin-right: 2px;\"><img alt=\"\" class=\"yt-core-image yt-core-attributed-string__image-element yt-core-attributed-string__image-element--image-alignment-vertical-center yt-core-image--content-mode-scale-to-fill\" style=\"height: 16px; width: 16px;\"/></span><span class=\"yt-core-attributed-string--inline-flex-mod\" style=\"margin-left: 2px; margin-right: 2px;\"><img alt=\"\" class=\"yt-core-image yt-core-attributed-string__image-element yt-core-attributed-string__image-element--image-alignment-vertical-center yt-core-image--content-mode-scale-to-fill\" style=\"height: 16px; width: 16px;\"/></span>진짜 꿀잼… <span class=\"yt-core-attributed-string--inline-flex-mod\" style=\"margin-left: 2px; margin-right: 2px;\"><img alt=\"\" class=\"yt-core-image yt-core-attributed-string__image-element yt-core-attributed-string__image-element--image-alignment-vertical-center yt-core-image--content-mode-scale-to-fill\" style=\"height: 16px; width: 16px;\"/></span><span class=\"yt-core-attributed-string--inline-flex-mod\" style=\"margin-left: 2px; margin-right: 2px;\"><img alt=\"\" class=\"yt-core-image yt-core-attributed-string__image-element yt-core-attributed-string__image-element--image-alignment-vertical-center yt-core-image--content-mode-scale-to-fill\" style=\"height: 16px; width: 16px;\"/></span><span class=\"yt-core-attributed-string--inline-flex-mod\" style=\"margin-left: 2px; margin-right: 2px;\"><img alt=\"\" class=\"yt-core-image yt-core-attributed-string__image-element yt-core-attributed-string__image-element--image-alignment-vertical-center yt-core-image--content-mode-scale-to-fill\" style=\"height: 16px; width: 16px;\"/></span><span class=\"yt-core-attributed-string--inline-flex-mod\" style=\"margin-left: 2px; margin-right: 2px;\"><img alt=\"\" class=\"yt-core-image yt-core-attributed-string__image-element yt-core-attributed-string__image-element--image-alignment-vertical-center yt-core-image--content-mode-scale-to-fill\" style=\"height: 16px; width: 16px;\"/></span><span class=\"yt-core-attributed-string--inline-flex-mod\" style=\"margin-left: 2px; margin-right: 2px;\"><img alt=\"\" class=\"yt-core-image yt-core-attributed-string__image-element yt-core-attributed-string__image-element--image-alignment-vertical-center yt-core-image--content-mode-scale-to-fill\" style=\"height: 16px; width: 16px;\"/></span><span class=\"yt-core-attributed-string--inline-flex-mod\" style=\"margin-left: 2px; margin-right: 2px;\"><img alt=\"\" class=\"yt-core-image yt-core-attributed-string__image-element yt-core-attributed-string__image-element--image-alignment-vertical-center yt-core-image--content-mode-scale-to-fill\" style=\"height: 16px; width: 16px;\"/></span><span class=\"yt-core-attributed-string--inline-flex-mod\" style=\"margin-left: 2px; margin-right: 2px;\"><img alt=\"\" class=\"yt-core-image yt-core-attributed-string__image-element yt-core-attributed-string__image-element--image-alignment-vertical-center yt-core-image--content-mode-scale-to-fill\" style=\"height: 16px; width: 16px;\"/></span><span class=\"yt-core-attributed-string--inline-flex-mod\" style=\"margin-left: 2px; margin-right: 2px;\"><img alt=\"\" class=\"yt-core-image yt-core-attributed-string__image-element yt-core-attributed-string__image-element--image-alignment-vertical-center yt-core-image--content-mode-scale-to-fill\" style=\"height: 16px; width: 16px;\"/></span></span></yt-attributed-string>, <yt-attributed-string class=\"style-scope ytd-comment-view-model\" id=\"content-text\" slot=\"content\" user-input=\"\"><span class=\"yt-core-attributed-string yt-core-attributed-string--white-space-pre-wrap\" dir=\"auto\"><span class=\"\" dir=\"auto\" style=\"font-weight: 400;\"><a class=\"yt-core-attributed-string__link yt-core-attributed-string__link--display-type yt-core-attributed-string__link--call-to-action-color\" dir=\"auto\" force-new-state=\"true\" href=\"/watch?v=9n2ZMo2590c&amp;t=2243s\" rel=\"nofollow\" tabindex=\"0\" target=\"\">37:23</a></span></span></yt-attributed-string>, <yt-attributed-string class=\"style-scope ytd-comment-view-model\" id=\"content-text\" slot=\"content\" user-input=\"\"><span class=\"yt-core-attributed-string yt-core-attributed-string--white-space-pre-wrap\" dir=\"auto\" role=\"text\">미미 샵 갔다 온 머리 너무 이쁘다</span></yt-attributed-string>, <yt-attributed-string class=\"style-scope ytd-comment-view-model\" id=\"content-text\" slot=\"content\" user-input=\"\"><span class=\"yt-core-attributed-string yt-core-attributed-string--white-space-pre-wrap\" dir=\"auto\"><span class=\"\" dir=\"auto\" style=\"font-weight: 400;\"><a class=\"yt-core-attributed-string__link yt-core-attributed-string__link--display-type yt-core-attributed-string__link--call-to-action-color\" dir=\"auto\" force-new-state=\"true\" href=\"/watch?v=9n2ZMo2590c&amp;t=3213s\" rel=\"nofollow\" tabindex=\"0\" target=\"\">53:33</a></span></span></yt-attributed-string>, <yt-attributed-string class=\"style-scope ytd-comment-view-model\" id=\"content-text\" slot=\"content\" user-input=\"\"><span class=\"yt-core-attributed-string yt-core-attributed-string--white-space-pre-wrap\" dir=\"auto\" role=\"text\">벤츠에 운전 연수 붙어 있으면 옆차들이 무섭긴 했겠다ㅋㅋㅋㅋ</span></yt-attributed-string>, <yt-attributed-string class=\"style-scope ytd-comment-view-model\" id=\"content-text\" slot=\"content\" user-input=\"\"><span class=\"yt-core-attributed-string yt-core-attributed-string--white-space-pre-wrap\" dir=\"auto\" role=\"text\">영지는 역시 래퍼...</span></yt-attributed-string>, <yt-attributed-string class=\"style-scope ytd-comment-view-model\" id=\"content-text\" slot=\"content\" user-input=\"\"><span class=\"yt-core-attributed-string yt-core-attributed-string--white-space-pre-wrap\" dir=\"auto\" role=\"text\">not the mcdonalds….</span></yt-attributed-string>, <yt-attributed-string class=\"style-scope ytd-comment-view-model\" id=\"content-text\" slot=\"content\" user-input=\"\"><span class=\"yt-core-attributed-string yt-core-attributed-string--white-space-pre-wrap\" dir=\"auto\" role=\"text\">풀로 다 봤네.. 영상 더 길게 만들어줘요 짧아요</span></yt-attributed-string>, <yt-attributed-string class=\"style-scope ytd-comment-view-model\" id=\"content-text\" slot=\"content\" user-input=\"\"><span class=\"yt-core-attributed-string yt-core-attributed-string--white-space-pre-wrap\" dir=\"auto\"><span class=\"\" dir=\"auto\" style=\"font-weight: 400;\"><a class=\"yt-core-attributed-string__link yt-core-attributed-string__link--display-type yt-core-attributed-string__link--call-to-action-color\" dir=\"auto\" force-new-state=\"true\" href=\"/watch?v=9n2ZMo2590c&amp;t=318s\" rel=\"nofollow\" tabindex=\"0\" target=\"\">5:18</a></span> 덱스 필 ㅋㅋㅋㅋ ㅋㅋ ㅋ ㅋㅋ ㅋ</span></yt-attributed-string>, <yt-attributed-string class=\"style-scope ytd-comment-view-model\" id=\"content-text\" slot=\"content\" user-input=\"\"><span class=\"yt-core-attributed-string yt-core-attributed-string--white-space-pre-wrap\" dir=\"auto\"><span class=\"\" dir=\"auto\" style=\"font-weight: 400;\"><a class=\"yt-core-attributed-string__link yt-core-attributed-string__link--display-type yt-core-attributed-string__link--call-to-action-color\" dir=\"auto\" force-new-state=\"true\" href=\"/watch?v=9n2ZMo2590c&amp;t=3913s\" rel=\"nofollow\" tabindex=\"0\" target=\"\">1:05:13</a></span></span></yt-attributed-string>, <yt-attributed-string class=\"style-scope ytd-comment-view-model\" id=\"content-text\" slot=\"content\" user-input=\"\"><span class=\"yt-core-attributed-string yt-core-attributed-string--white-space-pre-wrap\" dir=\"auto\" role=\"text\">멀 해도 성공할 성실함과 인성과 지성을 겸비한 …심지어 저렇게 이뻐.. 어떻게 안 이뻐함?</span></yt-attributed-string>, <yt-attributed-string class=\"style-scope ytd-comment-view-model\" id=\"content-text\" slot=\"content\" user-input=\"\"><span class=\"yt-core-attributed-string yt-core-attributed-string--white-space-pre-wrap\" dir=\"auto\" role=\"text\">뭐 하고 있느라 화면 많이 안보고 듣기만 했는데도 겁나 재미써ㅋㅋㅋㅋㅋ 이 조합 오래가길</span></yt-attributed-string>, <yt-attributed-string class=\"style-scope ytd-comment-view-model\" id=\"content-text\" slot=\"content\" user-input=\"\"><span class=\"yt-core-attributed-string yt-core-attributed-string--white-space-pre-wrap\" dir=\"auto\" role=\"text\">Boycott Mcdonlalds and Papa johns , FREE PALESTINE</span></yt-attributed-string>, <yt-attributed-string class=\"style-scope ytd-comment-view-model\" id=\"content-text\" slot=\"content\" user-input=\"\"><span class=\"yt-core-attributed-string yt-core-attributed-string--white-space-pre-wrap\" dir=\"auto\" role=\"text\">넘 재밌엉 ㅠㅠ</span></yt-attributed-string>, <yt-attributed-string class=\"style-scope ytd-comment-view-model\" id=\"content-text\" slot=\"content\" user-input=\"\"><span class=\"yt-core-attributed-string yt-core-attributed-string--white-space-pre-wrap\" dir=\"auto\" role=\"text\">덱...스?</span></yt-attributed-string>, <yt-attributed-string class=\"style-scope ytd-comment-view-model\" id=\"content-text\" slot=\"content\" user-input=\"\"><span class=\"yt-core-attributed-string yt-core-attributed-string--white-space-pre-wrap\" dir=\"auto\" role=\"text\">댕달캐너 귀여웡</span></yt-attributed-string>, <yt-attributed-string class=\"style-scope ytd-comment-view-model\" id=\"content-text\" slot=\"content\" user-input=\"\"><span class=\"yt-core-attributed-string yt-core-attributed-string--white-space-pre-wrap\" dir=\"auto\" role=\"text\">BOIKOT MCDONALDS</span></yt-attributed-string>, <yt-attributed-string class=\"style-scope ytd-comment-view-model\" id=\"content-text\" slot=\"content\" user-input=\"\"><span class=\"yt-core-attributed-string yt-core-attributed-string--white-space-pre-wrap\" dir=\"auto\" role=\"text\">안유진 너무 좋아..ㅎㅎ</span></yt-attributed-string>, <yt-attributed-string class=\"style-scope ytd-comment-view-model\" id=\"content-text\" slot=\"content\" user-input=\"\"><span class=\"yt-core-attributed-string yt-core-attributed-string--white-space-pre-wrap\" dir=\"auto\" role=\"text\">나영석 피디님 지락이의 뛰뛰빵빵을 진행시켜 주셔서 감사합니다. 너무 재밌어요!! 진짜루!!</span></yt-attributed-string>, <yt-attributed-string class=\"style-scope ytd-comment-view-model\" id=\"content-text\" slot=\"content\" user-input=\"\"><span class=\"yt-core-attributed-string yt-core-attributed-string--white-space-pre-wrap\" dir=\"auto\" role=\"text\">Hi, @15ya.fullmoon, let's boycott McDonald's. Free Palestine! <span class=\"yt-core-attributed-string--inline-flex-mod\" style=\"margin-left: 2px; margin-right: 2px;\"><img alt=\"\" class=\"yt-core-image yt-core-attributed-string__image-element yt-core-attributed-string__image-element--image-alignment-vertical-center yt-core-image--content-mode-scale-to-fill\" style=\"height: 16px; width: 16px;\"/></span></span></yt-attributed-string>, <yt-attributed-string class=\"style-scope ytd-comment-view-model\" id=\"content-text\" slot=\"content\" user-input=\"\"><span class=\"yt-core-attributed-string yt-core-attributed-string--white-space-pre-wrap\" dir=\"auto\" role=\"text\">400만회 가즈아 확실히 틀리네 ㅋ지락실ㅋ 시즌3. 크 기대기대</span></yt-attributed-string>, <yt-attributed-string class=\"style-scope ytd-comment-view-model\" id=\"content-text\" slot=\"content\" user-input=\"\"><span class=\"yt-core-attributed-string yt-core-attributed-string--white-space-pre-wrap\" dir=\"auto\"><span class=\"\" dir=\"auto\" style=\"font-weight: 400;\"><a class=\"yt-core-attributed-string__link yt-core-attributed-string__link--display-type yt-core-attributed-string__link--call-to-action-color\" dir=\"auto\" force-new-state=\"true\" href=\"/watch?v=9n2ZMo2590c&amp;t=335s\" rel=\"nofollow\" tabindex=\"0\" target=\"\">5:35</a></span>   영석이형:  덱스 덱스   \n",
      "지락이팬들:  덱스? 됐스!!!</span></yt-attributed-string>, <yt-attributed-string class=\"style-scope ytd-comment-view-model\" id=\"content-text\" slot=\"content\" user-input=\"\"><span class=\"yt-core-attributed-string yt-core-attributed-string--white-space-pre-wrap\" dir=\"auto\" role=\"text\">유효기간 4년</span></yt-attributed-string>, <yt-attributed-string class=\"style-scope ytd-comment-view-model\" id=\"content-text\" slot=\"content\" user-input=\"\"><span class=\"yt-core-attributed-string yt-core-attributed-string--white-space-pre-wrap\" dir=\"auto\" role=\"text\">Why mimi didnt take the driving test?</span></yt-attributed-string>, <yt-attributed-string class=\"style-scope ytd-comment-view-model\" id=\"content-text\" slot=\"content\" user-input=\"\"><span class=\"yt-core-attributed-string yt-core-attributed-string--white-space-pre-wrap\" dir=\"auto\" role=\"text\">와 머야 너무재미있어ㅜ 최고조합이야ㅋ</span></yt-attributed-string>, <yt-attributed-string class=\"style-scope ytd-comment-view-model\" id=\"content-text\" slot=\"content\" user-input=\"\"><span class=\"yt-core-attributed-string yt-core-attributed-string--white-space-pre-wrap\" dir=\"auto\" role=\"text\">백상 수상 기념 재입고 안되나요?</span></yt-attributed-string>, <yt-attributed-string class=\"style-scope ytd-comment-view-model\" id=\"content-text\" slot=\"content\" user-input=\"\"><span class=\"yt-core-attributed-string yt-core-attributed-string--white-space-pre-wrap\" dir=\"auto\" role=\"text\">나도 운전 처음할떄 휠 엄청 긁어 먹었는데</span></yt-attributed-string>, <yt-attributed-string class=\"style-scope ytd-comment-view-model\" id=\"content-text\" slot=\"content\" user-input=\"\"><span class=\"yt-core-attributed-string yt-core-attributed-string--white-space-pre-wrap\" dir=\"auto\" role=\"text\">WHo else doesn't really understands Yujin struggles while looking back at their own experience right after getting the license?</span></yt-attributed-string>, <yt-attributed-string class=\"style-scope ytd-comment-view-model\" id=\"content-text\" slot=\"content\" user-input=\"\"><span class=\"yt-core-attributed-string yt-core-attributed-string--white-space-pre-wrap\" dir=\"auto\" role=\"text\">영지는 운전하지 말자.</span></yt-attributed-string>, <yt-attributed-string class=\"style-scope ytd-comment-view-model\" id=\"content-text\" slot=\"content\" user-input=\"\"><span class=\"yt-core-attributed-string yt-core-attributed-string--white-space-pre-wrap\" dir=\"auto\" role=\"text\">이영지 첫날 약속부터 혼자 안 지킨 거 진짜 별로다\n",
      "지락실 때도 그렇고 약속은 어기고 핑계만 대는데\n",
      "저거 진짜 고쳐야함\n",
      "멤버들 착해서 그렇지 어지간한 사람들은 바로 손절침</span></yt-attributed-string>, <yt-attributed-string class=\"style-scope ytd-comment-view-model\" id=\"content-text\" slot=\"content\" user-input=\"\"><span class=\"yt-core-attributed-string yt-core-attributed-string--white-space-pre-wrap\" dir=\"auto\" role=\"text\">저도 기능 8수했는데 영지님 심정 너무 공감돼서 눈물 나요 ㅠㅠㅠㅠㅠㅠ</span></yt-attributed-string>, <yt-attributed-string class=\"style-scope ytd-comment-view-model\" id=\"content-text\" slot=\"content\" user-input=\"\"><span class=\"yt-core-attributed-string yt-core-attributed-string--white-space-pre-wrap\" dir=\"auto\" role=\"text\">응? 기능 시험. 시뮬레이션으로 해?</span></yt-attributed-string>, <yt-attributed-string class=\"style-scope ytd-comment-view-model\" id=\"content-text\" slot=\"content\" user-input=\"\"><span class=\"yt-core-attributed-string yt-core-attributed-string--white-space-pre-wrap\" dir=\"auto\"><span class=\"\" dir=\"auto\" style=\"font-weight: 400;\"><a class=\"yt-core-attributed-string__link yt-core-attributed-string__link--display-type yt-core-attributed-string__link--call-to-action-color\" dir=\"auto\" force-new-state=\"true\" href=\"/watch?v=9n2ZMo2590c&amp;t=1687s\" rel=\"nofollow\" tabindex=\"0\" target=\"\">28:07</a></span> 타코 캣 고트 치즈 피자 보드게임 통편집 미방분 영상 공개가 시급합니다....!</span></yt-attributed-string>, <yt-attributed-string class=\"style-scope ytd-comment-view-model\" id=\"content-text\" slot=\"content\" user-input=\"\"><span class=\"yt-core-attributed-string yt-core-attributed-string--white-space-pre-wrap\" dir=\"auto\" role=\"text\">ㅋㅋㅋㅋ너무 시청자들도 공감하는 포인트가 많아서 그런가 지락실도 재밌었지만 뛰뛰빵빵도 진짜 재밌어요ㅋㅋ</span></yt-attributed-string>, <yt-attributed-string class=\"style-scope ytd-comment-view-model\" id=\"content-text\" slot=\"content\" user-input=\"\"><span class=\"yt-core-attributed-string yt-core-attributed-string--white-space-pre-wrap\" dir=\"auto\" role=\"text\">올라운더 육각형 안댕댕 당신은 도대체....</span></yt-attributed-string>, <yt-attributed-string class=\"style-scope ytd-comment-view-model\" id=\"content-text\" slot=\"content\" user-input=\"\"><span class=\"yt-core-attributed-string yt-core-attributed-string--white-space-pre-wrap\" dir=\"auto\" role=\"text\">다들 너무귀엽닼ㅋㅋㅋㅋㅋㅋ</span></yt-attributed-string>, <yt-attributed-string class=\"style-scope ytd-comment-view-model\" id=\"content-text\" slot=\"content\" user-input=\"\"><span class=\"yt-core-attributed-string yt-core-attributed-string--white-space-pre-wrap\" dir=\"auto\"><span class=\"\" dir=\"auto\" style=\"font-weight: 400;\"><a class=\"yt-core-attributed-string__link yt-core-attributed-string__link--display-type yt-core-attributed-string__link--call-to-action-color\" dir=\"auto\" force-new-state=\"true\" href=\"/watch?v=9n2ZMo2590c&amp;t=2894s\" rel=\"nofollow\" tabindex=\"0\" target=\"\">48:14</a></span> 부터 빡공시대 보람쌤 강의 듣는줄ㅋㅋㅋㅋㅋㅋㅋㅋㅋㅋ 왜ㅜ보람쌤이 생각나는거지 홀린다</span></yt-attributed-string>, <yt-attributed-string class=\"style-scope ytd-comment-view-model\" id=\"content-text\" slot=\"content\" user-input=\"\"><span class=\"yt-core-attributed-string yt-core-attributed-string--white-space-pre-wrap\" dir=\"auto\" role=\"text\">면허는 진짜 어렵게 따게 만들어야 된다…</span></yt-attributed-string>, <yt-attributed-string class=\"style-scope ytd-comment-view-model\" id=\"content-text\" slot=\"content\" user-input=\"\"><span class=\"yt-core-attributed-string yt-core-attributed-string--white-space-pre-wrap\" dir=\"auto\" role=\"text\">I didn't realize it was for 1 hour plus wht</span></yt-attributed-string>, <yt-attributed-string class=\"style-scope ytd-comment-view-model\" id=\"content-text\" slot=\"content\" user-input=\"\"><span class=\"yt-core-attributed-string yt-core-attributed-string--white-space-pre-wrap\" dir=\"auto\" role=\"text\">근데 이거 인급동 왜 안들어가는지 아시는 분?</span></yt-attributed-string>, <yt-attributed-string class=\"style-scope ytd-comment-view-model\" id=\"content-text\" slot=\"content\" user-input=\"\"><span class=\"yt-core-attributed-string yt-core-attributed-string--white-space-pre-wrap\" dir=\"auto\" role=\"text\">너무재미따진쨔최고<span class=\"yt-core-attributed-string--inline-flex-mod\" style=\"margin-left: 2px; margin-right: 2px;\"><img alt=\"\" class=\"yt-core-image yt-core-attributed-string__image-element yt-core-attributed-string__image-element--image-alignment-vertical-center yt-core-image--content-mode-scale-to-fill\" style=\"height: 16px; width: 16px;\"/></span>️</span></yt-attributed-string>, <yt-attributed-string class=\"style-scope ytd-comment-view-model\" id=\"content-text\" slot=\"content\" user-input=\"\"><span class=\"yt-core-attributed-string yt-core-attributed-string--white-space-pre-wrap\" dir=\"auto\" role=\"text\">지락실 멤버 말 사고 안치고 함께 오래가길 진짜  <span class=\"yt-core-attributed-string--inline-flex-mod\" style=\"margin-left: 2px; margin-right: 2px;\"><img alt=\"\" class=\"yt-core-image yt-core-attributed-string__image-element yt-core-attributed-string__image-element--image-alignment-vertical-center yt-core-image--content-mode-scale-to-fill\" style=\"height: 16px; width: 16px;\"/></span></span></yt-attributed-string>, <yt-attributed-string class=\"style-scope ytd-comment-view-model\" id=\"content-text\" slot=\"content\" user-input=\"\"><span class=\"yt-core-attributed-string yt-core-attributed-string--white-space-pre-wrap\" dir=\"auto\"><span class=\"\" dir=\"auto\" style=\"font-weight: 400;\"><a class=\"yt-core-attributed-string__link yt-core-attributed-string__link--display-type yt-core-attributed-string__link--call-to-action-color\" dir=\"auto\" force-new-state=\"true\" href=\"/watch?v=9n2ZMo2590c&amp;t=4875s\" rel=\"nofollow\" tabindex=\"0\" target=\"\">1:21:15</a></span> 미미 너무 예뻐.. 동화에 나올거같우</span></yt-attributed-string>, <yt-attributed-string class=\"style-scope ytd-comment-view-model\" id=\"content-text\" slot=\"content\" user-input=\"\"><span class=\"yt-core-attributed-string yt-core-attributed-string--white-space-pre-wrap\" dir=\"auto\" role=\"text\">넷이 늙고 병들고 서로 싸우더라도 지락실 계속 몇십년 정기적으로 해줬음 좋겠다. 이 케미 계속 지켜보고싶어ㅠ</span></yt-attributed-string>, <yt-attributed-string class=\"style-scope ytd-comment-view-model\" id=\"content-text\" slot=\"content\" user-input=\"\"><span class=\"yt-core-attributed-string yt-core-attributed-string--white-space-pre-wrap\" dir=\"auto\" role=\"text\">초반부터 개터짐  ㅋㅋㅋㅋㅋㅋㅋㅋ</span></yt-attributed-string>, <yt-attributed-string class=\"style-scope ytd-comment-view-model\" id=\"content-text\" slot=\"content\" user-input=\"\"><span class=\"yt-core-attributed-string yt-core-attributed-string--white-space-pre-wrap\" dir=\"auto\" role=\"text\">농촌알바 뭔데 ㅋㅋㅋㅋㅋ</span></yt-attributed-string>, <yt-attributed-string class=\"style-scope ytd-comment-view-model\" id=\"content-text\" slot=\"content\" user-input=\"\"><span class=\"yt-core-attributed-string yt-core-attributed-string--white-space-pre-wrap\" dir=\"auto\" role=\"text\">결코 짧은 게 아닌게 왤케 금방 다 봤지ㅠㅠㅠㅠㅠㅠ</span></yt-attributed-string>, <yt-attributed-string class=\"style-scope ytd-comment-view-model\" id=\"content-text\" slot=\"content\" user-input=\"\"><span class=\"yt-core-attributed-string yt-core-attributed-string--white-space-pre-wrap\" dir=\"auto\" role=\"text\">유지니 너무 이쁘다~</span></yt-attributed-string>, <yt-attributed-string class=\"style-scope ytd-comment-view-model\" id=\"content-text\" slot=\"content\" user-input=\"\"><span class=\"yt-core-attributed-string yt-core-attributed-string--white-space-pre-wrap\" dir=\"auto\"><span class=\"\" dir=\"auto\" style=\"font-weight: 400;\"><a class=\"yt-core-attributed-string__link yt-core-attributed-string__link--display-type yt-core-attributed-string__link--call-to-action-color\" dir=\"auto\" force-new-state=\"true\" href=\"/watch?v=9n2ZMo2590c&amp;t=3049s\" rel=\"nofollow\" tabindex=\"0\" target=\"\">50:49</a></span> 긔여웡~~~</span></yt-attributed-string>, <yt-attributed-string class=\"style-scope ytd-comment-view-model\" id=\"content-text\" slot=\"content\" user-input=\"\"><span class=\"yt-core-attributed-string yt-core-attributed-string--white-space-pre-wrap\" dir=\"auto\"><span class=\"\" dir=\"auto\" style=\"font-weight: 400;\"><a class=\"yt-core-attributed-string__link yt-core-attributed-string__link--display-type yt-core-attributed-string__link--call-to-action-color\" dir=\"auto\" force-new-state=\"true\" href=\"/watch?v=9n2ZMo2590c&amp;t=4478s\" rel=\"nofollow\" tabindex=\"0\" target=\"\">1:14:38</a></span> 이영지 넘 웃겨 ㅋㅋㅋㅋㅋㅋㅋㅋㅋㅋㅋㅋㅋㅋ\n",
      "<span class=\"\" dir=\"auto\" style=\"font-weight: 400;\"><a class=\"yt-core-attributed-string__link yt-core-attributed-string__link--display-type yt-core-attributed-string__link--call-to-action-color\" dir=\"auto\" force-new-state=\"true\" href=\"/watch?v=9n2ZMo2590c&amp;t=4610s\" rel=\"nofollow\" tabindex=\"0\" target=\"\">1:16:50</a></span>\n",
      "<span class=\"\" dir=\"auto\" style=\"font-weight: 400;\"><a class=\"yt-core-attributed-string__link yt-core-attributed-string__link--display-type yt-core-attributed-string__link--call-to-action-color\" dir=\"auto\" force-new-state=\"true\" href=\"/watch?v=9n2ZMo2590c&amp;t=4613s\" rel=\"nofollow\" tabindex=\"0\" target=\"\">1:16:53</a></span></span></yt-attributed-string>, <yt-attributed-string class=\"style-scope ytd-comment-view-model\" id=\"content-text\" slot=\"content\" user-input=\"\"><span class=\"yt-core-attributed-string yt-core-attributed-string--white-space-pre-wrap\" dir=\"auto\" role=\"text\">지락이들 하나하나 다 좋음. 선넘지 않는 한도내에서 자신의 개성을 마구마구 뿜뿜함.</span></yt-attributed-string>, <yt-attributed-string class=\"style-scope ytd-comment-view-model\" id=\"content-text\" slot=\"content\" user-input=\"\"><span class=\"yt-core-attributed-string yt-core-attributed-string--white-space-pre-wrap\" dir=\"auto\" role=\"text\">정답 맥가이버</span></yt-attributed-string>, <yt-attributed-string class=\"style-scope ytd-comment-view-model\" id=\"content-text\" slot=\"content\" user-input=\"\"><span class=\"yt-core-attributed-string yt-core-attributed-string--white-space-pre-wrap\" dir=\"auto\" role=\"text\">이거보고 처음으로 파파존스 피자 배달시켯어요 수퍼파파스</span></yt-attributed-string>, <yt-attributed-string class=\"style-scope ytd-comment-view-model\" id=\"content-text\" slot=\"content\" user-input=\"\"><span class=\"yt-core-attributed-string yt-core-attributed-string--white-space-pre-wrap\" dir=\"auto\" role=\"text\">I miss PDnim's laugh where is he?<span class=\"yt-core-attributed-string--inline-flex-mod\" style=\"margin-left: 2px; margin-right: 2px;\"><img alt=\"\" class=\"yt-core-image yt-core-attributed-string__image-element yt-core-attributed-string__image-element--image-alignment-vertical-center yt-core-image--content-mode-scale-to-fill\" style=\"height: 16px; width: 16px;\"/></span><span class=\"yt-core-attributed-string--inline-flex-mod\" style=\"margin-left: 2px; margin-right: 2px;\"><img alt=\"\" class=\"yt-core-image yt-core-attributed-string__image-element yt-core-attributed-string__image-element--image-alignment-vertical-center yt-core-image--content-mode-scale-to-fill\" style=\"height: 16px; width: 16px;\"/></span><span class=\"yt-core-attributed-string--inline-flex-mod\" style=\"margin-left: 2px; margin-right: 2px;\"><img alt=\"\" class=\"yt-core-image yt-core-attributed-string__image-element yt-core-attributed-string__image-element--image-alignment-vertical-center yt-core-image--content-mode-scale-to-fill\" style=\"height: 16px; width: 16px;\"/></span></span></yt-attributed-string>, <yt-attributed-string class=\"style-scope ytd-comment-view-model\" id=\"content-text\" slot=\"content\" user-input=\"\"><span class=\"yt-core-attributed-string yt-core-attributed-string--white-space-pre-wrap\" dir=\"auto\" role=\"text\">운전대만 잡으면 성인군자도 성질 버린다고...ㅋㅋㅋ</span></yt-attributed-string>, <yt-attributed-string class=\"style-scope ytd-comment-view-model\" id=\"content-text\" slot=\"content\" user-input=\"\"><span class=\"yt-core-attributed-string yt-core-attributed-string--white-space-pre-wrap\" dir=\"auto\" role=\"text\">유진이는 똑부러지고 못하는 것두 없네,,<span class=\"yt-core-attributed-string--inline-flex-mod\" style=\"margin-left: 2px; margin-right: 2px;\"><img alt=\"\" class=\"yt-core-image yt-core-attributed-string__image-element yt-core-attributed-string__image-element--image-alignment-vertical-center yt-core-image--content-mode-scale-to-fill\" style=\"height: 16px; width: 16px;\"/></span></span></yt-attributed-string>, <yt-attributed-string class=\"style-scope ytd-comment-view-model\" id=\"content-text\" slot=\"content\" user-input=\"\"><span class=\"yt-core-attributed-string yt-core-attributed-string--white-space-pre-wrap\" dir=\"auto\" role=\"text\">좀비클럽 기대된다 ㅋㅋㅋ 음악이 나오면 좀비는 멈추고 춤을 춰야하는건가…??????</span></yt-attributed-string>, <yt-attributed-string class=\"style-scope ytd-comment-view-model\" id=\"content-text\" slot=\"content\" user-input=\"\"><span class=\"yt-core-attributed-string yt-core-attributed-string--white-space-pre-wrap\" dir=\"auto\" role=\"text\">3수....10수....... 도로위의 핵폭탄들인데;;;</span></yt-attributed-string>, <yt-attributed-string class=\"style-scope ytd-comment-view-model\" id=\"content-text\" slot=\"content\" user-input=\"\"><span class=\"yt-core-attributed-string yt-core-attributed-string--white-space-pre-wrap\" dir=\"auto\"><span class=\"\" dir=\"auto\" style=\"font-weight: 400;\"><a class=\"yt-core-attributed-string__link yt-core-attributed-string__link--display-type yt-core-attributed-string__link--call-to-action-color\" dir=\"auto\" force-new-state=\"true\" href=\"/watch?v=9n2ZMo2590c&amp;t=3018s\" rel=\"nofollow\" tabindex=\"0\" target=\"\">50:18</a></span> 올해 최고의 대사</span></yt-attributed-string>, <yt-attributed-string class=\"style-scope ytd-comment-view-model\" id=\"content-text\" slot=\"content\" user-input=\"\"><span class=\"yt-core-attributed-string yt-core-attributed-string--white-space-pre-wrap\" dir=\"auto\" role=\"text\">感谢大家，看得很幸福</span></yt-attributed-string>, <yt-attributed-string class=\"style-scope ytd-comment-view-model\" id=\"content-text\" slot=\"content\" user-input=\"\"><span class=\"yt-core-attributed-string yt-core-attributed-string--white-space-pre-wrap\" dir=\"auto\" role=\"text\">감동 너무 심하다 유진아,, 나 03년생이라 유진이라 동갑인데 진짜 너무 대단함.. 난 공부도 제대로 안 하고 인생 헛사는 기분인데 유진이는 외모도 피지컬도 완벽한데 어렸을 때 데뷔해서 지금까지 열심히 활동 중이고 노래도 춤도 잘하고 무대도 잘하는데 예능까지 잘하고 성격까지 좋으면 나는 어떡해,,ㅋㅋㅠ 너무 멋있어서 본받고 싶음 진짜로 거의 내 롤모델 되기 직전이야 유진아 최고다..<span class=\"yt-core-attributed-string--inline-flex-mod\" style=\"margin-left: 2px; margin-right: 2px;\"><img alt=\"\" class=\"yt-core-image yt-core-attributed-string__image-element yt-core-attributed-string__image-element--image-alignment-vertical-center yt-core-image--content-mode-scale-to-fill\" style=\"height: 16px; width: 16px;\"/></span></span></yt-attributed-string>, <yt-attributed-string class=\"style-scope ytd-comment-view-model\" id=\"content-text\" slot=\"content\" user-input=\"\"><span class=\"yt-core-attributed-string yt-core-attributed-string--white-space-pre-wrap\" dir=\"auto\" role=\"text\">이야 그냥 너무 멋지다 유진아\n",
      "초보운전인데 대담하고 용감하네</span></yt-attributed-string>, <yt-attributed-string class=\"style-scope ytd-comment-view-model\" id=\"content-text\" slot=\"content\" user-input=\"\"><span class=\"yt-core-attributed-string yt-core-attributed-string--white-space-pre-wrap\" dir=\"auto\" role=\"text\"><span class=\"yt-core-attributed-string--inline-flex-mod\" style=\"margin-left: 2px; margin-right: 2px;\"><img alt=\"\" class=\"yt-core-image yt-core-attributed-string__image-element yt-core-attributed-string__image-element--image-alignment-vertical-center yt-core-image--content-mode-scale-to-fill yt-core-image--loaded\" src=\"https://www.youtube.com/s/gaming/emoji/7ff574f2/emoji_u2764.png\" style=\"height: 16px; width: 16px;\"/></span></span></yt-attributed-string>, <yt-attributed-string class=\"style-scope ytd-comment-view-model\" id=\"content-text\" slot=\"content\" user-input=\"\"><span class=\"yt-core-attributed-string yt-core-attributed-string--white-space-pre-wrap\" dir=\"auto\"><span class=\"\" dir=\"auto\" style=\"font-weight: 400;\"><a class=\"yt-core-attributed-string__link yt-core-attributed-string__link--display-type yt-core-attributed-string__link--call-to-action-color\" dir=\"auto\" force-new-state=\"true\" href=\"/watch?v=9n2ZMo2590c&amp;t=2931s\" rel=\"nofollow\" tabindex=\"0\" target=\"\">48:51</a></span> 넌 한국인이야 영지야...ㅋㅋㅋㅋㅋㅋ</span></yt-attributed-string>, <yt-attributed-string class=\"style-scope ytd-comment-view-model\" id=\"content-text\" slot=\"content\" user-input=\"\"><span class=\"yt-core-attributed-string yt-core-attributed-string--white-space-pre-wrap\" dir=\"auto\" role=\"text\">아,.,, 다음편 기다리다가 목빠져 죽을꺼 같,,,,,,,,,,,,,,</span></yt-attributed-string>, <yt-attributed-string class=\"style-scope ytd-comment-view-model\" id=\"content-text\" slot=\"content\" user-input=\"\"><span class=\"yt-core-attributed-string yt-core-attributed-string--white-space-pre-wrap\" dir=\"auto\" role=\"text\">와 미미 너무 매력 터짐</span></yt-attributed-string>, <yt-attributed-string class=\"style-scope ytd-comment-view-model\" id=\"content-text\" slot=\"content\" user-input=\"\"><span class=\"yt-core-attributed-string yt-core-attributed-string--white-space-pre-wrap\" dir=\"auto\" role=\"text\">커피금지.아니였나욧? ㅋㅋㅋㅋㅋㅋ</span></yt-attributed-string>, <yt-attributed-string class=\"style-scope ytd-comment-view-model\" id=\"content-text\" slot=\"content\" user-input=\"\"><span class=\"yt-core-attributed-string yt-core-attributed-string--white-space-pre-wrap\" dir=\"auto\" role=\"text\">세월이 너무 빠르다 유진이가 벌써 면허라니...</span></yt-attributed-string>, <yt-attributed-string class=\"style-scope ytd-comment-view-model\" id=\"content-text\" slot=\"content\" user-input=\"\"><span class=\"yt-core-attributed-string yt-core-attributed-string--white-space-pre-wrap\" dir=\"auto\" role=\"text\">진짜 멋지다 멋져 유진아 대단하다 바쁜대도 면허에 사전답사에 다들 괜찮다 멋지다 해주는것도 보기 좋고 보면서 기분좋고 재밌는 예능이에요 진짜</span></yt-attributed-string>, <yt-attributed-string class=\"style-scope ytd-comment-view-model\" id=\"content-text\" slot=\"content\" user-input=\"\"><span class=\"yt-core-attributed-string yt-core-attributed-string--white-space-pre-wrap\" dir=\"auto\"><span class=\"\" dir=\"auto\" style=\"font-weight: 400;\"><a class=\"yt-core-attributed-string__link yt-core-attributed-string__link--display-type yt-core-attributed-string__link--call-to-action-color\" dir=\"auto\" force-new-state=\"true\" href=\"/watch?v=9n2ZMo2590c&amp;t=132s\" rel=\"nofollow\" tabindex=\"0\" target=\"\">2:12</a></span> 그냥 2종 오토 했어야지 영지야<span class=\"yt-core-attributed-string--inline-flex-mod\" style=\"margin-left: 2px; margin-right: 2px;\"><img alt=\"\" class=\"yt-core-image yt-core-attributed-string__image-element yt-core-attributed-string__image-element--image-alignment-vertical-center yt-core-image--content-mode-scale-to-fill yt-core-image--loaded\" src=\"https://www.youtube.com/s/gaming/emoji/7ff574f2/emoji_u1f622.png\" style=\"height: 16px; width: 16px;\"/></span></span></yt-attributed-string>, <yt-attributed-string class=\"style-scope ytd-comment-view-model\" id=\"content-text\" slot=\"content\" user-input=\"\"><span class=\"yt-core-attributed-string yt-core-attributed-string--white-space-pre-wrap\" dir=\"auto\" role=\"text\">너무 재밌어서 1시간 금방 가버림</span></yt-attributed-string>, <yt-attributed-string class=\"style-scope ytd-comment-view-model\" id=\"content-text\" slot=\"content\" user-input=\"\"><span class=\"yt-core-attributed-string yt-core-attributed-string--white-space-pre-wrap\" dir=\"auto\" role=\"text\">첫윤전은 사실 조수석이 더 피곤하다.</span></yt-attributed-string>, <yt-attributed-string class=\"style-scope ytd-comment-view-model\" id=\"content-text\" slot=\"content\" user-input=\"\"><span class=\"yt-core-attributed-string yt-core-attributed-string--white-space-pre-wrap\" dir=\"auto\" role=\"text\">Thanks PD Na <span class=\"yt-core-attributed-string--inline-flex-mod\" style=\"margin-left: 2px; margin-right: 2px;\"><img alt=\"\" class=\"yt-core-image yt-core-attributed-string__image-element yt-core-attributed-string__image-element--image-alignment-vertical-center yt-core-image--content-mode-scale-to-fill yt-core-image--loaded\" src=\"https://www.youtube.com/s/gaming/emoji/7ff574f2/emoji_u2764.png\" style=\"height: 16px; width: 16px;\"/></span></span></yt-attributed-string>, <yt-attributed-string class=\"style-scope ytd-comment-view-model\" id=\"content-text\" slot=\"content\" user-input=\"\"><span class=\"yt-core-attributed-string yt-core-attributed-string--white-space-pre-wrap\" dir=\"auto\" role=\"text\">짱</span></yt-attributed-string>, <yt-attributed-string class=\"style-scope ytd-comment-view-model\" id=\"content-text\" slot=\"content\" user-input=\"\"><span class=\"yt-core-attributed-string yt-core-attributed-string--white-space-pre-wrap\" dir=\"auto\" role=\"text\">안유진 운전할 때 매력 미쳤네 진짜 너무 예쁘고 귀엽고 다해<span class=\"yt-core-attributed-string--inline-flex-mod\" style=\"margin-left: 2px; margin-right: 2px;\"><img alt=\"\" class=\"yt-core-image yt-core-attributed-string__image-element yt-core-attributed-string__image-element--image-alignment-vertical-center yt-core-image--content-mode-scale-to-fill\" style=\"height: 16px; width: 16px;\"/></span>️‍<span class=\"yt-core-attributed-string--inline-flex-mod\" style=\"margin-left: 2px; margin-right: 2px;\"><img alt=\"\" class=\"yt-core-image yt-core-attributed-string__image-element yt-core-attributed-string__image-element--image-alignment-vertical-center yt-core-image--content-mode-scale-to-fill\" style=\"height: 16px; width: 16px;\"/></span></span></yt-attributed-string>, <yt-attributed-string class=\"style-scope ytd-comment-view-model\" id=\"content-text\" slot=\"content\" user-input=\"\"><span class=\"yt-core-attributed-string yt-core-attributed-string--white-space-pre-wrap\" dir=\"auto\" role=\"text\">뛰뛰빵빵은 장르가 스릴러네 ㅋㅋㅋㅋㅋ</span></yt-attributed-string>, <yt-attributed-string class=\"style-scope ytd-comment-view-model\" id=\"content-text\" slot=\"content\" user-input=\"\"><span class=\"yt-core-attributed-string yt-core-attributed-string--white-space-pre-wrap\" dir=\"auto\" role=\"text\">지락이들 ㅠ 왠지 모르갰는데 너무 정이가고 막 가끔 보다보면 눈물날라캄 ㅠㅋㅋㅋㅋㅋ주책인지 ,… 암튼 너무 귀해요 조아해요 지락이들 <span class=\"yt-core-attributed-string--inline-flex-mod\" style=\"margin-left: 2px; margin-right: 2px;\"><img alt=\"\" class=\"yt-core-image yt-core-attributed-string__image-element yt-core-attributed-string__image-element--image-alignment-vertical-center yt-core-image--content-mode-scale-to-fill\" style=\"height: 16px; width: 16px;\"/></span>🫶🫶🫶🫶</span></yt-attributed-string>, <yt-attributed-string class=\"style-scope ytd-comment-view-model\" id=\"content-text\" slot=\"content\" user-input=\"\"><span class=\"yt-core-attributed-string yt-core-attributed-string--white-space-pre-wrap\" dir=\"auto\" role=\"text\">오늘의카메라가 찍을때 일부러 사이드에 rec 넣는것같은데 안넣는게 더집중될것같아요!</span></yt-attributed-string>, <yt-attributed-string class=\"style-scope ytd-comment-view-model\" id=\"content-text\" slot=\"content\" user-input=\"\"><span class=\"yt-core-attributed-string yt-core-attributed-string--white-space-pre-wrap\" dir=\"auto\" role=\"text\">존버는 승리한다</span></yt-attributed-string>, <yt-attributed-string class=\"style-scope ytd-comment-view-model\" id=\"content-text\" slot=\"content\" user-input=\"\"><span class=\"yt-core-attributed-string yt-core-attributed-string--white-space-pre-wrap\" dir=\"auto\" role=\"text\">아 영지 너무귀여워ㅠㅋㅋㅋㅋㅋㅋㅋㅋㅋㅋㅋㅋㅋㅋㅋㅋㅋㅋㅋㅋ미치겠네요 진짴ㅋㅋㅋㅋㅋㅋㅋㅋㅋㅋㅋㅋㅋㅋㅋ</span></yt-attributed-string>, <yt-attributed-string class=\"style-scope ytd-comment-view-model\" id=\"content-text\" slot=\"content\" user-input=\"\"><span class=\"yt-core-attributed-string yt-core-attributed-string--white-space-pre-wrap\" dir=\"auto\" role=\"text\">안유진 너무 이쁩니다.. 정말 아빠 사랑이네요.</span></yt-attributed-string>, <yt-attributed-string class=\"style-scope ytd-comment-view-model\" id=\"content-text\" slot=\"content\" user-input=\"\"><span class=\"yt-core-attributed-string yt-core-attributed-string--white-space-pre-wrap\" dir=\"auto\" role=\"text\">EARTH ARCADE WITH ENGLISH SUBTITLES?? ALREADY?! AHHHHHH <span class=\"yt-core-attributed-string--inline-flex-mod\" style=\"margin-left: 2px; margin-right: 2px;\"><img alt=\"\" class=\"yt-core-image yt-core-attributed-string__image-element yt-core-attributed-string__image-element--image-alignment-vertical-center yt-core-image--content-mode-scale-to-fill\" style=\"height: 16px; width: 16px;\"/></span><span class=\"yt-core-attributed-string--inline-flex-mod\" style=\"margin-left: 2px; margin-right: 2px;\"><img alt=\"\" class=\"yt-core-image yt-core-attributed-string__image-element yt-core-attributed-string__image-element--image-alignment-vertical-center yt-core-image--content-mode-scale-to-fill\" style=\"height: 16px; width: 16px;\"/></span><span class=\"yt-core-attributed-string--inline-flex-mod\" style=\"margin-left: 2px; margin-right: 2px;\"><img alt=\"\" class=\"yt-core-image yt-core-attributed-string__image-element yt-core-attributed-string__image-element--image-alignment-vertical-center yt-core-image--content-mode-scale-to-fill\" style=\"height: 16px; width: 16px;\"/></span><span class=\"yt-core-attributed-string--inline-flex-mod\" style=\"margin-left: 2px; margin-right: 2px;\"><img alt=\"\" class=\"yt-core-image yt-core-attributed-string__image-element yt-core-attributed-string__image-element--image-alignment-vertical-center yt-core-image--content-mode-scale-to-fill\" style=\"height: 16px; width: 16px;\"/></span><span class=\"yt-core-attributed-string--inline-flex-mod\" style=\"margin-left: 2px; margin-right: 2px;\"><img alt=\"\" class=\"yt-core-image yt-core-attributed-string__image-element yt-core-attributed-string__image-element--image-alignment-vertical-center yt-core-image--content-mode-scale-to-fill\" style=\"height: 16px; width: 16px;\"/></span></span></yt-attributed-string>, <yt-attributed-string class=\"style-scope ytd-comment-view-model\" id=\"content-text\" slot=\"content\" user-input=\"\"><span class=\"yt-core-attributed-string yt-core-attributed-string--white-space-pre-wrap\" dir=\"auto\" role=\"text\">면허따고 한달도 안되서 외제차로 강남 운전ㅋㅋㅋㅋㅋㅋ 유진도 대단하다</span></yt-attributed-string>, <yt-attributed-string class=\"style-scope ytd-comment-view-model\" id=\"content-text\" slot=\"content\" user-input=\"\"><span class=\"yt-core-attributed-string yt-core-attributed-string--white-space-pre-wrap\" dir=\"auto\" role=\"text\">미미 머리스타일 대박 너무 잘어울려요<span class=\"yt-core-attributed-string--inline-flex-mod\" style=\"margin-left: 2px; margin-right: 2px;\"><img alt=\"\" class=\"yt-core-image yt-core-attributed-string__image-element yt-core-attributed-string__image-element--image-alignment-vertical-center yt-core-image--content-mode-scale-to-fill yt-core-image--loaded\" src=\"https://www.youtube.com/s/gaming/emoji/7ff574f2/emoji_u2764.png\" style=\"height: 16px; width: 16px;\"/></span><span class=\"yt-core-attributed-string--inline-flex-mod\" style=\"margin-left: 2px; margin-right: 2px;\"><img alt=\"\" class=\"yt-core-image yt-core-attributed-string__image-element yt-core-attributed-string__image-element--image-alignment-vertical-center yt-core-image--content-mode-scale-to-fill yt-core-image--loaded\" src=\"https://www.youtube.com/s/gaming/emoji/7ff574f2/emoji_u2764.png\" style=\"height: 16px; width: 16px;\"/></span><span class=\"yt-core-attributed-string--inline-flex-mod\" style=\"margin-left: 2px; margin-right: 2px;\"><img alt=\"\" class=\"yt-core-image yt-core-attributed-string__image-element yt-core-attributed-string__image-element--image-alignment-vertical-center yt-core-image--content-mode-scale-to-fill yt-core-image--loaded\" src=\"https://www.youtube.com/s/gaming/emoji/7ff574f2/emoji_u2764.png\" style=\"height: 16px; width: 16px;\"/></span></span></yt-attributed-string>, <yt-attributed-string class=\"style-scope ytd-comment-view-model\" id=\"content-text\" slot=\"content\" user-input=\"\"><span class=\"yt-core-attributed-string yt-core-attributed-string--white-space-pre-wrap\" dir=\"auto\" role=\"text\">최근에 본 예능프로그램 중에 가장 스릴있었음 유진이가 운전대 잡은 순간부터 매드맥스급 박진감이....ㅋㅋ</span></yt-attributed-string>, <yt-attributed-string class=\"style-scope ytd-comment-view-model\" id=\"content-text\" slot=\"content\" user-input=\"\"><span class=\"yt-core-attributed-string yt-core-attributed-string--white-space-pre-wrap\" dir=\"auto\" role=\"text\">나덱스PD님ㅋㅋㅋㅋㅋㅋㅋㅋㅋ얼핏 보이는것두...ㅋㅋ</span></yt-attributed-string>, <yt-attributed-string class=\"style-scope ytd-comment-view-model\" id=\"content-text\" slot=\"content\" user-input=\"\"><span class=\"yt-core-attributed-string yt-core-attributed-string--white-space-pre-wrap\" dir=\"auto\" role=\"text\">유진이 때문에 콜라도 펩시구나~~~~~~~</span></yt-attributed-string>, <yt-attributed-string class=\"style-scope ytd-comment-view-model\" id=\"content-text\" slot=\"content\" user-input=\"\"><span class=\"yt-core-attributed-string yt-core-attributed-string--white-space-pre-wrap\" dir=\"auto\" role=\"text\">영지는 진짜 운전하면 안되겠다ㅋㅋㅋㅋㅋㅋㅋㅋㅋㅋㅋㅋㅋㅋ</span></yt-attributed-string>, <yt-attributed-string class=\"style-scope ytd-comment-view-model\" id=\"content-text\" slot=\"content\" user-input=\"\"><span class=\"yt-core-attributed-string yt-core-attributed-string--white-space-pre-wrap\" dir=\"auto\" role=\"text\">I read somewhere younger idols are so lax these days. I hope they get to meet Yujin. She's a proof that if there's a will, there's a way. <span class=\"yt-core-attributed-string--inline-flex-mod\" style=\"margin-left: 2px; margin-right: 2px;\"><img alt=\"\" class=\"yt-core-image yt-core-attributed-string__image-element yt-core-attributed-string__image-element--image-alignment-vertical-center yt-core-image--content-mode-scale-to-fill yt-core-image--loaded\" src=\"https://www.youtube.com/s/gaming/emoji/7ff574f2/emoji_u1f60a.png\" style=\"height: 16px; width: 16px;\"/></span></span></yt-attributed-string>, <yt-attributed-string class=\"style-scope ytd-comment-view-model\" id=\"content-text\" slot=\"content\" user-input=\"\"><span class=\"yt-core-attributed-string yt-core-attributed-string--white-space-pre-wrap\" dir=\"auto\" role=\"text\">안유진처런 성실하고 촬영에 큰영향을 미치는 출연자가 저런 준비성이면 말 다했지. 왜 리더급 인성일세~</span></yt-attributed-string>, <yt-attributed-string class=\"style-scope ytd-comment-view-model\" id=\"content-text\" slot=\"content\" user-input=\"\"><span class=\"yt-core-attributed-string yt-core-attributed-string--white-space-pre-wrap\" dir=\"auto\" role=\"text\">난 1종보통 취득한지 25년쯤 되는데 \n",
      "2종스틱 2종 오토 따로 있던... (지금도 그런가?)\n",
      "나도 처음엔 2종보통 따려다가 너무 시동을 잘 꺼먹어서 1종으로 바꿨는데 장내기능시험 한번에 95점으로 합격. \n",
      "시동 한번도 안꺼먹음. 1종은 진짜 시동 안꺼지는데... 요즘 차는 다른가?</span></yt-attributed-string>, <yt-attributed-string class=\"style-scope ytd-comment-view-model\" id=\"content-text\" slot=\"content\" user-input=\"\"><span class=\"yt-core-attributed-string yt-core-attributed-string--white-space-pre-wrap\" dir=\"auto\" role=\"text\">아이고~내 어깨가 다 아프넹 ㅋㅋㅋ 다들 넘 이뻐..어케 이리 맘이 이쁜 사람들이 모였는지~^^*</span></yt-attributed-string>, <yt-attributed-string class=\"style-scope ytd-comment-view-model\" id=\"content-text\" slot=\"content\" user-input=\"\"><span class=\"yt-core-attributed-string yt-core-attributed-string--white-space-pre-wrap\" dir=\"auto\" role=\"text\">아우 보기좋아</span></yt-attributed-string>, <yt-attributed-string class=\"style-scope ytd-comment-view-model\" id=\"content-text\" slot=\"content\" user-input=\"\"><span class=\"yt-core-attributed-string yt-core-attributed-string--white-space-pre-wrap\" dir=\"auto\" role=\"text\">안뉴진 대다나다ㅜㅜ<span class=\"yt-core-attributed-string--inline-flex-mod\" style=\"margin-left: 2px; margin-right: 2px;\"><img alt=\"\" class=\"yt-core-image yt-core-attributed-string__image-element yt-core-attributed-string__image-element--image-alignment-vertical-center yt-core-image--content-mode-scale-to-fill\" style=\"height: 16px; width: 16px;\"/></span><span class=\"yt-core-attributed-string--inline-flex-mod\" style=\"margin-left: 2px; margin-right: 2px;\"><img alt=\"\" class=\"yt-core-image yt-core-attributed-string__image-element yt-core-attributed-string__image-element--image-alignment-vertical-center yt-core-image--content-mode-scale-to-fill\" style=\"height: 16px; width: 16px;\"/></span><span class=\"yt-core-attributed-string--inline-flex-mod\" style=\"margin-left: 2px; margin-right: 2px;\"><img alt=\"\" class=\"yt-core-image yt-core-attributed-string__image-element yt-core-attributed-string__image-element--image-alignment-vertical-center yt-core-image--content-mode-scale-to-fill\" style=\"height: 16px; width: 16px;\"/></span></span></yt-attributed-string>, <yt-attributed-string class=\"style-scope ytd-comment-view-model\" id=\"content-text\" slot=\"content\" user-input=\"\"><span class=\"yt-core-attributed-string yt-core-attributed-string--white-space-pre-wrap\" dir=\"auto\" role=\"text\">와 면허 첨 따서 저렇게 큰차 끄는거 어려울텐데 ㅠㅠㅠ 진짜 대단!!</span></yt-attributed-string>, <yt-attributed-string class=\"style-scope ytd-comment-view-model\" id=\"content-text\" slot=\"content\" user-input=\"\"><span class=\"yt-core-attributed-string yt-core-attributed-string--white-space-pre-wrap\" dir=\"auto\"><span class=\"\" dir=\"auto\" style=\"font-weight: 400;\"><a class=\"yt-core-attributed-string__link yt-core-attributed-string__link--display-type yt-core-attributed-string__link--call-to-action-color\" dir=\"auto\" force-new-state=\"true\" href=\"/watch?v=9n2ZMo2590c&amp;t=410s\" rel=\"nofollow\" tabindex=\"0\" target=\"\">6:50</a></span> 둘이 색 비슷해서 넘 좋구 미미씨 으목걸이 너무 탐나고 은지쒸 오늘드ㅏ라 20살같음</span></yt-attributed-string>, <yt-attributed-string class=\"style-scope ytd-comment-view-model\" id=\"content-text\" slot=\"content\" user-input=\"\"><span class=\"yt-core-attributed-string yt-core-attributed-string--white-space-pre-wrap\" dir=\"auto\">내가 보려고 만든 은지 웃긴 모먼트\n",
      "<span class=\"\" dir=\"auto\" style=\"font-weight: 400;\"><a class=\"yt-core-attributed-string__link yt-core-attributed-string__link--display-type yt-core-attributed-string__link--call-to-action-color\" dir=\"auto\" force-new-state=\"true\" href=\"/watch?v=9n2ZMo2590c&amp;t=273s\" rel=\"nofollow\" tabindex=\"0\" target=\"\">04:33</a></span>  타샤니 패션 못알아봐주는 나피디님 왜 저럴까앍?!!! \n",
      "<span class=\"\" dir=\"auto\" style=\"font-weight: 400;\"><a class=\"yt-core-attributed-string__link yt-core-attributed-string__link--display-type yt-core-attributed-string__link--call-to-action-color\" dir=\"auto\" force-new-state=\"true\" href=\"/watch?v=9n2ZMo2590c&amp;t=1769s\" rel=\"nofollow\" tabindex=\"0\" target=\"\">29:29</a></span>  태극기 깔맞춤이 못마땅한 은지 (싫으면 싫다고 얘기를해요ㅋㅋㅋ)\n",
      "<span class=\"\" dir=\"auto\" style=\"font-weight: 400;\"><a class=\"yt-core-attributed-string__link yt-core-attributed-string__link--display-type yt-core-attributed-string__link--call-to-action-color\" dir=\"auto\" force-new-state=\"true\" href=\"/watch?v=9n2ZMo2590c&amp;t=3563s\" rel=\"nofollow\" tabindex=\"0\" target=\"\">59:23</a></span> 예슬피디는 무조건 가야지!!!</span></yt-attributed-string>, <yt-attributed-string class=\"style-scope ytd-comment-view-model\" id=\"content-text\" slot=\"content\" user-input=\"\"><span class=\"yt-core-attributed-string yt-core-attributed-string--white-space-pre-wrap\" dir=\"auto\" role=\"text\">유투브 버전이 티비엔 버젼보다 길어서 (편집이적어서) 더 재미써염</span></yt-attributed-string>, <yt-attributed-string class=\"style-scope ytd-comment-view-model\" id=\"content-text\" slot=\"content\" user-input=\"\"><span class=\"yt-core-attributed-string yt-core-attributed-string--white-space-pre-wrap\" dir=\"auto\" role=\"text\">이렇게 재밌을 일이냐고!!!\n",
      "<span class=\"yt-core-attributed-string--inline-flex-mod\" style=\"margin-left: 2px; margin-right: 2px;\"><img alt=\"\" class=\"yt-core-image yt-core-attributed-string__image-element yt-core-attributed-string__image-element--image-alignment-vertical-center yt-core-image--content-mode-scale-to-fill\" style=\"height: 16px; width: 16px;\"/></span><span class=\"yt-core-attributed-string--inline-flex-mod\" style=\"margin-left: 2px; margin-right: 2px;\"><img alt=\"\" class=\"yt-core-image yt-core-attributed-string__image-element yt-core-attributed-string__image-element--image-alignment-vertical-center yt-core-image--content-mode-scale-to-fill\" style=\"height: 16px; width: 16px;\"/></span><span class=\"yt-core-attributed-string--inline-flex-mod\" style=\"margin-left: 2px; margin-right: 2px;\"><img alt=\"\" class=\"yt-core-image yt-core-attributed-string__image-element yt-core-attributed-string__image-element--image-alignment-vertical-center yt-core-image--content-mode-scale-to-fill\" style=\"height: 16px; width: 16px;\"/></span><span class=\"yt-core-attributed-string--inline-flex-mod\" style=\"margin-left: 2px; margin-right: 2px;\"><img alt=\"\" class=\"yt-core-image yt-core-attributed-string__image-element yt-core-attributed-string__image-element--image-alignment-vertical-center yt-core-image--content-mode-scale-to-fill\" style=\"height: 16px; width: 16px;\"/></span><span class=\"yt-core-attributed-string--inline-flex-mod\" style=\"margin-left: 2px; margin-right: 2px;\"><img alt=\"\" class=\"yt-core-image yt-core-attributed-string__image-element yt-core-attributed-string__image-element--image-alignment-vertical-center yt-core-image--content-mode-scale-to-fill\" style=\"height: 16px; width: 16px;\"/></span><span class=\"yt-core-attributed-string--inline-flex-mod\" style=\"margin-left: 2px; margin-right: 2px;\"><img alt=\"\" class=\"yt-core-image yt-core-attributed-string__image-element yt-core-attributed-string__image-element--image-alignment-vertical-center yt-core-image--content-mode-scale-to-fill\" style=\"height: 16px; width: 16px;\"/></span><span class=\"yt-core-attributed-string--inline-flex-mod\" style=\"margin-left: 2px; margin-right: 2px;\"><img alt=\"\" class=\"yt-core-image yt-core-attributed-string__image-element yt-core-attributed-string__image-element--image-alignment-vertical-center yt-core-image--content-mode-scale-to-fill\" style=\"height: 16px; width: 16px;\"/></span><span class=\"yt-core-attributed-string--inline-flex-mod\" style=\"margin-left: 2px; margin-right: 2px;\"><img alt=\"\" class=\"yt-core-image yt-core-attributed-string__image-element yt-core-attributed-string__image-element--image-alignment-vertical-center yt-core-image--content-mode-scale-to-fill\" style=\"height: 16px; width: 16px;\"/></span><span class=\"yt-core-attributed-string--inline-flex-mod\" style=\"margin-left: 2px; margin-right: 2px;\"><img alt=\"\" class=\"yt-core-image yt-core-attributed-string__image-element yt-core-attributed-string__image-element--image-alignment-vertical-center yt-core-image--content-mode-scale-to-fill\" style=\"height: 16px; width: 16px;\"/></span><span class=\"yt-core-attributed-string--inline-flex-mod\" style=\"margin-left: 2px; margin-right: 2px;\"><img alt=\"\" class=\"yt-core-image yt-core-attributed-string__image-element yt-core-attributed-string__image-element--image-alignment-vertical-center yt-core-image--content-mode-scale-to-fill\" style=\"height: 16px; width: 16px;\"/></span><span class=\"yt-core-attributed-string--inline-flex-mod\" style=\"margin-left: 2px; margin-right: 2px;\"><img alt=\"\" class=\"yt-core-image yt-core-attributed-string__image-element yt-core-attributed-string__image-element--image-alignment-vertical-center yt-core-image--content-mode-scale-to-fill\" style=\"height: 16px; width: 16px;\"/></span><span class=\"yt-core-attributed-string--inline-flex-mod\" style=\"margin-left: 2px; margin-right: 2px;\"><img alt=\"\" class=\"yt-core-image yt-core-attributed-string__image-element yt-core-attributed-string__image-element--image-alignment-vertical-center yt-core-image--content-mode-scale-to-fill\" style=\"height: 16px; width: 16px;\"/></span><span class=\"yt-core-attributed-string--inline-flex-mod\" style=\"margin-left: 2px; margin-right: 2px;\"><img alt=\"\" class=\"yt-core-image yt-core-attributed-string__image-element yt-core-attributed-string__image-element--image-alignment-vertical-center yt-core-image--content-mode-scale-to-fill\" style=\"height: 16px; width: 16px;\"/></span><span class=\"yt-core-attributed-string--inline-flex-mod\" style=\"margin-left: 2px; margin-right: 2px;\"><img alt=\"\" class=\"yt-core-image yt-core-attributed-string__image-element yt-core-attributed-string__image-element--image-alignment-vertical-center yt-core-image--content-mode-scale-to-fill\" style=\"height: 16px; width: 16px;\"/></span><span class=\"yt-core-attributed-string--inline-flex-mod\" style=\"margin-left: 2px; margin-right: 2px;\"><img alt=\"\" class=\"yt-core-image yt-core-attributed-string__image-element yt-core-attributed-string__image-element--image-alignment-vertical-center yt-core-image--content-mode-scale-to-fill\" style=\"height: 16px; width: 16px;\"/></span><span class=\"yt-core-attributed-string--inline-flex-mod\" style=\"margin-left: 2px; margin-right: 2px;\"><img alt=\"\" class=\"yt-core-image yt-core-attributed-string__image-element yt-core-attributed-string__image-element--image-alignment-vertical-center yt-core-image--content-mode-scale-to-fill\" style=\"height: 16px; width: 16px;\"/></span><span class=\"yt-core-attributed-string--inline-flex-mod\" style=\"margin-left: 2px; margin-right: 2px;\"><img alt=\"\" class=\"yt-core-image yt-core-attributed-string__image-element yt-core-attributed-string__image-element--image-alignment-vertical-center yt-core-image--content-mode-scale-to-fill\" style=\"height: 16px; width: 16px;\"/></span><span class=\"yt-core-attributed-string--inline-flex-mod\" style=\"margin-left: 2px; margin-right: 2px;\"><img alt=\"\" class=\"yt-core-image yt-core-attributed-string__image-element yt-core-attributed-string__image-element--image-alignment-vertical-center yt-core-image--content-mode-scale-to-fill\" style=\"height: 16px; width: 16px;\"/></span><span class=\"yt-core-attributed-string--inline-flex-mod\" style=\"margin-left: 2px; margin-right: 2px;\"><img alt=\"\" class=\"yt-core-image yt-core-attributed-string__image-element yt-core-attributed-string__image-element--image-alignment-vertical-center yt-core-image--content-mode-scale-to-fill\" style=\"height: 16px; width: 16px;\"/></span><span class=\"yt-core-attributed-string--inline-flex-mod\" style=\"margin-left: 2px; margin-right: 2px;\"><img alt=\"\" class=\"yt-core-image yt-core-attributed-string__image-element yt-core-attributed-string__image-element--image-alignment-vertical-center yt-core-image--content-mode-scale-to-fill\" style=\"height: 16px; width: 16px;\"/></span><span class=\"yt-core-attributed-string--inline-flex-mod\" style=\"margin-left: 2px; margin-right: 2px;\"><img alt=\"\" class=\"yt-core-image yt-core-attributed-string__image-element yt-core-attributed-string__image-element--image-alignment-vertical-center yt-core-image--content-mode-scale-to-fill\" style=\"height: 16px; width: 16px;\"/></span><span class=\"yt-core-attributed-string--inline-flex-mod\" style=\"margin-left: 2px; margin-right: 2px;\"><img alt=\"\" class=\"yt-core-image yt-core-attributed-string__image-element yt-core-attributed-string__image-element--image-alignment-vertical-center yt-core-image--content-mode-scale-to-fill\" style=\"height: 16px; width: 16px;\"/></span><span class=\"yt-core-attributed-string--inline-flex-mod\" style=\"margin-left: 2px; margin-right: 2px;\"><img alt=\"\" class=\"yt-core-image yt-core-attributed-string__image-element yt-core-attributed-string__image-element--image-alignment-vertical-center yt-core-image--content-mode-scale-to-fill\" style=\"height: 16px; width: 16px;\"/></span><span class=\"yt-core-attributed-string--inline-flex-mod\" style=\"margin-left: 2px; margin-right: 2px;\"><img alt=\"\" class=\"yt-core-image yt-core-attributed-string__image-element yt-core-attributed-string__image-element--image-alignment-vertical-center yt-core-image--content-mode-scale-to-fill\" style=\"height: 16px; width: 16px;\"/></span><span class=\"yt-core-attributed-string--inline-flex-mod\" style=\"margin-left: 2px; margin-right: 2px;\"><img alt=\"\" class=\"yt-core-image yt-core-attributed-string__image-element yt-core-attributed-string__image-element--image-alignment-vertical-center yt-core-image--content-mode-scale-to-fill\" style=\"height: 16px; width: 16px;\"/></span><span class=\"yt-core-attributed-string--inline-flex-mod\" style=\"margin-left: 2px; margin-right: 2px;\"><img alt=\"\" class=\"yt-core-image yt-core-attributed-string__image-element yt-core-attributed-string__image-element--image-alignment-vertical-center yt-core-image--content-mode-scale-to-fill\" style=\"height: 16px; width: 16px;\"/></span><span class=\"yt-core-attributed-string--inline-flex-mod\" style=\"margin-left: 2px; margin-right: 2px;\"><img alt=\"\" class=\"yt-core-image yt-core-attributed-string__image-element yt-core-attributed-string__image-element--image-alignment-vertical-center yt-core-image--content-mode-scale-to-fill\" style=\"height: 16px; width: 16px;\"/></span><span class=\"yt-core-attributed-string--inline-flex-mod\" style=\"margin-left: 2px; margin-right: 2px;\"><img alt=\"\" class=\"yt-core-image yt-core-attributed-string__image-element yt-core-attributed-string__image-element--image-alignment-vertical-center yt-core-image--content-mode-scale-to-fill\" style=\"height: 16px; width: 16px;\"/></span><span class=\"yt-core-attributed-string--inline-flex-mod\" style=\"margin-left: 2px; margin-right: 2px;\"><img alt=\"\" class=\"yt-core-image yt-core-attributed-string__image-element yt-core-attributed-string__image-element--image-alignment-vertical-center yt-core-image--content-mode-scale-to-fill\" style=\"height: 16px; width: 16px;\"/></span><span class=\"yt-core-attributed-string--inline-flex-mod\" style=\"margin-left: 2px; margin-right: 2px;\"><img alt=\"\" class=\"yt-core-image yt-core-attributed-string__image-element yt-core-attributed-string__image-element--image-alignment-vertical-center yt-core-image--content-mode-scale-to-fill\" style=\"height: 16px; width: 16px;\"/></span><span class=\"yt-core-attributed-string--inline-flex-mod\" style=\"margin-left: 2px; margin-right: 2px;\"><img alt=\"\" class=\"yt-core-image yt-core-attributed-string__image-element yt-core-attributed-string__image-element--image-alignment-vertical-center yt-core-image--content-mode-scale-to-fill\" style=\"height: 16px; width: 16px;\"/></span><span class=\"yt-core-attributed-string--inline-flex-mod\" style=\"margin-left: 2px; margin-right: 2px;\"><img alt=\"\" class=\"yt-core-image yt-core-attributed-string__image-element yt-core-attributed-string__image-element--image-alignment-vertical-center yt-core-image--content-mode-scale-to-fill\" style=\"height: 16px; width: 16px;\"/></span><span class=\"yt-core-attributed-string--inline-flex-mod\" style=\"margin-left: 2px; margin-right: 2px;\"><img alt=\"\" class=\"yt-core-image yt-core-attributed-string__image-element yt-core-attributed-string__image-element--image-alignment-vertical-center yt-core-image--content-mode-scale-to-fill\" style=\"height: 16px; width: 16px;\"/></span><span class=\"yt-core-attributed-string--inline-flex-mod\" style=\"margin-left: 2px; margin-right: 2px;\"><img alt=\"\" class=\"yt-core-image yt-core-attributed-string__image-element yt-core-attributed-string__image-element--image-alignment-vertical-center yt-core-image--content-mode-scale-to-fill\" style=\"height: 16px; width: 16px;\"/></span><span class=\"yt-core-attributed-string--inline-flex-mod\" style=\"margin-left: 2px; margin-right: 2px;\"><img alt=\"\" class=\"yt-core-image yt-core-attributed-string__image-element yt-core-attributed-string__image-element--image-alignment-vertical-center yt-core-image--content-mode-scale-to-fill\" style=\"height: 16px; width: 16px;\"/></span><span class=\"yt-core-attributed-string--inline-flex-mod\" style=\"margin-left: 2px; margin-right: 2px;\"><img alt=\"\" class=\"yt-core-image yt-core-attributed-string__image-element yt-core-attributed-string__image-element--image-alignment-vertical-center yt-core-image--content-mode-scale-to-fill\" style=\"height: 16px; width: 16px;\"/></span><span class=\"yt-core-attributed-string--inline-flex-mod\" style=\"margin-left: 2px; margin-right: 2px;\"><img alt=\"\" class=\"yt-core-image yt-core-attributed-string__image-element yt-core-attributed-string__image-element--image-alignment-vertical-center yt-core-image--content-mode-scale-to-fill\" style=\"height: 16px; width: 16px;\"/></span><span class=\"yt-core-attributed-string--inline-flex-mod\" style=\"margin-left: 2px; margin-right: 2px;\"><img alt=\"\" class=\"yt-core-image yt-core-attributed-string__image-element yt-core-attributed-string__image-element--image-alignment-vertical-center yt-core-image--content-mode-scale-to-fill\" style=\"height: 16px; width: 16px;\"/></span><span class=\"yt-core-attributed-string--inline-flex-mod\" style=\"margin-left: 2px; margin-right: 2px;\"><img alt=\"\" class=\"yt-core-image yt-core-attributed-string__image-element yt-core-attributed-string__image-element--image-alignment-vertical-center yt-core-image--content-mode-scale-to-fill\" style=\"height: 16px; width: 16px;\"/></span><span class=\"yt-core-attributed-string--inline-flex-mod\" style=\"margin-left: 2px; margin-right: 2px;\"><img alt=\"\" class=\"yt-core-image yt-core-attributed-string__image-element yt-core-attributed-string__image-element--image-alignment-vertical-center yt-core-image--content-mode-scale-to-fill\" style=\"height: 16px; width: 16px;\"/></span><span class=\"yt-core-attributed-string--inline-flex-mod\" style=\"margin-left: 2px; margin-right: 2px;\"><img alt=\"\" class=\"yt-core-image yt-core-attributed-string__image-element yt-core-attributed-string__image-element--image-alignment-vertical-center yt-core-image--content-mode-scale-to-fill\" style=\"height: 16px; width: 16px;\"/></span><span class=\"yt-core-attributed-string--inline-flex-mod\" style=\"margin-left: 2px; margin-right: 2px;\"><img alt=\"\" class=\"yt-core-image yt-core-attributed-string__image-element yt-core-attributed-string__image-element--image-alignment-vertical-center yt-core-image--content-mode-scale-to-fill\" style=\"height: 16px; width: 16px;\"/></span><span class=\"yt-core-attributed-string--inline-flex-mod\" style=\"margin-left: 2px; margin-right: 2px;\"><img alt=\"\" class=\"yt-core-image yt-core-attributed-string__image-element yt-core-attributed-string__image-element--image-alignment-vertical-center yt-core-image--content-mode-scale-to-fill\" style=\"height: 16px; width: 16px;\"/></span><span class=\"yt-core-attributed-string--inline-flex-mod\" style=\"margin-left: 2px; margin-right: 2px;\"><img alt=\"\" class=\"yt-core-image yt-core-attributed-string__image-element yt-core-attributed-string__image-element--image-alignment-vertical-center yt-core-image--content-mode-scale-to-fill\" style=\"height: 16px; width: 16px;\"/></span><span class=\"yt-core-attributed-string--inline-flex-mod\" style=\"margin-left: 2px; margin-right: 2px;\"><img alt=\"\" class=\"yt-core-image yt-core-attributed-string__image-element yt-core-attributed-string__image-element--image-alignment-vertical-center yt-core-image--content-mode-scale-to-fill\" style=\"height: 16px; width: 16px;\"/></span></span></yt-attributed-string>, <yt-attributed-string class=\"style-scope ytd-comment-view-model\" id=\"content-text\" slot=\"content\" user-input=\"\"><span class=\"yt-core-attributed-string yt-core-attributed-string--white-space-pre-wrap\" dir=\"auto\"><span class=\"\" dir=\"auto\" style=\"font-weight: 400;\"><a class=\"yt-core-attributed-string__link yt-core-attributed-string__link--display-type yt-core-attributed-string__link--call-to-action-color\" dir=\"auto\" force-new-state=\"true\" href=\"/watch?v=9n2ZMo2590c&amp;t=326s\" rel=\"nofollow\" tabindex=\"0\" target=\"\">5:26</a></span> 덱스가 아니라 데스나이트 아닙니까 행님..</span></yt-attributed-string>, <yt-attributed-string class=\"style-scope ytd-comment-view-model\" id=\"content-text\" slot=\"content\" user-input=\"\"><span class=\"yt-core-attributed-string yt-core-attributed-string--white-space-pre-wrap\" dir=\"auto\" role=\"text\">핸들을\n",
      "막돌리면안돼~~</span></yt-attributed-string>, <yt-attributed-string class=\"style-scope ytd-comment-view-model\" id=\"content-text\" slot=\"content\" user-input=\"\"><span class=\"yt-core-attributed-string yt-core-attributed-string--white-space-pre-wrap\" dir=\"auto\" role=\"text\">영지 10수도 정말 대단해..ㅠ 운전면허 기능 진짜 별 거 아닌데 자존감 훅훅 떨어지는데.. 10번 떨어진 게 아니라 10번 도전한 거야 기능합격 축하해<span class=\"yt-core-attributed-string--inline-flex-mod\" style=\"margin-left: 2px; margin-right: 2px;\"><img alt=\"\" class=\"yt-core-image yt-core-attributed-string__image-element yt-core-attributed-string__image-element--image-alignment-vertical-center yt-core-image--content-mode-scale-to-fill yt-core-image--loaded\" src=\"https://www.youtube.com/s/gaming/emoji/7ff574f2/emoji_u2764.png\" style=\"height: 16px; width: 16px;\"/></span></span></yt-attributed-string>, <yt-attributed-string class=\"style-scope ytd-comment-view-model\" id=\"content-text\" slot=\"content\" user-input=\"\"><span class=\"yt-core-attributed-string yt-core-attributed-string--white-space-pre-wrap\" dir=\"auto\" role=\"text\">근데 학원없이 1종 박치기? ㄷㄷ 난 학원 다니고도 기능이랑 도로 한두번 떨어졌는데...</span></yt-attributed-string>, <yt-attributed-string class=\"style-scope ytd-comment-view-model\" id=\"content-text\" slot=\"content\" user-input=\"\"><span class=\"yt-core-attributed-string yt-core-attributed-string--white-space-pre-wrap\" dir=\"auto\" role=\"text\">맥도날드 강남삼성DT점  /  진짜 좁은데;  어려운 걸음 하셨습니다.  대부분 맥드라이브 되는곳들 좁아서 힘듬.</span></yt-attributed-string>, <yt-attributed-string class=\"style-scope ytd-comment-view-model\" id=\"content-text\" slot=\"content\" user-input=\"\"><span class=\"yt-core-attributed-string yt-core-attributed-string--white-space-pre-wrap\" dir=\"auto\" role=\"text\">유진아 너무 기특해요 너무 예뻐요 🫳🫳</span></yt-attributed-string>, <yt-attributed-string class=\"style-scope ytd-comment-view-model\" id=\"content-text\" slot=\"content\" user-input=\"\"><span class=\"yt-core-attributed-string yt-core-attributed-string--white-space-pre-wrap\" dir=\"auto\" role=\"text\">아 영지 덱스라고 말하기도 싫다고 극대노하는 거 겁나 웃기넼ㅋㅋㅋㅋㅋㅋㅋㅋㅋㅋㅋㅋ</span></yt-attributed-string>, <yt-attributed-string class=\"style-scope ytd-comment-view-model\" id=\"content-text\" slot=\"content\" user-input=\"\"><span class=\"yt-core-attributed-string yt-core-attributed-string--white-space-pre-wrap\" dir=\"auto\"><span class=\"\" dir=\"auto\" style=\"font-weight: 400;\"><a class=\"yt-core-attributed-string__link yt-core-attributed-string__link--display-type yt-core-attributed-string__link--call-to-action-color\" dir=\"auto\" force-new-state=\"true\" href=\"/watch?v=9n2ZMo2590c&amp;t=746s\" rel=\"nofollow\" tabindex=\"0\" target=\"\">12:26</a></span> 다시보기 저장</span></yt-attributed-string>, <yt-attributed-string class=\"style-scope ytd-comment-view-model\" id=\"content-text\" slot=\"content\" user-input=\"\"><span class=\"yt-core-attributed-string yt-core-attributed-string--white-space-pre-wrap\" dir=\"auto\" role=\"text\">Earth Arcade is the best!</span></yt-attributed-string>, <yt-attributed-string class=\"style-scope ytd-comment-view-model\" id=\"content-text\" slot=\"content\" user-input=\"\"><span class=\"yt-core-attributed-string yt-core-attributed-string--white-space-pre-wrap\" dir=\"auto\" role=\"text\">OMG!! AFTER WAITING FOR SO LONG!! I LOVE YOU NA-PD!!</span></yt-attributed-string>, <yt-attributed-string class=\"style-scope ytd-comment-view-model\" id=\"content-text\" slot=\"content\" user-input=\"\"><span class=\"yt-core-attributed-string yt-core-attributed-string--white-space-pre-wrap\" dir=\"auto\">세상에서 제일 예쁜 주차권 입에 물기 <span class=\"\" dir=\"auto\" style=\"font-weight: 400;\"><a class=\"yt-core-attributed-string__link yt-core-attributed-string__link--display-type yt-core-attributed-string__link--call-to-action-color\" dir=\"auto\" force-new-state=\"true\" href=\"/watch?v=9n2ZMo2590c&amp;t=5010s\" rel=\"nofollow\" tabindex=\"0\" target=\"\">1:23:30</a></span></span></yt-attributed-string>, <yt-attributed-string class=\"style-scope ytd-comment-view-model\" id=\"content-text\" slot=\"content\" user-input=\"\"><span class=\"yt-core-attributed-string yt-core-attributed-string--white-space-pre-wrap\" dir=\"auto\" role=\"text\">Akhirnya, earth arcade comeback<span class=\"yt-core-attributed-string--inline-flex-mod\" style=\"margin-left: 2px; margin-right: 2px;\"><img alt=\"\" class=\"yt-core-image yt-core-attributed-string__image-element yt-core-attributed-string__image-element--image-alignment-vertical-center yt-core-image--content-mode-scale-to-fill yt-core-image--loaded\" src=\"https://www.youtube.com/s/gaming/emoji/7ff574f2/emoji_u1f62d.png\" style=\"height: 16px; width: 16px;\"/></span><span class=\"yt-core-attributed-string--inline-flex-mod\" style=\"margin-left: 2px; margin-right: 2px;\"><img alt=\"\" class=\"yt-core-image yt-core-attributed-string__image-element yt-core-attributed-string__image-element--image-alignment-vertical-center yt-core-image--content-mode-scale-to-fill yt-core-image--loaded\" src=\"https://www.youtube.com/s/gaming/emoji/7ff574f2/emoji_u1f493.png\" style=\"height: 16px; width: 16px;\"/></span><span class=\"yt-core-attributed-string--inline-flex-mod\" style=\"margin-left: 2px; margin-right: 2px;\"><img alt=\"\" class=\"yt-core-image yt-core-attributed-string__image-element yt-core-attributed-string__image-element--image-alignment-vertical-center yt-core-image--content-mode-scale-to-fill yt-core-image--loaded\" src=\"https://www.youtube.com/s/gaming/emoji/7ff574f2/emoji_u1f493.png\" style=\"height: 16px; width: 16px;\"/></span></span></yt-attributed-string>, <yt-attributed-string class=\"style-scope ytd-comment-view-model\" id=\"content-text\" slot=\"content\" user-input=\"\"><span class=\"yt-core-attributed-string yt-core-attributed-string--white-space-pre-wrap\" dir=\"auto\" role=\"text\">ㅋㅋㅋㅋㅋ 벌써 기대가 되는구만 기래</span></yt-attributed-string>, <yt-attributed-string class=\"style-scope ytd-comment-view-model\" id=\"content-text\" slot=\"content\" user-input=\"\"><span class=\"yt-core-attributed-string yt-core-attributed-string--white-space-pre-wrap\" dir=\"auto\" role=\"text\">영지 노래들으면서 달릴때 낭만 지린다 ㅎㄷㄷㄷ 친구 면허따고 차빌려서 막 좌충우돌로 걍 갈때 생각나네 ㅋㅋㅋㅋ</span></yt-attributed-string>, <yt-attributed-string class=\"style-scope ytd-comment-view-model\" id=\"content-text\" slot=\"content\" user-input=\"\"><span class=\"yt-core-attributed-string yt-core-attributed-string--white-space-pre-wrap\" dir=\"auto\" role=\"text\">the best</span></yt-attributed-string>, <yt-attributed-string class=\"style-scope ytd-comment-view-model\" id=\"content-text\" slot=\"content\" user-input=\"\"><span class=\"yt-core-attributed-string yt-core-attributed-string--white-space-pre-wrap\" dir=\"auto\" role=\"text\">와 진짜 첫 운전 때 등에서 땀나는거\n",
      "넘 생각난다 ㅎ~</span></yt-attributed-string>, <yt-attributed-string class=\"style-scope ytd-comment-view-model\" id=\"content-text\" slot=\"content\" user-input=\"\"><span class=\"yt-core-attributed-string yt-core-attributed-string--white-space-pre-wrap\" dir=\"auto\" role=\"text\">아 재밋음 <span class=\"yt-core-attributed-string--inline-flex-mod\" style=\"margin-left: 2px; margin-right: 2px;\"><img alt=\"\" class=\"yt-core-image yt-core-attributed-string__image-element yt-core-attributed-string__image-element--image-alignment-vertical-center yt-core-image--content-mode-scale-to-fill\" style=\"height: 16px; width: 16px;\"/></span><span class=\"yt-core-attributed-string--inline-flex-mod\" style=\"margin-left: 2px; margin-right: 2px;\"><img alt=\"\" class=\"yt-core-image yt-core-attributed-string__image-element yt-core-attributed-string__image-element--image-alignment-vertical-center yt-core-image--content-mode-scale-to-fill\" style=\"height: 16px; width: 16px;\"/></span></span></yt-attributed-string>, <yt-attributed-string class=\"style-scope ytd-comment-view-model\" id=\"content-text\" slot=\"content\" user-input=\"\"><span class=\"yt-core-attributed-string yt-core-attributed-string--white-space-pre-wrap\" dir=\"auto\" role=\"text\">안유진<span class=\"yt-core-attributed-string--inline-flex-mod\" style=\"margin-left: 2px; margin-right: 2px;\"><img alt=\"\" class=\"yt-core-image yt-core-attributed-string__image-element yt-core-attributed-string__image-element--image-alignment-vertical-center yt-core-image--content-mode-scale-to-fill\" style=\"height: 16px; width: 16px;\"/></span><span class=\"yt-core-attributed-string--inline-flex-mod\" style=\"margin-left: 2px; margin-right: 2px;\"><img alt=\"\" class=\"yt-core-image yt-core-attributed-string__image-element yt-core-attributed-string__image-element--image-alignment-vertical-center yt-core-image--content-mode-scale-to-fill\" style=\"height: 16px; width: 16px;\"/></span><span class=\"yt-core-attributed-string--inline-flex-mod\" style=\"margin-left: 2px; margin-right: 2px;\"><img alt=\"\" class=\"yt-core-image yt-core-attributed-string__image-element yt-core-attributed-string__image-element--image-alignment-vertical-center yt-core-image--content-mode-scale-to-fill\" style=\"height: 16px; width: 16px;\"/></span></span></yt-attributed-string>, <yt-attributed-string class=\"style-scope ytd-comment-view-model\" id=\"content-text\" slot=\"content\" user-input=\"\"><span class=\"yt-core-attributed-string yt-core-attributed-string--white-space-pre-wrap\" dir=\"auto\" role=\"text\">원래 큰차가 운전하기는 더 편함</span></yt-attributed-string>, <yt-attributed-string class=\"style-scope ytd-comment-view-model\" id=\"content-text\" slot=\"content\" user-input=\"\"><span class=\"yt-core-attributed-string yt-core-attributed-string--white-space-pre-wrap\" dir=\"auto\" role=\"text\">有繁體中文字幕（臺灣）讚讚<span class=\"yt-core-attributed-string--inline-flex-mod\" style=\"margin-left: 2px; margin-right: 2px;\"><img alt=\"\" class=\"yt-core-image yt-core-attributed-string__image-element yt-core-attributed-string__image-element--image-alignment-vertical-center yt-core-image--content-mode-scale-to-fill\" style=\"height: 16px; width: 16px;\"/></span><span class=\"yt-core-attributed-string--inline-flex-mod\" style=\"margin-left: 2px; margin-right: 2px;\"><img alt=\"\" class=\"yt-core-image yt-core-attributed-string__image-element yt-core-attributed-string__image-element--image-alignment-vertical-center yt-core-image--content-mode-scale-to-fill\" style=\"height: 16px; width: 16px;\"/></span><span class=\"yt-core-attributed-string--inline-flex-mod\" style=\"margin-left: 2px; margin-right: 2px;\"><img alt=\"\" class=\"yt-core-image yt-core-attributed-string__image-element yt-core-attributed-string__image-element--image-alignment-vertical-center yt-core-image--content-mode-scale-to-fill\" style=\"height: 16px; width: 16px;\"/></span></span></yt-attributed-string>, <yt-attributed-string class=\"style-scope ytd-comment-view-model\" id=\"content-text\" slot=\"content\" user-input=\"\"><span class=\"yt-core-attributed-string yt-core-attributed-string--white-space-pre-wrap\" dir=\"auto\" role=\"text\">진짜 대단하다. 따고 자기가 소중히 여기는 사람 3명을 녹화중인걸 감안하고 운전하는게... 지방러로써 리스펙 합니다.. 채고다</span></yt-attributed-string>, <yt-attributed-string class=\"style-scope ytd-comment-view-model\" id=\"content-text\" slot=\"content\" user-input=\"\"><span class=\"yt-core-attributed-string yt-core-attributed-string--white-space-pre-wrap\" dir=\"auto\" role=\"text\">첫 운전에 초행길에 dt까지 쉽지 않았을텐데 유진이 칭찬해</span></yt-attributed-string>, <yt-attributed-string class=\"style-scope ytd-comment-view-model\" id=\"content-text\" slot=\"content\" user-input=\"\"><span class=\"yt-core-attributed-string yt-core-attributed-string--white-space-pre-wrap\" dir=\"auto\" role=\"text\">난 나피디가 벤츠 준거 되게 센스좋다고 느꼈던게 벤츠가 초보운전 딱지 붙이고 있으면 다른차가 알아서 피해감... 드라이브 스루같은데서는 사고나도 어차피 본인들만 다치니까 괜찮은데 도로에서 다른 차랑 사고나면 그건 진짜 수습불가임 그런 의미에서 진짜 센스 좋은것 같음</span></yt-attributed-string>, <yt-attributed-string class=\"style-scope ytd-comment-view-model\" id=\"content-text\" slot=\"content\" user-input=\"\"><span class=\"yt-core-attributed-string yt-core-attributed-string--white-space-pre-wrap\" dir=\"auto\" role=\"text\">은지웅니 돈마니벌구 부자돼|~~~</span></yt-attributed-string>, <yt-attributed-string class=\"style-scope ytd-comment-view-model\" id=\"content-text\" slot=\"content\" user-input=\"\"><span class=\"yt-core-attributed-string yt-core-attributed-string--white-space-pre-wrap\" dir=\"auto\" role=\"text\">Mari me refresh otak wkwk</span></yt-attributed-string>, <yt-attributed-string class=\"style-scope ytd-comment-view-model\" id=\"content-text\" slot=\"content\" user-input=\"\"><span class=\"yt-core-attributed-string yt-core-attributed-string--white-space-pre-wrap\" dir=\"auto\" role=\"text\">기능을 10번이면....... 운전을 안하는게......</span></yt-attributed-string>, <yt-attributed-string class=\"style-scope ytd-comment-view-model\" id=\"content-text\" slot=\"content\" user-input=\"\"><span class=\"yt-core-attributed-string yt-core-attributed-string--white-space-pre-wrap\" dir=\"auto\" role=\"text\">울 유진공주님은 역시 못하는게 하나도 없는 최고의 슈퍼리더퀸~우리 유진공주님 운전면허 딴거 다시한번 진심으로 너무너무 축하드립니다~우리 유진공주님 짱!!\n",
      "저도 언젠가 유진공주님처럼 운전면허 땄으면 좋겠네요..너무너무 부럽습니다..유진공주님~♡\n",
      "우리 유진공주님이 가뜩이나 수많은 스케줄 때문에 많이 힘든데도 불구하고 이렇게 열심히 하는 모습 넘 자랑스럽네요~역시 아이브 아가들의 리더답습니다~</span></yt-attributed-string>, <yt-attributed-string class=\"style-scope ytd-comment-view-model\" id=\"content-text\" slot=\"content\" user-input=\"\"><span class=\"yt-core-attributed-string yt-core-attributed-string--white-space-pre-wrap\" dir=\"auto\" role=\"text\">사랑스런 지락이들<span class=\"yt-core-attributed-string--inline-flex-mod\" style=\"margin-left: 2px; margin-right: 2px;\"><img alt=\"\" class=\"yt-core-image yt-core-attributed-string__image-element yt-core-attributed-string__image-element--image-alignment-vertical-center yt-core-image--content-mode-scale-to-fill yt-core-image--loaded\" src=\"https://www.youtube.com/s/gaming/emoji/7ff574f2/emoji_u1f60a.png\" style=\"height: 16px; width: 16px;\"/></span></span></yt-attributed-string>, <yt-attributed-string class=\"style-scope ytd-comment-view-model\" id=\"content-text\" slot=\"content\" user-input=\"\"><span class=\"yt-core-attributed-string yt-core-attributed-string--white-space-pre-wrap\" dir=\"auto\" role=\"text\">소형차,경차로 운전 후 대형차 렌트카여도 힘든데 \n",
      "이정도면 진짜 대단 대단 해요</span></yt-attributed-string>, <yt-attributed-string class=\"style-scope ytd-comment-view-model\" id=\"content-text\" slot=\"content\" user-input=\"\"><span class=\"yt-core-attributed-string yt-core-attributed-string--white-space-pre-wrap\" dir=\"auto\"><span class=\"\" dir=\"auto\" style=\"font-weight: 400;\"><a class=\"yt-core-attributed-string__link yt-core-attributed-string__link--display-type yt-core-attributed-string__link--call-to-action-color\" dir=\"auto\" force-new-state=\"true\" href=\"/watch?v=9n2ZMo2590c&amp;t=4738s\" rel=\"nofollow\" tabindex=\"0\" target=\"\">1:18:58</a></span> 영지 노래 너무 잘불러 진심... 나중에 재즈곡 커버해주면 소원이 없을듯!!<span class=\"yt-core-attributed-string--inline-flex-mod\" style=\"margin-left: 2px; margin-right: 2px;\"><img alt=\"\" class=\"yt-core-image yt-core-attributed-string__image-element yt-core-attributed-string__image-element--image-alignment-vertical-center yt-core-image--content-mode-scale-to-fill yt-core-image--loaded\" src=\"https://www.youtube.com/s/gaming/emoji/7ff574f2/emoji_u2764.png\" style=\"height: 16px; width: 16px;\"/></span><span class=\"yt-core-attributed-string--inline-flex-mod\" style=\"margin-left: 2px; margin-right: 2px;\"><img alt=\"\" class=\"yt-core-image yt-core-attributed-string__image-element yt-core-attributed-string__image-element--image-alignment-vertical-center yt-core-image--content-mode-scale-to-fill yt-core-image--loaded\" src=\"https://www.youtube.com/s/gaming/emoji/7ff574f2/emoji_u2764.png\" style=\"height: 16px; width: 16px;\"/></span></span></yt-attributed-string>, <yt-attributed-string class=\"style-scope ytd-comment-view-model\" id=\"content-text\" slot=\"content\" user-input=\"\"><span class=\"yt-core-attributed-string yt-core-attributed-string--white-space-pre-wrap\" dir=\"auto\" role=\"text\">예슬PD님 집 명의이전 받으셨나요?</span></yt-attributed-string>, <yt-attributed-string class=\"style-scope ytd-comment-view-model\" id=\"content-text\" slot=\"content\" user-input=\"\"><span class=\"yt-core-attributed-string yt-core-attributed-string--white-space-pre-wrap\" dir=\"auto\"><span class=\"\" dir=\"auto\" style=\"font-weight: 400;\"><a class=\"yt-core-attributed-string__link yt-core-attributed-string__link--display-type yt-core-attributed-string__link--call-to-action-color\" dir=\"auto\" force-new-state=\"true\" href=\"/watch?v=9n2ZMo2590c&amp;t=509s\" rel=\"nofollow\" tabindex=\"0\" target=\"\">8:29</a></span> 아니 병지컷 왜케 유명해 ㅋㅋㅋ 저 나잇대에 병지컷을 우째 아는겨 ㅋ</span></yt-attributed-string>, <yt-attributed-string class=\"style-scope ytd-comment-view-model\" id=\"content-text\" slot=\"content\" user-input=\"\"><span class=\"yt-core-attributed-string yt-core-attributed-string--white-space-pre-wrap\" dir=\"auto\" role=\"text\">미미 진짜 러블리.... 뽀글뽀글<span class=\"yt-core-attributed-string--inline-flex-mod\" style=\"margin-left: 2px; margin-right: 2px;\"><img alt=\"\" class=\"yt-core-image yt-core-attributed-string__image-element yt-core-attributed-string__image-element--image-alignment-vertical-center yt-core-image--content-mode-scale-to-fill yt-core-image--loaded\" src=\"https://www.youtube.com/s/gaming/emoji/7ff574f2/emoji_u2764.png\" style=\"height: 16px; width: 16px;\"/></span>\n",
      "오마이걸 완전체도 보고싶고 WM완전체여도 재밌을것같고...<span class=\"yt-core-attributed-string--inline-flex-mod\" style=\"margin-left: 2px; margin-right: 2px;\"><img alt=\"\" class=\"yt-core-image yt-core-attributed-string__image-element yt-core-attributed-string__image-element--image-alignment-vertical-center yt-core-image--content-mode-scale-to-fill yt-core-image--loaded\" src=\"https://www.youtube.com/s/gaming/emoji/7ff574f2/emoji_u1f64f.png\" style=\"height: 16px; width: 16px;\"/></span><span class=\"yt-core-attributed-string--inline-flex-mod\" style=\"margin-left: 2px; margin-right: 2px;\"><img alt=\"\" class=\"yt-core-image yt-core-attributed-string__image-element yt-core-attributed-string__image-element--image-alignment-vertical-center yt-core-image--content-mode-scale-to-fill yt-core-image--loaded\" src=\"https://www.youtube.com/s/gaming/emoji/7ff574f2/emoji_u1f64f.png\" style=\"height: 16px; width: 16px;\"/></span><span class=\"yt-core-attributed-string--inline-flex-mod\" style=\"margin-left: 2px; margin-right: 2px;\"><img alt=\"\" class=\"yt-core-image yt-core-attributed-string__image-element yt-core-attributed-string__image-element--image-alignment-vertical-center yt-core-image--content-mode-scale-to-fill yt-core-image--loaded\" src=\"https://www.youtube.com/s/gaming/emoji/7ff574f2/emoji_u1f64f.png\" style=\"height: 16px; width: 16px;\"/></span></span></yt-attributed-string>, <yt-attributed-string class=\"style-scope ytd-comment-view-model\" id=\"content-text\" slot=\"content\" user-input=\"\"><span class=\"yt-core-attributed-string yt-core-attributed-string--white-space-pre-wrap\" dir=\"auto\" role=\"text\">지락실 내 최애 예능..</span></yt-attributed-string>, <yt-attributed-string class=\"style-scope ytd-comment-view-model\" id=\"content-text\" slot=\"content\" user-input=\"\"><span class=\"yt-core-attributed-string yt-core-attributed-string--white-space-pre-wrap\" dir=\"auto\" role=\"text\">와 안유진은 전생에 뭘햇길래 방송에서 운전연수도 시켜주냐,,</span></yt-attributed-string>, <yt-attributed-string class=\"style-scope ytd-comment-view-model\" id=\"content-text\" slot=\"content\" user-input=\"\"><span class=\"yt-core-attributed-string yt-core-attributed-string--white-space-pre-wrap\" dir=\"auto\" role=\"text\">유진이 멋지다..존경스럽다 …</span></yt-attributed-string>, <yt-attributed-string class=\"style-scope ytd-comment-view-model\" id=\"content-text\" slot=\"content\" user-input=\"\"><span class=\"yt-core-attributed-string yt-core-attributed-string--white-space-pre-wrap\" dir=\"auto\" role=\"text\">포스터 나만 뉴진스 생각나나?</span></yt-attributed-string>, <yt-attributed-string class=\"style-scope ytd-comment-view-model\" id=\"content-text\" slot=\"content\" user-input=\"\"><span class=\"yt-core-attributed-string yt-core-attributed-string--white-space-pre-wrap\" dir=\"auto\" role=\"text\">지락실 맴버들 너무 좋아좋아 너무 기다렸어요~~~오오오옹~~~</span></yt-attributed-string>, <yt-attributed-string class=\"style-scope ytd-comment-view-model\" id=\"content-text\" slot=\"content\" user-input=\"\"><span class=\"yt-core-attributed-string yt-core-attributed-string--white-space-pre-wrap\" dir=\"auto\" role=\"text\">초보때 저정도면 양호하지....난 면허따고 1주일 안될때 커브돌때 속도안줄여서 차 들린적 있었는데....</span></yt-attributed-string>, <yt-attributed-string class=\"style-scope ytd-comment-view-model\" id=\"content-text\" slot=\"content\" user-input=\"\"><span class=\"yt-core-attributed-string yt-core-attributed-string--white-space-pre-wrap\" dir=\"auto\" role=\"text\">유진이를 내가 낳았어야되!!!!!!</span></yt-attributed-string>, <yt-attributed-string class=\"style-scope ytd-comment-view-model\" id=\"content-text\" slot=\"content\" user-input=\"\"><span class=\"yt-core-attributed-string yt-core-attributed-string--white-space-pre-wrap\" dir=\"auto\" role=\"text\">영석이형 발려 기 빨려..... <span class=\"yt-core-attributed-string--inline-flex-mod\" style=\"margin-left: 2px; margin-right: 2px;\"><img alt=\"\" class=\"yt-core-image yt-core-attributed-string__image-element yt-core-attributed-string__image-element--image-alignment-vertical-center yt-core-image--content-mode-scale-to-fill\" style=\"height: 16px; width: 16px;\"/></span><span class=\"yt-core-attributed-string--inline-flex-mod\" style=\"margin-left: 2px; margin-right: 2px;\"><img alt=\"\" class=\"yt-core-image yt-core-attributed-string__image-element yt-core-attributed-string__image-element--image-alignment-vertical-center yt-core-image--content-mode-scale-to-fill\" style=\"height: 16px; width: 16px;\"/></span><span class=\"yt-core-attributed-string--inline-flex-mod\" style=\"margin-left: 2px; margin-right: 2px;\"><img alt=\"\" class=\"yt-core-image yt-core-attributed-string__image-element yt-core-attributed-string__image-element--image-alignment-vertical-center yt-core-image--content-mode-scale-to-fill\" style=\"height: 16px; width: 16px;\"/></span></span></yt-attributed-string>, <yt-attributed-string class=\"style-scope ytd-comment-view-model\" id=\"content-text\" slot=\"content\" user-input=\"\"><span class=\"yt-core-attributed-string yt-core-attributed-string--white-space-pre-wrap\" dir=\"auto\" role=\"text\">나진짜 요즘세상에 10번 떨어진 사람 처음봐ㅋㅋㅋㅋㅋㅋ</span></yt-attributed-string>, <yt-attributed-string class=\"style-scope ytd-comment-view-model\" id=\"content-text\" slot=\"content\" user-input=\"\"><span class=\"yt-core-attributed-string yt-core-attributed-string--white-space-pre-wrap\" dir=\"auto\" role=\"text\">역쉬가 역쉬했다 <span class=\"yt-core-attributed-string--inline-flex-mod\" style=\"margin-left: 2px; margin-right: 2px;\"><img alt=\"\" class=\"yt-core-image yt-core-attributed-string__image-element yt-core-attributed-string__image-element--image-alignment-vertical-center yt-core-image--content-mode-scale-to-fill\" style=\"height: 16px; width: 16px;\"/></span></span></yt-attributed-string>, <yt-attributed-string class=\"style-scope ytd-comment-view-model\" id=\"content-text\" slot=\"content\" user-input=\"\"><span class=\"yt-core-attributed-string yt-core-attributed-string--white-space-pre-wrap\" dir=\"auto\" role=\"text\">이게 왜 인동에 안드냐 유튜브 이상하네</span></yt-attributed-string>, <yt-attributed-string class=\"style-scope ytd-comment-view-model\" id=\"content-text\" slot=\"content\" user-input=\"\"><span class=\"yt-core-attributed-string yt-core-attributed-string--white-space-pre-wrap\" dir=\"auto\" role=\"text\">다들 너무 좋은 사람들이라 보기 좋다!<span class=\"yt-core-attributed-string--inline-flex-mod\" style=\"margin-left: 2px; margin-right: 2px;\"><img alt=\"\" class=\"yt-core-image yt-core-attributed-string__image-element yt-core-attributed-string__image-element--image-alignment-vertical-center yt-core-image--content-mode-scale-to-fill yt-core-image--loaded\" src=\"https://www.youtube.com/s/gaming/emoji/7ff574f2/emoji_u2764.png\" style=\"height: 16px; width: 16px;\"/></span></span></yt-attributed-string>, <yt-attributed-string class=\"style-scope ytd-comment-view-model\" id=\"content-text\" slot=\"content\" user-input=\"\"><span class=\"yt-core-attributed-string yt-core-attributed-string--white-space-pre-wrap\" dir=\"auto\" role=\"text\">친구들 태워서 운전해서 여행가는거<span class=\"yt-core-attributed-string--inline-flex-mod\" style=\"margin-left: 2px; margin-right: 2px;\"><img alt=\"\" class=\"yt-core-image yt-core-attributed-string__image-element yt-core-attributed-string__image-element--image-alignment-vertical-center yt-core-image--content-mode-scale-to-fill yt-core-image--loaded\" src=\"https://www.youtube.com/s/gaming/emoji/7ff574f2/emoji_u1f929.png\" style=\"height: 16px; width: 16px;\"/></span> 내 로망</span></yt-attributed-string>, <yt-attributed-string class=\"style-scope ytd-comment-view-model\" id=\"content-text\" slot=\"content\" user-input=\"\"><span class=\"yt-core-attributed-string yt-core-attributed-string--white-space-pre-wrap\" dir=\"auto\"><span class=\"\" dir=\"auto\" style=\"font-weight: 400;\"><a class=\"yt-core-attributed-string__link yt-core-attributed-string__link--display-type yt-core-attributed-string__link--call-to-action-color\" dir=\"auto\" force-new-state=\"true\" href=\"/watch?v=9n2ZMo2590c&amp;t=4028s\" rel=\"nofollow\" tabindex=\"0\" target=\"\">1:07:08</a></span> 휴…. 안긁었…<span class=\"yt-core-attributed-string--inline-flex-mod\" style=\"margin-left: 2px; margin-right: 2px;\"><img alt=\"\" class=\"yt-core-image yt-core-attributed-string__image-element yt-core-attributed-string__image-element--image-alignment-vertical-center yt-core-image--content-mode-scale-to-fill yt-core-image--loaded\" src=\"https://www.youtube.com/s/gaming/emoji/7ff574f2/emoji_u1f605.png\" style=\"height: 16px; width: 16px;\"/></span></span></yt-attributed-string>, <yt-attributed-string class=\"style-scope ytd-comment-view-model\" id=\"content-text\" slot=\"content\" user-input=\"\"><span class=\"yt-core-attributed-string yt-core-attributed-string--white-space-pre-wrap\" dir=\"auto\"><span class=\"\" dir=\"auto\" style=\"font-weight: 400;\"><a class=\"yt-core-attributed-string__link yt-core-attributed-string__link--display-type yt-core-attributed-string__link--call-to-action-color\" dir=\"auto\" force-new-state=\"true\" href=\"/watch?v=9n2ZMo2590c&amp;t=2119s\" rel=\"nofollow\" tabindex=\"0\" target=\"\">35:19</a></span> 알겠어요 피디님 너무 멋있어..</span></yt-attributed-string>, <yt-attributed-string class=\"style-scope ytd-comment-view-model\" id=\"content-text\" slot=\"content\" user-input=\"\"><span class=\"yt-core-attributed-string yt-core-attributed-string--white-space-pre-wrap\" dir=\"auto\" role=\"text\">벌써 몇번째 보는지 모르겠음 도파민 미쳤네 다음주까지 어케 기다림!!!!!!</span></yt-attributed-string>, <yt-attributed-string class=\"style-scope ytd-comment-view-model\" id=\"content-text\" slot=\"content\" user-input=\"\"><span class=\"yt-core-attributed-string yt-core-attributed-string--white-space-pre-wrap\" dir=\"auto\" role=\"text\">ㅋㅋ 브레이크 할 때 마다 네명 다 앞뒤로 흔들리는 거 너무 귀엽다</span></yt-attributed-string>, <yt-attributed-string class=\"style-scope ytd-comment-view-model\" id=\"content-text\" slot=\"content\" user-input=\"\"><span class=\"yt-core-attributed-string yt-core-attributed-string--white-space-pre-wrap\" dir=\"auto\" role=\"text\">미미 씨 \n",
      " 또루꾸 마똣</span></yt-attributed-string>, <yt-attributed-string class=\"style-scope ytd-comment-view-model\" id=\"content-text\" slot=\"content\" user-input=\"\"><span class=\"yt-core-attributed-string yt-core-attributed-string--white-space-pre-wrap\" dir=\"auto\" role=\"text\">미미 쟤는 점점 이상해져가누</span></yt-attributed-string>, <yt-attributed-string class=\"style-scope ytd-comment-view-model\" id=\"content-text\" slot=\"content\" user-input=\"\"><span class=\"yt-core-attributed-string yt-core-attributed-string--white-space-pre-wrap\" dir=\"auto\"><span class=\"\" dir=\"auto\" style=\"font-weight: 400;\"><a class=\"yt-core-attributed-string__link yt-core-attributed-string__link--display-type yt-core-attributed-string__link--call-to-action-color\" dir=\"auto\" force-new-state=\"true\" href=\"/watch?v=9n2ZMo2590c&amp;t=2185s\" rel=\"nofollow\" tabindex=\"0\" target=\"\">36:25</a></span></span></yt-attributed-string>, <yt-attributed-string class=\"style-scope ytd-comment-view-model\" id=\"content-text\" slot=\"content\" user-input=\"\"><span class=\"yt-core-attributed-string yt-core-attributed-string--white-space-pre-wrap\" dir=\"auto\" role=\"text\">크루즈로 가야하는데 계속 엑셀 안밟게 ㅎㅎ</span></yt-attributed-string>, <yt-attributed-string class=\"style-scope ytd-comment-view-model\" id=\"content-text\" slot=\"content\" user-input=\"\"><span class=\"yt-core-attributed-string yt-core-attributed-string--white-space-pre-wrap\" dir=\"auto\"><span class=\"\" dir=\"auto\" style=\"font-weight: 400;\"><a class=\"yt-core-attributed-string__link yt-core-attributed-string__link--display-type yt-core-attributed-string__link--call-to-action-color\" dir=\"auto\" force-new-state=\"true\" href=\"/watch?v=9n2ZMo2590c&amp;t=2442s\" rel=\"nofollow\" tabindex=\"0\" target=\"\">40:42</a></span> 아니 안유진 ㄴㄴ 유진이 왜케 웃기냐곸ㅋㅋㅋㅋㅋㅋ 이들의 합이 미쳐버림</span></yt-attributed-string>, <yt-attributed-string class=\"style-scope ytd-comment-view-model\" id=\"content-text\" slot=\"content\" user-input=\"\"><span class=\"yt-core-attributed-string yt-core-attributed-string--white-space-pre-wrap\" dir=\"auto\" role=\"text\">채널 십오야 Channel 15Ya Full Moon \n",
      "\n",
      "채널 이름을 바꿔보는 것도 나쁘지 않을 것 같아서요...\n",
      "\n",
      "채널십오야도 나쁘지는 않지만 옆에 영어로도 있으면 좋을 것 같아서 얘기 해봐요~~~\n",
      "\n",
      "나PD님 좋아하는 사람으로써 채널 십오야 재미있게 잘 보고 있어요~~~</span></yt-attributed-string>, <yt-attributed-string class=\"style-scope ytd-comment-view-model\" id=\"content-text\" slot=\"content\" user-input=\"\"><span class=\"yt-core-attributed-string yt-core-attributed-string--white-space-pre-wrap\" dir=\"auto\" role=\"text\">왜 보면서 손에 진땀이 나는건지...영석이형 힌머리 날듯...</span></yt-attributed-string>, <yt-attributed-string class=\"style-scope ytd-comment-view-model\" id=\"content-text\" slot=\"content\" user-input=\"\"><span class=\"yt-core-attributed-string yt-core-attributed-string--white-space-pre-wrap\" dir=\"auto\" role=\"text\">As long as i watch variety shows from south korea, jiraksil is one of the best. Seriously, it's not just the members who are fun, even the crew is fun too<span class=\"yt-core-attributed-string--inline-flex-mod\" style=\"margin-left: 2px; margin-right: 2px;\"><img alt=\"\" class=\"yt-core-image yt-core-attributed-string__image-element yt-core-attributed-string__image-element--image-alignment-vertical-center yt-core-image--content-mode-scale-to-fill\" style=\"height: 16px; width: 16px;\"/></span></span></yt-attributed-string>, <yt-attributed-string class=\"style-scope ytd-comment-view-model\" id=\"content-text\" slot=\"content\" user-input=\"\"><span class=\"yt-core-attributed-string yt-core-attributed-string--white-space-pre-wrap\" dir=\"auto\" role=\"text\">이래서 유진이가 내 최애인 거야🩷🩷🩷</span></yt-attributed-string>, <yt-attributed-string class=\"style-scope ytd-comment-view-model\" id=\"content-text\" slot=\"content\" user-input=\"\"><span class=\"yt-core-attributed-string yt-core-attributed-string--white-space-pre-wrap\" dir=\"auto\" role=\"text\">유진이 보면 예전 1박2일때 승기보는것 같음 옴청 피곤할텐데 힘든내색 한번 안하고 아주 정상적인 캐릭터인데 웃기고 말재주도 좋고 언니들 잘 따르고 ...\n",
      "암튼 참 사랑스런 캐릭임</span></yt-attributed-string>, <yt-attributed-string class=\"style-scope ytd-comment-view-model\" id=\"content-text\" slot=\"content\" user-input=\"\"><span class=\"yt-core-attributed-string yt-core-attributed-string--white-space-pre-wrap\" dir=\"auto\" role=\"text\">영지랑 은지 분위기 메이커 너무 좋다ㅋㅋㅋㅋㅋㅋㅋㅋㅋㅋㅋㅋㅋㅋ</span></yt-attributed-string>, <yt-attributed-string class=\"style-scope ytd-comment-view-model\" id=\"content-text\" slot=\"content\" user-input=\"\"><span class=\"yt-core-attributed-string yt-core-attributed-string--white-space-pre-wrap\" dir=\"auto\" role=\"text\">本当にここまで面白いバラエティ見た事ないくらい面白いし、4人のケミとヨンソギヒョン最高すぎる！\n",
      "何も企画なくても本人達だけでバラエティ作れちゃうw</span></yt-attributed-string>, <yt-attributed-string class=\"style-scope ytd-comment-view-model\" id=\"content-text\" slot=\"content\" user-input=\"\"><span class=\"yt-core-attributed-string yt-core-attributed-string--white-space-pre-wrap\" dir=\"auto\" role=\"text\">10수하더니 5수생 미미미누 톤 나오는 영지ㅋㅋ</span></yt-attributed-string>, <yt-attributed-string class=\"style-scope ytd-comment-view-model\" id=\"content-text\" slot=\"content\" user-input=\"\"><span class=\"yt-core-attributed-string yt-core-attributed-string--white-space-pre-wrap\" dir=\"auto\" role=\"text\">역시 유진이  istj</span></yt-attributed-string>, <yt-attributed-string class=\"style-scope ytd-comment-view-model\" id=\"content-text\" slot=\"content\" user-input=\"\"><span class=\"yt-core-attributed-string yt-core-attributed-string--white-space-pre-wrap\" dir=\"auto\" role=\"text\">나피디 머리맞히기 왜 비중이 있지..</span></yt-attributed-string>, <yt-attributed-string class=\"style-scope ytd-comment-view-model\" id=\"content-text\" slot=\"content\" user-input=\"\"><span class=\"yt-core-attributed-string yt-core-attributed-string--white-space-pre-wrap\" dir=\"auto\" role=\"text\">예슬피디님 영지랑 목소리비슷 ㅋㅋ</span></yt-attributed-string>, <yt-attributed-string class=\"style-scope ytd-comment-view-model\" id=\"content-text\" slot=\"content\" user-input=\"\"><span class=\"yt-core-attributed-string yt-core-attributed-string--white-space-pre-wrap\" dir=\"auto\" role=\"text\">유진안...세상 성실한 거 깨닫고 갑니다... 다 너무 귀엽고 부럽고 친구들이랑 놀러가고 싶고,</span></yt-attributed-string>, <yt-attributed-string class=\"style-scope ytd-comment-view-model\" id=\"content-text\" slot=\"content\" user-input=\"\"><span class=\"yt-core-attributed-string yt-core-attributed-string--white-space-pre-wrap\" dir=\"auto\"><span class=\"\" dir=\"auto\" style=\"font-weight: 400;\"><a class=\"yt-core-attributed-string__link yt-core-attributed-string__link--display-type yt-core-attributed-string__link--call-to-action-color\" dir=\"auto\" force-new-state=\"true\" href=\"/watch?v=9n2ZMo2590c&amp;t=970s\" rel=\"nofollow\" tabindex=\"0\" target=\"\">16:10</a></span>\n",
      "타닥 재미지다 ... ㅋㅋㅋㅋㅋㅋㅋㅋㅋㅋㅋㅋㅋㅋ</span></yt-attributed-string>, <yt-attributed-string class=\"style-scope ytd-comment-view-model\" id=\"content-text\" slot=\"content\" user-input=\"\"><span class=\"yt-core-attributed-string yt-core-attributed-string--white-space-pre-wrap\" dir=\"auto\" role=\"text\">O m a g a a a ! ! ! <span class=\"yt-core-attributed-string--inline-flex-mod\" style=\"margin-left: 2px; margin-right: 2px;\"><img alt=\"\" class=\"yt-core-image yt-core-attributed-string__image-element yt-core-attributed-string__image-element--image-alignment-vertical-center yt-core-image--content-mode-scale-to-fill\" style=\"height: 16px; width: 16px;\"/></span></span></yt-attributed-string>, <yt-attributed-string class=\"style-scope ytd-comment-view-model\" id=\"content-text\" slot=\"content\" user-input=\"\"><span class=\"yt-core-attributed-string yt-core-attributed-string--white-space-pre-wrap\" dir=\"auto\" role=\"text\">건강한 웃음 ㅎㅎㅎ</span></yt-attributed-string>, <yt-attributed-string class=\"style-scope ytd-comment-view-model\" id=\"content-text\" slot=\"content\" user-input=\"\"><span class=\"yt-core-attributed-string yt-core-attributed-string--white-space-pre-wrap\" dir=\"auto\" role=\"text\">진짜 배려심있다ㅋㅋㅋ</span></yt-attributed-string>, <yt-attributed-string class=\"style-scope ytd-comment-view-model\" id=\"content-text\" slot=\"content\" user-input=\"\"><span class=\"yt-core-attributed-string yt-core-attributed-string--white-space-pre-wrap\" dir=\"auto\" role=\"text\">우리나라 디티들 너무 좁아...\n",
      "여유롭게 만들면 이용 고객들도 여유롭고 좋을텐데..</span></yt-attributed-string>]\n"
     ]
    }
   ],
   "source": [
    "print(comments)"
   ]
  },
  {
   "cell_type": "code",
   "execution_count": 121,
   "id": "1a2f8a81-974b-40de-9ba7-b92eae5e105a",
   "metadata": {},
   "outputs": [
    {
     "name": "stdout",
     "output_type": "stream",
     "text": [
      "[<span class=\"channel-owner style-scope ytd-comment-view-model style-scope ytd-comment-view-model\">\n",
      "              @15ya.fullmoon\n",
      "            </span>, <span class=\"style-scope ytd-comment-view-model style-scope ytd-comment-view-model\">\n",
      "              @selfawarepotassium\n",
      "            </span>, <span class=\"style-scope ytd-comment-view-model style-scope ytd-comment-view-model\">\n",
      "              @nueosp\n",
      "            </span>, <span class=\"style-scope ytd-comment-view-model style-scope ytd-comment-view-model\">\n",
      "              @user-mp7xr8sn8i\n",
      "            </span>, <span class=\"style-scope ytd-comment-view-model style-scope ytd-comment-view-model\">\n",
      "              @br0827\n",
      "            </span>, <span class=\"style-scope ytd-comment-view-model style-scope ytd-comment-view-model\">\n",
      "              @regitasch\n",
      "            </span>, <span class=\"style-scope ytd-comment-view-model style-scope ytd-comment-view-model\">\n",
      "              @user-kg7hl9xr6h\n",
      "            </span>, <span class=\"style-scope ytd-comment-view-model style-scope ytd-comment-view-model\">\n",
      "              @user-tk1hz1kn5v\n",
      "            </span>, <span class=\"style-scope ytd-comment-view-model style-scope ytd-comment-view-model\">\n",
      "              @user-bn6jg3to6f\n",
      "            </span>, <span class=\"style-scope ytd-comment-view-model style-scope ytd-comment-view-model\">\n",
      "              @aungkyweoo5244\n",
      "            </span>, <span class=\"style-scope ytd-comment-view-model style-scope ytd-comment-view-model\">\n",
      "              @Abcslave\n",
      "            </span>, <span class=\"style-scope ytd-comment-view-model style-scope ytd-comment-view-model\">\n",
      "              @jun5230\n",
      "            </span>, <span class=\"style-scope ytd-comment-view-model style-scope ytd-comment-view-model\">\n",
      "              @Na_eyaho\n",
      "            </span>, <span class=\"style-scope ytd-comment-view-model style-scope ytd-comment-view-model\">\n",
      "              @user-td2xp6ef5u\n",
      "            </span>, <span class=\"style-scope ytd-comment-view-model style-scope ytd-comment-view-model\">\n",
      "              @philgoon\n",
      "            </span>, <span class=\"style-scope ytd-comment-view-model style-scope ytd-comment-view-model\">\n",
      "              @Kajakina3\n",
      "            </span>, <span class=\"style-scope ytd-comment-view-model style-scope ytd-comment-view-model\">\n",
      "              @hsjin215\n",
      "            </span>, <span class=\"style-scope ytd-comment-view-model style-scope ytd-comment-view-model\">\n",
      "              @user-oj2nd4bq5h\n",
      "            </span>, <span class=\"style-scope ytd-comment-view-model style-scope ytd-comment-view-model\">\n",
      "              @user-lv1dw8yo6u\n",
      "            </span>, <span class=\"style-scope ytd-comment-view-model style-scope ytd-comment-view-model\">\n",
      "              @OIEI_OIOF7I\n",
      "            </span>, <span class=\"style-scope ytd-comment-view-model style-scope ytd-comment-view-model\">\n",
      "              @user-dp7hl5nz6b\n",
      "            </span>, <span class=\"style-scope ytd-comment-view-model style-scope ytd-comment-view-model\">\n",
      "              @user-uk4pl7mu4j\n",
      "            </span>, <span class=\"style-scope ytd-comment-view-model style-scope ytd-comment-view-model\">\n",
      "              @nnaacc217\n",
      "            </span>, <span class=\"style-scope ytd-comment-view-model style-scope ytd-comment-view-model\">\n",
      "              @user-uu2sd3mf1y\n",
      "            </span>, <span class=\"style-scope ytd-comment-view-model style-scope ytd-comment-view-model\">\n",
      "              @jjohyun\n",
      "            </span>, <span class=\"style-scope ytd-comment-view-model style-scope ytd-comment-view-model\">\n",
      "              @user-rk2bt2qq7n\n",
      "            </span>, <span class=\"style-scope ytd-comment-view-model style-scope ytd-comment-view-model\">\n",
      "              @user-le5dc7zu8u\n",
      "            </span>, <span class=\"style-scope ytd-comment-view-model style-scope ytd-comment-view-model\">\n",
      "              @08ahn84\n",
      "            </span>, <span class=\"style-scope ytd-comment-view-model style-scope ytd-comment-view-model\">\n",
      "              @tj-jm2zv\n",
      "            </span>, <span class=\"style-scope ytd-comment-view-model style-scope ytd-comment-view-model\">\n",
      "              @ts9363\n",
      "            </span>, <span class=\"style-scope ytd-comment-view-model style-scope ytd-comment-view-model\">\n",
      "              @seonghyeonkim3203\n",
      "            </span>, <span class=\"style-scope ytd-comment-view-model style-scope ytd-comment-view-model\">\n",
      "              @minseo..-..\n",
      "            </span>, <span class=\"style-scope ytd-comment-view-model style-scope ytd-comment-view-model\">\n",
      "              @kiminini\n",
      "            </span>, <span class=\"style-scope ytd-comment-view-model style-scope ytd-comment-view-model\">\n",
      "              @dd0ddi\n",
      "            </span>, <span class=\"style-scope ytd-comment-view-model style-scope ytd-comment-view-model\">\n",
      "              @winterez8620\n",
      "            </span>, <span class=\"style-scope ytd-comment-view-model style-scope ytd-comment-view-model\">\n",
      "              @dbsquf\n",
      "            </span>, <span class=\"style-scope ytd-comment-view-model style-scope ytd-comment-view-model\">\n",
      "              @user-zt6iy1dg3h\n",
      "            </span>, <span class=\"style-scope ytd-comment-view-model style-scope ytd-comment-view-model\">\n",
      "              @user-ex8ic2oe3b\n",
      "            </span>, <span class=\"style-scope ytd-comment-view-model style-scope ytd-comment-view-model\">\n",
      "              @ksul2510\n",
      "            </span>, <span class=\"style-scope ytd-comment-view-model style-scope ytd-comment-view-model\">\n",
      "              @user-zk7lb5qj9w\n",
      "            </span>, <span class=\"style-scope ytd-comment-view-model style-scope ytd-comment-view-model\">\n",
      "              @user-hl8zx8lo1m\n",
      "            </span>, <span class=\"style-scope ytd-comment-view-model style-scope ytd-comment-view-model\">\n",
      "              @philpk2445\n",
      "            </span>, <span class=\"style-scope ytd-comment-view-model style-scope ytd-comment-view-model\">\n",
      "              @yhj1622\n",
      "            </span>, <span class=\"style-scope ytd-comment-view-model style-scope ytd-comment-view-model\">\n",
      "              @daaadaaae\n",
      "            </span>, <span class=\"style-scope ytd-comment-view-model style-scope ytd-comment-view-model\">\n",
      "              @junej5869\n",
      "            </span>, <span class=\"style-scope ytd-comment-view-model style-scope ytd-comment-view-model\">\n",
      "              @chae9143\n",
      "            </span>, <span class=\"style-scope ytd-comment-view-model style-scope ytd-comment-view-model\">\n",
      "              @user-gr8xf6pd6t\n",
      "            </span>, <span class=\"style-scope ytd-comment-view-model style-scope ytd-comment-view-model\">\n",
      "              @thanGacao\n",
      "            </span>, <span class=\"style-scope ytd-comment-view-model style-scope ytd-comment-view-model\">\n",
      "              @hapi-kb7nv\n",
      "            </span>, <span class=\"style-scope ytd-comment-view-model style-scope ytd-comment-view-model\">\n",
      "              @user-yt7og9hc8e\n",
      "            </span>, <span class=\"style-scope ytd-comment-view-model style-scope ytd-comment-view-model\">\n",
      "              @omg_uya\n",
      "            </span>, <span class=\"style-scope ytd-comment-view-model style-scope ytd-comment-view-model\">\n",
      "              @user-gv9mc5iw3m\n",
      "            </span>, <span class=\"style-scope ytd-comment-view-model style-scope ytd-comment-view-model\">\n",
      "              @TV-gw5is\n",
      "            </span>, <span class=\"style-scope ytd-comment-view-model style-scope ytd-comment-view-model\">\n",
      "              @romitriagungsaputra5966\n",
      "            </span>, <span class=\"style-scope ytd-comment-view-model style-scope ytd-comment-view-model\">\n",
      "              @TheSpdff\n",
      "            </span>, <span class=\"style-scope ytd-comment-view-model style-scope ytd-comment-view-model\">\n",
      "              @eeB-rn3hr\n",
      "            </span>, <span class=\"style-scope ytd-comment-view-model style-scope ytd-comment-view-model\">\n",
      "              @b108077\n",
      "            </span>, <span class=\"style-scope ytd-comment-view-model style-scope ytd-comment-view-model\">\n",
      "              @Areum_COYS\n",
      "            </span>, <span class=\"style-scope ytd-comment-view-model style-scope ytd-comment-view-model\">\n",
      "              @user-cv1no2jw2s\n",
      "            </span>, <span class=\"style-scope ytd-comment-view-model style-scope ytd-comment-view-model\">\n",
      "              @bluefin7197\n",
      "            </span>, <span class=\"style-scope ytd-comment-view-model style-scope ytd-comment-view-model\">\n",
      "              @user-ih7gp5bw2z\n",
      "            </span>, <span class=\"style-scope ytd-comment-view-model style-scope ytd-comment-view-model\">\n",
      "              @user-uz2hm1ib4k\n",
      "            </span>, <span class=\"style-scope ytd-comment-view-model style-scope ytd-comment-view-model\">\n",
      "              @user-cn1ip5dy5v\n",
      "            </span>, <span class=\"style-scope ytd-comment-view-model style-scope ytd-comment-view-model\">\n",
      "              @user-rf7bs6ed3v\n",
      "            </span>, <span class=\"style-scope ytd-comment-view-model style-scope ytd-comment-view-model\">\n",
      "              @heyheyhey333\n",
      "            </span>, <span class=\"style-scope ytd-comment-view-model style-scope ytd-comment-view-model\">\n",
      "              @Gorani_57\n",
      "            </span>, <span class=\"style-scope ytd-comment-view-model style-scope ytd-comment-view-model\">\n",
      "              @ginniok\n",
      "            </span>, <span class=\"style-scope ytd-comment-view-model style-scope ytd-comment-view-model\">\n",
      "              @soleil1614\n",
      "            </span>, <span class=\"style-scope ytd-comment-view-model style-scope ytd-comment-view-model\">\n",
      "              @user-rj1ce7nn1t\n",
      "            </span>, <span class=\"style-scope ytd-comment-view-model style-scope ytd-comment-view-model\">\n",
      "              @user-uz2qd5xz6t\n",
      "            </span>, <span class=\"style-scope ytd-comment-view-model style-scope ytd-comment-view-model\">\n",
      "              @StarBoy-rd7cd\n",
      "            </span>, <span class=\"style-scope ytd-comment-view-model style-scope ytd-comment-view-model\">\n",
      "              @user-nj3qm7re5b\n",
      "            </span>, <span class=\"style-scope ytd-comment-view-model style-scope ytd-comment-view-model\">\n",
      "              @dadandda\n",
      "            </span>, <span class=\"style-scope ytd-comment-view-model style-scope ytd-comment-view-model\">\n",
      "              @user-rm2kb8ie7t\n",
      "            </span>, <span class=\"style-scope ytd-comment-view-model style-scope ytd-comment-view-model\">\n",
      "              @lololololol6296\n",
      "            </span>, <span class=\"style-scope ytd-comment-view-model style-scope ytd-comment-view-model\">\n",
      "              @user-it3nz9uq4v\n",
      "            </span>, <span class=\"style-scope ytd-comment-view-model style-scope ytd-comment-view-model\">\n",
      "              @ur5c7o\n",
      "            </span>, <span class=\"style-scope ytd-comment-view-model style-scope ytd-comment-view-model\">\n",
      "              @RacongGuardian\n",
      "            </span>, <span class=\"style-scope ytd-comment-view-model style-scope ytd-comment-view-model\">\n",
      "              @user-bj9cf4zl8t\n",
      "            </span>, <span class=\"style-scope ytd-comment-view-model style-scope ytd-comment-view-model\">\n",
      "              @Young2_jinny\n",
      "            </span>, <span class=\"style-scope ytd-comment-view-model style-scope ytd-comment-view-model\">\n",
      "              @user-yi3kd8dl1t\n",
      "            </span>, <span class=\"style-scope ytd-comment-view-model style-scope ytd-comment-view-model\">\n",
      "              @naheekimee\n",
      "            </span>, <span class=\"style-scope ytd-comment-view-model style-scope ytd-comment-view-model\">\n",
      "              @j2nail_\n",
      "            </span>, <span class=\"style-scope ytd-comment-view-model style-scope ytd-comment-view-model\">\n",
      "              @parosh6449\n",
      "            </span>, <span class=\"style-scope ytd-comment-view-model style-scope ytd-comment-view-model\">\n",
      "              @ja970425\n",
      "            </span>, <span class=\"style-scope ytd-comment-view-model style-scope ytd-comment-view-model\">\n",
      "              @ben_fpv\n",
      "            </span>, <span class=\"style-scope ytd-comment-view-model style-scope ytd-comment-view-model\">\n",
      "              @GodronATX\n",
      "            </span>, <span class=\"style-scope ytd-comment-view-model style-scope ytd-comment-view-model\">\n",
      "              @user-hj7bz4xc4e\n",
      "            </span>, <span class=\"style-scope ytd-comment-view-model style-scope ytd-comment-view-model\">\n",
      "              @jayhyungkim8115\n",
      "            </span>, <span class=\"style-scope ytd-comment-view-model style-scope ytd-comment-view-model\">\n",
      "              @kaykim3492\n",
      "            </span>, <span class=\"style-scope ytd-comment-view-model style-scope ytd-comment-view-model\">\n",
      "              @user-ww8hl4yi3g\n",
      "            </span>, <span class=\"style-scope ytd-comment-view-model style-scope ytd-comment-view-model\">\n",
      "              @elen196\n",
      "            </span>, <span class=\"style-scope ytd-comment-view-model style-scope ytd-comment-view-model\">\n",
      "              @user-happy_Today\n",
      "            </span>, <span class=\"style-scope ytd-comment-view-model style-scope ytd-comment-view-model\">\n",
      "              @FireoftheWest\n",
      "            </span>, <span class=\"style-scope ytd-comment-view-model style-scope ytd-comment-view-model\">\n",
      "              @Ali-IsOk\n",
      "            </span>, <span class=\"style-scope ytd-comment-view-model style-scope ytd-comment-view-model\">\n",
      "              @junggunanbang\n",
      "            </span>, <span class=\"style-scope ytd-comment-view-model style-scope ytd-comment-view-model\">\n",
      "              @user-fr6wr6ki4r\n",
      "            </span>, <span class=\"style-scope ytd-comment-view-model style-scope ytd-comment-view-model\">\n",
      "              @rosedor9766\n",
      "            </span>, <span class=\"style-scope ytd-comment-view-model style-scope ytd-comment-view-model\">\n",
      "              @user-dlfoehfbkajbdkufhioer\n",
      "            </span>, <span class=\"style-scope ytd-comment-view-model style-scope ytd-comment-view-model\">\n",
      "              @user-vf3ke4mf1g\n",
      "            </span>, <span class=\"style-scope ytd-comment-view-model style-scope ytd-comment-view-model\">\n",
      "              @user-gs1ek2lr2i\n",
      "            </span>, <span class=\"style-scope ytd-comment-view-model style-scope ytd-comment-view-model\">\n",
      "              @tv-pc5tq\n",
      "            </span>, <span class=\"style-scope ytd-comment-view-model style-scope ytd-comment-view-model\">\n",
      "              @EL-qs4yc\n",
      "            </span>, <span class=\"style-scope ytd-comment-view-model style-scope ytd-comment-view-model\">\n",
      "              @user-ho6ru4gn3c\n",
      "            </span>, <span class=\"style-scope ytd-comment-view-model style-scope ytd-comment-view-model\">\n",
      "              @Maxwell-_-\n",
      "            </span>, <span class=\"style-scope ytd-comment-view-model style-scope ytd-comment-view-model\">\n",
      "              @aIwayswithme\n",
      "            </span>, <span class=\"style-scope ytd-comment-view-model style-scope ytd-comment-view-model\">\n",
      "              @rqaz-yh3wp\n",
      "            </span>, <span class=\"style-scope ytd-comment-view-model style-scope ytd-comment-view-model\">\n",
      "              @ive_roty\n",
      "            </span>, <span class=\"style-scope ytd-comment-view-model style-scope ytd-comment-view-model\">\n",
      "              @QuirkyWhisker\n",
      "            </span>, <span class=\"style-scope ytd-comment-view-model style-scope ytd-comment-view-model\">\n",
      "              @mmaem7620\n",
      "            </span>, <span class=\"style-scope ytd-comment-view-model style-scope ytd-comment-view-model\">\n",
      "              @user-om2wq4wi4c\n",
      "            </span>, <span class=\"style-scope ytd-comment-view-model style-scope ytd-comment-view-model\">\n",
      "              @jasonjay6101\n",
      "            </span>, <span class=\"style-scope ytd-comment-view-model style-scope ytd-comment-view-model\">\n",
      "              @muyschnee\n",
      "            </span>, <span class=\"style-scope ytd-comment-view-model style-scope ytd-comment-view-model\">\n",
      "              @user-zd1is3bv3c\n",
      "            </span>, <span class=\"style-scope ytd-comment-view-model style-scope ytd-comment-view-model\">\n",
      "              @chichi8795\n",
      "            </span>, <span class=\"style-scope ytd-comment-view-model style-scope ytd-comment-view-model\">\n",
      "              @farihahmohd\n",
      "            </span>, <span class=\"style-scope ytd-comment-view-model style-scope ytd-comment-view-model\">\n",
      "              @ij2559\n",
      "            </span>, <span class=\"style-scope ytd-comment-view-model style-scope ytd-comment-view-model\">\n",
      "              @user-vj6ob3li2u\n",
      "            </span>, <span class=\"style-scope ytd-comment-view-model style-scope ytd-comment-view-model\">\n",
      "              @user-vj6ob3li2u\n",
      "            </span>, <span class=\"style-scope ytd-comment-view-model style-scope ytd-comment-view-model\">\n",
      "              @user-bm1ck7eb3r\n",
      "            </span>, <span class=\"style-scope ytd-comment-view-model style-scope ytd-comment-view-model\">\n",
      "              @user-uo7jw8yb6b\n",
      "            </span>, <span class=\"style-scope ytd-comment-view-model style-scope ytd-comment-view-model\">\n",
      "              @Marmar127wish\n",
      "            </span>, <span class=\"style-scope ytd-comment-view-model style-scope ytd-comment-view-model\">\n",
      "              @user-vh7wn7vt6z\n",
      "            </span>, <span class=\"style-scope ytd-comment-view-model style-scope ytd-comment-view-model\">\n",
      "              @albuminplasma4189\n",
      "            </span>, <span class=\"style-scope ytd-comment-view-model style-scope ytd-comment-view-model\">\n",
      "              @MJ-kb4jg\n",
      "            </span>, <span class=\"style-scope ytd-comment-view-model style-scope ytd-comment-view-model\">\n",
      "              @reskijayachannel9617\n",
      "            </span>, <span class=\"style-scope ytd-comment-view-model style-scope ytd-comment-view-model\">\n",
      "              @user-xw8hc5gk3m\n",
      "            </span>, <span class=\"style-scope ytd-comment-view-model style-scope ytd-comment-view-model\">\n",
      "              @user-hm1mq3cb2e\n",
      "            </span>, <span class=\"style-scope ytd-comment-view-model style-scope ytd-comment-view-model\">\n",
      "              @PotatoEbutyou\n",
      "            </span>, <span class=\"style-scope ytd-comment-view-model style-scope ytd-comment-view-model\">\n",
      "              @VS-bg9dl\n",
      "            </span>, <span class=\"style-scope ytd-comment-view-model style-scope ytd-comment-view-model\">\n",
      "              @Today_MK\n",
      "            </span>, <span class=\"style-scope ytd-comment-view-model style-scope ytd-comment-view-model\">\n",
      "              @jk1kim\n",
      "            </span>, <span class=\"style-scope ytd-comment-view-model style-scope ytd-comment-view-model\">\n",
      "              @aliaazman6297\n",
      "            </span>, <span class=\"style-scope ytd-comment-view-model style-scope ytd-comment-view-model\">\n",
      "              @user-vd1nt3ok9j\n",
      "            </span>, <span class=\"style-scope ytd-comment-view-model style-scope ytd-comment-view-model\">\n",
      "              @healer4821\n",
      "            </span>, <span class=\"style-scope ytd-comment-view-model style-scope ytd-comment-view-model\">\n",
      "              @Ami1996K\n",
      "            </span>, <span class=\"style-scope ytd-comment-view-model style-scope ytd-comment-view-model\">\n",
      "              @E.Bashmak\n",
      "            </span>, <span class=\"style-scope ytd-comment-view-model style-scope ytd-comment-view-model\">\n",
      "              @user-uw1fi6nd9l\n",
      "            </span>, <span class=\"style-scope ytd-comment-view-model style-scope ytd-comment-view-model\">\n",
      "              @HB-xf5rh\n",
      "            </span>, <span class=\"style-scope ytd-comment-view-model style-scope ytd-comment-view-model\">\n",
      "              @hyejinjoo7436\n",
      "            </span>, <span class=\"style-scope ytd-comment-view-model style-scope ytd-comment-view-model\">\n",
      "              @ploy82\n",
      "            </span>, <span class=\"style-scope ytd-comment-view-model style-scope ytd-comment-view-model\">\n",
      "              @eunjilee9057\n",
      "            </span>, <span class=\"style-scope ytd-comment-view-model style-scope ytd-comment-view-model\">\n",
      "              @vf-ch\n",
      "            </span>, <span class=\"style-scope ytd-comment-view-model style-scope ytd-comment-view-model\">\n",
      "              @user-ug5qg7wm8m\n",
      "            </span>, <span class=\"style-scope ytd-comment-view-model style-scope ytd-comment-view-model\">\n",
      "              @guu3433\n",
      "            </span>, <span class=\"style-scope ytd-comment-view-model style-scope ytd-comment-view-model\">\n",
      "              @japgokbap\n",
      "            </span>, <span class=\"style-scope ytd-comment-view-model style-scope ytd-comment-view-model\">\n",
      "              @user-xm3ej8yt4h\n",
      "            </span>, <span class=\"style-scope ytd-comment-view-model style-scope ytd-comment-view-model\">\n",
      "              @batrisyiasyam\n",
      "            </span>, <span class=\"style-scope ytd-comment-view-model style-scope ytd-comment-view-model\">\n",
      "              @user-7jdn76gxhw9\n",
      "            </span>, <span class=\"style-scope ytd-comment-view-model style-scope ytd-comment-view-model\">\n",
      "              @user-ns5or6ec4v\n",
      "            </span>, <span class=\"style-scope ytd-comment-view-model style-scope ytd-comment-view-model\">\n",
      "              @kimgunho_\n",
      "            </span>, <span class=\"style-scope ytd-comment-view-model style-scope ytd-comment-view-model\">\n",
      "              @ban_20dle\n",
      "            </span>, <span class=\"style-scope ytd-comment-view-model style-scope ytd-comment-view-model\">\n",
      "              @soso-ve9oh\n",
      "            </span>, <span class=\"style-scope ytd-comment-view-model style-scope ytd-comment-view-model\">\n",
      "              @user-nt6tw9sb4z\n",
      "            </span>, <span class=\"style-scope ytd-comment-view-model style-scope ytd-comment-view-model\">\n",
      "              @yubiju8959\n",
      "            </span>, <span class=\"style-scope ytd-comment-view-model style-scope ytd-comment-view-model\">\n",
      "              @peuna258\n",
      "            </span>, <span class=\"style-scope ytd-comment-view-model style-scope ytd-comment-view-model\">\n",
      "              @user-mt4sx8ux1e\n",
      "            </span>, <span class=\"style-scope ytd-comment-view-model style-scope ytd-comment-view-model\">\n",
      "              @eesb30421able\n",
      "            </span>, <span class=\"style-scope ytd-comment-view-model style-scope ytd-comment-view-model\">\n",
      "              @user-js7ir5in7g\n",
      "            </span>, <span class=\"style-scope ytd-comment-view-model style-scope ytd-comment-view-model\">\n",
      "              @useriiliilliiiliiliiiiiliiiiii\n",
      "            </span>, <span class=\"style-scope ytd-comment-view-model style-scope ytd-comment-view-model\">\n",
      "              @user-yq8ic2jg9b\n",
      "            </span>, <span class=\"style-scope ytd-comment-view-model style-scope ytd-comment-view-model\">\n",
      "              @jaesunsim6452\n",
      "            </span>, <span class=\"style-scope ytd-comment-view-model style-scope ytd-comment-view-model\">\n",
      "              @renee9576\n",
      "            </span>, <span class=\"style-scope ytd-comment-view-model style-scope ytd-comment-view-model\">\n",
      "              @user-kj4qe6mo1r\n",
      "            </span>, <span class=\"style-scope ytd-comment-view-model style-scope ytd-comment-view-model\">\n",
      "              @user-pu5qn6tq6d\n",
      "            </span>, <span class=\"style-scope ytd-comment-view-model style-scope ytd-comment-view-model\">\n",
      "              @kttwiz\n",
      "            </span>, <span class=\"style-scope ytd-comment-view-model style-scope ytd-comment-view-model\">\n",
      "              @PDP-yv8qe\n",
      "            </span>, <span class=\"style-scope ytd-comment-view-model style-scope ytd-comment-view-model\">\n",
      "              @Kpop_2013_ing\n",
      "            </span>, <span class=\"style-scope ytd-comment-view-model style-scope ytd-comment-view-model\">\n",
      "              @BrettRobinson-pc5qd\n",
      "            </span>, <span class=\"style-scope ytd-comment-view-model style-scope ytd-comment-view-model\">\n",
      "              @Kpop_2013_ing\n",
      "            </span>, <span class=\"style-scope ytd-comment-view-model style-scope ytd-comment-view-model\">\n",
      "              @wiioneoo6360\n",
      "            </span>, <span class=\"style-scope ytd-comment-view-model style-scope ytd-comment-view-model\">\n",
      "              @nghakifanai5284\n",
      "            </span>, <span class=\"style-scope ytd-comment-view-model style-scope ytd-comment-view-model\">\n",
      "              @94gun_a\n",
      "            </span>, <span class=\"style-scope ytd-comment-view-model style-scope ytd-comment-view-model\">\n",
      "              @eesb30421able\n",
      "            </span>, <span class=\"style-scope ytd-comment-view-model style-scope ytd-comment-view-model\">\n",
      "              @user-kingpapa\n",
      "            </span>, <span class=\"style-scope ytd-comment-view-model style-scope ytd-comment-view-model\">\n",
      "              @user-nl6wi9qs9m\n",
      "            </span>, <span class=\"style-scope ytd-comment-view-model style-scope ytd-comment-view-model\">\n",
      "              @jaewonkim4383\n",
      "            </span>, <span class=\"style-scope ytd-comment-view-model style-scope ytd-comment-view-model\">\n",
      "              @P00poo22\n",
      "            </span>, <span class=\"style-scope ytd-comment-view-model style-scope ytd-comment-view-model\">\n",
      "              @user-rt3sd6cu9b\n",
      "            </span>, <span class=\"style-scope ytd-comment-view-model style-scope ytd-comment-view-model\">\n",
      "              @user-ks1xe4sd6p\n",
      "            </span>, <span class=\"style-scope ytd-comment-view-model style-scope ytd-comment-view-model\">\n",
      "              @user-nl6wi9qs9m\n",
      "            </span>, <span class=\"style-scope ytd-comment-view-model style-scope ytd-comment-view-model\">\n",
      "              @yourrabbitiamcarrot\n",
      "            </span>, <span class=\"style-scope ytd-comment-view-model style-scope ytd-comment-view-model\">\n",
      "              @user-bl3pg1ks6f\n",
      "            </span>, <span class=\"style-scope ytd-comment-view-model style-scope ytd-comment-view-model\">\n",
      "              @tzm7683\n",
      "            </span>, <span class=\"style-scope ytd-comment-view-model style-scope ytd-comment-view-model\">\n",
      "              @jeanjulee\n",
      "            </span>, <span class=\"style-scope ytd-comment-view-model style-scope ytd-comment-view-model\">\n",
      "              @user-gomdol\n",
      "            </span>, <span class=\"style-scope ytd-comment-view-model style-scope ytd-comment-view-model\">\n",
      "              @momonomo-gd2gb\n",
      "            </span>, <span class=\"style-scope ytd-comment-view-model style-scope ytd-comment-view-model\">\n",
      "              @holssii\n",
      "            </span>, <span class=\"style-scope ytd-comment-view-model style-scope ytd-comment-view-model\">\n",
      "              @user-gomdol\n",
      "            </span>, <span class=\"style-scope ytd-comment-view-model style-scope ytd-comment-view-model\">\n",
      "              @user-zw3rj3nf4f\n",
      "            </span>, <span class=\"style-scope ytd-comment-view-model style-scope ytd-comment-view-model\">\n",
      "              @jackjackandtunamom\n",
      "            </span>, <span class=\"style-scope ytd-comment-view-model style-scope ytd-comment-view-model\">\n",
      "              @user-nf6un5ij7k\n",
      "            </span>, <span class=\"style-scope ytd-comment-view-model style-scope ytd-comment-view-model\">\n",
      "              @bongna2530\n",
      "            </span>, <span class=\"style-scope ytd-comment-view-model style-scope ytd-comment-view-model\">\n",
      "              @user-bp5zp8wm3e\n",
      "            </span>, <span class=\"style-scope ytd-comment-view-model style-scope ytd-comment-view-model\">\n",
      "              @VS-bg9dl\n",
      "            </span>, <span class=\"style-scope ytd-comment-view-model style-scope ytd-comment-view-model\">\n",
      "              @user-hy3ee6iv8x\n",
      "            </span>, <span class=\"style-scope ytd-comment-view-model style-scope ytd-comment-view-model\">\n",
      "              @user-ku3vv6lr4d\n",
      "            </span>, <span class=\"style-scope ytd-comment-view-model style-scope ytd-comment-view-model\">\n",
      "              @strawberryjam9880\n",
      "            </span>, <span class=\"style-scope ytd-comment-view-model style-scope ytd-comment-view-model\">\n",
      "              @user-hf8hz8it7v\n",
      "            </span>, <span class=\"style-scope ytd-comment-view-model style-scope ytd-comment-view-model\">\n",
      "              @yeon2319\n",
      "            </span>, <span class=\"style-scope ytd-comment-view-model style-scope ytd-comment-view-model\">\n",
      "              @himbosal\n",
      "            </span>, <span class=\"style-scope ytd-comment-view-model style-scope ytd-comment-view-model\">\n",
      "              @rocknscissor\n",
      "            </span>, <span class=\"style-scope ytd-comment-view-model style-scope ytd-comment-view-model\">\n",
      "              @Hyewoni128\n",
      "            </span>, <span class=\"style-scope ytd-comment-view-model style-scope ytd-comment-view-model\">\n",
      "              @foree6586\n",
      "            </span>, <span class=\"style-scope ytd-comment-view-model style-scope ytd-comment-view-model\">\n",
      "              @dbq000\n",
      "            </span>, <span class=\"style-scope ytd-comment-view-model style-scope ytd-comment-view-model\">\n",
      "              @user-fl8de9hi1w\n",
      "            </span>, <span class=\"style-scope ytd-comment-view-model style-scope ytd-comment-view-model\">\n",
      "              @ekm1375\n",
      "            </span>, <span class=\"style-scope ytd-comment-view-model style-scope ytd-comment-view-model\">\n",
      "              @hinetkorea\n",
      "            </span>, <span class=\"style-scope ytd-comment-view-model style-scope ytd-comment-view-model\">\n",
      "              @user-qr5oh3es1m\n",
      "            </span>, <span class=\"style-scope ytd-comment-view-model style-scope ytd-comment-view-model\">\n",
      "              @user-ln6tl7no9m\n",
      "            </span>, <span class=\"style-scope ytd-comment-view-model style-scope ytd-comment-view-model\">\n",
      "              @alexp-iw8mj\n",
      "            </span>, <span class=\"style-scope ytd-comment-view-model style-scope ytd-comment-view-model\">\n",
      "              @Gien_\n",
      "            </span>, <span class=\"style-scope ytd-comment-view-model style-scope ytd-comment-view-model\">\n",
      "              @jyesjun3530\n",
      "            </span>, <span class=\"style-scope ytd-comment-view-model style-scope ytd-comment-view-model\">\n",
      "              @user-fk9dc5zv4l\n",
      "            </span>, <span class=\"style-scope ytd-comment-view-model style-scope ytd-comment-view-model\">\n",
      "              @dkslem\n",
      "            </span>, <span class=\"style-scope ytd-comment-view-model style-scope ytd-comment-view-model\">\n",
      "              @Super-Bunnies\n",
      "            </span>, <span class=\"style-scope ytd-comment-view-model style-scope ytd-comment-view-model\">\n",
      "              @yeahplayerr\n",
      "            </span>, <span class=\"style-scope ytd-comment-view-model style-scope ytd-comment-view-model\">\n",
      "              @shourange\n",
      "            </span>, <span class=\"style-scope ytd-comment-view-model style-scope ytd-comment-view-model\">\n",
      "              @sundo_kim\n",
      "            </span>, <span class=\"style-scope ytd-comment-view-model style-scope ytd-comment-view-model\">\n",
      "              @Kusmaw10\n",
      "            </span>, <span class=\"style-scope ytd-comment-view-model style-scope ytd-comment-view-model\">\n",
      "              @user-jo2zn1fd8z\n",
      "            </span>, <span class=\"style-scope ytd-comment-view-model style-scope ytd-comment-view-model\">\n",
      "              @ManDooShuhua\n",
      "            </span>, <span class=\"style-scope ytd-comment-view-model style-scope ytd-comment-view-model\">\n",
      "              @foxxxx-myuniverse\n",
      "            </span>, <span class=\"style-scope ytd-comment-view-model style-scope ytd-comment-view-model\">\n",
      "              @4ulove946\n",
      "            </span>, <span class=\"style-scope ytd-comment-view-model style-scope ytd-comment-view-model\">\n",
      "              @algus1278\n",
      "            </span>, <span class=\"style-scope ytd-comment-view-model style-scope ytd-comment-view-model\">\n",
      "              @user-rn9rw9wj9k\n",
      "            </span>, <span class=\"style-scope ytd-comment-view-model style-scope ytd-comment-view-model\">\n",
      "              @zon8391\n",
      "            </span>, <span class=\"style-scope ytd-comment-view-model style-scope ytd-comment-view-model\">\n",
      "              @MissSmilefei\n",
      "            </span>, <span class=\"style-scope ytd-comment-view-model style-scope ytd-comment-view-model\">\n",
      "              @Steve-vl6ol\n",
      "            </span>, <span class=\"style-scope ytd-comment-view-model style-scope ytd-comment-view-model\">\n",
      "              @_J_Lee\n",
      "            </span>, <span class=\"style-scope ytd-comment-view-model style-scope ytd-comment-view-model\">\n",
      "              @what-ds7jg\n",
      "            </span>, <span class=\"style-scope ytd-comment-view-model style-scope ytd-comment-view-model\">\n",
      "              @momentum6\n",
      "            </span>, <span class=\"style-scope ytd-comment-view-model style-scope ytd-comment-view-model\">\n",
      "              @ara0807\n",
      "            </span>, <span class=\"style-scope ytd-comment-view-model style-scope ytd-comment-view-model\">\n",
      "              @lytttffrfghj\n",
      "            </span>, <span class=\"style-scope ytd-comment-view-model style-scope ytd-comment-view-model\">\n",
      "              @loveweeekly\n",
      "            </span>, <span class=\"style-scope ytd-comment-view-model style-scope ytd-comment-view-model\">\n",
      "              @hawon_100mansongi\n",
      "            </span>, <span class=\"style-scope ytd-comment-view-model style-scope ytd-comment-view-model\">\n",
      "              @user-iy4wn7yp7g\n",
      "            </span>, <span class=\"style-scope ytd-comment-view-model style-scope ytd-comment-view-model\">\n",
      "              @bohariyeon\n",
      "            </span>, <span class=\"style-scope ytd-comment-view-model style-scope ytd-comment-view-model\">\n",
      "              @UToB\n",
      "            </span>, <span class=\"style-scope ytd-comment-view-model style-scope ytd-comment-view-model\">\n",
      "              @bhj2806\n",
      "            </span>, <span class=\"style-scope ytd-comment-view-model style-scope ytd-comment-view-model\">\n",
      "              @eun_jaeee12\n",
      "            </span>, <span class=\"style-scope ytd-comment-view-model style-scope ytd-comment-view-model\">\n",
      "              @user-em9uu2jf9h\n",
      "            </span>, <span class=\"style-scope ytd-comment-view-model style-scope ytd-comment-view-model\">\n",
      "              @user-jj7hk4hs6p\n",
      "            </span>, <span class=\"style-scope ytd-comment-view-model style-scope ytd-comment-view-model\">\n",
      "              @user-cw2bp6tl1x\n",
      "            </span>, <span class=\"style-scope ytd-comment-view-model style-scope ytd-comment-view-model\">\n",
      "              @user-km1ox1ht5s\n",
      "            </span>, <span class=\"style-scope ytd-comment-view-model style-scope ytd-comment-view-model\">\n",
      "              @zoelee6363\n",
      "            </span>, <span class=\"style-scope ytd-comment-view-model style-scope ytd-comment-view-model\">\n",
      "              @nub0315\n",
      "            </span>, <span class=\"style-scope ytd-comment-view-model style-scope ytd-comment-view-model\">\n",
      "              @user-yh6if4tw9o\n",
      "            </span>, <span class=\"style-scope ytd-comment-view-model style-scope ytd-comment-view-model\">\n",
      "              @user-ww8qw6ex5u\n",
      "            </span>, <span class=\"style-scope ytd-comment-view-model style-scope ytd-comment-view-model\">\n",
      "              @user-hg9yz8yy9p\n",
      "            </span>, <span class=\"style-scope ytd-comment-view-model style-scope ytd-comment-view-model\">\n",
      "              @user-dn8gh1kq9x\n",
      "            </span>, <span class=\"style-scope ytd-comment-view-model style-scope ytd-comment-view-model\">\n",
      "              @SAVERBS\n",
      "            </span>, <span class=\"style-scope ytd-comment-view-model style-scope ytd-comment-view-model\">\n",
      "              @cookieorcupcake\n",
      "            </span>, <span class=\"style-scope ytd-comment-view-model style-scope ytd-comment-view-model\">\n",
      "              @user-pl7mw3gx2r\n",
      "            </span>, <span class=\"style-scope ytd-comment-view-model style-scope ytd-comment-view-model\">\n",
      "              @SK-ow1dg\n",
      "            </span>, <span class=\"style-scope ytd-comment-view-model style-scope ytd-comment-view-model\">\n",
      "              @user-tg1ih7zk8w\n",
      "            </span>, <span class=\"style-scope ytd-comment-view-model style-scope ytd-comment-view-model\">\n",
      "              @catcherinthe_rye\n",
      "            </span>, <span class=\"style-scope ytd-comment-view-model style-scope ytd-comment-view-model\">\n",
      "              @user-kj6vo1ns7l\n",
      "            </span>, <span class=\"style-scope ytd-comment-view-model style-scope ytd-comment-view-model\">\n",
      "              @MrHj1210r\n",
      "            </span>, <span class=\"style-scope ytd-comment-view-model style-scope ytd-comment-view-model\">\n",
      "              @user-ov4km3wn1k\n",
      "            </span>, <span class=\"style-scope ytd-comment-view-model style-scope ytd-comment-view-model\">\n",
      "              @Paulight\n",
      "            </span>, <span class=\"style-scope ytd-comment-view-model style-scope ytd-comment-view-model\">\n",
      "              @goodgood670\n",
      "            </span>, <span class=\"style-scope ytd-comment-view-model style-scope ytd-comment-view-model\">\n",
      "              @Hakunamatata.7\n",
      "            </span>, <span class=\"style-scope ytd-comment-view-model style-scope ytd-comment-view-model\">\n",
      "              @byulsol_4390\n",
      "            </span>, <span class=\"style-scope ytd-comment-view-model style-scope ytd-comment-view-model\">\n",
      "              @jay-vg1fp\n",
      "            </span>, <span class=\"style-scope ytd-comment-view-model style-scope ytd-comment-view-model\">\n",
      "              @elkopanji\n",
      "            </span>, <span class=\"style-scope ytd-comment-view-model style-scope ytd-comment-view-model\">\n",
      "              @user-ym7vl5bb1w\n",
      "            </span>, <span class=\"style-scope ytd-comment-view-model style-scope ytd-comment-view-model\">\n",
      "              @tj-jm2zv\n",
      "            </span>, <span class=\"style-scope ytd-comment-view-model style-scope ytd-comment-view-model\">\n",
      "              @user-ow1lqnl2zb\n",
      "            </span>, <span class=\"style-scope ytd-comment-view-model style-scope ytd-comment-view-model\">\n",
      "              @anna-mp4kg\n",
      "            </span>, <span class=\"style-scope ytd-comment-view-model style-scope ytd-comment-view-model\">\n",
      "              @user-vj1eg1th8v\n",
      "            </span>, <span class=\"style-scope ytd-comment-view-model style-scope ytd-comment-view-model\">\n",
      "              @goodgood670\n",
      "            </span>, <span class=\"style-scope ytd-comment-view-model style-scope ytd-comment-view-model\">\n",
      "              @user-yl3pj3nq7o\n",
      "            </span>, <span class=\"style-scope ytd-comment-view-model style-scope ytd-comment-view-model\">\n",
      "              @jihaepark7098\n",
      "            </span>, <span class=\"style-scope ytd-comment-view-model style-scope ytd-comment-view-model\">\n",
      "              @user-wx1ge9yx4w\n",
      "            </span>, <span class=\"style-scope ytd-comment-view-model style-scope ytd-comment-view-model\">\n",
      "              @user-wp7ry7lm3o\n",
      "            </span>, <span class=\"style-scope ytd-comment-view-model style-scope ytd-comment-view-model\">\n",
      "              @wiinnnn___\n",
      "            </span>, <span class=\"style-scope ytd-comment-view-model style-scope ytd-comment-view-model\">\n",
      "              @winterwater5273\n",
      "            </span>, <span class=\"style-scope ytd-comment-view-model style-scope ytd-comment-view-model\">\n",
      "              @user-rp6sq9nm6m\n",
      "            </span>, <span class=\"style-scope ytd-comment-view-model style-scope ytd-comment-view-model\">\n",
      "              @jeichina76\n",
      "            </span>]\n"
     ]
    }
   ],
   "source": [
    "print(users)"
   ]
  },
  {
   "cell_type": "code",
   "execution_count": null,
   "id": "93e5dd7b-988e-467f-bcd8-49cf81bcbae9",
   "metadata": {},
   "outputs": [],
   "source": []
  }
 ],
 "metadata": {
  "kernelspec": {
   "display_name": "Python 3 (ipykernel)",
   "language": "python",
   "name": "python3"
  },
  "language_info": {
   "codemirror_mode": {
    "name": "ipython",
    "version": 3
   },
   "file_extension": ".py",
   "mimetype": "text/x-python",
   "name": "python",
   "nbconvert_exporter": "python",
   "pygments_lexer": "ipython3",
   "version": "3.11.7"
  }
 },
 "nbformat": 4,
 "nbformat_minor": 5
}
